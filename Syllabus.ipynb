{
 "cells": [
  {
   "cell_type": "markdown",
   "metadata": {},
   "source": [
    "<img src=\"img/Signet_FNW_1.svg\" alt=\"OVGU_FNW_Logo\" width=\"300\" align=\"right\">\n",
    "\n",
    "# Syllabus "
   ]
  },
  {
   "cell_type": "markdown",
   "metadata": {},
   "source": [
    "1. Physics I: [Introduction &amp; SI system](.\\physics1\\1_00_introduction.ipynb)\n",
    "    1. [Kinematics in one dimension](.\\physics1\\1_01_script.ipynb)\n",
    "    2. [TBA](.\\physics1\\1_02_script.ipynb)\n",
    "    3. [TBA](.\\physics1\\1_02_script.ipynb)\n",
    "    4. [TBA](.\\physics1\\1_04_script.ipynb)\n",
    "    5. [TBA](.\\physics1\\1_05_script.ipynb)\n",
    "    6. [TBA](.\\physics1\\1_06_script.ipynb)\n",
    "    7. [TBA](.\\physics1\\1_07_script.ipynb)\n",
    "    8. [TBA](.\\physics1\\1_08_script.ipynb)\n",
    "    9. [TBA](.\\physics1\\1_09_script.ipynb)\n",
    "    10. [TBA](.\\physics1\\1_10_script.ipynb)\n",
    "    11. [TBA](.\\physics1\\1_11_script.ipynb)\n",
    "    12. [TBA](.\\physics1\\1_12_script.ipynb)\n",
    "    13. [TBA](.\\physics1\\1_13_script.ipynb)\n",
    "\n",
    "\n",
    "\n",
    "2. Physics II: [Introduction](.\\physics2\\2_00_introduction.ipynb)\n",
    "    1. [Electric charge &amp; electric field](.\\physics2\\2_01_script.ipynb)\n",
    "    2. [Electric flux &amp; electric potential](.\\physics2\\2_02_script.ipynb) \n",
    "    3. [Capacitance, resistance &amp; current](.\\physics2\\2_03_script.ipynb) \n",
    "    4. [DC circuits &amp; Kirchhoff' laws](.\\physics2\\2_04_script.ipynb) \n",
    "    5. [Magnetism &amp; magnetic field](.\\physics2\\2_05_script.ipynb) \n",
    "    6. [Electromagnets, induction &amp; inductance](.\\physics2\\2_06_script.ipynb) \n",
    "    7. [AC circuits &amp; Electromagnetic oscillations](.\\physics2\\2_07_script.ipynb) \n",
    "    8. [Maxwell’s equations &amp; Electromagnetic waves](.\\physics2\\2_08_script.ipynb) \n",
    "    9. [Geometrical optics: Refection &amp; refraction](.\\physics2\\2_09_script.ipynb) \n",
    "    10. [Geometrical optics: Optical instruments](.\\physics2\\2_10_script.ipynb) \n",
    "    11. [Wave optics: Interference &amp; polarization](.\\physics2\\2_11_script.ipynb) \n",
    "    12. [Wave optics: Diffraction](.\\physics2\\2_12_script.ipynb) \n",
    "    13. [Early quantum physics &amp; spectral interference](.\\physics2\\2_13_script.ipynb) \n",
    "    14. TBD\n",
    "\n",
    "[How to solve physics problems](.\\HowToSolvePhysicsProblems.ipynb)\n"
   ]
  },
  {
   "cell_type": "code",
   "execution_count": null,
   "metadata": {
    "vscode": {
     "languageId": "latex"
    }
   },
   "outputs": [],
   "source": []
  }
 ],
 "metadata": {
  "language_info": {
   "name": "python"
  }
 },
 "nbformat": 4,
 "nbformat_minor": 2
}
