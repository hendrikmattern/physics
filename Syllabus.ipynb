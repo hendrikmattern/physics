{
 "cells": [
  {
   "cell_type": "markdown",
   "metadata": {},
   "source": [
    "<img src=\"img/Signet_FNW_1.svg\" alt=\"OVGU_FNW_Logo\" width=\"300\" align=\"right\">\n",
    "\n",
    "# Syllabus "
   ]
  },
  {
   "cell_type": "markdown",
   "metadata": {},
   "source": [
    "1. Physics I\n",
    "    1. tbd\n",
    "2. [Physics II](.\\physics2\\2_0_introduction.ipynb)\n",
    "    1. [Electric charge &amp; electric field](.\\physics2\\2_1_script.ipynb)\n",
    "    2. [Electric flux &amp; electric potential](.\\physics2\\2_2_script.ipynb) \n",
    "    3. [Capacitance, resistance &amp; current](.\\physics2\\2_3_script.ipynb) \n",
    "    4. [DC circuits &amp; Kirchhoff' laws](.\\physics2\\2_4_script.ipynb) \n",
    "    5. [Magnetism &amp; magnetic field](.\\physics2\\2_5_script.ipynb) \n",
    "    6. [Electromagnets, induction &amp; inductance](.\\physics2\\2_6_script.ipynb) \n",
    "    7. [AC circuits &amp; Electromagnetic oscillations](.\\physics2\\2_7_script.ipynb) \n",
    "    8. [Maxwell’s equations &amp; Electromagnetic waves](.\\physics2\\2_8_script.ipynb) \n",
    "    9. [Geometric Optics](.\\physics2\\2_9_script.ipynb) \n",
    "    10. [Optical instruments](.\\physics2\\2_10_script.ipynb) \n",
    "    11. [Wave optics I](.\\physics2\\2_11_script.ipynb) \n",
    "    12. [Wave optics II](.\\physics2\\2_12_script.ipynb) \n",
    "    13. [Early quantum physics &amp; spectral interference](.\\physics2\\2_13_script.ipynb) "
   ]
  },
  {
   "cell_type": "code",
   "execution_count": null,
   "metadata": {
    "vscode": {
     "languageId": "latex"
    }
   },
   "outputs": [],
   "source": []
  }
 ],
 "metadata": {
  "language_info": {
   "name": "python"
  }
 },
 "nbformat": 4,
 "nbformat_minor": 2
}
