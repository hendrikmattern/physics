{
 "cells": [
  {
   "cell_type": "markdown",
   "metadata": {},
   "source": [
    "<img src=\"img/Signet_FNW_1.svg\" alt=\"OVGU_FNW_Logo\" width=\"300\" align=\"right\">\n",
    "\n",
    "# Syllabus "
   ]
  },
  {
   "cell_type": "markdown",
   "metadata": {},
   "source": [
    "1. Physics I\n",
    "    1. tbd\n",
    "2. [Physics II](.\\physics2\\2_0_script.ipynb)\n",
    "    1. [Electric charge &amp; electric field](.\\physics2\\2_1_script.ipynb)\n",
    "    2. [Electric flux &amp; electric potential](.\\physics2\\2_2_script.ipynb) \n",
    "    3. [Capacitance, dielectrics &amp; electric energy](.\\physics2\\2_3_script.ipynb) \n",
    "    4. [Electric current, resistance, &amp; batteries](.\\physics2\\2_4_script.ipynb) \n",
    "    5. [DC circuits &amp; Kirchhoff' laws](.\\physics2\\2_5_script.ipynb) \n",
    "    6. [Magnetic field &amp; magnetism](.\\physics2\\2_6_script.ipynb) \n",
    "    7. [Induction](.\\physics2\\2_7_script.ipynb) \n",
    "    8. [AC circuits &amp; Power](.\\physics2\\2_8_script.ipynb) \n",
    "    9. [Maxwell’s equations](.\\physics2\\2_9_script.ipynb) \n",
    "    10. [Geometric Optics](.\\physics2\\2_10_script.ipynb) \n",
    "    11. [Wave optics](.\\physics2\\2_11_script.ipynb) \n",
    "    12. [Spectral interference](.\\physics2\\2_12_script.ipynb) "
   ]
  },
  {
   "cell_type": "code",
   "execution_count": null,
   "metadata": {
    "vscode": {
     "languageId": "latex"
    }
   },
   "outputs": [],
   "source": []
  }
 ],
 "metadata": {
  "language_info": {
   "name": "python"
  }
 },
 "nbformat": 4,
 "nbformat_minor": 2
}
