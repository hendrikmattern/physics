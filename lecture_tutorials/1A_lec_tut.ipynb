{
 "cells": [
  {
   "cell_type": "markdown",
   "id": "b452c88b",
   "metadata": {
    "slideshow": {
     "slide_type": "slide"
    }
   },
   "source": [
    "<img src=\"../img/Signet_FNW_1.svg\" alt=\"OVGU_FNW_Logo\" width=\"300\" align=\"right\">\n",
    "\n",
    "# Lecture Tutorial 1A: Mathematical tools for physics"
   ]
  },
  {
   "cell_type": "markdown",
   "id": "1a317d7d",
   "metadata": {
    "slideshow": {
     "slide_type": "slide"
    }
   },
   "source": [
    "## Scalars \\& vectors\n",
    "\n",
    "* **Scalars**: magnitude only (e.g., mass, time, energy)\n",
    "* **Vectors**: magnitude + direction (e.g., displacement, velocity, force)\n",
    "* Notation: $\\vec v$ or bold **v**; magnitude written $|\\vec v|$ or $v$\n",
    "* Link to physics (kinematics): speed is a scalar, velocity is a vector"
   ]
  },
  {
   "cell_type": "markdown",
   "id": "a8de077c",
   "metadata": {
    "slideshow": {
     "slide_type": "slide"
    }
   },
   "source": [
    "## Primer on vectors\n",
    "\n",
    "* Graphical representation: arrow (length ∝ magnitude, arrow shows direction)\n",
    "* Has components for each direction\n",
    "* For 2D:\n",
    "$$\n",
    "\\vec{v} = v_x \\hat{i} + v_y \\hat{j}\n",
    "\\qquad \\text{or} \\qquad\n",
    "\\vec{v} =\n",
    "\\begin{bmatrix}\n",
    "v_x \\\\[4pt]\n",
    "v_y\n",
    "\\end{bmatrix}\n",
    "$$\n",
    "\n",
    "* Resolve vector into axes: $v_x = |\\vec v| \\cos\\theta$, $v_y = |\\vec v| \\sin\\theta$\n",
    "* Magnitude: $|\\vec v| = v = \\sqrt{v_x^2+v_y^2}$\n",
    "* Direction: $\\theta = \\tan^{-1}(v_y/v_x)$\n",
    "* Components \\& angles: $\\cos\\theta=v_x/|\\vec v| \\quad \\& \\quad \\sin\\theta=v_y/|\\vec v|$\n",
    "\n",
    "\n"
   ]
  },
  {
   "cell_type": "markdown",
   "id": "ae9c8a8f",
   "metadata": {
    "slideshow": {
     "slide_type": "slide"
    }
   },
   "source": [
    "## Unit vectors\n",
    "\n",
    "* Unit vectors: magnitude 1.\n",
    "* Cartesian basis: $\\hat i, \\hat j, \\hat k$.\n",
    "* **Orthonormal**: $|\\hat i|=|\\hat j|=|\\hat k|=1$, and mutually perpendicular.\n"
   ]
  },
  {
   "cell_type": "markdown",
   "id": "3bb88a21",
   "metadata": {
    "slideshow": {
     "slide_type": "slide"
    }
   },
   "source": [
    "## Vector operations: addition & subtraction\n",
    "\n",
    "* Same direction $\\rightarrow$ simple arithmetic\n",
    "* Opposite direction $\\rightarrow$ subtraction\n",
    "* Different directions \n",
    "    * $\\rightarrow$ graphically with tail-to-tip or parallelogram\n",
    "    * $\\rightarrow$ numerically **if perpendicular** Pythagorean theorem for magnitude or trigonometry \n",
    "    * $\\rightarrow$ **general** numerical approach: compute for each components individually \n"
   ]
  },
  {
   "cell_type": "markdown",
   "id": "51d5d389",
   "metadata": {
    "slideshow": {
     "slide_type": "slide"
    }
   },
   "source": [
    "## Example: 2D vector addition\n",
    "\n",
    "$$\n",
    "\\vec{a} =\n",
    "\\begin{bmatrix}\n",
    "3 \\\\[4pt]\n",
    "2\n",
    "\\end{bmatrix},\n",
    "\\qquad\n",
    "\\vec{b} =\n",
    "\\begin{bmatrix}\n",
    "1 \\\\[4pt]\n",
    "4\n",
    "\\end{bmatrix}.\n",
    "$$  \n",
    "\n",
    "Their sum is obtained by adding corresponding components:  \n",
    "$$\n",
    "\\vec{c} = \\vec{a} + \\vec{b}\n",
    "=\n",
    "\\begin{bmatrix}\n",
    "3 + 1 \\\\[4pt]\n",
    "2 + 4\n",
    "\\end{bmatrix}\n",
    "=\n",
    "\\begin{bmatrix}\n",
    "4 \\\\[4pt]\n",
    "6\n",
    "\\end{bmatrix}.\n",
    "$$  \n",
    "\n",
    "Equivalently, in unit-vector notation:  \n",
    "$$\n",
    "\\vec{a} = 3\\hat{i} + 2\\hat{j},\n",
    "\\qquad\n",
    "\\vec{b} = 1\\hat{i} + 4\\hat{j}.\n",
    "$$\n",
    "\n",
    "\n",
    "$$\n",
    "\\vec{c} = \\vec{a} + \\vec{b}\n",
    "= (3\\hat{i} + 2\\hat{j}) + (1\\hat{i} + 4\\hat{j}).\n",
    "$$\n",
    "\n",
    "Grouping the $\\hat{i}$ and $\\hat{j}$ terms gives:\n",
    "$$\n",
    "\\vec{c} = (3 + 1)\\hat{i} + (2 + 4)\\hat{j}\n",
    "= 4\\hat{i} + 6\\hat{j}.\n",
    "$$\n"
   ]
  },
  {
   "cell_type": "markdown",
   "id": "5f759cd5",
   "metadata": {
    "slideshow": {
     "slide_type": "slide"
    }
   },
   "source": [
    "## Scalar multiplication\n",
    "\n",
    "\n",
    "* Multiplying a scalar $c$ with a vector means multiplying **each component**:\n",
    "  $$\n",
    "  \\text{If } \\vec{v} = (v_x, v_y, v_z), \\text{ then } c\\vec{v} = (c v_x, c v_y, c v_z).\n",
    "  $$\n",
    "* The **magnitude** of $\\vec{v}$ changes by a factor of $|c|$ and the **direction** is reversed if $c<0$.\n",
    "  \n"
   ]
  },
  {
   "cell_type": "markdown",
   "id": "0683f704",
   "metadata": {
    "slideshow": {
     "slide_type": "slide"
    }
   },
   "source": [
    "## Dot product\n",
    "\n",
    "* Dot product $\\rightarrow$ result is a **scalar**.  \n",
    "  $$\n",
    "  \\vec{a} \\cdot \\vec{b} = a_x b_x + a_y b_y + a_z b_z = ab \\cos\\theta\n",
    "  $$\n",
    "  \n",
    "\n",
    "<img src=\"../img/from_wiki/Dot_Product.svg\" alt=\"Dot_Product.svg\" width=\"300\"/>\n",
    "\n",
    "*<sub>from [wikipedia](https://en.wikipedia.org/wiki/File:Dot_Product.svg), public domain</sub>*"
   ]
  },
  {
   "cell_type": "markdown",
   "id": "885b7fee",
   "metadata": {
    "slideshow": {
     "slide_type": "slide"
    }
   },
   "source": [
    "## Cross product\n",
    "\n",
    "* Cross product $\\rightarrow$ result is a **vector** perpendicular to both $\\vec{a}$ and $\\vec{b}$.  \n",
    "\n",
    "$$\n",
    "  \\vec{a} \\times \\vec{b} =\n",
    "  \\begin{vmatrix}\n",
    "  \\hat{i} & \\hat{j} & \\hat{k} \\\\\n",
    "  a_x & a_y & a_z \\\\\n",
    "  b_x & b_y & b_z\n",
    "  \\end{vmatrix}\n",
    "  = (a_y b_z - a_z b_y)\\hat{i} - (a_x b_z - a_z b_x)\\hat{j} + (a_x b_y - a_y b_x)\\hat{k}\n",
    "  $$\n",
    "  \n",
    "<img src=\"../img/from_wiki/Cross_product_vector.svg\" alt=\"Cross_product_vector.svg\" width=\"100\"/>\n",
    "<img src=\"../img/from_wiki/Right_hand_rule_cross_product.svg\" alt=\"Right_hand_rule_cross_product.svg\" width=\"300\"/>\n",
    "\n",
    "*<sub>[left:] from [wikipedia](https://en.wikipedia.org/wiki/File:Cross_product_vector.svg), public domain;\n",
    "[right:] from [wikipedia](https://en.wikipedia.org/wiki/File:Right_hand_rule_cross_product.svg), [Attribution-Share Alike 3.0 Unported](//creativecommons.org/licenses/by-sa/3.0/deed.en)</sub>*"
   ]
  },
  {
   "cell_type": "markdown",
   "id": "28a0cf1d",
   "metadata": {
    "slideshow": {
     "slide_type": "slide"
    }
   },
   "source": [
    "## Vector fields\n",
    "\n",
    "* A **vector field** assigns a vector to **each point in space**.\n",
    "* Applications: Gravitational field, electric & magnetic field, fluid dynamics, etc.\n",
    "* Example: Time-dependent velocity field:   \n",
    "$$\n",
    "   \\vec{v}(x, y, z, t) = v_x(x, y, z, t)\\,\\hat{i} + v_y(x, y, z, t)\\,\\hat{j} + v_z(x, y, z, t)\\,\\hat{k}.\n",
    "$$\n",
    "* $\\rightarrow$ Interpretation: Each point in the fluid has a local velocity vector that can **change in space and time**.  \n",
    "  \n",
    "\n",
    "<img src=\"../img/from_wiki/VectorField.svg\" alt=\"VectorField.svg\" width=\"300\"/>\n",
    "\n",
    "*<sub>from [wikipedia](https://en.wikipedia.org/wiki/File:VectorField.svg), public domain</sub>*"
   ]
  },
  {
   "cell_type": "markdown",
   "id": "4028704e",
   "metadata": {
    "slideshow": {
     "slide_type": "slide"
    }
   },
   "source": [
    "## Derivatives: Concept\n",
    "\n",
    "* **derivative** measures the **instantaneous rate of change** or **slope** of a function.\n",
    "\n",
    "$$\n",
    "f'(x) = \\lim_{\\Delta x \\to 0} \n",
    "\\frac{f(x + \\Delta x) - f(x)}{\\Delta x}\n",
    "$$\n",
    "* $\\rightarrow$ It tells how much $f(x)$ changes when $x$ changes a little bit.\n"
   ]
  },
  {
   "cell_type": "markdown",
   "id": "76e6c809",
   "metadata": {
    "slideshow": {
     "slide_type": "slide"
    }
   },
   "source": [
    "## Derivatives: Basic rules\n",
    "\n",
    "| Type | Formula | Example |\n",
    "|:-----|:---------|:---------|\n",
    "| Power | $(x^n)' = n x^{n-1}$ | $(x^3)' = 3x^2$ |\n",
    "| Constant | $(c)' = 0$ | $(5)' = 0$ |\n",
    "| Scalar multiple | $(c f)' = c f'$ | $(4x^2)' = 4(2x) = 8x$ |\n",
    "| Sum / difference | $(f \\pm g)' = f' \\pm g'$ | $(x^2 + \\sin x)' = 2x + \\cos x$ |\n"
   ]
  },
  {
   "cell_type": "markdown",
   "id": "2da474ea",
   "metadata": {
    "slideshow": {
     "slide_type": "slide"
    }
   },
   "source": [
    "\n",
    "## Derivatives: Chain Rule\n",
    "Used for **nested functions** $f(g(x))$:\n",
    "$$\n",
    "(f(g(x)))' = f'(g(x)) \\, g'(x)\n",
    "$$\n",
    "\n",
    "**Example:**  \n",
    "If $f(u) = \\sin u$ and $u = 3x^2$, then  \n",
    "$$\n",
    "\\frac{d}{dx}[\\sin(3x^2)] = \\cos(3x^2) \\cdot (6x) = 6x \\cos(3x^2)\n",
    "$$\n"
   ]
  },
  {
   "cell_type": "markdown",
   "id": "83c8d084",
   "metadata": {
    "slideshow": {
     "slide_type": "slide"
    }
   },
   "source": [
    "## Common derivatives\n",
    "\n",
    "* $(e^x)'=e^x$\n",
    "* $(a^x)'=a^x \\ln a$\n",
    "* $(\\ln x)'=1/x$\n",
    "* $(\\sin x)'=\\cos x$\n",
    "* $(\\cos x)'=-\\sin x$\n",
    "* $(\\tan x)'=\\sec^2 x$"
   ]
  },
  {
   "cell_type": "markdown",
   "id": "a66ee59e",
   "metadata": {
    "slideshow": {
     "slide_type": "slide"
    }
   },
   "source": [
    "## Integrals – Concept\n",
    "\n",
    "* An **integral** is the **inverse operation** of differentiation.  \n",
    "* The integral measures the **signed area** between $f(x)$ and the $x$-axis (above axis = positive, below = negative).\n",
    "* $\\rightarrow$ It represents the **net accumulated change**.\n",
    "\n",
    "\n",
    "**Indefinite integral:**\n",
    "$$\n",
    "\\int f(x)\\,dx = F(x) + C\n",
    "$$\n",
    "* where $C$ is the **constant of integration**.\n",
    "\n",
    "**Definite integral:**\n",
    "$$\n",
    "\\int_a^b f(x)\\,dx = F(b) - F(a)\n",
    "$$\n",
    "* gives the **net accumulated change** of $f(x)$ between $a$ and $b$.\n"
   ]
  },
  {
   "cell_type": "markdown",
   "id": "ab3d3b30",
   "metadata": {
    "slideshow": {
     "slide_type": "slide"
    }
   },
   "source": [
    "## Common integrals\n",
    "\n",
    "| Function $f(x)$ | Integral $\\displaystyle \\int f(x)\\,dx$ | Notes |\n",
    "|:----------------|:----------------------------------------|:------|\n",
    "| $x^n$ | $\\tfrac{x^{n+1}}{n+1} + C$ | $n \\neq -1$ |\n",
    "| $e^x$ | $e^x + C$ | Exponential function |\n",
    "| $a^x$ | $\\tfrac{a^x}{\\ln a} + C$ | Base $a > 0$, $a \\neq 1$ |\n",
    "| $\\tfrac{1}{x}$ | $\\ln{x} + C$ | Natural logarithm |\n",
    "| $\\sin x$ | $-\\cos x + C$ |  |\n",
    "| $\\cos x$ | $\\sin x + C$ |  |\n",
    "| $\\tfrac{1}{1+x^2}$ | $\\arctan x + C$ | Inverse tangent |"
   ]
  },
  {
   "cell_type": "markdown",
   "id": "29d85722",
   "metadata": {
    "slideshow": {
     "slide_type": "slide"
    }
   },
   "source": [
    "## Integral calculus for kinematics\n",
    "\n",
    "Differentiation and integration connect **acceleration**, **velocity**, and **position**.\n",
    "\n",
    "By definition:\n",
    "$$\n",
    "a(t) = \\frac{dv}{dt}, \\qquad v(t) = \\frac{dx}{dt}.\n",
    "$$\n",
    "\n",
    "Thus, integrating step by step:\n",
    "$$\n",
    "v(t) = \\int a(t)\\,dt, \\qquad\n",
    "x(t) = \\int v(t)\\,dt.\n",
    "$$"
   ]
  },
  {
   "cell_type": "markdown",
   "id": "8195c594",
   "metadata": {
    "slideshow": {
     "slide_type": "slide"
    }
   },
   "source": [
    "## Integral calculus for kinematics: Constant acceleration\n",
    "\n",
    "For $a(t) = a_0$:\n",
    "$$\n",
    "v = v_0 + a_0 t, \\qquad\n",
    "x = x_0 + v_0 t + \\tfrac{1}{2} a_0 t^2.\n",
    "$$\n",
    "\n"
   ]
  },
  {
   "cell_type": "markdown",
   "id": "86b6aabd",
   "metadata": {
    "slideshow": {
     "slide_type": "slide"
    }
   },
   "source": [
    "\n",
    "## Integral calculus for kinematics: Time-dependent acceleration\n",
    "\n",
    "If $a(t) = \\alpha t + \\beta$:\n",
    "$$\n",
    "v(t) = \\tfrac{1}{2}\\alpha t^2 + \\beta t + v_0, \\qquad\n",
    "x(t) = \\tfrac{1}{6}\\alpha t^3 + \\tfrac{1}{2}\\beta t^2 + v_0 t + x_0.\n",
    "$$"
   ]
  },
  {
   "cell_type": "markdown",
   "id": "f6a68902",
   "metadata": {
    "slideshow": {
     "slide_type": "slide"
    }
   },
   "source": [
    "## Integral Calculus for Kinematics: When $a$ depends on $x$\n",
    "\n",
    "Suppose the acceleration depends on **position**, i.e.\n",
    "$$\n",
    "a = a(x) = \\frac{dv}{dt}.\n",
    "$$\n",
    "\n",
    "\n",
    "Both velocity and position depend on time:\n",
    "$$\n",
    "v = v(t), \\qquad x = x(t).\n",
    "$$\n",
    "\n",
    "That means velocity can also be seen as a function of position: $v = v(x(t))$.  \n",
    "By the **chain rule** from calculus:\n",
    "$$\n",
    "a(x) = \\frac{dv}{dt} = \\frac{dv}{dx} \\frac{dx}{dt} = \\frac{dv}{dx}\\,v\n",
    "$$\n",
    "\n",
    "Rearrange to collect $v$ and $x$ terms on opposite sides:\n",
    "$$\n",
    "v\\,dv = a(x)\\,dx.\n",
    "$$\n",
    "\n"
   ]
  },
  {
   "cell_type": "markdown",
   "id": "9dc6b481",
   "metadata": {
    "slideshow": {
     "slide_type": "slide"
    }
   },
   "source": [
    "## Integral Calculus for Kinematics: When $a$ depends on $x$ (cont')\n",
    "\n",
    "Integrate from the **initial state** $(x_0, v_0)$ to the **current state** $(x, v)$:\n",
    "$$\n",
    "\\int_{v_0}^{v} v'\\,dv' = \\int_{x_0}^{x} a(x')\\,dx'.\n",
    "$$\n",
    "\n",
    "Evaluate the left-hand side:\n",
    "\n",
    "$$\n",
    "\\frac{1}{2}(v^2 - v_0^2) = \\int_{x_0}^{x} a(x')\\,dx'.\n",
    "$$\n",
    "\n",
    "\n",
    "**Example:** If $a(x)$ is linear, e.g. $a(x) = \\alpha x$:\n",
    "\n",
    "\n",
    "$$\n",
    "\\frac{1}{2}(v^2 - v_0^2) = \\int_{x_0}^{x} a(x')\\,dx' = \\int_{x_0}^{x} \\alpha x'\\,dx' = \\alpha \\left[\\frac{x'^2}{2}\\right]_{x_0}^{x} \n",
    "= \\frac{\\alpha}{2}\\,(x^2 - x_0^2).\n",
    "$$\n",
    "\n",
    "Simplify:\n",
    "$$\n",
    "v^2 - v_0^2 = \\alpha\\,(x^2 - x_0^2).\n",
    "$$\n",
    "\n",
    "\n"
   ]
  },
  {
   "cell_type": "markdown",
   "id": "f14eb732",
   "metadata": {
    "slideshow": {
     "slide_type": "slide"
    }
   },
   "source": [
    "\n",
    "## Integral Calculus for Kinematics: When $a$ depends on $v$\n",
    "\n",
    "Now suppose acceleration depends on **velocity**, i.e.\n",
    "$$\n",
    "a = a(v) = \\frac{dv}{dt}.\n",
    "$$\n",
    "\n",
    "Rearrange to isolate $v$ and $t$:\n",
    "$$\n",
    "\\frac{dv}{a(v)} = dt.\n",
    "$$\n",
    "\n",
    "Integrate from $v_0$ at $t_0$ to $v$ at $t$:\n",
    "$$\n",
    "\\int_{v_0}^{v} \\frac{dv'}{a(v')} = \\int_{t_0}^{t} dt' = t - t_0.\n",
    "$$ \n"
   ]
  },
  {
   "cell_type": "markdown",
   "id": "e257adb5",
   "metadata": {
    "slideshow": {
     "slide_type": "slide"
    }
   },
   "source": [
    "\n",
    "## Integral Calculus for Kinematics: When $a$ depends on $v$ (cont')\n",
    "\n",
    "**Example:** If acceleration depends linearly on velocity $a(v) = -k v, \\, \\& \\, k > 0,$\n",
    "then:\n",
    "$$\n",
    "a(v) =  -k v = \\frac{dv}{dt}.\n",
    "$$\n",
    "\n",
    "Separate variables:\n",
    "$$\n",
    "-k\\,dt = \\frac{dv}{v} \\, \\leftrightarrow \\, \\frac{1}{v}\\,dv = -k\\,dt.\n",
    "$$\n",
    "\n",
    "Integrate from $(t_0, v_0)$ to $(t, v)$:\n",
    "$$\n",
    "\\int_{v_0}^{v} \\frac{1}{v'}\\,dv' = -k \\int_{t_0}^{t} dt'.\n",
    "$$\n",
    "\n",
    "Compute both sides:\n",
    "$$\n",
    "\\ln\\!\\left(\\frac{v}{v_0}\\right) = -k(t - t_0).\n",
    "$$\n",
    "\n",
    "Exponentiate to solve for $v(t)$:\n",
    "$$\n",
    "v(t) = v_0\\,e^{-k(t - t_0)}.\n",
    "$$\n",
    "$\\rightarrow$ The velocity decays **exponentially** due to the drag force.  \n"
   ]
  },
  {
   "cell_type": "markdown",
   "id": "5e59e1c2",
   "metadata": {
    "slideshow": {
     "slide_type": "slide"
    }
   },
   "source": [
    "## Trigonometry – basics\n",
    "\n",
    "* Right triangle:\n",
    "  $$\\sin\\theta=\\tfrac{opp}{hyp} \\, \\& \\,  \\cos\\theta=\\tfrac{adj}{hyp}  \\, \\& \\,  \\tan\\theta=\\tfrac{opp}{adj}$$\n",
    "\n",
    "* Identities:\n",
    "  $$\\sin^2\\theta+\\cos^2\\theta=1  \\, \\& \\, \\tan\\theta=\\sin\\theta/\\cos\\theta$$\n",
    "\n",
    "<img src=\"../img/from_wiki/Trigonometry_triangle.svg\" alt=\"Trigonometry_triangle.svg\" width=\"300\"/>\n",
    "\n",
    "*<sub>from [wikipedia](https://en.wikipedia.org/wiki/File:Trigonometry_triangle.svg), [Attribution-Share Alike 3.0 Unported](//creativecommons.org/licenses/by-sa/3.0/deed.en)</sub>*"
   ]
  },
  {
   "cell_type": "markdown",
   "id": "10358a56",
   "metadata": {
    "slideshow": {
     "slide_type": "slide"
    }
   },
   "source": [
    "## Polar coordinates\n",
    "\n",
    "* Represent point by $(r,\\theta)$ instead of $(x,y)$.\n",
    "* Conversion:\n",
    "  * $x=r\\cos\\theta$, $y=r\\sin\\theta$\n",
    "* Inverse:\n",
    "  * $r=\\sqrt{x^2+y^2}$, $\\theta=\\arctan(y/x)$\n",
    "\n",
    "\n",
    "<img src=\"../img/from_wiki/Polar_to_cartesian.svg\" alt=\"Polar_to_cartesian.svg\" width=\"300\"/>\n",
    "\n",
    "*<sub>from [wikipedia](https://en.wikipedia.org/wiki/File:Polar_to_cartesian.svg), [Attribution-Share Alike 3.0 Unported](//creativecommons.org/licenses/by-sa/3.0/deed.en)</sub>*\n"
   ]
  },
  {
   "cell_type": "markdown",
   "id": "d28753d0",
   "metadata": {
    "slideshow": {
     "slide_type": "slide"
    }
   },
   "source": [
    "## Complex numbers – basics\n",
    "\n",
    "* General form: $z=x+iy$, with $i^2=-1$.\n",
    "* Real part: $x$, Imag part: $y$.\n",
    "* Magnitude: $|z|=\\sqrt{x^2+y^2}$.\n",
    "* Conjugate: $z^*=x-iy$.\n",
    "\n",
    "<img src=\"../img/from_wiki/Imaginarynumber2.svg\" alt=\"Imaginarynumber2.svg\" width=\"300\"/>\n",
    "\n",
    "*<sub>from [wikipedia](https://en.wikipedia.org/wiki/File:Imaginarynumber2.svg), [Attribution-Share Alike 3.0 Unported](//creativecommons.org/licenses/by-sa/3.0/deed.en)</sub>*\n",
    "\n"
   ]
  },
  {
   "cell_type": "markdown",
   "id": "59894a5e",
   "metadata": {
    "slideshow": {
     "slide_type": "slide"
    }
   },
   "source": [
    "## Complex numbers – polar form\n",
    "\n",
    "* $z=r(\\cos\\theta+i\\sin\\theta)=re^{i\\theta}$.\n",
    "\n",
    "* Physics: oscillations $e^{i\\omega t}$, AC circuits, waves.\n",
    "\n",
    "\n",
    "<img src=\"../img/from_wiki/Eulers_formula.svg\" alt=\"Eulers_formula.svg\" width=\"300\"/>\n",
    "\n",
    "*<sub>from [wikipedia](https://en.wikipedia.org/wiki/File:Euler%27s_formula.svg), [Attribution-Share Alike 3.0 Unported](//creativecommons.org/licenses/by-sa/3.0/deed.en)</sub>*"
   ]
  }
 ],
 "metadata": {
  "language_info": {
   "name": "python"
  }
 },
 "nbformat": 4,
 "nbformat_minor": 5
}
