{
 "cells": [
  {
   "cell_type": "markdown",
   "metadata": {
    "slideshow": {
     "slide_type": "slide"
    }
   },
   "source": [
    "<img src=\"../img/Signet_FNW_1.svg\" alt=\"OVGU_FNW_Logo\" width=\"300\" align=\"right\">\n",
    "\n",
    "# 1.2. Kinematics beyond one dimension \\& projectile motion\n",
    "\n",
    "`mb09`\n",
    "\n",
    "**Which object hits the ground first?**\n",
    "\n"
   ]
  },
  {
   "cell_type": "markdown",
   "metadata": {
    "slideshow": {
     "slide_type": "fragment"
    }
   },
   "source": [
    "- both at the same time as their vertical acceleration is the same, i.e. $g$\n",
    "- **superposition** of motions\n",
    "- **projectile motion \\& circular motion**\n",
    "\n",
    "<img src=\"../img/from_wiki/Compound_Motion.gif\" alt=\"Compound_Motion.gif\" width=\"200\"/>\n",
    "\n",
    "*<sub>from [wikipedia](https://en.wikipedia.org/wiki/File:Compound_Motion.gif), [Attribution-Share Alike 4.0 International](//creativecommons.org/licenses/by-sa/4.0/deed.en)</sub>*\n",
    "\n"
   ]
  },
  {
   "cell_type": "markdown",
   "metadata": {
    "slideshow": {
     "slide_type": "slide"
    }
   },
   "source": [
    "## Describing motion in 2D and 3D  \n",
    "- Position vector: $\\vec r(t) = x(t)\\,\\hat{\\imath} + y(t)\\,\\hat{\\jmath}$ $+\\, z(t)\\,\\hat{k}$  \n",
    "- **Cartesian basis** $\\{\\hat{\\imath}, \\hat{\\jmath}, \\hat{k}\\}$ is **orthonormal**:  $\n",
    "  \\hat{\\imath}\\!\\cdot\\!\\hat{\\jmath} = \n",
    "  \\hat{\\jmath}\\!\\cdot\\!\\hat{k} = \n",
    "  \\hat{k}\\!\\cdot\\!\\hat{\\imath} = 0, \\qquad\n",
    "  |\\hat{\\imath}|=|\\hat{\\jmath}|=|\\hat{k}|=1\n",
    "  $  \n",
    "- Each component behaves like an independent 1D motion \n",
    "    - $\\rightarrow$ All 1D kinematic equations apply separately to $x(t)$, $y(t)$ and $z(t)$\n",
    "    - $\\rightarrow$ Vector operations (addition, subtraction, differentiation) act **component-wise**\n",
    "\n",
    "- Equation for 2D motion:\n",
    "  $$\n",
    "  \\vec v(t) = \\frac{d\\vec r}{dt} = \\frac{dx}{dt}\\,\\hat{\\imath} + \\frac{dy}{dt}\\,\\hat{\\jmath}, \\qquad\n",
    "  \\vec a(t) = \\frac{d\\vec v}{dt} = \\frac{d^2\\vec r}{dt^2}\n",
    "  $$  \n",
    "  $$\n",
    "  \\vec r = x\\,\\hat{\\imath} + y\\,\\hat{\\jmath}, \\qquad\n",
    "  \\vec v = v_x\\,\\hat{\\imath} + v_y\\,\\hat{\\jmath}, \\qquad\n",
    "  \\vec a = a_x\\,\\hat{\\imath} + a_y\\,\\hat{\\jmath}\n",
    "  $$  \n"
   ]
  },
  {
   "cell_type": "markdown",
   "metadata": {
    "slideshow": {
     "slide_type": "slide"
    }
   },
   "source": [
    "## Superposition of perpendicular motions\n",
    "`Garteneisenbahn`\n",
    "\n",
    "- Solve $x$ and $y$ components independently, then combine\n",
    "- Position: $\\mathbf r(t)=x(t)\\,\\hat{\\mathbf i}+y(t)\\,\\hat{\\mathbf j}$\n",
    "- Velocity: $\\mathbf v(t)=v_x(t)\\,\\hat{\\mathbf i}+v_y(t)\\,\\hat{\\mathbf j}$\n",
    "- Independence holds when no coupling forces link $x$ and $y$\n"
   ]
  },
  {
   "cell_type": "markdown",
   "metadata": {
    "slideshow": {
     "slide_type": "slide"
    }
   },
   "source": [
    "## Projectile motion: concept and assumptions\n",
    "\n",
    "`mb08 - Wasserstrahl`\n",
    "\n",
    "- Launch with $v_0$ at angle $\\theta$ from $(x_0,y_0)$ \n",
    "  - $\\rightarrow$ initial velocity: $\\vec v(0) = \\vec v_0 = (v_0\\cos\\theta,\\, v_0\\sin\\theta)$\n",
    "- Neglect air resistance $\\rightarrow$ only gravity acts: \n",
    "  - $\\rightarrow$ $\\vec a=(0,-g)$ with $g\\approx 9.81\\,\\text{m/s}^2$\n",
    "- Superposition of **uniform motion** in $x$, **uniformly accelerated motion** in $y$\n",
    "- Choose \"up\" as positive $y$; signs must be used consistently\n",
    "\n",
    "<img src=\"../img/from_wiki/Ferde_hajitas3.svg\" alt=\"Ferde_hajitas3.svg\" width=\"300\"/>\n",
    "\n",
    "*<sub>from [wikipedia](https://en.wikipedia.org/wiki/File:Ferde_hajitas3.svg), [Attribution-Share Alike 3.0 Unported](//creativecommons.org/licenses/by-sa/3.0/deed.en)</sub>*\n"
   ]
  },
  {
   "cell_type": "markdown",
   "metadata": {
    "slideshow": {
     "slide_type": "slide"
    }
   },
   "source": [
    "## Projectile motion: Kinematics along x\n",
    "- No horizontal force $\\Rightarrow a_x=0$\n",
    "- Constant horizontal velocity: $v_x(t) = v_{0x} =v_0\\cos\\theta$\n",
    "- Horizontal position: $x(t)= x_0 + v_{0x} \\,t= x_0 + v_0\\cos\\theta\\, t$\n",
    "- Uniform translation set by the initial horizontal component"
   ]
  },
  {
   "cell_type": "markdown",
   "metadata": {
    "slideshow": {
     "slide_type": "slide"
    }
   },
   "source": [
    "## Projectile motion: Kinematics along y\n",
    "- Constant vertical acceleration: $a_y=-g$\n",
    "- Vertical velocity: $v_y(t) = v_{y0} - g\\,t = v_0\\sin\\theta - g\\,t$\n",
    "- Vertical position: $y(t)=y_0 + v_{0y} t - \\frac{1}{2}g t^2 =y_0 + v_0\\sin\\theta\\, t - \\frac{1}{2} g t^2$\n",
    "- On the way up $v_y$ decreases to zero at the apex; then $v_y<0$ on the way down"
   ]
  },
  {
   "cell_type": "markdown",
   "metadata": {
    "slideshow": {
     "slide_type": "slide"
    }
   },
   "source": [
    "## Projectile motion: Combining x and y\n",
    "- Eliminate $t$ using \n",
    "$$x = x_0 + v_{0x}\\,t \\leftrightarrow t = \\frac{x - x_0}{v_{0x}}$$\n",
    "\n",
    "- Substitute this expression for $t$ into $y(t)$:\n",
    "$$\n",
    "y=y_0 + v_{0y} t - \\frac{1}{2}g t^2 = y_0 + v_{0y}\\left(\\frac{x - x_0}{v_{0x}}\\right) - \\tfrac{1}{2}g\\left(\\frac{x - x_0}{v_{0x}}\\right)^2\n",
    "$$\n",
    "- Rearrange:\n",
    "$$\n",
    "y(x) = y_0 + \\left(\\frac{v_{0y}}{v_{0x}}\\right)(x-x_0) - \\frac{g}{2v_{0x}^2}(x-x_0)^2\n",
    "$$\n",
    "- $\\rightarrow$ y(x) is a parabola\n"
   ]
  },
  {
   "cell_type": "markdown",
   "metadata": {
    "slideshow": {
     "slide_type": "slide"
    }
   },
   "source": [
    "## Projectile motion: Velocity vector\n",
    "- Velocity vector: $\\mathbf v(t) = (v_0\\cos\\theta,\\, v_0\\sin\\theta - g t)$\n",
    "- Magnitude: $|v(t)| = \\sqrt{(v_0\\cos\\theta)^2 + (v_0\\sin\\theta - g t)^2}$\n",
    "- Angle: $\\tan\\theta_v(t) = \\frac{v_y(t)}{v_x(t)} = \\frac{v_0\\sin\\theta - g t}{v_0\\cos\\theta}$  \n",
    "- The velocity direction $\\rightarrow$ tangent to the trajectory at each instant\n",
    "\n",
    "<img src=\"../img/from_wiki/Ferde_hajitas2.svg\" alt=\"Ferde_hajitas2.svg\" width=\"300\"/>\n",
    "\n",
    "*<sub>from [wikipedia](https://en.wikipedia.org/wiki/File:Ferde_hajitas2.svg), [Attribution-Share Alike 3.0 Unported](//creativecommons.org/licenses/by-sa/3.0/deed.en)</sub>*"
   ]
  },
  {
   "cell_type": "markdown",
   "metadata": {
    "slideshow": {
     "slide_type": "slide"
    }
   },
   "source": [
    "## Projectile motion: Time of flight, maximum height, and range\n",
    "- For $y_0=0$ and landing at $y=0$:\n",
    "  - Time of flight: $T = \\dfrac{2v_{0y}}{g}$\n",
    "  - Maximum height: $H = \\dfrac{v_{0y}^2}{2g}$\n",
    "  - Range: $x(T) = R =  \\dfrac{2\\,v_{0x}\\,v_{0y}}{g} $\n",
    "- Range is maximal at $\\theta=45^\\circ$\n",
    "- Angles $\\theta$ and $(90^\\circ-\\theta)$ give same $R$ but different $T$ and $H$ \n",
    "\n",
    "<img src=\"../img/from_wiki/Ideal_projectile_motion_for_different_angles.svg\" alt=\"Ideal_projectile_motion_for_different_angles.svg\" width=\"400\"/>\n",
    "\n",
    "*<sub>from [wikipedia](https://en.wikipedia.org/wiki/File:Ideal_projectile_motion_for_different_angles.svg), [Attribution-Share Alike 3.0 Unported](//creativecommons.org/licenses/by-sa/3.0/deed.en)</sub>*"
   ]
  },
  {
   "cell_type": "markdown",
   "metadata": {
    "slideshow": {
     "slide_type": "slide"
    }
   },
   "source": [
    "## Projectile motion: concluding remarks\n",
    "`sim - projectile motion`\n",
    "- Core idea: independence of $x$ and $y$ components (superposition)\n",
    "- Changing $y_0$ shifts the optimal launch angle away from $45^\\circ$\n",
    "- Real trajectories deviate due to drag and lift; ideal results are first-order checks\n",
    "- Use the full $y(t)$ and $x(t)$ with your specific initial/landing heights\n"
   ]
  },
  {
   "cell_type": "markdown",
   "metadata": {
    "slideshow": {
     "slide_type": "slide"
    }
   },
   "source": [
    "## Relative motion and Galilean kinematics\n",
    "\n",
    "- Motion is always described **relative to a reference frame**  \n",
    "- In **Galilean kinematics** ($v \\ll c$): space and time are absolute  \n",
    "- Velocities add vectorially between inertial frames:  \n",
    "  $$\n",
    "  \\vec v_{AC} = \\vec v_{AB} + \\vec v_{BC}\n",
    "  $$  \n",
    "- If $\\vec v_{S'/S}$ is constant $\\rightarrow \\vec a_{P/S} = \\vec a_{P/S'}$  \n",
    "- Examples: boat in a river, aircraft with tailwind, person on a moving train  \n",
    "- At very high speeds $\\rightarrow$ shift from Galilean kinematics to Einstein’s relativity\n",
    "\n",
    "<img src=\"../img/from_wiki/Relative_velocity.svg\" alt=\"Relative_velocity.svg\" width=\"300\"/>\n",
    "\n",
    "*<sub>from [wikipedia](https://en.wikipedia.org/wiki/File:Relative_velocity.svg), [CC0 1.0 Universal](https://creativecommons.org/publicdomain/zero/1.0/deed.en)</sub>*\n",
    "\n"
   ]
  },
  {
   "cell_type": "markdown",
   "metadata": {
    "slideshow": {
     "slide_type": "slide"
    }
   },
   "source": [
    "## Uniform circular motion: angular quantities and relations  \n",
    "\n",
    "`mb15 - Bewegung auf Kreisbahn`\n",
    "\n",
    "- The position on the circle is described by the **angular position** $\\phi(t)$ (in radians) measured from the $+x$-axis  \n",
    "- Angular quantities:  \n",
    "  $$\n",
    "  \\omega = \\frac{d\\phi}{dt}, \\qquad \\alpha = \\frac{d\\omega}{dt}\n",
    "  $$  \n",
    "\n",
    "<img src=\"../img/from_wiki/Circle_radians.gif\" alt=\"Circle_radians.gif\" width=\"300\"/>  \n",
    "\n",
    "*<sub>from [wikipedia](https://en.wikipedia.org/wiki/File:Circle_radians.gif), public domain</sub>*\n"
   ]
  },
  {
   "cell_type": "markdown",
   "metadata": {
    "slideshow": {
     "slide_type": "slide"
    }
   },
   "source": [
    "## Uniform circular motion: angular quantities and relations (cont')\n",
    "\n",
    "`mb17 - Schleifscheibe`\n",
    "\n",
    "- For **uniform circular motion** $\\rightarrow \\omega = \\text{const}$, $\\alpha = 0$  \n",
    "  $$\n",
    "  \\phi(t) = \\phi_0 + \\omega t, \\qquad T = \\frac{2\\pi}{\\omega}, \\qquad f = \\frac{1}{T}\n",
    "  $$  \n",
    "- Arc length and tangential speed:  \n",
    "  $$\n",
    "  s = r\\phi, \\qquad |v| = \\frac{ds}{dt} =\\frac{d(r\\phi)}{dt} =\\frac{d(r \\phi_0 + r \\omega t)}{dt} = r\\omega\n",
    "  $$  \n",
    "- The velocity is tangent to the circle with constant magnitude  \n"
   ]
  },
  {
   "cell_type": "markdown",
   "metadata": {
    "slideshow": {
     "slide_type": "slide"
    }
   },
   "source": [
    "## Centripetal acceleration: concept and direction  \n",
    "\n",
    "- Angular acceleration $\\alpha = d\\omega/dt$ may be zero, yet $\\vec a \\neq 0$\n",
    "- $|\\vec v|$ is constant, but the **direction** of $\\vec v$ changes with time $\\rightarrow$ acceleration exists    \n",
    "- This change in direction produces the **centripetal (radial)** acceleration $\\vec a_r$  \n",
    "- As the object moves along the circle, $\\vec v_1$ and $\\vec v_2$ differ by $\\Delta\\phi$  \n",
    "- $\\rightarrow$ The change $\\Delta\\vec v = \\vec v_2 - \\vec v_1$ points toward the center  \n",
    "- $\\rightarrow$ **Centripetal acceleration always points towards the center**\n",
    "\n",
    "<img src=\"../img/from_wiki/Uniform_circular_motion.svg\" alt=\"Uniform_circular_motion.svg\" width=\"300\"/>  \n",
    "\n",
    "*<sub>from [wikipedia](https://en.wikipedia.org/wiki/File:Uniform_circular_motion.svg), [CC BY-SA 3.0](https://creativecommons.org/licenses/by-sa/3.0/deed.en)</sub>*\n"
   ]
  },
  {
   "cell_type": "markdown",
   "metadata": {
    "slideshow": {
     "slide_type": "slide"
    }
   },
   "source": [
    "## Centripetal acceleration: magnitude  \n",
    "\n",
    "- From similar triangles of $\\vec r$ and $\\vec v$:  \n",
    "  $$\n",
    "  \\frac{|\\Delta \\vec v|}{|v|} \\approx \\frac{|\\Delta \\vec r|}{r} \\, \\leftrightarrow \\, |\\Delta \\vec v| \\approx \\frac{|\\Delta \\vec r|}{r} \\vec v\n",
    "  $$  \n",
    "- Acceleration is the rate of change of velocity:  \n",
    "  $$\n",
    "  a_r = \\lim_{\\Delta t \\to 0}\\frac{|\\Delta \\vec v|}{\\Delta t} = \\lim_{\\Delta t \\to 0} \\frac{\\frac{|\\Delta \\vec r|}{r} \\vec v}{\\Delta t}  = \\lim_{\\Delta t \\to 0} \\frac{|\\Delta \\vec r| \\vec v}{r \\Delta t} = \\lim_{\\Delta t \\to 0} \\frac{|\\Delta \\vec r| }{\\Delta t} \\frac{\\vec v}{r}\n",
    "  $$  \n",
    "- Since $\\lim_{\\Delta t \\to 0} \\frac{|\\Delta \\vec r| }{\\Delta t} = \\frac{d r}{dt} = v $, we obtain:\n",
    "$$a_r = \\frac{v^2}{r} = r\\omega^2$$\n",
    "- Magnitude increases with $|v|^2$ and decreases with $r$ $\\rightarrow$ tighter turns or higher speeds require larger inward acceleration\n",
    "\n",
    "\n",
    "\n"
   ]
  },
  {
   "cell_type": "markdown",
   "metadata": {
    "slideshow": {
     "slide_type": "slide"
    }
   },
   "source": [
    "## Conceptual link: superposition and Cartesian representation  \n",
    "\n",
    "`ms35 - Projektion Kreisbewegung` \n",
    "\n",
    "- Circular motion can be viewed as **two perpendicular oscillations** with a 90° phase shift  \n",
    "$$\n",
    "x(t) = r\\cos(\\omega t), \\qquad y(t) = r\\sin(\\omega t) = r\\cos\\!\\left(\\omega t - \\frac{\\pi}{2}\\right).\n",
    "$$\n",
    "\n",
    "- Each coordinate oscillates harmonically $\\rightarrow$ their combination produces the circular path  $x^2 + y^2 = r^2 $\n",
    "- Equations:\n",
    "$$\n",
    "\\vec r(t) = r\\cos(\\omega t)\\,\\hat{\\imath} + r\\sin(\\omega t)\\,\\hat{\\jmath},\n",
    "$$\n",
    "$$\n",
    "\\vec v(t) = -\\omega r\\sin(\\omega t)\\,\\hat{\\imath} + \\omega r\\cos(\\omega t)\\,\\hat{\\jmath},\n",
    "$$\n",
    "$$\n",
    "\\vec a(t) = -\\omega^2 r\\cos(\\omega t)\\,\\hat{\\imath} - \\omega^2 r\\sin(\\omega t)\\,\\hat{\\jmath} = -\\omega^2 \\vec r(t).\n",
    "$$"
   ]
  },
  {
   "cell_type": "markdown",
   "metadata": {
    "slideshow": {
     "slide_type": "slide"
    }
   },
   "source": [
    "## Uniformly accelerated circular motion  \n",
    "\n",
    "- When speed changes, $\\vec a$ splits into two perpendicular components:  \n",
    "  - **Radial (centripetal):** $a_r = \\dfrac{v^2}{r}$ → directs $\\vec v$ toward the center  \n",
    "  - **Tangential:** $a_{\\text{tan}} = \\dfrac{dv}{dt} = r\\,\\alpha$ → changes the speed along the path  \n",
    "\n",
    "- Total acceleration: $\\vec a = \\vec a_{\\text{tan}} + \\vec a_r, \\qquad |\\vec a| = \\sqrt{a_{\\text{tan}}^2 + a_r^2}$  \n",
    "\n",
    "- Applies to any curved path by using the local **radius of curvature** $r$\n",
    "\n",
    "<img src=\"../img/from_wiki/Nonuniform_circular_motion.svg\" alt=\"Nonuniform_circular_motion.svg\" width=\"300\"/>  \n",
    "\n",
    "*<sub>from [wikipedia](https://en.wikipedia.org/wiki/File:Nonuniform_circular_motion.svg), [CC BY-SA 3.0](https://creativecommons.org/licenses/by-sa/3.0/deed.en)</sub>*\n"
   ]
  },
  {
   "cell_type": "markdown",
   "metadata": {
    "slideshow": {
     "slide_type": "slide"
    }
   },
   "source": [
    "## Summary circular motion\n",
    "\n",
    "\n",
    "| Quantity | Expression | Description |\n",
    "|-----------|-------------|-------------|\n",
    "| Angular velocity | $\\omega = \\dfrac{d\\phi}{dt}$ | rate of change of angular position |\n",
    "| Linear speed | $v = r\\omega$ | constant for uniform motion |\n",
    "| Centripetal acceleration | $a_r = \\dfrac{v^2}{r} = \\omega^2 r$ | directed toward the center |\n",
    "| Angular acceleration | $\\alpha = \\dfrac{d\\omega}{dt}$ | zero for uniform motion |\n",
    "\n",
    "\n",
    "\n"
   ]
  },
  {
   "cell_type": "markdown",
   "metadata": {
    "slideshow": {
     "slide_type": "slide"
    }
   },
   "source": [
    "## Universality of superposition\n",
    "\n",
    "`mb10 - Dart` \n",
    "\n",
    "* Powerful concept\n",
    "* Will revisit for e.g. (standing) waves and charged particles moving in electromagnetic fields\n",
    "\n",
    "<img src=\"../img/from_wiki/Anas_platyrhynchos_with_ducklings_reflecting_water.jpg\" alt=\"Anas_platyrhynchos_with_ducklings_reflecting_water.jpg\" width=\"300\"/>\n",
    "<img src=\"../img/from_wiki/Rolling_animation.gif\" alt=\"Rolling_animation.gif\" width=\"400\"/>\n",
    "\n",
    "*<sub>[left:] from [wikipedia](https://en.wikipedia.org/wiki/File:Anas_platyrhynchos_with_ducklings_reflecting_water.jpg), [CC 2.0 Generic license](//creativecommons.org/licenses/by/2.0/deed.en);\n",
    "[right:] from [wikipedia](https://en.wikipedia.org/wiki/File:Rolling_animation.gif), [Attribution-Share Alike 4.0 International](//creativecommons.org/licenses/by-sa/4.0/deed.en)</sub>*\n"
   ]
  }
 ],
 "metadata": {
  "kernelspec": {
   "display_name": ".venv",
   "language": "python",
   "name": "python3"
  },
  "language_info": {
   "codemirror_mode": {
    "name": "ipython",
    "version": 3
   },
   "file_extension": ".py",
   "mimetype": "text/x-python",
   "name": "python",
   "nbconvert_exporter": "python",
   "pygments_lexer": "ipython3",
   "version": "3.12.9"
  }
 },
 "nbformat": 4,
 "nbformat_minor": 2
}
