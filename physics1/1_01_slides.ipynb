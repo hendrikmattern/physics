{
 "cells": [
  {
   "cell_type": "markdown",
   "metadata": {
    "slideshow": {
     "slide_type": "slide"
    }
   },
   "source": [
    "<img src=\"../img/Signet_FNW_1.svg\" alt=\"OVGU_FNW_Logo\" width=\"300\" align=\"right\">\n",
    "\n",
    "# 1.1. Kinematics in one dimension\n",
    "\n",
    "`mb03`\n",
    "\n",
    "**Which object falls faster in vacuum?**\n",
    "\n"
   ]
  },
  {
   "cell_type": "markdown",
   "metadata": {
    "slideshow": {
     "slide_type": "fragment"
    }
   },
   "source": [
    "- did you expect that?\n",
    "- $\\rightarrow$ study **kinematics** which describe *how* objects move but not *why* they move  \n",
    "- for today only 1D $\\rightarrow$ motion occurs along a single straight line (e.g. horizontal or vertical)"
   ]
  },
  {
   "cell_type": "markdown",
   "metadata": {
    "slideshow": {
     "slide_type": "slide"
    }
   },
   "source": [
    "## Frame of reference\n",
    "\n",
    "- **reference frame** defines the stage on which motion is observed\n",
    "- usually includes an **origin**, **axes**, a **clock**, and an **observer**\n",
    "- motion is always **relative**, e.g. a passenger can be at rest in the train but moving relative to the ground\n",
    "- in everyday (Galilean) mechanics, switching frames means simply **adding or subtracting velocities**\n",
    "- $\\rightarrow$ **laws of physics stay the same**; only the numerical values and signs may differ.\n",
    "\n",
    "<img src=\"../img/from_wiki/Wikipage_pic.PNG\" alt=\"Wikipage_pic.PNG\" width=\"300\"/>\n",
    "\n",
    "*<sub>from [wikipedia](https://en.wikipedia.org/wiki/File:Wikipage_pic.PNG), License: public domain by TheGreenOne</sub>*\n",
    "\n"
   ]
  },
  {
   "cell_type": "markdown",
   "metadata": {
    "slideshow": {
     "slide_type": "slide"
    }
   },
   "source": [
    "## Velocity as a vector (in 1D)\n",
    "\n",
    "- **velocity** is a **vector** $\\rightarrow$ has magnitude and direction  \n",
    "- in 1D, direction is given by the **sign**:  \n",
    "  - positive $\\rightarrow$ motion along $+\\hat\\imath$ (or $+\\hat\\jmath$)\n",
    "  - negative $\\rightarrow$ motion in the opposite direction\n",
    "- using $\\vec v = v\\,\\hat\\imath$ or $\\vec v = v\\,\\hat\\jmath$ keeps direction explicit.  \n",
    "- changing the **coordinate convention** (origin or positive direction) affects all signs equally,  \n",
    "  but **does not change the underlying physics**"
   ]
  },
  {
   "cell_type": "markdown",
   "metadata": {
    "slideshow": {
     "slide_type": "slide"
    }
   },
   "source": [
    "## Average velocity\n",
    "`sim avg. vs inst. Velocity`\n",
    "\n",
    "- describes motion over a **finite time interval**:\n",
    "$$\\bar{v} = \\frac{\\Delta x}{\\Delta t}$$\n",
    "  - based on **displacement** from initial position, not total distance traveled  \n",
    "  - on an $x(t)$ graph, it is the **slope of the secant line** between two points  \n",
    "  "
   ]
  },
  {
   "cell_type": "markdown",
   "metadata": {
    "slideshow": {
     "slide_type": "slide"
    }
   },
   "source": [
    "## Instantaneous velocity\n",
    "`sim avg. vs inst. Velocity`\n",
    "\n",
    "- captures motion **at a specific instant**:\n",
    "$$v(t) = \\lim_{\\Delta t\\to 0} \\frac{\\Delta x}{\\Delta t} = \\frac{dx}{dt}$$\n",
    "  - it is the **slope of the tangent** to the $x(t)$ curve  \n",
    "  - gives the **rate and direction** of change of position  \n",
    "  "
   ]
  },
  {
   "cell_type": "markdown",
   "metadata": {
    "slideshow": {
     "slide_type": "slide"
    }
   },
   "source": [
    "## Distance vs. displacement \\& speed vs. velocity\n",
    "\n",
    "- **displacement** measures the net change in position\n",
    "- **distance** is the **total path length** traveled \n",
    "- **speed** is the **magnitude** of velocity, computed from the (total) distance traveled, and is always positive\n",
    "- **velocity** includes direction (can be positive or negative) and is computed from the (net) displacement\n",
    "\n",
    "<img src=\"../img/from_wiki/Distancedisplacement.svg\" alt=\"Distancedisplacement.svg\" width=\"300\"/>\n",
    "\n",
    "*<sub>from [wikipedia](https://en.wikipedia.org/wiki/File:Distancedisplacement.svg), [Attribution-Share Alike 3.0 Unported](//creativecommons.org/licenses/by-sa/3.0/deed.en)</sub>*\n",
    "\n"
   ]
  },
  {
   "cell_type": "markdown",
   "metadata": {
    "slideshow": {
     "slide_type": "slide"
    }
   },
   "source": [
    "## Acceleration  \n",
    "\n",
    "- describes how velocity changes with time:\n",
    "$$a(t) = \\frac{dv}{dt}$$\n",
    "  - is the **slope of the tangent** to the $v(t)$ curve  \n",
    "  - indicates the **rate of change of velocity**\n",
    "\n",
    "- **sign of $a$** determines how $v$ changes:  \n",
    "  - $a>0$ $\\rightarrow$ velocity increases (speeds up in the positive direction)  \n",
    "  - $a<0$ $\\rightarrow$ velocity decreases (slows down or speeds up in the negative direction)\n",
    "- *deceleration* simply means acceleration opposite to motion"
   ]
  },
  {
   "cell_type": "markdown",
   "metadata": {
    "slideshow": {
     "slide_type": "slide"
    }
   },
   "source": [
    "## Uniform motion\n",
    "`mb06`\n",
    "- **velocity remains constant** ($v = \\text{const}$)  \n",
    "- equal displacements occur in equal time intervals:\n",
    "$$x(t) = x_0 + vt$$\n",
    "- zero acceleration ($a = 0$)\n",
    "- **average velocity = instantaneous velocity**  \n",
    "- **graphical view:**  \n",
    "  - $x(t)$ → straight line (slope = $v$)\n",
    "  - $v(t)$ → horizontal line (constant value)"
   ]
  },
  {
   "cell_type": "markdown",
   "metadata": {
    "slideshow": {
     "slide_type": "slide"
    }
   },
   "source": [
    "## Uniformly accelerated motion\n",
    "`mb06`\n",
    "- constant acceleration ($a = \\text{const}$)\n",
    "- velocity changes **linearly** with time \n",
    "$$v(t) = v_0 + at$$\n",
    "$$x(t) = x_0 + v_0t + \\tfrac{1}{2}at^2$$\n",
    "- **graphical view:**  \n",
    "  - $v(t)$ is a **straight line** (slope = $a$)\n",
    "  - $x(t)$ is a **parabola** (slope = $v$)\n",
    "- applies to:  \n",
    "  - motion under steady thrust or uniform braking\n",
    "  - free fall near Earth’s surface (neglecting air resistance)"
   ]
  },
  {
   "cell_type": "markdown",
   "metadata": {
    "slideshow": {
     "slide_type": "slide"
    }
   },
   "source": [
    "## Relations between Position, Velocity, \\& Acceleration  \n",
    "\n",
    "`sim x, v, a relation`\n",
    "\n",
    "- **Position, velocity, and acceleration** are linked by **derivatives and integrals**:\n",
    "$$v(t) = \\frac{dx}{dt}, \\quad \\& \\quad a(t) = \\frac{dv}{dt}$$\n",
    "$$x(t) = \\int v(t)\\,dt, \\quad \\& \\quad v(t) = \\int a(t)\\,dt$$\n",
    "\n",
    "- **slopes** and **areas** connect them graphically:  \n",
    "  - slope of $x(t)$ $\\rightarrow$ velocity  \n",
    "  - slope of $v(t)$ $\\rightarrow$ acceleration  \n",
    "  - area under $v(t)$ $\\rightarrow$ displacement  \n",
    "  - area under $a(t)$ $\\rightarrow$ change in velocity  \n"
   ]
  },
  {
   "cell_type": "markdown",
   "metadata": {
    "slideshow": {
     "slide_type": "slide"
    }
   },
   "source": [
    "## Free Fall and Its Equations  \n",
    "\n",
    "`mb04`\n",
    "\n",
    "- **free fall** is a case of **uniformly accelerated motion** under gravity:\n",
    "$$a = \\pm g, \\quad g \\approx 9.81\\,\\text{m/s}^2$$\n",
    "- choose sign convention, e.g. “up” positive $\\rightarrow$ $a = -g$ or “down” positive $\\rightarrow$ $a = +g$\n",
    "- equations of motion:\n",
    "$$v(t) = v_0 \\pm gt, \\qquad y(t) = y_0 + v_0t \\pm \\tfrac{1}{2}gt^2$$\n",
    "- if the object starts from rest and in origin ($v_0 = 0$ \\& $y_0 = 0$):\n",
    "$$v(t) = \\pm gt, \\qquad y(t) = \\pm \\tfrac{1}{2}gt^2$$\n",
    "\n"
   ]
  },
  {
   "cell_type": "markdown",
   "metadata": {
    "slideshow": {
     "slide_type": "slide"
    }
   },
   "source": [
    "## Universality of free fall  \n",
    "\n",
    "`mb03`\n",
    "\n",
    "- near Earth’s surface, **all bodies accelerate equally**, regardless of mass  \n",
    "- in **vacuum**, light and heavy objects fall at the same rate $\\rightarrow$ **Otto von Guericke’s vacuum experiments**\n",
    "- real conditions include **air resistance**, which grows with speed and cross-section  \n",
    "- at high speeds, air resistance balances gravity, leading to **terminal velocity**, where acceleration effectively becomes zero"
   ]
  }
 ],
 "metadata": {
  "kernelspec": {
   "display_name": ".venv",
   "language": "python",
   "name": "python3"
  },
  "language_info": {
   "codemirror_mode": {
    "name": "ipython",
    "version": 3
   },
   "file_extension": ".py",
   "mimetype": "text/x-python",
   "name": "python",
   "nbconvert_exporter": "python",
   "pygments_lexer": "ipython3",
   "version": "3.12.9"
  }
 },
 "nbformat": 4,
 "nbformat_minor": 2
}
