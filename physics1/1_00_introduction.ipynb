{
 "cells": [
  {
   "cell_type": "markdown",
   "metadata": {
    "slideshow": {
     "slide_type": "slide"
    }
   },
   "source": [
    "<img src=\"../img/Signet_FNW_1.svg\" alt=\"OVGU_FNW_Logo\" width=\"300\" align=\"right\">\n",
    "\n",
    "# Physics I - Introduction \n",
    "\n",
    "We will study various aspects of mechanics this semester:\n",
    "* Kinematics & Dynamics\n",
    "* Work, Energy & Conservation Laws\n",
    "* Fluids: Hydrostatics & Hydrodynamics\n",
    "* Oscillations, Waves & Acoustics\n",
    "\n",
    "<small>see [Syllabus](..\\Syllabus.ipynb)</small>\n",
    "\n"
   ]
  },
  {
   "cell_type": "markdown",
   "metadata": {
    "slideshow": {
     "slide_type": "slide"
    }
   },
   "source": [
    "## Jun.-Prof. Dr.-Ing. Hendrik Mattern\n",
    "* background in engineering \n",
    "    * Bachelor in Electrical Engineering and Information Technology\n",
    "    * Master in Medical Systems Engineering\n",
    "* PhD and research on high field magnetic resonance imaging\n",
    "* mail: hendrik.mattern@ovgu.de\n",
    "* office: H92/005 (on medical campus)\n",
    "* homepage: [https://hendrikmattern.github.io/](https://hendrikmattern.github.io/)\n",
    "\n"
   ]
  },
  {
   "cell_type": "markdown",
   "metadata": {
    "slideshow": {
     "slide_type": "slide"
    }
   },
   "source": [
    "## Course Structure:\n",
    "\n",
    "* **weekly lecture:**\n",
    "    * presentation of the theoretical foundations of physics\n",
    "    * demonstration of experiments\n",
    "* **bi-weekly lecture tutorial:**\n",
    "    * led by the instructor/teaching staff\n",
    "    * focus on conceptual exercises\n",
    "    * additional demonstrations/experiments \n",
    "* **bi-weekly class tutorial:**\n",
    "    * active student participation (*voting system*)\n",
    "    * students present solutions to assigned physics problems\n",
    "    * tutor provides guidance and problem-solving support"
   ]
  },
  {
   "cell_type": "markdown",
   "metadata": {
    "slideshow": {
     "slide_type": "slide"
    }
   },
   "source": [
    "## Class tutorial voting system\n",
    "* class exercise tasks will be posted on eLearning platform approx. one week before the exercise takes place\n",
    "* tasks should be solved before the exercise takes place\n",
    "* prior to the exercise, you indicate, which tasks you solved (in eLearning)\n",
    "* through selection/\"voting\", you agree that you are able to explain and present the task and your proposed solution\n",
    "* the solution does not have to be completely correct, however, it must be clear that you conscientiously dealt with the task and seriously attempted to solve it (otherwise all your selections/\"votes\"  for that exercise will be revoked)\n",
    "* exercise instructor will pick the presenting student randomly from all students who selected the particular task"
   ]
  },
  {
   "cell_type": "markdown",
   "metadata": {
    "slideshow": {
     "slide_type": "slide"
    }
   },
   "source": [
    "## Exam:\n",
    "* written exam (90 min) on the contents of Physics I\n",
    "* requirement for eligibility:\n",
    "    * vote for at least **40%** of all class tutorial task\n",
    "* allowed are: pen, ruler, pocket calculators (not graphical, not programmable), blank pieces of paper.\n",
    "* no cheat sheet allowed!\n",
    "* points are distributed following this scheme: 25% for level 1 task, 25% for level 2 task, 25% for level 3 tasks, 25% for multiple choice theory questions"
   ]
  },
  {
   "cell_type": "markdown",
   "metadata": {
    "slideshow": {
     "slide_type": "slide"
    }
   },
   "source": [
    "## Course  resources:\n",
    "* script and slides openly available as Jupyter notebooks    \n",
    "    * [https://github.com/hendrikmattern/physics](https://github.com/hendrikmattern/physics)\n",
    "    * [https://colab.research.google.com/github/hendrikmattern/physics](https://colab.research.google.com/github/hendrikmattern/physics)\n",
    "    * **FYI:** lecture/slides complement script and vice versa\n",
    "* book:\n",
    "    * `GIANCOLI, Douglas C. Physics for scientists and engineers with modern physics. Pearson Education, 2023.`\n",
    "* [eLearning course](https://elearning.ovgu.de/) (enrollment required)\n",
    "* [LSF](https://lsf.ovgu.de/) (enrollment required)\n"
   ]
  },
  {
   "cell_type": "markdown",
   "metadata": {},
   "source": [
    "## What is science?\n",
    "\n",
    "Definition by [Cambridge Dictionary](https://dictionary.cambridge.org/dictionary/english/science): **Science**, *noun* /ˈsaɪ.əns/\n",
    "\n",
    "(knowledge from) the careful study of the structure and behaviour of the physical world, especially by watching, measuring, and doing experiments, and the development of theories to describe the results of these activities\n",
    "\n",
    "<img src=\"../img/from_wiki/Archimede_bain.jpg\" alt=\"Archimede_bain.jpg\" width=\"225\"/>\n",
    "<img src=\"../img/from_wiki/Eureka_Archimede.jpg\" alt=\"Eureka!_Archimede.jpg\" width=\"325\"/>\n",
    "\n",
    "\n",
    "*<sub>[left] from [wikipedia](https://en.wikipedia.org/wiki/File:Archimede_bain.jpg), public domain; \n",
    "[right] from [wikipedia](https://en.wikipedia.org/wiki/File:Eureka!_Archimede.jpg), public domain</sub>*\n"
   ]
  },
  {
   "cell_type": "markdown",
   "metadata": {},
   "source": [
    "## How science works\n",
    "\n",
    "- Science seeks order in observations and proposes testable explanations  \n",
    "- Absolute proof is impossible — confidence grows with experimental agreement  \n",
    "- Hallmark of science: interplay of imagination and disciplined testing  \n",
    "\n",
    "\n",
    "<img src=\"../img/from_wiki/Inductive_Deductive_Reasoning.svg\" alt=\"Inductive_Deductive_Reasoning.svg\" width=\"325\"/>\n",
    "<img src=\"../img/from_wiki/The_Scientific_Method.svg\" alt=\"The_Scientific_Method.svg\" width=\"275\"/>\n",
    "\n",
    "*<sub>[left] from [wikipedia](https://en.wikipedia.org/wiki/File:Inductive_Deductive_Reasoning.svg) by  Brian Brondel, License:  [CC BY-SA 2.5](https://creativecommons.org/licenses/by-sa/2.5/deed.en)\n",
    "[right] from [wikipedia](https://en.wikipedia.org/wiki/File:The_Scientific_Method.svg), [Attribution-Share Alike 4.0 International](//creativecommons.org/licenses/by-sa/4.0/deed.en)</sub>*\n",
    "\n"
   ]
  },
  {
   "cell_type": "markdown",
   "metadata": {},
   "source": [
    "## Experiments: Breaking beliefs, building Knowledge\n",
    "\n",
    "* Careful experiments test and refine ideas, making science more than speculation  \n",
    "* Reproducibility ensures that results hold beyond a single observer or setup  \n",
    "* Surprising experiments often overturn long-held beliefs\n",
    "* From ancient thought to modern labs, progress rests on experimental evidence  \n",
    "\n",
    "<img src=\"../img/from_wiki/Magdeburger-Halbkugeln.jpg\" alt=\"Magdeburger-Halbkugeln.jpg\" width=\"400\"/>\n",
    "\n",
    "*<sub>from [wikipedia](https://en.wikipedia.org/wiki/File:Magdeburger-Halbkugeln.jpg), public domain</sub>*"
   ]
  },
  {
   "cell_type": "markdown",
   "metadata": {},
   "source": [
    "## Models, theories, and laws\n",
    "- Model: simplified picture (e.g. sound as a wave)  \n",
    "- Theory: broader, connects many phenomena, yields quantitative predictions  \n",
    "- Law: concise general relationship, often an equation  \n",
    "- Descriptive, not prescriptive — they report what nature does  \n",
    "- Each has a range of validity; crucial to recognize limits  \n",
    "\n",
    "\n",
    "<img src=\"../img/from_wiki/Black_body.svg\" alt=\"Black_body.svg\" width=\"400\"/>\n",
    "\n",
    "*<sub>from [wikipedia](https://en.wikipedia.org/wiki/File:Black_body.svg), public domain</sub>*\n",
    "\n"
   ]
  },
  {
   "cell_type": "markdown",
   "metadata": {},
   "source": [
    "\n",
    "## Units, standards, &amp; motivation for the SI system\n",
    "- A physical quantity = number + unit  \n",
    "- Standards must be stable, reproducible, widely available  \n",
    "- SI system (Système international d’unités):\n",
    "    - Prevents confusion and reduces mistakes  \n",
    "    - Ensures comparability across labs and countries  \n",
    "    - Based on universal constants (stable, reproducible, transferable)  \n",
    "\n",
    "<img src=\"../img/from_wiki/Air_Canada_Flight_143_after_emergency_landing_2.jpg\" alt=\"Air_Canada_Flight_143_after_emergency_landing_2.jpg\" width=\"300\"/>\n",
    "\n",
    "*<sub>Gimli Glider (1983): An Air Canada Boeing 767 ran out of fuel mid-flight because ground crew **calculated fuel in pounds instead of kilograms**, leading to half the needed fuel onboard. ;from [wikipedia](https://en.wikipedia.org/wiki/File:Air_Canada_Flight_143_after_emergency_landing_2.jpg), License: public domain</sub>*\n"
   ]
  },
  {
   "cell_type": "markdown",
   "metadata": {
    "slideshow": {
     "slide_type": "slide"
    }
   },
   "source": [
    "\n",
    "## SI base units and definitions\n",
    "\n",
    "\n",
    "<img src=\"../img/from_wiki/SI_Illustration_Base_Units_and_Constants_Colour_Full.svg\" alt=\"SI_Illustration_Base_Units_and_Constants_Colour_Full.svg\" width=\"300\"/>\n",
    "\n",
    "*<sub>from [wikipedia](https://en.wikipedia.org/wiki/File:SI_Illustration_Base_Units_and_Constants_Colour_Full.svg), License: public domain</sub>*\n",
    "\n",
    "\n",
    "\n",
    "| Quantity              | Unit   | Symbol | Definition |\n",
    "|-----------------------|--------|--------|------------|\n",
    "| Length                | meter  | m      | Speed of light $c$ in vacuum |\n",
    "| Time                  | second | s      | Cesium-133 transition frequency |\n",
    "| Mass                  | kilogram | kg   | Planck constant $h$ |\n",
    "| Electric current      | ampere | A      | Elementary charge $e$ |\n",
    "| Temperature           | kelvin | K      | Boltzmann constant $k_B$ |\n",
    "| Amount of substance   | mole   | mol    | Avogadro constant $N_A$ |\n",
    "| Luminous intensity    | candela | cd    | Radiation at $540\\times10^{12}$ Hz |\n",
    "\n",
    "\n"
   ]
  }
 ],
 "metadata": {
  "kernelspec": {
   "display_name": ".venv",
   "language": "python",
   "name": "python3"
  },
  "language_info": {
   "name": "python",
   "version": "3.12.10"
  }
 },
 "nbformat": 4,
 "nbformat_minor": 2
}
