{
 "cells": [
  {
   "cell_type": "markdown",
   "metadata": {
    "slideshow": {
     "slide_type": "slide"
    }
   },
   "source": [
    "<img src=\"../img/Signet_FNW_1.svg\" alt=\"OVGU_FNW_Logo\" width=\"300\" align=\"right\">\n",
    "\n",
    "# 2.1. Electric charge &amp; electric field\n",
    "\n",
    "**What comes to your mind when you hear electricity?**\n",
    "\n"
   ]
  },
  {
   "cell_type": "markdown",
   "metadata": {
    "slideshow": {
     "slide_type": "fragment"
    }
   },
   "source": [
    "* modern technology, i.e. EVs, computers, smartphones, etc. \n",
    "* human body relies on electrical signals i.e. heart &amp; brain\n",
    "* electric forces\n",
    "    * involved in holding atoms &amp; molecules together\n",
    "    * are the origin of forces such as friction or normal force can at the atomic level\n",
    "* gravitational forces remains a separate entity"
   ]
  },
  {
   "cell_type": "markdown",
   "metadata": {
    "slideshow": {
     "slide_type": "slide"
    }
   },
   "source": [
    "## Short history of studying electricity\n",
    "* since ancient Greece, the effect of static electricity known\n",
    "    * “elektron\" is Greek for “amber” \n",
    "    * rub amber with cloth $\\rightarrow$ amber attracts small pieces\n",
    "* scientific investigation of electricity around late 1700:\n",
    "    * Charles Augustin de Coulomb (1736 - 1806)\n",
    "    * Benjamin Franklin (1706–1790)\n",
    "    * Michael Faraday (1791 - 1867)\n",
    "    * Karl Friedrich Gauss (1777-1855)\n",
    "    * Alessandro Volta's (1745-1827)\n",
    "    * ... and many more ...\n",
    "\n"
   ]
  },
  {
   "cell_type": "markdown",
   "metadata": {
    "slideshow": {
     "slide_type": "slide"
    }
   },
   "source": [
    "## Otto von Guericke &amp; his sulfur globe \n",
    "* 1672: reported that after rubbing sulfur globe, globe repealed/attracted light objects\n",
    "* $\\rightarrow$ there is **contactless** force beyond gravitation $\\rightarrow$ `es07`\n",
    "\n",
    "<img src=\"../img/from_wiki/800px-Guericke_Sulfur_globe.jpg\" alt=\"Guericke and sulphur globe\" width=\"500\"/>\n",
    "\n",
    "*<sub>from [wikipedia](https://en.wikipedia.org/wiki/File:Guericke_Sulfur_globe.jpg), public domain</sub>*\n"
   ]
  },
  {
   "cell_type": "markdown",
   "metadata": {
    "slideshow": {
     "slide_type": "slide"
    }
   },
   "source": [
    "## Static electricity\n",
    "* are there different types of charge? \n",
    "* when do they attract and when do they repel each other? \n",
    "* $\\rightarrow$ `es13 + es04`\n",
    "\n",
    "<img src=\"../img/from_wiki/Cat_demonstrating_static_cling_with_styrofoam_peanuts.jpg\" alt=\"Cat and electrostatics\" width=\"500\"/>\n",
    "\n",
    "*<sub>from [wikipedia](https://en.wikipedia.org/wiki/File:Cat_demonstrating_static_cling_with_styrofoam_peanuts.jpg) under [CC 2.0 Generic license](https://creativecommons.org/licenses/by/2.0/deed.en), unedited</sub>*\n",
    "\n"
   ]
  },
  {
   "cell_type": "markdown",
   "metadata": {
    "slideshow": {
     "slide_type": "slide"
    }
   },
   "source": [
    "## Static electricity\n",
    "* two types of charge: **positive** and **negative**\n",
    "* arbitrary convention by **Benjamin Franklin** (1706–1790):\n",
    "  * rubbing amber/plastic → **negative charge**\n",
    "  * rubbing glass rod → **positive charge**\n",
    "* charges of **same type repel** each other\n",
    "* charges of **opposite type attract** each other\n"
   ]
  },
  {
   "cell_type": "markdown",
   "metadata": {
    "slideshow": {
     "slide_type": "slide"
    }
   },
   "source": [
    "## Charge origin\n",
    "* **simplified atomic model:** \n",
    "    * tiny nucleus with **positively charged protons** and neutral neutrons\n",
    "    * **negatively charged electrons** orbit nucleus\n",
    "* **neutral atom:** equal number of protons & electrons\n",
    "* **ion:** atom that gained or lost electrons\n",
    "* **polar molecules**: charge **distribution is non-uniform**, e.g. water molecule with positive side (H) and negative side (O)\n",
    "\n",
    "\n",
    "* **elementary charge**\n",
    "    * smallest observed charge: **electron or proton**\n",
    "    * $e = 1.602 \\times 10^{-19} \\textrm{C}$\n",
    "\n"
   ]
  },
  {
   "cell_type": "markdown",
   "metadata": {
    "slideshow": {
     "slide_type": "slide"
    }
   },
   "source": [
    "## Conductors vs. Insulators\n",
    "* **free electrons**: \n",
    "    * electrons that can \"detach from their parent atoms\" and move  through the material/lattice\n",
    "* **conductors** (e.g. metals): high abundance of free electrons\n",
    "* **insulators** (e.g. wood): low abundance of free electrons\n",
    "* **semiconductors** (e.g. silicon): intermediate abundance  of free electrons\n",
    "\n"
   ]
  },
  {
   "cell_type": "markdown",
   "metadata": {
    "slideshow": {
     "slide_type": "slide"
    }
   },
   "source": [
    "\n",
    "## Conservation of charge\n",
    "* net electric charge **cannot be created or destroyed**\n",
    "* $\\rightarrow$ **charges can only be separated** but their sum remains constant\n",
    "* **example**: rubbing a glass rod with a cloth:\n",
    "  * glass rod gains positive charge by emitting free electrons\n",
    "  * cloth gains equal negative charge by receiving free electrons\n",
    "  * **total charge remains zero**\n",
    "* **grounding**:\n",
    "  * connection to Earth\n",
    "  * Earth acts as a **charge reservoir**\n",
    "\n",
    "\n"
   ]
  },
  {
   "cell_type": "markdown",
   "metadata": {
    "slideshow": {
     "slide_type": "slide"
    }
   },
   "source": [
    "## Inducing charge by conduction\n",
    "`es09 + es10`\n",
    "* **contact required**\n",
    "* free electrons move from one conductor to another\n",
    "* after contact, both objects have the **same charge**\n"
   ]
  },
  {
   "cell_type": "markdown",
   "metadata": {
    "slideshow": {
     "slide_type": "slide"
    }
   },
   "source": [
    "## Inducing charge by (electrostatic) induction\n",
    "`es09 + es10`\n",
    "* **no contact required**\n",
    "\n",
    "<img src=\"../img/from_wiki/Influenz_und_Stoerung_des_Feldbildes.svg.png\" alt=\"Influence\" width=\"500\"/>\n",
    "\n",
    "*<sub>from [wikipedia](https://de.wikipedia.org/wiki/Datei:Influenz_und_Stoerung_des_Feldbildes.svg) under [CC 1.0 Universal license](https://creativecommons.org/publicdomain/zero/1.0/deed.en), unedited</sub>*\n"
   ]
  },
  {
   "cell_type": "markdown",
   "metadata": {
    "slideshow": {
     "slide_type": "slide"
    }
   },
   "source": [
    "## Inducing charge by (electrostatic) induction\n",
    "`es09 + es10`\n",
    "* **no contact required**\n",
    "* in conductor/influence: \n",
    "    * **redistribution of free electrons** in nearby conductor which causes charge separation\n",
    "* in insulators/polarization:\n",
    "    * electrons cannot move freely\n",
    "    * **molecules change their orientation** which causes charge separation\n",
    "* $\\rightarrow$ induced charge separation **does not change total charge**\n"
   ]
  },
  {
   "cell_type": "markdown",
   "metadata": {
    "slideshow": {
     "slide_type": "slide"
    }
   },
   "source": [
    "## Electrostatic force &amp; Coulomb's law\n",
    "`es08 + script simulation` \n",
    "* how to quantify/compute electrostatic force?\n",
    "* investigated by **Charles Augustin de Coulomb** (1736–1806)\n",
    "* honoring his contribution, charge $Q$ is measured in the SI unit **coulomb** [C]\n"
   ]
  },
  {
   "cell_type": "markdown",
   "metadata": {
    "slideshow": {
     "slide_type": "slide"
    }
   },
   "source": [
    "## Electrostatic force &amp; Coulomb's law\n",
    "\n",
    "$$ F = k \\frac{Q_1 Q_2}{r^2} $$\n",
    "\n",
    "* with:\n",
    "    * $k \\approx 9.0 \\times 10^9 \\ \\text{N} \\cdot \\text{m}^2 / \\text{C}^2$ (Coulomb's proportionality constant)\n",
    "    * $r$ is the distance between charges\n",
    "    * $Q_1$ and $Q_2$ are the charges\n",
    "* **force direction**\n",
    "    * force acts **along the line connecting both charges**\n",
    "    * **like charges repel**, **opposite charges attract**\n",
    "    "
   ]
  },
  {
   "cell_type": "markdown",
   "metadata": {
    "slideshow": {
     "slide_type": "slide"
    }
   },
   "source": [
    "## Vector Form of Coulomb's Law\n",
    "$$ \\vec{\\bf{F}}_{12} = \\frac{1}{4 \\pi \\varepsilon_0} \\frac{Q_1 Q_2}{r^2} \\hat{r}_{21} $$\n",
    "* with:\n",
    "    * $\\vec{\\bf{F}}_{12}$: force $Q_2$ exerts on $Q_1$\n",
    "    * fundamental constant **permittivity of free  space** $\\varepsilon_0$ \n",
    "    * $k = \\frac{1}{4 \\pi \\varepsilon_0}$ \n",
    "    * $\\hat{r}_{21}$ is  **unit vector** pointing from $Q_2$ to $Q_1$.\n",
    "* **superposition principle**: for multiple charges, net force is the vector sum of all forces\n"
   ]
  },
  {
   "cell_type": "markdown",
   "metadata": {
    "slideshow": {
     "slide_type": "slide"
    }
   },
   "source": [
    "## Concept of the Electric Field\n",
    "\n",
    "* observations so far:\n",
    "  * charges $q$ exert electrostatic force $\\vec{\\bf{F}}$\n",
    "  * electrostatic forces act at a distance &amp; contactless\n",
    "* **electric field** $\\vec{\\bf{E}}$ connects $q$ and $\\vec{\\bf{F}}$:\n",
    "  * $\\vec{\\bf{E}}$ is a **vector field**\n",
    "  * concept by Michael Faraday (1791–1867)\n",
    "  * analogy with gravitational field: $ \\vec{\\bf{F}} = q  \\vec{\\bf{E}} $ $\\leftrightarrow$ $ \\vec{\\bf{F}} = m \\vec{\\bf{g}} $\n",
    " \n"
   ]
  },
  {
   "cell_type": "markdown",
   "metadata": {
    "slideshow": {
     "slide_type": "slide"
    }
   },
   "source": [
    "## Electric field form of Coulomb's law\n",
    "\n",
    "* **idea**: measure field created by charge $Q$ by placing a small *test charge* $q$ ($q$ has negatable effect of $Q$)\n",
    "\n",
    "* using Coulomb's law, $\\vec{\\bf{E}}$ is then:\n",
    "$$ \\vec{\\bf{E}}= \\frac{\\vec{\\bf{F}}}{q} =  \\frac{1}{4 \\pi \\epsilon_0} \\frac{Q q}{r^2}  \\hat{r}_{21} \\, \\frac{1}{q} = \\frac{1}{4 \\pi \\epsilon_0} \\frac{Q}{r^2} \\hat{r}_{21} $$ \n",
    "\n",
    "* **superposition principle**: net field is the sum of individual fields: \n",
    "$$ \\vec{\\bf{E}}_{net} = \\vec{\\bf{E}}_A + \\vec{\\bf{E}}_B + \\vec{\\bf{E}}_C + \\dots $$\n",
    "\n",
    "* **integral form**: integrate over distribution of **infinitesimal small charges** $dQ$\n",
    "$$ d\\vec{\\bf{E}} = \\frac{1}{4 \\pi \\epsilon_0} \\frac{dQ}{r^2} \\hat{r} $$   \n",
    "$$ \\vec{\\bf{E}} = \\int d \\vec{\\bf{E}} $$\n"
   ]
  },
  {
   "cell_type": "markdown",
   "metadata": {
    "slideshow": {
     "slide_type": "slide"
    }
   },
   "source": [
    "## Field lines of electric field\n",
    "`script simulation`\n",
    "* motivation: \n",
    "  * $\\vec{\\bf{E}}$ is a vector field, i.e. each point in space is represented by a vector\n",
    "  * vector length $==$ magnitude of field\n",
    "  * vector orientation $==$ direction of field\n",
    "  * as plot, **often perceived as cluttered** \n",
    "* **concept of field lines**:\n",
    "  * arrows indicate **direction & magnitude** of $\\vec{E}$\n",
    "  * **density of lines** represents field's magnitude\n",
    "  * direction of $\\vec{\\bf{E}}$ **tangent** to field lines\n",
    "  * field lines **start on positive, end on negative** charges\n",
    "  * **field lines do not cross**\n",
    "\n"
   ]
  },
  {
   "cell_type": "markdown",
   "metadata": {
    "slideshow": {
     "slide_type": "slide"
    }
   },
   "source": [
    "## Motion of charged particles inside electric field\n",
    "* a charge $q$ in an **electric field $\\vec{E}$** experiences force:\n",
    "$$ \\vec{\\bf{F}} = q \\vec{\\bf{E}} $$\n",
    "\n",
    "* for an **electron in uniform $E$**, acceleration is:\n",
    "$$ a = \\frac{-e E}{m_e} $$\n",
    "\n",
    "`see lecture tutorial`"
   ]
  },
  {
   "cell_type": "markdown",
   "metadata": {
    "slideshow": {
     "slide_type": "slide"
    }
   },
   "source": [
    "## Conductors in an electric field \n",
    "* reminder: **electrostatics, i.e. charges at rest**\n",
    "* for conductors in static condition:\n",
    "  * **electric field inside conductor is zero**: $\\vec{\\bf{E}} = 0$\n",
    "  * *if this would not be the case, there would be a force acting on free electrons causing them to move until they a reach position in which the net force is zero, i.e. the field is zero and they are at rest* ($\\vec{\\bf{F}} = q \\vec{\\bf{E}}$)\n",
    "  * **net charge distributes on surface**\n",
    "  * electric field **perpendicular** to surface\n",
    "\n",
    "\n",
    "<img src=\"../img/from_wiki/Influenz_und_Stoerung_des_Feldbildes.svg.png\" alt=\"Influence\" width=\"500\"/>\n",
    "\n",
    "*<sub>from [wikipedia](https://de.wikipedia.org/wiki/Datei:Influenz_und_Stoerung_des_Feldbildes.svg) under [CC 1.0 Universal license](https://creativecommons.org/publicdomain/zero/1.0/deed.en), unedited</sub>*\n"
   ]
  },
  {
   "cell_type": "markdown",
   "metadata": {
    "slideshow": {
     "slide_type": "slide"
    }
   },
   "source": [
    "## Faraday cage\n",
    "`es16`\n",
    "* conducting, closed surface with $\\vec{\\bf{E}} = 0$ inside\n",
    "\n",
    "\n",
    "<img src=\"../img/from_wiki/Faraday_cage.gif\" alt=\"Faraday cage animation\" width=\"500\"/>\n",
    "\n",
    "*<sub>from [wikipedia](https://en.wikipedia.org/wiki/File:Faraday_cage.gif), public domain</sub>*\n",
    "\n",
    "\n"
   ]
  }
 ],
 "metadata": {
  "kernelspec": {
   "display_name": ".venv",
   "language": "python",
   "name": "python3"
  },
  "language_info": {
   "codemirror_mode": {
    "name": "ipython",
    "version": 3
   },
   "file_extension": ".py",
   "mimetype": "text/x-python",
   "name": "python",
   "nbconvert_exporter": "python",
   "pygments_lexer": "ipython3",
   "version": "3.12.9"
  }
 },
 "nbformat": 4,
 "nbformat_minor": 2
}
