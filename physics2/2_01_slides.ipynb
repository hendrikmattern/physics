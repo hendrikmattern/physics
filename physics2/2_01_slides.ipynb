{
 "cells": [
  {
   "cell_type": "markdown",
   "metadata": {
    "slideshow": {
     "slide_type": "slide"
    }
   },
   "source": [
    "<img src=\"../img/Signet_FNW_1.svg\" alt=\"OVGU_FNW_Logo\" width=\"300\" align=\"right\">\n",
    "\n",
    "# 2.1. Electric charge &amp; electric field\n",
    "\n",
    "**What comes to your mind when you hear electricity?**\n",
    "\n"
   ]
  },
  {
   "cell_type": "markdown",
   "metadata": {
    "slideshow": {
     "slide_type": "fragment"
    }
   },
   "source": [
    "* modern technology, i.e. EVs, computers, smartphones, etc. \n",
    "* human body relies on electrical signals i.e. heart &amp; brain\n",
    "* electric forces\n",
    "    * involved in holding atoms &amp; molecules together\n",
    "    * are the origin of forces such as friction or normal force can at the atomic level\n",
    "* gravitational forces remains a separate entity"
   ]
  },
  {
   "cell_type": "markdown",
   "metadata": {
    "slideshow": {
     "slide_type": "slide"
    }
   },
   "source": [
    "## Short history of studying electricity\n",
    "* since ancient Greece, the effect of static electricity known\n",
    "    * “elektron\" is Greek for “amber” \n",
    "    * rub amber with cloth $\\rightarrow$ amber attracts small pieces\n",
    "* scientific investigation of electricity around late 1700:\n",
    "    * Charles Augustin de Coulomb (1736 - 1806)\n",
    "    * Benjamin Franklin (1706–1790)\n",
    "    * Michael Faraday (1791 - 1867)\n",
    "    * Karl Friedrich Gauss (1777-1855)\n",
    "    * Alessandro Volta's (1745-1827)\n",
    "    * ... and many more ...\n",
    "\n"
   ]
  },
  {
   "cell_type": "markdown",
   "metadata": {
    "slideshow": {
     "slide_type": "slide"
    }
   },
   "source": [
    "## Otto von Guericke &amp; his sulfur globe \n",
    "* 1672: reported that after rubbing sulfur globe, globe repealed/attracted light objects like a feather\n",
    "* $\\rightarrow$ there is **contactless** force beyond gravitation $\\rightarrow$ `es07`\n",
    "\n",
    "![Guericke and sulphur globe](../img/from_wiki/800px-Guericke_Sulfur_globe.jpg)\n",
    "\n",
    "*<sub>from [wikipedia](https://en.wikipedia.org/wiki/File:Guericke_Sulfur_globe.jpg), public domain</sub>*\n"
   ]
  },
  {
   "cell_type": "markdown",
   "metadata": {
    "slideshow": {
     "slide_type": "slide"
    }
   },
   "source": [
    "## Static electricity\n",
    "* are there different types of charge? \n",
    "* when do they attract and when do they repel each other? \n",
    "* $\\rightarrow$ `es13 + es04`\n",
    "\n",
    "![Cat and electrostatics](../img/from_wiki/Cat_demonstrating_static_cling_with_styrofoam_peanuts.jpg)\n",
    "\n",
    "*<sub>from [wikipedia](https://en.wikipedia.org/wiki/File:Cat_demonstrating_static_cling_with_styrofoam_peanuts.jpg) under [CC 2.0 Generic license](https://creativecommons.org/licenses/by/2.0/deed.en), unedited</sub>*\n",
    "\n"
   ]
  },
  {
   "cell_type": "markdown",
   "metadata": {
    "slideshow": {
     "slide_type": "slide"
    }
   },
   "source": [
    "## Static electricity\n",
    "* two types of charge: **positive** and **negative**\n",
    "* arbitrary convention by **Benjamin Franklin** (1706–1790):\n",
    "  * rubbing amber/plastic → **negative charge**\n",
    "  * rubbing glass rod → **positive charge**\n",
    "* charges of **same type repel** each other\n",
    "* charges of **opposite type attract** each other\n"
   ]
  },
  {
   "cell_type": "markdown",
   "metadata": {
    "slideshow": {
     "slide_type": "slide"
    }
   },
   "source": [
    "## Charge origin\n",
    "* **simplified atomic model:** \n",
    "    * tiny nucleus with **positively charged protons** and neutral neutrons\n",
    "    * **negatively charged electrons** orbit nucleus\n",
    "    * **neutral atom:** equal number of protons & electrons\n",
    "    * **ion:** atom that gained or lost electrons\n",
    "\n",
    "* **elementary charge**\n",
    "    * smallest observed charge: **electron or proton**\n",
    "    * $e = 1.602 \\times 10^{-19} C$\n"
   ]
  },
  {
   "cell_type": "markdown",
   "metadata": {
    "slideshow": {
     "slide_type": "slide"
    }
   },
   "source": [
    "## Conductors vs. Insulators\n",
    "* **free electrons**: \n",
    "    * electrons that can \"detach from their parent atoms\" and move  through the material/lattice\n",
    "* **conductors** (e.g. metals): high abundance of free electrons\n",
    "* **insulators** (e.g. wood): low abundance of free electrons\n",
    "* **semiconductors** (e.g. silicon): intermediate abundance  of free electrons\n",
    "\n"
   ]
  },
  {
   "cell_type": "markdown",
   "metadata": {
    "slideshow": {
     "slide_type": "slide"
    }
   },
   "source": [
    "\n",
    "## Conservation of Charge\n",
    "* net electric charge **cannot be created or destroyed**\n",
    "* $\\rightarrow$ **charges can only be separated** but their sum remains constant\n",
    "* **example**: rubbing a glass rod with a cloth:\n",
    "  * glass rod gains positive charge by emitting free electrons\n",
    "  * cloth gains equal negative charge by receiving free electrons\n",
    "  * **total charge remains zero**\n",
    "* **grounding**:\n",
    "  * connection to Earth\n",
    "  * Earth acts as a **charge reservoir**\n",
    "\n",
    "\n"
   ]
  },
  {
   "cell_type": "markdown",
   "metadata": {
    "slideshow": {
     "slide_type": "slide"
    }
   },
   "source": [
    "## Inducing charge by conduction\n",
    "* **contact required**\n",
    "* free electrons move from one conductor to another\n",
    "* after contact, both objects have the **same charge**\n"
   ]
  },
  {
   "cell_type": "markdown",
   "metadata": {
    "slideshow": {
     "slide_type": "slide"
    }
   },
   "source": [
    "## Inducing charge by (electrostatic) induction\n",
    "`es09 + es10`\n",
    "* **no contact required**\n",
    "* in conductor/influence: \n",
    "    * **redistribution of free electrons** in nearby conductor which causes charge separation\n",
    "\n",
    "![Influence](../img/from_wiki/Influenz_und_Stoerung_des_Feldbildes.svg.png)\n",
    "\n",
    "*<sub>from [wikipedia](https://de.wikipedia.org/wiki/Datei:Influenz_und_Stoerung_des_Feldbildes.svg) under [CC 1.0 Universal license](https://creativecommons.org/publicdomain/zero/1.0/deed.en), unedited</sub>*\n"
   ]
  },
  {
   "cell_type": "markdown",
   "metadata": {
    "slideshow": {
     "slide_type": "slide"
    }
   },
   "source": [
    "## Inducing charge by (electrostatic) induction\n",
    "`es09 + es10`\n",
    "* **no contact required**\n",
    "* in conductor/influence: \n",
    "    * **redistribution of free electrons** in nearby conductor which causes charge separation\n",
    "* in insulators/polarization\n",
    "    * electrons cannot move freely\n",
    "    * **molecules change their orientation** which causes charge separation\n",
    "* $\\rightarrow$ induced charge separation **does not change total charge**\n"
   ]
  },
  {
   "cell_type": "markdown",
   "metadata": {
    "slideshow": {
     "slide_type": "slide"
    }
   },
   "source": [
    "## Coulomb's Law\n",
    "\n",
    "### Electrostatic Force\n",
    "- Investigated by **Charles Coulomb** (1736–1806) using a **torsion balance**.\n",
    "- Charge $Q$ is measured in **Coulombs (C)**.\n",
    "\n",
    "$$ F = k \\frac{Q_1 Q_2}{r^2} $$\n",
    "\n",
    "where:\n",
    "- $k \\approx 9.0 \\times 10^9 \\ \\text{N} \\cdot \\text{m}^2 / \\text{C}^2$ (Coulomb's constant),\n",
    "- $r$ is the distance between charges,\n",
    "- $Q_1$ and $Q_2$ are the charges.\n",
    "\n",
    "### Force Direction\n",
    "- **Like charges repel**, **opposite charges attract**.\n",
    "- Force acts **along the line connecting both charges**.\n",
    "\n",
    "### Vector Form of Coulomb's Law\n",
    "$$ \\vec{F}_{12} = \\frac{1}{4 \\pi \\varepsilon_0} \\frac{Q_1 Q_2}{r^2} \\hat{r}_{21} $$\n",
    "where $\\hat{r}_{21}$ is the **unit vector** pointing from $Q_2$ to $Q_1$.\n",
    "\n",
    "### Superposition Principle\n",
    "- For **multiple charges**, net force is the **vector sum** of all forces.\n"
   ]
  },
  {
   "cell_type": "markdown",
   "metadata": {},
   "source": [
    "## Concept of the Electric Field\n",
    "\n",
    "### Definition\n",
    "- **Electric forces act at a distance**.\n",
    "- Electric field ($\\vec{E}$) based on concept by **Michael Faraday (1791–1867)**.\n",
    "- Field created by charge $Q$, measured by placing a small test charge $q$.\n",
    "\n",
    "$$ \\vec{E} = \\frac{\\vec{F}}{q} $$\n",
    "\n",
    "### Electric Field Form of Coulomb's Law\n",
    "$$ E = \\frac{1}{4 \\pi \\varepsilon_0} \\frac{Q}{r^2} $$\n",
    "\n",
    "- Depends only on **source charge $Q$**.\n",
    "- **Force on a charge $q$**:\n",
    "  - If $q$ is **positive**: $\\vec{E}$ & $\\vec{F}$ **point in same direction**.\n",
    "  - If $q$ is **negative**: $\\vec{E}$ & $\\vec{F}$ **point in opposite direction**.\n",
    "\n",
    "### Superposition Principle for Electric Fields\n",
    "- Net field is the **sum of individual fields**:\n",
    "$$ \\vec{E}_{net} = \\vec{E}_A + \\vec{E}_B + \\vec{E}_C + \\dots $$\n",
    "\n",
    "### Field Lines\n",
    "- Arrows indicate **direction & magnitude** of $\\vec{E}$.\n",
    "- **Rules:**\n",
    "  - Lines **start on positive, end on negative** charges.\n",
    "  - **Density of lines** represents field strength.\n",
    "  - **Lines do not cross**.\n",
    "\n"
   ]
  },
  {
   "cell_type": "markdown",
   "metadata": {},
   "source": [
    "\n",
    "\n",
    "## Effect of Electric Fields\n",
    "\n",
    "### Conductors in an Electric Field\n",
    "- **Key properties:**\n",
    "  - Inside conductor: **$\\vec{E} = 0$** in static conditions.\n",
    "  - Charge **redistributes on surface**.\n",
    "  - **Field perpendicular** to surface.\n",
    "- Basis of **Faraday cage** principle.\n",
    "\n",
    "### Motion of Charged Particles\n",
    "- A charge $q$ in an **electric field $\\vec{E}$** experiences force:\n",
    "$$ \\vec{F} = q \\vec{E} $$\n",
    "\n",
    "For an **electron in uniform $\\vec{E}$**, acceleration is:\n",
    "$$ a = \\frac{-e E}{m_e} $$\n"
   ]
  },
  {
   "cell_type": "markdown",
   "metadata": {},
   "source": [
    "\n",
    "### Electric Dipoles\n",
    "- Two equal and opposite charges ($+Q$ and $-Q$) separated by distance $l$.\n",
    "- Dipole **moment**:\n",
    "$$ \\vec{p} = Q \\vec{l} $$\n"
   ]
  },
  {
   "cell_type": "markdown",
   "metadata": {},
   "source": [
    "\n",
    "### Polar Molecules\n",
    "- Charge **distribution is non-uniform**.\n",
    "- Example: **Water molecule** has a positive side (H) and a negative side (O).\n",
    "- Water molecules in air help **discharge static electricity** (more noticeable on dry days).\n"
   ]
  }
 ],
 "metadata": {
  "kernelspec": {
   "display_name": ".venv",
   "language": "python",
   "name": "python3"
  },
  "language_info": {
   "codemirror_mode": {
    "name": "ipython",
    "version": 3
   },
   "file_extension": ".py",
   "mimetype": "text/x-python",
   "name": "python",
   "nbconvert_exporter": "python",
   "pygments_lexer": "ipython3",
   "version": "3.12.9"
  }
 },
 "nbformat": 4,
 "nbformat_minor": 2
}
