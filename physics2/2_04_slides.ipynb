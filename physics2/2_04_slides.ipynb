{
 "cells": [
  {
   "cell_type": "markdown",
   "metadata": {
    "slideshow": {
     "slide_type": "slide"
    }
   },
   "source": [
    "<img src=\"../img/Signet_FNW_1.svg\" alt=\"OVGU_FNW_Logo\" width=\"300\" align=\"right\">\n",
    "\n",
    "# 2.4. DC Circuits & Kirchhoff's Laws\n",
    "\n",
    "**Imagine you're designing a camera flash. What components would you need to quickly store and release a large amount of electrical energy, and how would you control the timing?**\n",
    "\n"
   ]
  },
  {
   "cell_type": "markdown",
   "metadata": {
    "slideshow": {
     "slide_type": "fragment"
    }
   },
   "source": [
    "* need to design a circuit with at least\n",
    "    * voltage source\n",
    "    * capacitor\n",
    "    * resistor    \n",
    "    * switch\n"
   ]
  },
  {
   "cell_type": "markdown",
   "metadata": {
    "slideshow": {
     "slide_type": "slide"
    }
   },
   "source": [
    "## Circuits 101\n",
    "\n",
    "* **Electric circuit:** Elements (batteries, resistors, capacitors) connected by wires\n",
    "* **Circuit states:**\n",
    "    * Open: No current flow\n",
    "    * Closed: Current flow\n",
    "    * Short: Excessive current (hazard)\n",
    "* **Voltage source (V):** Provides potential difference, drives current (I)\n",
    "* **Ground:** Reference potential (e.g., Earth)\n",
    "* **Voltage drop:** Potential difference across an element\n",
    "* **Element connections:** Series or parallel\n",
    "* **Equivalent circuits:** Simplification by combining elements into e.g. an effective resistance\n",
    "\n"
   ]
  },
  {
   "cell_type": "markdown",
   "metadata": {
    "slideshow": {
     "slide_type": "slide"
    }
   },
   "source": [
    "## Circuits 101 (cont'd)\n",
    "\n",
    "\n",
    "<img src=\"../img/from_wiki/Circuit_elements_cropped.svg.png\" alt=\"Circuit elements\" width=\"300\"/>\n",
    "\n",
    "*<sub>from [wikipedia](https://en.wikipedia.org/wiki/File:Circuit_elements.svg) under [CC Attribution-ShareAlike 3.0 Unported](https://creativecommons.org/licenses/by-sa/3.0/deed.en), cropped</sub>*"
   ]
  },
  {
   "cell_type": "markdown",
   "metadata": {
    "slideshow": {
     "slide_type": "slide"
    }
   },
   "source": [
    "## Open-circuit voltage of a DC source\n",
    "\n",
    "* **Source:** Energy conversion to electrical potential\n",
    "* **Open-circuit voltage $V_0$:** Voltage without current flow\n",
    "* **Internal resistance $R_{int}$:** Real sources have internal resistance\n",
    "* **Voltage with current:**\n",
    "    $$V = V_0 - I R_{int}$$\n",
    "* **Non-constant $R_{int}$:** Leads to non-linear current-voltage characteristics\n",
    "\n"
   ]
  },
  {
   "cell_type": "markdown",
   "metadata": {
    "slideshow": {
     "slide_type": "slide"
    }
   },
   "source": [
    "## Measuring Voltages and Currents\n",
    "`el36 & el28`\n",
    "\n",
    "* **Ammeter:** Measures current (series connection)\n",
    "* **Voltmeter:** Measures voltage (parallel connection)\n",
    "* **Ohmmeter:** Measures resistance\n",
    "* **Multimeter:** Combines ammeter, voltmeter, ohmmeter\n",
    "* **Internal resistance:**\n",
    "    * Voltmeter: High (limits current)\n",
    "    * Ammeter: Low (limits voltage drop)\n",
    "* **Simultaneous measurement:** Configuration choice depends on resistor and device internal resistances\n"
   ]
  },
  {
   "cell_type": "markdown",
   "metadata": {
    "slideshow": {
     "slide_type": "slide"
    }
   },
   "source": [
    "## Resistors in series &amp; parallel\n",
    "`el41`\n",
    "\n",
    "* **Series resistors:**\n",
    "    * equivalent resistance: $R_{eq} = \\sum R_i$\n",
    "    * voltage drops add up\n",
    "    * **interpretation for equivalent resistor:** increase effective length \n",
    "* **Parallel Resistors:**\n",
    "    * equivalent resistance: $\\frac{1}{R_{eq}} = \\sum \\frac{1}{R_i}$\n",
    "    * current splits\n",
    "    * net resistance is smaller than the smallest individual resistance\n",
    "    * **interpretation for equivalent resistor:** increase effective cross-sectional area\n"
   ]
  },
  {
   "cell_type": "markdown",
   "metadata": {
    "slideshow": {
     "slide_type": "slide"
    }
   },
   "source": [
    "## Capacitors in series &amp; parallel\n",
    "`el23`\n",
    "\n",
    "* **Parallel Capacitors:**\n",
    "    * equivalent capacitance: $C_{eq} = \\sum C_i$\n",
    "    * voltage is the same\n",
    "    * total charge adds up\n",
    "    * **interpretation for equivalent capacitor:** increase effective plate area\n",
    "* **Series Capacitors:**\n",
    "    * equivalent capacitance: $\\frac{1}{C_{eq}} = \\sum \\frac{1}{C_i}$\n",
    "    * charge is the same\n",
    "    * voltage drops add up\n",
    "    * net capacitance is smaller than the smallest individual capacitance\n",
    "    * **interpretation for equivalent capacitor:** increase effective plate distance\n",
    "\n"
   ]
  },
  {
   "cell_type": "markdown",
   "metadata": {
    "slideshow": {
     "slide_type": "slide"
    }
   },
   "source": [
    "## Kirchhoff's Rules\n",
    "\n",
    "* **Junction rule**    \n",
    "    $$\\sum_i I_i = 0 \\quad \\leftrightarrow \\quad \\sum_j I_{in,j} = \\sum_k I_{out,k}$$\n",
    "    * $\\rightarrow$  **current conservation**\n",
    "* **Loop rule**\n",
    "    $$\\sum_i V_i = 0$$\n",
    "    * $\\rightarrow$  **energy conservation**\n",
    "* **Circuit analysis steps:**\n",
    "    1.  Label currents\n",
    "    2.  Identify unknowns\n",
    "    3.  Apply junction rule\n",
    "    4.  Apply loop rule\n",
    "    5.  Solve equations\n",
    "    6.  Vector/matrix form of equation\n",
    "\n",
    "\n",
    "*<sup> Left: from [wikipedia](https://de.wikipedia.org/wiki/Datei:Stromknoten.svg) public domain; \n",
    "Right: from [wikipedia](https://en.wikipedia.org/wiki/File:Kirshhoff-example.svg) under [CC0 1.0 Universal](https://creativecommons.org/publicdomain/zero/1.0/deed.en)</sup>*\n",
    "\n",
    "<img src=\"../img/from_wiki/Stromknoten.svg.png\" alt=\"Kirchhoff junction rule\" width=\"200\" align=\"left\"/>\n",
    "\n",
    "<img src=\"../img/from_wiki/Kirshhoff-example.svg.png\" alt=\"Kirchhoff loop rule\" width=\"300\" align=\"right\"/>\n",
    "\n"
   ]
  },
  {
   "cell_type": "markdown",
   "metadata": {
    "slideshow": {
     "slide_type": "slide"
    }
   },
   "source": [
    "## RC-circuit\n",
    "\n",
    "* fundamental circuit for:\n",
    "    * creating precise time delays $\\rightarrow$ camera flash (charging of a capacitor determines the flash duration)\n",
    "    * audio filtering $\\rightarrow$ smooths out unwanted fluctuations\n",
    "    * simple oscillators $\\rightarrow$ periodic waveforms\n",
    "\n",
    "<img src=\"../img/from_wiki/Simple-RC-circuit.png\" alt=\"RC_circuit\" width=\"200\"/>\n",
    "\n",
    "*<sub>from [wikipedia](https://en.wikipedia.org/wiki/File:Simple-RC-circuit.png) under [CC Attribution-ShareAlike 4.0 International](https://creativecommons.org/licenses/by-sa/4.0/deed.en)</sub>*\n"
   ]
  },
  {
   "cell_type": "markdown",
   "metadata": {
    "slideshow": {
     "slide_type": "slide"
    }
   },
   "source": [
    "## RC-circuit: Charging \n",
    "\n",
    "* **Circuit:** Resistor, capacitor, voltage source in series\n",
    "* **Kirchhoff's loop rule:**\n",
    "    $$V_0 = IR + \\frac{Q}{C}$$\n",
    "* **Differential equation:** ($I=\\frac{dQ}{dt}$)\n",
    "    $$V_0 = R\\frac{dQ}{dt} + \\frac{Q}{C}$$\n",
    "    $$ \\frac{dt}{RC} = \\frac{dQ}{V_0 C - Q} $$\n",
    "    $$ \\frac{1}{RC} \\int_0^t dt = \\int_0^Q \\frac{dQ}{V_0 C - Q} $$\n"
   ]
  },
  {
   "cell_type": "markdown",
   "metadata": {
    "slideshow": {
     "slide_type": "slide"
    }
   },
   "source": [
    "## RC-circuit: Charging (cont'd)\n",
    "\n",
    "* **Differential equation:** ($I=\\frac{dQ}{dt}$)\n",
    "$$ \\frac{1}{RC} \\int_0^t dt = \\int_0^Q \\frac{dQ}{V_0 C - Q} $$\n",
    "* **Solution:**\n",
    "    $$Q(t) = Q_0(1 - e^{-t/RC})$$\n",
    "    $$V_C(t) = V_0(1 - e^{-t/RC})$$\n",
    "    $$I(t) = \\frac{V_0}{R}e^{-t/RC}$$\n",
    "* $\\rightarrow$ **Decaying current** and **increasing charge &amp; voltage** over time\n",
    "* **Time constant ($\\tau = RC$):**\n",
    "    * Time for $V_C$ to reach 63% of $V_0$\n",
    "    * Time for $I$ to decay to 37% of initial value\n",
    "    * Charging is considered complete after 5 $\\tau$\n",
    "\n"
   ]
  },
  {
   "cell_type": "markdown",
   "metadata": {
    "slideshow": {
     "slide_type": "slide"
    }
   },
   "source": [
    "## RC-circuit: Discharging \n",
    "\n",
    "* **Circuit:** Capacitor and resistor in series; **no voltage source**\n",
    "* **Kirchhoff's Loop Rule:**\n",
    "    $$IR = \\frac{Q}{C}$$\n",
    "* **Differential Equation:**\n",
    "    $$-\\frac{dQ}{dt}R = \\frac{Q}{C}$$\n",
    "    $$ \\frac{dQ}{Q} = - \\frac{dt}{RC}$$\n",
    "    $$ \\int_{Q_0}^Q \\frac{1}{Q} dQ  = - \\frac{1}{RC} \\int_0^t dt $$\n"
   ]
  },
  {
   "cell_type": "markdown",
   "metadata": {
    "slideshow": {
     "slide_type": "slide"
    }
   },
   "source": [
    "## RC-circuit: Discharging (cont'd)\n",
    "\n",
    "* **Differential Equation:**\n",
    "$$ \\int_{Q_0}^Q \\frac{1}{Q} dQ  = - \\frac{1}{RC} \\int_0^t dt $$\n",
    "* **Solution:**\n",
    "    $$Q(t) = Q_0e^{-t/RC}$$\n",
    "    $$V_C(t) = V_0e^{-t/RC}$$\n",
    "    $$I(t) = I_0e^{-t/RC}$$\n",
    "* $\\rightarrow$ **Decaying voltage and current over time**\n"
   ]
  },
  {
   "cell_type": "markdown",
   "metadata": {
    "slideshow": {
     "slide_type": "slide"
    }
   },
   "source": [
    "## RC-circuit: Periodically switching \n",
    "`Script simulation RC-circuit`\n",
    "\n",
    "`el11`\n",
    "\n",
    "* **Sawtooth Voltage:** Created by periodic charging and discharging\n",
    "* **Practical Implementation:** Voltage source, capacitor, two resistors, and a tube\n",
    "* **Charging Loop:** Capacitor charges through one resistor\n",
    "* **Discharging Loop:** Tube conducts at breakdown voltage, discharging capacitor through the other resistor\n",
    "* **Repeat Cycle:** Sawtooth waveform generated\n",
    "* **Application:** Heart pacemaker, (music) , etc.\n",
    "\n"
   ]
  }
 ],
 "metadata": {
  "kernelspec": {
   "display_name": ".venv",
   "language": "python",
   "name": "python3"
  },
  "language_info": {
   "codemirror_mode": {
    "name": "ipython",
    "version": 3
   },
   "file_extension": ".py",
   "mimetype": "text/x-python",
   "name": "python",
   "nbconvert_exporter": "python",
   "pygments_lexer": "ipython3",
   "version": "3.12.9"
  }
 },
 "nbformat": 4,
 "nbformat_minor": 2
}
