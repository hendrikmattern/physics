{
 "cells": [
  {
   "cell_type": "markdown",
   "metadata": {},
   "source": [
    "<img src=\"../img/Signet_FNW_1.svg\" alt=\"OVGU_FNW_Logo\" width=\"300\" align=\"right\">\n",
    "\n",
    "# 2.7. AC circuits &amp; Electromagnetic oscillations\n"
   ]
  },
  {
   "cell_type": "markdown",
   "metadata": {
    "vscode": {
     "languageId": "plaintext"
    }
   },
   "source": [
    "\n",
    "## 2.7.X. Alternating current &amp; power\n",
    "\n",
    "While batteries generate direct current (DC), electric generators at power plats deliver alternating current (AC).\n",
    "In AC circuits, the time-varying voltage can be described as a sin-wave with a frequency $f$ and the *peak voltage* $V_0$:\n",
    "$$ V(t) = V_0 \\sin(2\\pi f t) = V_0 \\sin (\\omega t) $$\n",
    "with $\\omega = 2 \\pi f$.\n",
    "Therefore, the voltage alternates between $+V_0$ and $-V_0$.\n",
    "\n",
    "Consequently, the current $I(t)$ is:\n",
    "$$ I(t) = \\frac{V(t)}{R} = \\frac{V_0}{R} \\sin(2\\pi f t) = I_0 \\sin (\\omega t) $$\n",
    "\n",
    "with $I_0$ being the *peak current*.\n",
    "\n",
    "While the average current over a full period (or multiple of it) is zero, the associated power is non-zero.\n",
    "Due to the resistance $R$, there will be loses (e.g. heat) and the power transformed is:\n",
    "$$ P = I^2 R = I_0^2 R \\sin^2 (\\omega t) $$\n",
    "\n",
    "Since the average $\\sin^2 (\\omega t) = \\frac{1}{2} $, the average power $\\bar{P}$ is:\n",
    "$$ \\bar{P} = \\frac{1}{2} I_0^2 R = \\frac{1}{2} \\frac{V_0^2}{R} $$\n",
    "\n",
    "One should know that the voltage of an outlet does not refer to the peak voltage $V_0$ but the *root-mean-squared (RMS)* voltage.\n",
    "To obtain $I_{RMS}$ and $V_{RMS}$, we use the relation between peak and squared average $\\bar{I^2} = \\frac{1}{2} I_0^2$ &amp; $\\bar{V^2} = \\frac{1}{2} V_0^2$:\n",
    "\n",
    " $$ I_{rms} = \\sqrt{\\bar{I^2}} = \\sqrt{\\frac{1}{2} I_0^2} = \\frac{I_0}{\\sqrt{2}} $$\n",
    "$$ V_{rms} = \\sqrt{\\bar{V^2}} = \\sqrt{\\frac{1}{2} V_0^2} = \\frac{V_0}{\\sqrt{2}} $$\n",
    "\n",
    "Therefore, for a 220V outlet, the peak voltage is $\\sqrt{2} * 220 \\textnormal{V} \\approx 311 \\textnormal{V}  $.\n",
    "\n",
    "The average power w.r.t. RMS voltage and current is:\n",
    "$$ \\bar{P} =  I_{RMS} V_{RMS}= I_{RMS}^2 R = \\frac{V_{RMS}^2}{R} $$\n",
    "\n",
    "\n"
   ]
  },
  {
   "cell_type": "markdown",
   "metadata": {},
   "source": []
  }
 ],
 "metadata": {
  "kernelspec": {
   "display_name": ".venv",
   "language": "python",
   "name": "python3"
  },
  "language_info": {
   "codemirror_mode": {
    "name": "ipython",
    "version": 3
   },
   "file_extension": ".py",
   "mimetype": "text/x-python",
   "name": "python",
   "nbconvert_exporter": "python",
   "pygments_lexer": "ipython3",
   "version": "3.12.8"
  }
 },
 "nbformat": 4,
 "nbformat_minor": 2
}
