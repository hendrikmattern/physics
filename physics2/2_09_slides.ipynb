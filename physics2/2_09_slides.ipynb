{
 "cells": [
  {
   "cell_type": "markdown",
   "metadata": {
    "slideshow": {
     "slide_type": "slide"
    }
   },
   "source": [
    "<img src=\"../img/Signet_FNW_1.svg\" alt=\"OVGU_FNW_Logo\" width=\"300\" align=\"right\">\n",
    "\n",
    "# 2.9. Geometrical optics: Refection &amp; refraction\n",
    "\n",
    "`os21 - magic mirror`\n",
    "\n",
    "**How does this set-up work?**\n",
    "\n"
   ]
  },
  {
   "cell_type": "markdown",
   "metadata": {
    "slideshow": {
     "slide_type": "fragment"
    }
   },
   "source": [
    "* ray model\n",
    "* mirrors &amp; reflection\n",
    "* real &amp; virtual images\n",
    "\n",
    "[solution 1](https://lp.uni-goettingen.de/get/text/921) &amp; [solution 2](https://wissenstexte.de/physik/zauber.htm)"
   ]
  },
  {
   "cell_type": "markdown",
   "metadata": {
    "slideshow": {
     "slide_type": "slide"
    }
   },
   "source": [
    "## Geometrical optics: What, why &amp; when?\n",
    "* light exhibits both particle and wave properties\n",
    "* **for objects much larger than the wavelength, light can be approximated as rays**\n",
    "* geometric/ray optics describes light propagation in terms of rays\n",
    "* $\\rightarrow$ **reflection** &amp; **refraction**\n",
    "\n",
    "\n",
    "<img src=\"../img/from_wiki/Mount_Hood_reflected_in_Mirror_Lake,_Oregon.jpg\" alt=\"MirrorLake\" width=\"200\"/>\n",
    "<img src=\"../img/from_wiki/Pen_in_water.jpg\" alt=\"PenInWater\" width=\"300\"/>\n",
    "\n",
    "\n",
    "*<sub>[left:] from [wikipedia](https://en.wikipedia.org/wiki/File:Mount_Hood_reflected_in_Mirror_Lake,_Oregon.jpg), public domain\n",
    "[right:] from [wikipedia](https://en.wikipedia.org/wiki/File:Pen_in_water.jpg) under [CC0 1.0 Universal](https://creativecommons.org/publicdomain/zero/1.0/deed.en)</sub>*\n",
    "\n"
   ]
  },
  {
   "cell_type": "markdown",
   "metadata": {
    "slideshow": {
     "slide_type": "slide"
    }
   },
   "source": [
    "### Ray model of light\n",
    "* light travels in straight-line paths called rays\n",
    "* each ray is considered an extremely narrow beam of light\n",
    "* this model explains many everyday optical phenomena:\n",
    "    * when light reaches a surface, it can be **reflected, absorbed, or transmitted**\n",
    "    * the ray model simplifies the understanding of **reflection**, **refraction**, and later, optical instruments\n",
    "\n",
    "<img src=\"../img/from_wiki/960px-Rocca_dell'Abisso,_Fondachelli_Fantina,_Sicilia.jpg\" alt=\"RaySicilia\" width=\"300\"/>\n",
    "\n",
    "*<sub>from [wikipedia](https://en.wikipedia.org/wiki/File:Rocca_dell%27Abisso,_Fondachelli_Fantina,_Sicilia.JPG) under [CC0 1.0 Universal](https://creativecommons.org/publicdomain/zero/1.0/deed.en)</sub>*\n"
   ]
  },
  {
   "cell_type": "markdown",
   "metadata": {
    "slideshow": {
     "slide_type": "slide"
    }
   },
   "source": [
    "### Reflection &amp plane mirror\n",
    "`os01 - Haftoptik: plane mirror reflection`\n",
    "* for a plane mirror, follow these steps to construct the **incident** and **reflected ray**:\n",
    "  * find the normal perpendicular to the surface\n",
    "  * determine the angle of incidence $\\theta_i$, between the normal and the incident ray\n",
    "  * the angle of reflection $\\theta_r$, between the normal and the reflected ray, equals the angle of incidence\n",
    "* **law of reflection is**: $\\theta_i = \\theta_r$\n",
    "\n",
    "<img src=\"../img/from_wiki/Reflection_angles.svg.png\" alt=\"Reflection\" width=\"200\"/>\n",
    "\n",
    "*<sub>from [wikipedia](https://en.wikipedia.org/wiki/File:Reflection_angles.svg)[CC Attribution-ShareAlike 3.0 Unported](https://creativecommons.org/licenses/by-sa/3.0/deed.en)</sub>*\n"
   ]
  },
  {
   "cell_type": "markdown",
   "metadata": {
    "slideshow": {
     "slide_type": "slide"
    }
   },
   "source": [
    "## Diffuse vs. specular reflection\n",
    "`sim - (bumpy) mirror`\n",
    "\n",
    "* eye perceives an image when reflected light rays enter the eye in a converging (or nearly parallel) pattern\n",
    "* **specular reflection**: occurs on smooth surfaces; parallel incident rays remain parallel after reflection.\n",
    "* **diffuse reflection**: occurs on rough surfaces; parallel rays are reflected in many directions due to surface irregularities\n",
    "*  \"eye see's\" specular reflections only from specific viewing angles; diffuse reflections are visible from most directions\n",
    "\n",
    "\n",
    "<img src=\"../img/from_wiki/579px-Diffuse_refl.gif\" alt=\"DiffusionReflection\" width=\"225\"/>\n",
    "\n",
    "*<sub>from [wikipedia](https://en.wikipedia.org/wiki/File:Diffuse_refl.gif)[CC Attribution-ShareAlike 3.0 Unported](https://creativecommons.org/licenses/by-sa/3.0/deed.en)</sub>*\n"
   ]
  },
  {
   "cell_type": "markdown",
   "metadata": {
    "slideshow": {
     "slide_type": "slide"
    }
   },
   "source": [
    "### Image formation at plane mirrors: Observation\n",
    "`os08 - Bildentstehung: plane mirror`\n",
    "\n",
    "* although the **object is in front of the mirror**, the **brain perceives** its **image as behind the mirror**\n",
    "* **left and right flipped but not up and down**\n",
    "* the object distance $d_o$ (measured perpendicular to the mirror) equals the image distance $d_i$ \n",
    "* the object's height $h_o$ equals the image's height $h_i$\n",
    "\n"
   ]
  },
  {
   "cell_type": "markdown",
   "metadata": {
    "slideshow": {
     "slide_type": "slide"
    }
   },
   "source": [
    "### Image formation at plane mirrors: real vs. virtual images\n",
    "`sim - virtual image at flat mirror`\n",
    "\n",
    "* an object in front of a plane mirror produces two rays per point that obey the law $\\theta_i = \\theta_r$\n",
    "* image reconstruction is achieved by extending the reflected rays behind the mirror\n",
    "* images that cannot be projected (because the rays do not actually intersect) are called virtual images\n",
    "\n",
    "\n",
    "<img src=\"../img/from_wiki/Plane_mirror.svg.png\" alt=\"PlaneMirror\" width=\"300\"/>\n",
    "\n",
    "*<sub>from [wikipedia](https://en.wikipedia.org/wiki/File:Plane_mirror.svg), public domain</sub>*\n"
   ]
  },
  {
   "cell_type": "markdown",
   "metadata": {
    "slideshow": {
     "slide_type": "slide"
    }
   },
   "source": [
    "### Curved mirrors\n",
    "\n",
    "* curved mirrors are typically spherical and can be:\n",
    "  * **convex** – surface bulges toward the viewer; extends the field of view\n",
    "  * **concave** – surface bulges inward; used for magnifying images\n",
    "* the **principal axis** is the straight line perpendicular to the mirror at its center\n",
    "* the **focal point** $F$ is defined as **the image point for an object at infinity**\n",
    "* for spherical mirrors, the radius of curvature $r$ is related to the **focal length** $f$ by: $r = 2f$\n"
   ]
  },
  {
   "cell_type": "markdown",
   "metadata": {
    "slideshow": {
     "slide_type": "slide"
    }
   },
   "source": [
    "### Image formation at curved mirrors: Principal rays\n",
    "\n",
    "* image construction for objects **not at infinity** uses at least two the **principal rays**:\n",
    "  * **parallel ray**: travels parallel to the principal axis; reflects through the focal point;\n",
    "  * **focal point ray**: passes through the focal point at distance $f$; reflects parallel to the principal axis\n",
    "  * **central point ray**: aimed at the center of curvature at distance $r$; reflects back along the same path\n"
   ]
  },
  {
   "cell_type": "markdown",
   "metadata": {
    "slideshow": {
     "slide_type": "slide"
    },
    "vscode": {
     "languageId": "plaintext"
    }
   },
   "source": [
    "### Image formation at curved mirrors: Concave mirror \n",
    "`os08 - Bildentstehung: concave mirror`\n",
    "\n",
    "`sim - concave mirror`\n"
   ]
  },
  {
   "cell_type": "markdown",
   "metadata": {
    "slideshow": {
     "slide_type": "slide"
    }
   },
   "source": [
    "### Image formation at curved mirrors: Concave mirror $d_o > 2 \\cdot f$\n",
    "* real, inverted, smaller image\n",
    "\n",
    "<img src=\"../img/from_wiki/Concavemirror_raydiagram_2F.svg.png\" alt=\"ConcaveMirror2F\" width=\"400\"/>\n",
    "\n",
    "*<sub>from [wikipedia](https://en.wikipedia.org/wiki/File:Concavemirror_raydiagram_2F.svg)[CC Attribution-ShareAlike 3.0 Unported](https://creativecommons.org/licenses/by-sa/3.0/deed.en)</sub>*\n"
   ]
  },
  {
   "cell_type": "markdown",
   "metadata": {
    "slideshow": {
     "slide_type": "slide"
    }
   },
   "source": [
    "### Image formation at curved mirrors: Concave mirror $ 2 \\cdot f > d_o > f$\n",
    "* real, inverted, larger image\n",
    "\n",
    "<img src=\"../img/from_wiki/Concavemirror_raydiagram_2FE.svg.png\" alt=\"ConcaveMirror2FE\" width=\"400\"/>\n",
    "\n",
    "*<sub>from [wikipedia](https://en.wikipedia.org/wiki/File:Concavemirror_raydiagram_2FE.svg)[CC Attribution-ShareAlike 3.0 Unported](https://creativecommons.org/licenses/by-sa/3.0/deed.en)</sub>*\n"
   ]
  },
  {
   "cell_type": "markdown",
   "metadata": {
    "slideshow": {
     "slide_type": "slide"
    }
   },
   "source": [
    "### Image formation at curved mirrors: Concave mirror $ d_o < f$\n",
    "* virtual, upright, larger image\n",
    "\n",
    "<img src=\"../img/from_wiki/Concavemirror_raydiagram_F.svg.png\" alt=\"ConcaveMirrorF\" width=\"400\"/>\n",
    "\n",
    "*<sub>from [wikipedia](https://en.wikipedia.org/wiki/File:Concavemirror_raydiagram_F.svg)[CC Attribution-ShareAlike 3.0 Unported](https://creativecommons.org/licenses/by-sa/3.0/deed.en)</sub>*\n"
   ]
  },
  {
   "cell_type": "markdown",
   "metadata": {
    "slideshow": {
     "slide_type": "slide"
    },
    "vscode": {
     "languageId": "plaintext"
    }
   },
   "source": [
    "### Image formation at curved mirrors: Convex mirror \n",
    "`os08 - Bildentstehung: convex mirror`\n",
    "\n",
    "`sim - convex mirror`\n"
   ]
  },
  {
   "cell_type": "markdown",
   "metadata": {
    "slideshow": {
     "slide_type": "slide"
    }
   },
   "source": [
    "### Image formation at curved mirrors: Convex mirror (cont')\n",
    "* virtual, upright, smaller image\n",
    "\n",
    "<img src=\"../img/from_wiki/Convexmirror_raydiagram.svg.png\" alt=\"ConvexMirror\" width=\"400\"/>\n",
    "\n",
    "*<sub>from [wikipedia](https://en.wikipedia.org/wiki/File:Convexmirror_raydiagram.svg)[CC Attribution-ShareAlike 3.0 Unported](https://creativecommons.org/licenses/by-sa/3.0/deed.en)</sub>*"
   ]
  },
  {
   "cell_type": "markdown",
   "metadata": {
    "slideshow": {
     "slide_type": "slide"
    },
    "vscode": {
     "languageId": "plaintext"
    }
   },
   "source": [
    "### Image formation at curved mirrors: Summary\n",
    "\n",
    "* **concave mirrors:**\n",
    "    * $d_o > f$: real image, $m$ depends on $d_o$ and $f$\n",
    "    * $d_o < f$: virtual image, $m > 1$ because $d_i \\geq d_o$\n",
    "* **convex mirrors:**\n",
    "    * always produce a virtual, upright, and reduced image, regardless of object distance\n",
    "    * image is formed by extension of diverging reflected rays\n",
    "\n",
    "* **real image:** \n",
    "    * formed where reflected rays converge (on opposite side of mirror surface)\n",
    "    * can be projected onto a screen\n",
    "* **virtual image:**\n",
    "    * formed where rays appear to diverge from\n",
    "    * located behind the mirror (same side as object); cannot be projected\n"
   ]
  },
  {
   "cell_type": "markdown",
   "metadata": {
    "slideshow": {
     "slide_type": "slide"
    }
   },
   "source": [
    "### Image formation at curved mirrors: Equations\n",
    "\n",
    "* **mirror equation**:  \n",
    "  $$\\frac{1}{d_o} + \\frac{1}{d_i} = \\frac{1}{f}$$\n",
    "* **lateral magnification** is given by:  \n",
    "  $$m = \\frac{h_i}{h_o} = -\\frac{d_i}{d_o}$$  \n",
    "  * $h_o$ positive by convention; $h_i > 0$ for upright image; $h_i < 0$ for inverted images\n",
    "* **angular magnification** compares the apparent size of the image formed by curved mirrors to that seen in a plane mirror:\n",
    "  $$M = \\frac{\\theta_C}{\\theta_P}$$\n",
    "\n"
   ]
  },
  {
   "cell_type": "markdown",
   "metadata": {
    "slideshow": {
     "slide_type": "slide"
    }
   },
   "source": [
    "### Hunting a fish\n",
    "`os22`\n",
    "\n",
    "**Why is it so hard \"hit\" the fish?**\n"
   ]
  },
  {
   "cell_type": "markdown",
   "metadata": {
    "slideshow": {
     "slide_type": "fragment"
    }
   },
   "source": [
    "$\\rightarrow$ when light passes from one medium to another with a different refraction index, both **reflection and refraction** occur at boundary\n",
    "\n",
    "<img src=\"../img/from_wiki/Pencil_in_a_bowl_of_water.svg.png\" alt=\"RefractionPencil\" width=\"400\"/>\n",
    "\n",
    "*<sub>from [wikipedia](https://en.wikipedia.org/wiki/File:Pencil_in_a_bowl_of_water.svg)[CC Attribution-ShareAlike 3.0 Unported](https://creativecommons.org/licenses/by-sa/3.0/deed.en)</sub>*\n"
   ]
  },
  {
   "cell_type": "markdown",
   "metadata": {
    "slideshow": {
     "slide_type": "slide"
    }
   },
   "source": [
    "### Refraction index\n",
    "\n",
    "* in vacuum, light travels at speed $c\\approx300\\times10^6\\,\\text{m/s}$ and nearly the same in air\n",
    "* in other transparent materials, light slows down; for example, in water $v\\approx\\frac{3}{4}c$\n",
    "* the index of refraction $n$ is defined as:  \n",
    "  $$n=\\frac{c}{v}$$\n",
    "* typical values: \n",
    "  * $n_{\\rm air} = 1.00$\n",
    "  * $n_{\\rm water} = 1.33$\n",
    "  * $n_{\\rm glass} = 1.46$\n"
   ]
  },
  {
   "cell_type": "markdown",
   "metadata": {
    "slideshow": {
     "slide_type": "slide"
    }
   },
   "source": [
    " ### Snell's law\n",
    "`os01 - Haftoptik: air-glass`\n",
    "\n",
    "* transmitted light will be bent towards or away from the normal w.r.t. boundary surface\n",
    "* Snell's law describes refraction: $n_1\\sin\\theta_1=n_2\\sin\\theta_2$  \n",
    "  * $\\theta_1$ is the angle of incidence and $\\theta_2$ the angle of refraction\n",
    "* bending toward the normal occurs if if speed of light slower in the second medium, i.e. $n_2>n_1$\n",
    "\n",
    "<img src=\"../img/from_wiki/Snells_law.svg.png\" alt=\"SnellsLaw\" width=\"400\"/>\n",
    "\n",
    "*<sub>from [wikipedia](https://en.wikipedia.org/wiki/File:Snells_law.svg), public domain</sub>*\n",
    "\n",
    "\n"
   ]
  },
  {
   "cell_type": "markdown",
   "metadata": {
    "slideshow": {
     "slide_type": "slide"
    }
   },
   "source": [
    "## Refraction: Mirage\n",
    "* temperature gradient causes a gradient in refraction index\n",
    "* light is bend onto a curved path\n",
    "* rays going straight and as well as tangent extensions of bend rays form mirage\n",
    "\n",
    "\n",
    "<img src=\"../img/from_wiki/Mirage-diagram.svg.png\" alt=\"Mirage\" width=\"400\"/>\n",
    "\n",
    "*<sub>from [wikipedia](https://en.wikipedia.org/wiki/File:Mirage-diagram.svg) under [CC Attribution-ShareAlike 4.0 International](https://creativecommons.org/licenses/by-sa/4.0/deed.en)</sub>*\n"
   ]
  },
  {
   "cell_type": "markdown",
   "metadata": {
    "slideshow": {
     "slide_type": "slide"
    }
   },
   "source": [
    "### Reflection vs. refraction\n",
    "`os02 - water ray`\n",
    "\n",
    "**What happens here?**\n",
    "**What causes this phenomena? Reflection or refraction?**"
   ]
  },
  {
   "cell_type": "markdown",
   "metadata": {
    "slideshow": {
     "slide_type": "fragment"
    }
   },
   "source": [
    "* simplify set-up $\\rightarrow$ `os03`\n"
   ]
  },
  {
   "cell_type": "markdown",
   "metadata": {
    "slideshow": {
     "slide_type": "slide"
    }
   },
   "source": [
    "### Total reflection\n",
    "\n",
    "`sim - total reflection`\n",
    "\n",
    "* when the **refracted ray would bend $\\geq 90^\\circ$, no light is transmitted**\n",
    "* critical angle $\\theta_c$ can be derived from Snell's law when $\\theta_2=90^\\circ$:\n",
    "  * $ n_1 \\sin \\theta_c = n_2 \\sin 90\\textrm{°}$\n",
    "  * $ \\sin \\theta_c = \\frac{n_2}{n_1}$\n",
    "* total internal reflection occurs when light travels **from a medium with higher to lower refractive index ($n_1>n_2$)**\n",
    "\n",
    "\n",
    "<img src=\"../img/from_wiki/ReflexionTotal_en.svg.png\" alt=\"TotalReflection\" width=\"400\"/>\n",
    "\n",
    "<img src=\"../img/from_wiki/Total_internal_reflection_of_Chelonia_mydas.jpg\" alt=\"ExampleTotalReflection\" width=\"400\"/>\n",
    "\n",
    "\n",
    "*<sub>[left:] from [wikipedia](https://en.wikipedia.org/wiki/File:ReflexionTotal_en.svg)[CC Attribution-ShareAlike 3.0 Unported](https://creativecommons.org/licenses/by-sa/3.0/deed.en)\n",
    "[right:] from [wikipedia](https://de.wikipedia.org/wiki/Datei:Total_internal_reflection_of_Chelonia_mydas.jpg) under [CC Attribution-ShareAlike 4.0 International](https://creativecommons.org/licenses/by-sa/4.0/deed.en)</sub>*\n",
    "\n"
   ]
  },
  {
   "cell_type": "markdown",
   "metadata": {
    "slideshow": {
     "slide_type": "slide"
    }
   },
   "source": [
    "\n",
    "### Prism &amp; visible spectrum\n",
    "`ow32`\n",
    "\n",
    "* light consists of a spectrum of wavelengths\n",
    "* visible light spans wavelengths approximately from $400\\,\\text{nm}$ (violet) to $700\\,\\text{nm}$ (red)\n",
    "* a prism can decompose white light into its constituent colors through dispersion\n",
    "\n",
    "<img src=\"../img/from_wiki/Electromagnetic_spectrum_-eng.svg.png\" alt=\"LightSpectrum\" width=\"600\"/>\n",
    "\n",
    "*<sub>from [wikipedia](https://commons.wikimedia.org/wiki/File:Electromagnetic_spectrum_-eng.svg) under [CC Attribution-ShareAlike 4.0 International](https://creativecommons.org/licenses/by-sa/4.0/deed.en)</sub>*\n"
   ]
  },
  {
   "cell_type": "markdown",
   "metadata": {
    "slideshow": {
     "slide_type": "slide"
    }
   },
   "source": [
    "### Dispersion: Understanding the prsim\n",
    "\n",
    "* the index of refraction $n$ depends on the wavelength $\\lambda$ of light\n",
    "* the frequency $f$ remains constant across media\n",
    "* in a medium, the wavelength is given by:  \n",
    "  $$\\lambda_n=\\frac{v}{f}=\\frac{c}{nf}$$  \n",
    "  \n",
    "\n",
    "<img src=\"../img/from_wiki/Light_dispersion_conceptual_waves.gif\" alt=\"PrismDispersion\" width=\"300\"/>\n",
    "\n",
    "*<sub>from [wikipedia](https://en.wikipedia.org/wiki/File:Light_dispersion_conceptual_waves.gif), public domain</sub>*\n"
   ]
  }
 ],
 "metadata": {
  "kernelspec": {
   "display_name": ".venv",
   "language": "python",
   "name": "python3"
  },
  "language_info": {
   "codemirror_mode": {
    "name": "ipython",
    "version": 3
   },
   "file_extension": ".py",
   "mimetype": "text/x-python",
   "name": "python",
   "nbconvert_exporter": "python",
   "pygments_lexer": "ipython3",
   "version": "3.12.9"
  }
 },
 "nbformat": 4,
 "nbformat_minor": 2
}
