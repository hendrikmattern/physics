{
 "cells": [
  {
   "cell_type": "markdown",
   "metadata": {
    "slideshow": {
     "slide_type": "slide"
    }
   },
   "source": [
    "<img src=\"../img/Signet_FNW_1.svg\" alt=\"OVGU_FNW_Logo\" width=\"300\" align=\"right\">\n",
    "\n",
    "# 2.5. Magnetism &amp; magnetic field\n",
    "\n",
    "`em11`\n",
    "\n",
    "**What happens if you cut a magnet into two pieces?**\n",
    "\n"
   ]
  },
  {
   "cell_type": "markdown",
   "metadata": {
    "slideshow": {
     "slide_type": "fragment"
    }
   },
   "source": [
    "* every magnet has a north and south pole\n",
    "* opposite poles attract while like poles repel\n",
    "* cutting a magnet always yields smaller magnets with both poles\n",
    "* all **magnets are dipoles**, **no magnetic monopoles** have been observed\n"
   ]
  },
  {
   "cell_type": "markdown",
   "metadata": {
    "slideshow": {
     "slide_type": "slide"
    }
   },
   "source": [
    "## Primer on magnetism\n",
    "* magnets and their fields are found in **daily life** e.g. loudspeakers, generators, HDD, and magnetic resonance imaging\n",
    "* magnetic ore was discovered in the **greek region of magnesia**, giving the phenomenon its name\n",
    "* the **interdependency of magnetism and electricity** was discovered in the 19th century\n",
    "\n",
    "<img src=\"../img/mri_human_phantom.jpg\" alt=\"7T human phantom; Lüsebrink et al. 2021\" width=\"700\"/>\n",
    "\n",
    "*<sub>from [Lüsebrink et al. 2021](hhttps://www.nature.com/articles/s41597-021-00923-w/figures/1), under [CC BY 4.0](https://creativecommons.org/licenses/by/4.0/)</sub>*\n",
    "\n",
    "\n"
   ]
  },
  {
   "cell_type": "markdown",
   "metadata": {
    "slideshow": {
     "slide_type": "slide"
    }
   },
   "source": [
    "## Disclaimer\n",
    "* there are two entities to describe the magnetic field\n",
    "    * $\\vec{\\bf{B}}$: magnetic flux density and measured in tesla [T]\n",
    "    * $\\vec{\\bf{H}}$: actual magnetic field strength and measured in amperes per meter [A/m]\n",
    "    * in vacuum: $\\vec{\\bf{H}} = \\frac{1}{\\mu_0} \\vec{\\bf{B}} - \\vec{\\bf{M}}$ with $\\mu_0$ and $\\vec{\\bf{M}}$ being the permeability of free space and magnetization\n",
    "* will use $\\vec{\\bf{B}}$ / B-field to describe the magnetic field instead of $\\vec{\\bf{H}}$ / H-field \n",
    "\n"
   ]
  },
  {
   "cell_type": "markdown",
   "metadata": {
    "slideshow": {
     "slide_type": "slide"
    }
   },
   "source": [
    "## Magnetic field\n",
    "`simulation two bar magnets`\n",
    "* field line density is **proportional** to the strength of the magnetic field\n",
    "* the magnetic field direction is **tangent** to the field lines at any point\n",
    "* **difference to electric field lines** / consequence of no magnetic monopoles:\n",
    "    * field lines run from north to south and **always form closed loops**\n",
    "    * field lines continue through the magnet itself\n"
   ]
  },
  {
   "cell_type": "markdown",
   "metadata": {
    "slideshow": {
     "slide_type": "slide"
    }
   },
   "source": [
    "\n",
    "## Earth's magnetic field\n",
    "* earth's magnetic field is believed to be produced by motion of conductive fluid in the earth's core, the **geodynamo** \n",
    "* the earth’s magnetic field can be **approximated as a large bar magnet** (position changes and **not** aligned with geographic poles)\n",
    "* the compass pole pointing toward geographic north actually aligns with the earth’s magnetic south\n",
    "\n",
    "\n",
    "<img src=\"../img/from_wiki/Geographical_and_Magnetic_Poles.png\" alt=\"Earth's Magnetic Poles\" width=\"300\"/>\n",
    "<img src=\"../img/from_wiki/Dynamo_Theory_-_Outer_core_convection_and_magnetic_field_generation.svg.png\" alt=\"Earth's internal fluid motion generates magnetic field\" width=\"300\"/>\n",
    "\n",
    "*<sub>left: from [wikipedia](https://upload.wikimedia.org/wikipedia/commons/2/29/Geographical_and_Magnetic_Poles.png) under [CC Attribution 3.0 Unported\n",
    "](https://creativecommons.org/licenses/by/3.0/deed.en); right: from [wikipedia](https://en.wikipedia.org/wiki/File:Dynamo_Theory_-_Outer_core_convection_and_magnetic_field_generation.svg) under [CC Attribution-ShareAlike 4.0 International](https://creativecommons.org/licenses/by-sa/4.0/deed.en)</sub>*\n"
   ]
  },
  {
   "cell_type": "markdown",
   "metadata": {
    "slideshow": {
     "slide_type": "slide"
    }
   },
   "source": [
    "## Electric currents produce magnetic fields\n",
    "`em01 + simulation B-field of wire`\n",
    "* **static** electric charge and magnet show no interaction\n",
    "* Hans Christian &Oslash;rsted (1777-1851) found that compass needle deflect if put near a wire running current\n",
    "* **current running through a wire generates a magnetic field**\n",
    "* magnetic field **not uniform** in direction and magnitude but **forms circular lines around the wire** \n",
    "* experimentally we can see field magnitude $B$: \n",
    "    * increases with the current $I$ \n",
    "    * decreases with distance $r$ \n",
    "    * $B=\\propto\\frac{I}{r}$\n",
    "* in general, the magnitude of magnetic field $B$ produced by a long, straight current-running wire is:\n",
    "    * $B = \\frac{\\mu_0}{2 \\pi} \\frac{I}{r}$\n",
    "    * with *permeability of free space*  $\\mu_0 = 4 \\pi \\times 10^-7$ T m /A.\n",
    "\n"
   ]
  },
  {
   "cell_type": "markdown",
   "metadata": {
    "slideshow": {
     "slide_type": "slide"
    }
   },
   "source": [
    "## Magnetic fields exert a force on currents\n",
    "`em02 + simulation straight wires in B-field` \n",
    "\n",
    "\n",
    "<img src=\"../img/from_wiki/UNO_cards_deck_cropped.png\" alt=\"Uno reverse\" width=\"100\"/>\n",
    "\n",
    "* Hans Christian &Oslash;rsted (1777-1851) found that a **current-carrying wire in a magnetic field experiences a force**\n",
    "* observations for straight wire in homogenous magnetic field (approximated by horseshoe magnet):\n",
    "    * force $F$ perpendicular to $B$ \n",
    "    * $F$ scales with $l$, $I$, and $B$ \n",
    "* in vector form: $$\\vec{F}=I\\vec{l}\\times\\vec{\\bf{B}}$$\n",
    "* with $\\theta$ as angle between $B$ and $l$: $$F=IlB\\sin\\theta$$\n",
    "\n",
    "\n",
    "*<sub>from [wikipedia](https://commons.wikimedia.org/wiki/File:UNO_cards_deck.svg) under [CC0 1.0 Universal](https://creativecommons.org/publicdomain/zero/1.0/deed.en); image has been cropped</sub>*\n"
   ]
  },
  {
   "cell_type": "markdown",
   "metadata": {
    "slideshow": {
     "slide_type": "slide"
    }
   },
   "source": [
    "\n",
    "## Right-hand rules\n",
    "* convention: magnetic field perpendicularly coming out of the paper shown as $\\times$ and going into the paper as $\\odot$\n",
    "* *Right-Hand Rule 1* (RHR-1): \n",
    "    * thumb pointing along the direction of the current $I$ in a wire\n",
    "    * wrapped fingers \"around\"\n",
    "    * fingers curl in the direction the magnetic field $\\vec{\\bf{B}}$\n",
    "* *Right-Hand Rule 2* (RHR-2): * \n",
    "    * index finger pointing along the direction of the current $I$ \n",
    "    * middle finger points perpendicular to your thumb along the direction of the magnetic field $\\vec{\\bf{B}}$\n",
    "    * thumb perpendicular to index &amp; middle finger, points in the direction of the force\n",
    "* disclaimer: use the conventional current, i.e. running from positive to negative, and not the true physical direction of freely moving electrons\n",
    "\n",
    "\n",
    "<img src=\"../img/from_wiki/350px-Right-hand_grip_rule.svg.png\" alt=\"RHR-1\" width=\"200\"/>\n",
    "<img src=\"../img/from_wiki/RightHandOutline.png\" alt=\"RHR-2\" width=\"250\"/>\n",
    "\n",
    "*<sub>left; from [wikipedia](https://en.wikipedia.org/wiki/File:Right-hand_grip_rule.svg), public domain; right: from [wikipedia](https://de.wikipedia.org/wiki/Datei:3-Finger-Regel.svg) under [CC Attribution-ShareAlike 3.0 Unported](https://creativecommons.org/licenses/by-sa/3.0/deed.en)</sub>*\n"
   ]
  },
  {
   "cell_type": "markdown",
   "metadata": {
    "slideshow": {
     "slide_type": "slide"
    }
   },
   "source": [
    "## Ampère's law\n",
    "* So far, know only B-field for a long straight, current-running wire:  $B = \\frac{\\mu_0}{2 \\pi} \\frac{I}{r}$\n",
    "* **how to generalize to arbitrary configurations?**\n",
    "* solution by André Marie Ampère (1775-1836) \n",
    "    * considered a closed path around a current $I_{enc}$\n",
    "    * decompose path into many, (infinitesimally) short, straight segments \n",
    "    * consider only magnetic field component parallel to the path\n",
    "    * taking the integral yields Amère's law: $\\oint\\vec{\\bf{B}}\\cdot d\\vec{l}=\\mu_0 I_{enc}$\n"
   ]
  },
  {
   "cell_type": "markdown",
   "metadata": {
    "slideshow": {
     "slide_type": "slide"
    }
   },
   "source": [
    "## Example for Ampère's law\n",
    "* consider long straight wire running the current $I$\n",
    "* closed path integral for a circle centered around wires, thus, $I_{enc} = I$:  \n",
    "$$\\oint\\vec{\\bf{B}}\\cdot d\\vec{l}=\\mu_0 I$$\n",
    "* $\\vec{\\bf{B}}$ is tangent to closed path (const. magnitude) and circumference of circle is $2 \\pi r$\n",
    "$$\\oint\\vec{\\bf{B}}\\cdot d\\vec{l}= B \\oint d\\vec{l} = B 2 \\pi r = \\mu_0 I$$\n",
    "$$B = \\frac{\\mu_0}{2 \\pi} \\frac{I}{r}$$"
   ]
  },
  {
   "cell_type": "markdown",
   "metadata": {
    "slideshow": {
     "slide_type": "slide"
    }
   },
   "source": [
    "## Individual charges moving through magnetic fields\n",
    "\n",
    "`em08`\n",
    "\n",
    "<img src=\"../img/from_wiki/Cathode_ray_tube_diagram-en.svg.png\" alt=\"Cathode ray tube\" width=\"500\"/>\n",
    "\n",
    "*<sub>from [wikipedia](https://en.wikipedia.org/wiki/File:Cathode_ray_tube_diagram-en.svg) under [CC Attribution-ShareAlike 3.0 Unported](https://creativecommons.org/licenses/by-sa/3.0/deed.en)</sub>*\n"
   ]
  },
  {
   "cell_type": "markdown",
   "metadata": {
    "slideshow": {
     "slide_type": "slide"
    }
   },
   "source": [
    "## Force on a moving charge due to a magnetic field\n",
    "\n",
    "* for a current-running wire we know $\\vec{\\bf{F}} = I \\vec{\\bf{l}} \\times \\vec{\\bf{B}}$\n",
    "* current is charge by unit time $I = \\frac{Q}{t} = \\frac{N q}{t}$\n",
    "* a single charged particles travel the distance $l$ depending on their speed: $\\vec{\\bf{l}} = t \\vec{\\bf{v}}$\n",
    "* thus, we obtain:\n",
    "$$\\vec{\\bf{F}} = I \\vec{\\bf{l}} \\times \\vec{\\bf{B}} = \\frac{N q}{t} t \\vec{\\bf{v}} \\times \\vec{\\bf{B}}$$\n",
    "$$\\vec{\\bf{F}} = q \\vec{\\bf{v}} \\times \\vec{\\bf{B}}$$\n",
    "\n",
    "* if $\\vec{\\bf{B}}$ is uniform, the equation can be simplified to $ F = q v B \\sin \\theta $ with $\\theta$ as the angle between the magnetic field and the direction the charge in moving\n"
   ]
  },
  {
   "cell_type": "markdown",
   "metadata": {
    "slideshow": {
     "slide_type": "slide"
    }
   },
   "source": [
    "\n",
    "## Lorentz equation\n",
    "* the total force on a charged particle due to electric and magnetic fields is given by  \n",
    "$$\\vec{\\bf{F}}=q\\Bigl(\\vec{\\bf{E}}+\\vec{\\bf{v}}\\times\\vec{\\bf{B}}\\Bigr)$$\n",
    "\n",
    "<img src=\"../img/from_wiki/Lorentz_force_particle.svg.png\" alt=\"Lorentz force on particle\" width=\"300\"/>\n",
    "\n",
    "*<sub>from [wikipedia](https://en.wikipedia.org/wiki/File:Lorentz_force_particle.svg) under [CC0 1.0 Universal](https://creativecommons.org/publicdomain/zero/1.0/deed.en)</sub>*"
   ]
  },
  {
   "cell_type": "markdown",
   "metadata": {
    "slideshow": {
     "slide_type": "slide"
    }
   },
   "source": [
    "\n",
    "## Hall effect\n",
    "`em05/em48 + simulation Hall effect`\n",
    "\n",
    "* current-running wire, a.k.a. **confined** space, in a magnetic field (assuming perpendicular, uniform)\n",
    "* $ \\vec{\\bf{F}}_B = e \\vec{\\bf{v}}_d \\times \\vec{\\bf{B}}$ with $\\vec{\\bf{v}}_d$ being the drift velocity of the electron\n",
    "* **Hall field**: electron will be **deflected** towards one side of the conducting wire **creating an electric field** $\\vec{\\bf{E}}_H$\n",
    "* Hall field itself causes a force with the same magnitude but opposite direction to the magnetic force: \n",
    "$$e E_H = e v_d B$$\n",
    "$$E_H = v_d B$$\n",
    "* **Hall voltage** $V_H$ in the presence of uniform, perpendicular fields and thin, but long conducting wire is:\n",
    "$$ V_H = E_H d = v_d B d $$\n",
    "* with **Hall effect** we can differentiate between positive and negative charges\n"
   ]
  },
  {
   "cell_type": "markdown",
   "metadata": {
    "slideshow": {
     "slide_type": "slide"
    }
   },
   "source": [
    "## Microscopic view of ferromagnetism\n",
    "`em21`\n",
    "* ferromagnetic materials are divided into domains that act like tiny bar magnets\n",
    "* in an unmagnetized state, the domains are randomly oriented so their fields cancel\n",
    "* applying an external magnetic field aligns the domains and magnetizes the material\n",
    "* heating or mechanical shock can randomize the domains again\n",
    "\n",
    "<img src=\"../img/from_wiki/WeissDomains.png\" alt=\"RHR-2\" width=\"800\"/>\n",
    "\n",
    "*<sub>from [wikipedia](https://commons.wikimedia.org/wiki/File:Dominios.png) under [CC Attribution-ShareAlike 3.0 Unported](https://creativecommons.org/licenses/by-sa/3.0/deed.en)</sub>*\n"
   ]
  },
  {
   "cell_type": "markdown",
   "metadata": {
    "slideshow": {
     "slide_type": "slide"
    }
   },
   "source": [
    "## Magnetic permeability & susceptibility\n",
    "* a material’s permeability $\\mu$ relates to the free space permeability $\\mu_0$\n",
    "* the relative permeability is defined as $$K_m=\\frac{\\mu}{\\mu_0}$$\n",
    "* magnetic susceptibility is given by $$\\chi=K_m-1$$\n",
    "\n"
   ]
  },
  {
   "cell_type": "markdown",
   "metadata": {
    "slideshow": {
     "slide_type": "slide"
    }
   },
   "source": [
    "## Magnetic materials\n",
    "`em32`\n",
    "\n",
    "* **diamagnetic materials** $\\chi<0$:\n",
    "    * push the magnetic field out\n",
    "    * examples: gold, silver, water, oxygenated blood\n",
    "* **paramagnetic materials** $\\chi>0$: \n",
    "    * pull the magnetic field in\n",
    "    * examples: lithium, aluminium, deoxygenated blood\n",
    "* **ferromagnetic materials** $\\chi\\gg1$: \n",
    "    * have a strong pulling effect \n",
    "    * examples: iron, nickel, cobalt"
   ]
  },
  {
   "cell_type": "markdown",
   "metadata": {
    "slideshow": {
     "slide_type": "slide"
    }
   },
   "source": [
    "## Hysteresis\n",
    "\n",
    "* hysteresis describes the lag in a material’s magnetic response to an external field\n",
    "* as the external field is increased, the material’s magnetic field increases until saturation\n",
    "* when the external field is reduced, the material retains some magnetization\n",
    "* completely removing the magnetization requires applying a reverse external field\n",
    "* permanent magnets exhibit broad hysteresis loops while electromagnets show shallower curves\n",
    "\n",
    "<img src=\"../img/from_wiki/StonerWohlfarthMainLoop.svg.png\" alt=\"Lorentz force on particle\" width=\"500\"/>\n",
    "\n",
    "*<sub>from [wikipedia](https://en.wikipedia.org/wiki/File:StonerWohlfarthMainLoop.svg) under [CC0 1.0 Universal](https://creativecommons.org/publicdomain/zero/1.0/deed.en)</sub>*\n"
   ]
  }
 ],
 "metadata": {
  "kernelspec": {
   "display_name": ".venv",
   "language": "python",
   "name": "python3"
  },
  "language_info": {
   "codemirror_mode": {
    "name": "ipython",
    "version": 3
   },
   "file_extension": ".py",
   "mimetype": "text/x-python",
   "name": "python",
   "nbconvert_exporter": "python",
   "pygments_lexer": "ipython3",
   "version": "3.12.9"
  }
 },
 "nbformat": 4,
 "nbformat_minor": 2
}
