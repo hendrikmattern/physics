{
 "cells": [
  {
   "cell_type": "markdown",
   "metadata": {},
   "source": [
    "<img src=\"../img/Signet_FNW_1.svg\" alt=\"OVGU_FNW_Logo\" width=\"300\" align=\"right\">\n",
    "\n",
    "# Cheat sheet\n",
    "This is a rather incomplete and loose collection of equations and constants\n",
    "\n",
    "**Use with caution** and check / think critical if equation is applicable "
   ]
  },
  {
   "cell_type": "markdown",
   "metadata": {},
   "source": [
    "## Electric charge &amp; field\n",
    "\n",
    "$$ k\\approx 9.0 \\times 10^9 \\textnormal{N m}^2 / \\textnormal{C}^2 $$\n",
    "\n",
    "$$\\epsilon_0 = \\frac{1}{4 \\pi k} = 8.854 \\times 10^{-12}\\frac{\\textnormal{C}^2}{\\textnormal{N m}^2} $$\n",
    "\n",
    "$$ F = k \\frac{Q_1 Q_2}{r^2} \\quad \\textnormal{in [N]}$$ \n",
    "\n",
    "$$ \\vec{\\bf{F}}_{12} = \\frac{1}{4 \\pi \\epsilon_0} \\frac{Q_1 Q_2}{r^2_{21}} \\hat{\\bf{r}}_{21} $$\n",
    "\n",
    "$$ \\vec{\\bf{E}} = \\frac{\\vec{\\bf{F}}}{q} $$ \n",
    "\n",
    "$$ E = \\frac{F}{q} = \\frac{m a}{q} \\quad \\textnormal{in [N/C]}$$  \n",
    "\n",
    "$$ E= \\frac{1}{4 \\pi \\epsilon_0} \\frac{Q}{r^2} $$ \n",
    "\n",
    "$$ dE = \\frac{1}{4 \\pi \\epsilon_0} \\frac{dQ}{r^2} $$ \n",
    "\n",
    "$$ \\vec{\\bf{E}} = \\int d \\vec{\\bf{E}} $$\n",
    "\n",
    "$$ E = \\frac{\\sigma}{\\epsilon_0} = \\frac{Q}{\\epsilon_0 A} \\quad \\textnormal{e.g. for parallel, oppositely charged plates}$$\n",
    "\n",
    "$$ \\textnormal{Note on } [E] = \\frac{\\textnormal{N}}{\\textnormal{C}} = \\frac{\\textnormal{N m}}{\\textnormal{C m}} = \\frac{\\textnormal{J}}{\\textnormal{C m}} = \\frac{\\textnormal{V}}{\\textnormal{m}} \\quad \\textnormal{with J = Nm \\& V = J/C}$$"
   ]
  },
  {
   "cell_type": "markdown",
   "metadata": {},
   "source": [
    " # Electric flux &amp; electric potential \n",
    "\n",
    " $$ \\Phi_E = \\vec{\\bf{E}} \\vec{\\bf{A}} = E A \\cos \\theta = E_{\\perp} A = E A_{\\perp} $$\n",
    "\n",
    " $$ \\Phi_E = \\oint \\vec{\\bf{E}} d\\vec{\\bf{A}} $$\n",
    "\n",
    " $$ \\oint \\vec{\\bf{E}} d\\vec{\\bf{A}} = \\frac{Q_{enc}}{\\epsilon_0}$$\n",
    "\n",
    " $$W = Fd = qEd = -\\Delta U  \\quad \\textnormal{for a homogenous E field}$$\n",
    "\n",
    " $$ V_{BA} = V_B - V_A = \\frac{U_B - U_A}{q} = \\frac{\\Delta U_{BA}}{q} =- \\frac{W_{BA}}{q}  \\quad \\textnormal{in [J/C] =[V]}  $$\n",
    "\n",
    "\n",
    "$$ \\Delta U_{BA} = - \\int_{A}^{B} \\vec{\\bf{F}} d\\vec{\\bf{l}}$$\n",
    "\n",
    "$$ V_{BA} = - \\int_{A}^{B} \\vec{\\bf{E}} d\\vec{\\bf{l}}$$\n",
    " \n",
    "$$ V_{BA} = - E d \\quad \\textnormal{for uniform E-field}$$\n",
    "\n",
    "$$ V = \\frac{1}{4 \\pi \\epsilon_0} \\frac{Q}{r} \\quad \\textnormal{for a point charge with } V=0 \\textnormal{ at } r=\\infty$$\n"
   ]
  },
  {
   "cell_type": "markdown",
   "metadata": {},
   "source": [
    "# Capacitance, batteries, &amp; resistance\n",
    "\n",
    "$$ Q = C V $$\n",
    "\n",
    "$$ U = \\frac{1}{2} \\frac{Q^2}{C} = \\frac{1}{2} C V^2 = \\frac{1}{2} Q V$$\n",
    "\n",
    "$$\\epsilon = K \\epsilon_0$$\n",
    "\n",
    "$$ C =  \\frac{Q}{V} = K \\epsilon_0 \\frac{A}{d}  = \\epsilon \\frac{A}{d} \\quad \\textnormal{for a parallel-plate capacitor}$$\n",
    "\n",
    "$$ I = \\frac{dQ}{d t}$$\n",
    "\n",
    "$$ V = I R $$\n",
    "\n",
    "$$ R = \\rho \\frac{l}{A} $$\n",
    "\n",
    "$$ P = V I = I^2 R = \\frac{V^2}{R} $$\n",
    "\n",
    "$$ I = \\int \\vec{\\bf{j}} d \\vec{\\bf{A}} $$"
   ]
  },
  {
   "cell_type": "markdown",
   "metadata": {},
   "source": [
    "# DC circuits &amp; Kirchhoff' laws\n",
    "\n",
    "$$ R_{eq} = \\sum R_i \\quad \\textnormal{for resistances in series} $$\n",
    "\n",
    "$$ \\frac{1}{R_{eq}} = \\frac{1}{R_i} \\quad \\textnormal{for resistances in parallel} $$\n",
    "\n",
    "$$ \\frac{1}{C_{eq}} = \\sum \\frac{1}{C_i} \\quad \\textnormal{for capacities in series} $$\n",
    "\n",
    "$$ C_{eq} = \\sum C_i \\quad \\textnormal{for capacities in parallel} $$\n",
    "\n",
    "$$ \\sum_i I_i = 0 \\quad \\leftrightarrow \\quad  \\sum_j I_{in, j} = \\sum_k I_{out, k} \\quad \\textnormal{junction rule} $$\n",
    "\n",
    "$$ \\sum_i V_i = 0 \\quad \\textnormal{loop rule} $$\n",
    "\n",
    "$$ V_C(t) = V_0(1 - e^{-\\frac{t}{RC}}) \\quad \\textnormal{RC circuit; charging}  $$\n",
    "$$ I(t) = \\frac{V_0}{R} e^{-\\frac{t}{RC}} \\quad \\textnormal{RC circuit; charging} $$\n",
    "\n",
    "$$ V_C(t) = V_0 e^{-\\frac{t}{RC}}  \\quad \\textnormal{RC circuit; discharging} $$\n",
    "$$ I(t) = I_0 e^{-\\frac{t}{RC}}  \\quad \\textnormal{RC circuit; discharging} $$"
   ]
  },
  {
   "cell_type": "markdown",
   "metadata": {},
   "source": [
    "# Magnetism &amp; magnetic field\n",
    "\n",
    "$$ F = Il B \\sin \\theta \\quad \\textnormal{within an uniform magnetic field}$$\n",
    "\n",
    "$$ d \\vec{\\bf{F}} = I d\\vec{\\bf{l}} \\times \\vec{\\bf{B}} \\quad \\textnormal{in general}$$\n",
    "\n",
    "$$ \\vec{\\bf{F}} = q \\vec{\\bf{v}} \\times \\vec{\\bf{B}} \\quad \\textnormal{single moving particle}  $$\n",
    "\n",
    "$$ \\frac{e}{m_e} = \\frac{v}{B r} = \\frac{E}{B^2 r} \\quad \\textnormal{within uniform fields} $$ \n",
    "\n",
    "$$q v B = m \\frac{v^2}{r} \\quad \\textnormal{within uniform magnetic field} $$\n",
    "\n",
    "$$ \\vec{\\bf{F}} = q (\\vec{\\bf{E}} + \\vec{\\bf{v}} \\times \\vec{\\bf{B}}) \\quad \\textnormal{Lorentz Equation} $$\n",
    "\n",
    "$$ U_H = E_H d = v_d B d \\quad \\textnormal{Hall voltage}$$\n",
    "\n",
    "$$B = \\frac{\\mu_0}{2 \\pi} \\frac{I}{r} \\quad \\textnormal{magnetic field of a straight wire} $$\n",
    "\n",
    "$$ \\oint \\vec{\\bf{B}} \\cdot d \\vec{\\bf{l}} = \\mu_0 I_{enc} \\quad \\textnormal{Ampère's law}$$\n",
    "\n",
    "$$ \\vec{\\bf{B}} = \\frac{\\mu_0 I}{4 \\pi} \\int \\frac{d \\vec{\\bf{l}} \\times  \\hat{\\bf{r}}}{r^2} \\quad \\textnormal{Biot-Savart law}$$"
   ]
  },
  {
   "cell_type": "markdown",
   "metadata": {},
   "source": [
    "# Electromagnets, induction &amp; inductance\n",
    "$$ B = \\frac{\\mu_0 N I}{l} \\quad \\textnormal{for solenoids}$$\n",
    "$$ B = \\frac{\\mu_0 N I}{2 \\pi r} \\quad \\textnormal{for toroids}$$\n",
    "\n",
    "\n",
    "$$ \\Phi_B = B_{\\perp} A = B A \\cos \\theta = \\vec{\\bf{B}} \\vec{\\bf{A}} \\quad \\textnormal{for uniform magnetic field }$$\n",
    "\n",
    "$$ \\Phi_B = \\int \\vec{\\bf{B}} d \\vec{\\bf{A}}$$\n",
    "\n",
    "$$ V_{ind} = - N \\frac{d\\Phi_B}{dt} = -L \\frac{d I}{dt} $$\n",
    "\n",
    "$$ V_1  = - M \\frac{d I_2}{dt} $$\n",
    "\n",
    "$$ V_{ind} = B l v \\quad \\textnormal{for a conductor moving perp. in a uni. mag. field} $$\n",
    "\n",
    "$$ \\oint \\vec{\\bf{E}} d \\vec{\\bf{l}} = - \\frac{d\\Phi_B}{dt} $$\n",
    "\n",
    "\n",
    "## Alternating current (AC)\n",
    "$$ V(t) = V_0 \\sin(2\\pi f t) = V_0 \\sin (\\omega t) $$\n",
    "$$ I(t) = \\frac{V(t)}{R} = \\frac{V_0}{R} \\sin(2\\pi f t) = I_0 \\sin (\\omega t) $$\n",
    "\n",
    "$$ I_{rms} = \\sqrt{\\bar{I^2}} = \\sqrt{\\frac{1}{2} I_0^2} = \\frac{I_0}{\\sqrt{2}} $$\n",
    "$$ V_{rms} = \\sqrt{\\bar{V^2}} = \\sqrt{\\frac{1}{2} V_0^2} = \\frac{V_0}{\\sqrt{2}} $$\n",
    "\n",
    "$$ \\bar{P} = \\frac{1}{2} I_0^2 R = \\frac{1}{2} \\frac{V_0^2}{R} $$\n",
    "$$ \\bar{P} =  I_{RMS} V_{RMS}= I_{RMS}^2 R = \\frac{V_{RMS}^2}{R} $$\n"
   ]
  }
 ],
 "metadata": {
  "language_info": {
   "name": "python"
  }
 },
 "nbformat": 4,
 "nbformat_minor": 2
}
