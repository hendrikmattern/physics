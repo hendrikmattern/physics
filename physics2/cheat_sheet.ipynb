{
 "cells": [
  {
   "cell_type": "markdown",
   "metadata": {},
   "source": [
    "<img src=\"../img/Signet_FNW_1.svg\" alt=\"OVGU_FNW_Logo\" width=\"300\" align=\"right\">\n",
    "\n",
    "# Cheat sheet\n",
    "This is a rather incomplete and loose collection of equations and constants\n",
    "\n",
    "**Use with caution** and check / think critical if equation is applicable "
   ]
  },
  {
   "cell_type": "markdown",
   "metadata": {},
   "source": [
    "## Electric charge &amp; field\n",
    "\n",
    "$$ k\\approx 9.0 \\times 10^9 \\textnormal{N m}^2 / \\textnormal{C}^2 $$\n",
    "\n",
    "$$\\epsilon_0 = \\frac{1}{4 \\pi k} = 8.854 \\times 10^{-12}\\frac{\\textnormal{C}^2}{\\textnormal{N m}^2} $$\n",
    "\n",
    "$$ F = k \\frac{Q_1 Q_2}{r^2} \\quad \\textnormal{in [N]}$$ \n",
    "\n",
    "$$ \\vec{\\bf{F}}_{12} = \\frac{1}{4 \\pi \\epsilon_0} \\frac{Q_1 Q_2}{r^2_{21}} \\hat{\\bf{r}}_{21} $$\n",
    "\n",
    "$$ \\vec{\\bf{E}} = \\frac{\\vec{\\bf{F}}}{q} $$ \n",
    "\n",
    "$$ E = \\frac{F}{q} = \\frac{m a}{q} \\quad \\textnormal{in [N/C]}$$  \n",
    "\n",
    "$$ E= \\frac{1}{4 \\pi \\epsilon_0} \\frac{Q}{r^2} $$ \n",
    "\n",
    "$$ dE = \\frac{1}{4 \\pi \\epsilon_0} \\frac{dQ}{r^2} $$ \n",
    "\n",
    "$$ \\vec{\\bf{E}} = \\int d \\vec{\\bf{E}} $$\n",
    "\n",
    "$$ E = \\frac{\\sigma}{\\epsilon_0} = \\frac{Q}{\\epsilon_0 A} \\quad \\textnormal{e.g. for parallel, oppositely charged plates}$$\n",
    "\n",
    "$$ \\textnormal{Note on } [E] = \\frac{\\textnormal{N}}{\\textnormal{C}} = \\frac{\\textnormal{N m}}{\\textnormal{C m}} = \\frac{\\textnormal{J}}{\\textnormal{C m}} = \\frac{\\textnormal{V}}{\\textnormal{m}} \\quad \\textnormal{with J = Nm \\& V = J/C}$$"
   ]
  },
  {
   "cell_type": "markdown",
   "metadata": {},
   "source": [
    " # Electric flux &amp; electric potential \n",
    "\n",
    " $$ \\Phi_E = \\vec{\\bf{E}} \\vec{\\bf{A}} = E A \\cos \\theta = E_{\\perp} A = E A_{\\perp} $$\n",
    "\n",
    " $$ \\Phi_E = \\oint \\vec{\\bf{E}} d\\vec{\\bf{A}} $$\n",
    "\n",
    " $$ \\oint \\vec{\\bf{E}} d\\vec{\\bf{A}} = \\frac{Q_{enc}}{\\epsilon_0}$$\n",
    "\n",
    " $$W = Fd = qEd = -\\Delta U  \\quad \\textnormal{for a homogenous E field}$$\n",
    "\n",
    " $$ V_{BA} = V_B - V_A = \\frac{U_B - U_A}{q} = \\frac{\\Delta U_{BA}}{q} =- \\frac{W_{BA}}{q}  \\quad \\textnormal{in [J/C] =[V]}  $$\n",
    "\n",
    "\n",
    "$$ \\Delta U_{BA} = - \\int_{A}^{B} \\vec{\\bf{F}} d\\vec{\\bf{l}}$$\n",
    "\n",
    "$$ V_{BA} = - \\int_{A}^{B} \\vec{\\bf{E}} d\\vec{\\bf{l}}$$\n",
    " \n",
    "$$ V_{BA} = - E d \\quad \\textnormal{for uniform E-field}$$\n",
    "\n",
    "$$ V = \\frac{1}{4 \\pi \\epsilon_0} \\frac{Q}{r} \\quad \\textnormal{for a point charge with } V=0 \\textnormal{ at } r=\\infty$$\n"
   ]
  }
 ],
 "metadata": {
  "language_info": {
   "name": "python"
  }
 },
 "nbformat": 4,
 "nbformat_minor": 2
}
