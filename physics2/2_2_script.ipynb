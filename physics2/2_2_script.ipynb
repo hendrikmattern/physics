{
 "cells": [
  {
   "cell_type": "markdown",
   "metadata": {},
   "source": [
    "<img src=\"../img/Signet_FNW_1.svg\" alt=\"OVGU_FNW_Logo\" width=\"300\" align=\"right\">\n",
    "\n",
    "# 2.2. Electric flux &amp; electric potential \n",
    "\n",
    "This chapter starts with Gauss's law, a more general form of Coulomb's law, and the introduction of electric flux. Subsequently, we will discuss electric potential, i.e. dealing with energy in the context of electricity."
   ]
  },
  {
   "cell_type": "markdown",
   "metadata": {},
   "source": [
    "## 2.2.1. Electric flux\n",
    "\n",
    "For a uniform electric field, the electric flux $\\Phi_E$ of the field $\\vec{\\bf{E}}$ through an area $A$ is given by: \n",
    "$$ \\Phi_E = \\vec{\\bf{E}} \\vec{\\bf{A}} $$\n",
    "with $\\vec{\\bf{A}}$ as the vector perpendicular to the surface of $A$ and a magnitude of $A$\n",
    "\n",
    "Using $\\cos \\theta$ as the angle between $\\vec{\\bf{E}}$ &amp; $\\vec{\\bf{A}}$, the equation can be rewritten as:\n",
    "$$ \\Phi_E = E A \\cos \\theta = E_{\\perp} A = E A_{\\perp} $$\n",
    "Depending on the interpretation, either the field component perpendicular to the area, or the projection of $A$ perpendicular to $E$ is considered.\n",
    "\n",
    "Most importantly, the electric flux relates to the field lines, i.e. the strength of the electric field being represented by the density of field lines. Or framed differently, the number of field lines $N$ passing through an area perpendicular to the field is proportional to the electric flux:\n",
    "$$ N \\propto E A_{\\perp} = \\Phi_E$$\n",
    "\n",
    "\n",
    "### Integral form of electric flux over a closed surface\n",
    "\n",
    "For an arbitrary surface $\\vec{\\bf{A}}$, we can decompose the surface into into infinitesimal small areas $d\\vec{\\bf{A}}$. For each $d\\vec{\\bf{A}}$, the electric field within the area element is considered uniform and the area itself can be considered flat. This yields:\n",
    "\n",
    "$$ \\Phi_E = \\int \\vec{\\bf{E}} d\\vec{\\bf{A}} $$\n",
    "\n",
    "For Gauss's law, we need to consider the *total flux through a closed surface*. Hence, we use the integral of a closed surface $\\oint$ and get:\n",
    "$$ \\Phi_E = \\oint \\vec{\\bf{E}} d\\vec{\\bf{A}} $$\n",
    "\n",
    "\n",
    "### Conventions for the electric flux over a closed surface\n",
    "\n",
    "By convention the following is defined:\n",
    "* $d\\vec{\\bf{A}}$ points outwards from the surface of enclosed volume\n",
    "* flux *leaving* the surface is *positive*\n",
    "* flux *entering* the surface is *negative*\n",
    "\n",
    "Therefore:\n",
    "* if $\\Phi_E$ is positive, there is a net flux is out of the volume\n",
    "* if $\\Phi_E$ is negative, there is a net flux is into the volume\n",
    "* if $\\Phi_E=0$, there is no net flux \n",
    "\n",
    "\n",
    "<!--- todo: Figures-->"
   ]
  },
  {
   "cell_type": "markdown",
   "metadata": {},
   "source": [
    "## 2.2.2. Gauss's law\n",
    "Named after Karl Friedrich Gauss (1777-1855), the law states that the electric flux through a closed surface is equal to the net charge enclosed in the surface $Q_{enc}$ divided by the permittivity of free space $\\epsilon_0$: \n",
    "\n",
    "$$ \\oint \\vec{\\bf{E}} d\\vec{\\bf{A}} = \\frac{Q_{enc}}{\\epsilon_0}$$\n",
    "\n",
    "Note that the flux through the surface is independent of:\n",
    "* the distribution of the enclosed charged within the surface/volume \n",
    "* charges outside the surface which might affect the position of the electric field lines through the surface, but not the number of field lines\n",
    "\n",
    "### Relation to Coulomb's law (thought experiment)\n",
    "* imaging a spherical surface with a single enclosed charge $Q_{enc}$ in the center of the sphere (radius $r$)\n",
    "* the $\\vec{\\bf{E}}$ field will oriented radially w.r.t. enclosed charge\n",
    "* the field line will penetrate the spherical surface perpendicular and, therefore, will be parallel to the vector d\\vec{\\bf{A}}\n",
    "* the field will have the same magnitude throughout the surface, since the charge is centered inside the sphere and, therefore, the surface having the distance $r$ to the charge everywhere\n",
    "* the area of the spherical surface is $\\oint dA = 4\\pi r^2 $ \n",
    "\n",
    "$$ \\frac{Q_{enc}}{\\epsilon_0} = \\oint \\vec{\\bf{E}} d\\vec{\\bf{A}} = \\oint E dA = E \\oint dA = 4 \\pi r^2 E $$\n",
    "\n",
    "With, $Q_{enc} = Q$, we obtain Coulomb's law in the electric field form:\n",
    "$$ E= \\frac{1}{4 \\pi \\epsilon_0} \\frac{Q}{r^2} $$ \n",
    "\n",
    "\n",
    "While a spherical surface was convenient in the above thought experiment, any surface could have been used, providing the identical solution. As long as the same charge distribution is enclosed, the choice of surface will not affect the number of field lines passing through the surface. Hence, the electric flux will be the same regardless if a spherical surface $A_1$ or an arbitrarily shaped surface $A_2$ is considered:\n",
    "$$ \\oint_{A1} \\vec{\\bf{E}} d\\vec{\\bf{A}} = \\oint_{A2} \\vec{\\bf{E}} d\\vec{\\bf{A}} = \\frac{Q_{enc}}{\\epsilon_0}$$\n",
    "\n",
    "Coulomb's law and Gauss's law can be applied to electrics fields produced by static electric charges. Beyond that, i.e. studying electric field due to changing magnetic fields, only  Gauss's law is applicable, hence, Gauss's law is considered to be more general description of electric fields. \n",
    "\n",
    "<!--- todo: Figures-->\n",
    "\n",
    "### Superposition &amp; Gauss's law\n",
    "\n",
    "Confirmed by experiments, the principle of superposition is applicable to the Gauss's law. Therefore, the enclosed charges and their net electric flux can be determined by considering portions of the enclosed charges individually and integrating over the sum of their respective fluxes:\n",
    "\n",
    "$$ \\oint \\vec{\\bf{E}} d\\vec{\\bf{A}} = \\oint (\\sum_i \\vec{\\bf{E}}_i) d\\vec{\\bf{A}} = \\frac{\\sum_i Q_{i}}{\\epsilon_0} = \\frac{Q_{enc}}{\\epsilon_0}$$\n",
    "\n",
    "\n",
    "\n",
    "### Applications of Gauss's law\n",
    "<!--- todo: more details; Figures-->\n",
    "\n",
    "* point charge: $ E= \\frac{1}{4 \\pi \\epsilon_0} \\frac{Q}{r^2} $\n",
    "* charged spherical conducting shell: \n",
    "    * outside $ E= \\frac{1}{4 \\pi \\epsilon_0} \\frac{Q}{r^2} $\n",
    "    * inside $ E = 0$\n",
    "* solid charged non-conducting sphere: \n",
    "    * outside $ E= \\frac{1}{4 \\pi \\epsilon_0} \\frac{Q}{r^2} $\n",
    "    * inside $ E= \\frac{1}{4 \\pi \\epsilon_0} \\frac{Q}{r_0^3}r $\n",
    "* long uniform line of charge:  $ E= \\frac{1}{2 \\pi \\epsilon_0} \\frac{\\lambda}{R} $ with $\\lambda$ as the charge per unit length\n",
    "* infinite plane of charge: $ E = \\frac{\\sigma}{2 \\epsilon_0}$ with $\\sigma$ as the charge per unit area\n",
    "* near any conducting surface: $ E = \\frac{\\sigma}{\\epsilon_0}$ (can be imagined as side of a plane, thus field appears only on one side)\n",
    "* between two closely spaced oppositely charged, parallel plates: $ E = \\frac{\\sigma}{\\epsilon_0}$\n",
    "\n",
    "Reminder: There cannot be any net charge within the conductor, only on its surface. Otherwise forces within the conductor would act on the electrons."
   ]
  },
  {
   "cell_type": "markdown",
   "metadata": {},
   "source": [
    "## 2.2.2. Electric potential\n",
    "\n",
    "\n",
    "\n"
   ]
  },
  {
   "cell_type": "markdown",
   "metadata": {},
   "source": []
  }
 ],
 "metadata": {
  "kernelspec": {
   "display_name": ".venv",
   "language": "python",
   "name": "python3"
  },
  "language_info": {
   "codemirror_mode": {
    "name": "ipython",
    "version": 3
   },
   "file_extension": ".py",
   "mimetype": "text/x-python",
   "name": "python",
   "nbconvert_exporter": "python",
   "pygments_lexer": "ipython3",
   "version": "3.12.8"
  }
 },
 "nbformat": 4,
 "nbformat_minor": 2
}
