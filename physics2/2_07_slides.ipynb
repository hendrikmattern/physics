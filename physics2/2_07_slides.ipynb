{
 "cells": [
  {
   "cell_type": "markdown",
   "metadata": {
    "slideshow": {
     "slide_type": "slide"
    }
   },
   "source": [
    "<img src=\"../img/Signet_FNW_1.svg\" alt=\"OVGU_FNW_Logo\" width=\"300\" align=\"right\">\n",
    "\n",
    "# 2.7. AC circuits &amp; electromagnetic oscillations\n",
    "\n",
    "**How does a Tesla coil work?** \n",
    "`ew10`\n",
    "\n"
   ]
  },
  {
   "cell_type": "markdown",
   "metadata": {
    "slideshow": {
     "slide_type": "fragment"
    }
   },
   "source": [
    "* electric resonant transformer circuit \n",
    "* Tesla coil with primary and secondary winding, each forming its own LC-circuit\n",
    "* spark gap (SG) acts as a switch \n",
    "* need to understand: **LRC-circuits, resonance, and impedance**\n",
    "* **plan for today**: investigate simply AC-circuits to derive deeper understanding of R, L, and C  \n",
    "\n",
    "<img src=\"../img/from_wiki/Tesla_coil_circuit.svg.png\" alt=\"TeslaCoil\" width=\"300\"/>\n",
    "\n",
    "*<sub>from [wikipedia](https://en.wikipedia.org/wiki/File:Tesla_coil_circuit.svg) under [CC0 1.0 Universal](https://creativecommons.org/publicdomain/zero/1.0/deed.en)</sub>*"
   ]
  },
  {
   "cell_type": "markdown",
   "metadata": {
    "slideshow": {
     "slide_type": "slide"
    }
   },
   "source": [
    "## LR-circuit\n",
    "`em45`\n",
    "* consider a simple DC circuit with the following elements in series:\n",
    "    * ideal voltage source $V_0$\n",
    "    * resistor $R$\n",
    "    * inductor $L$ \n",
    "\n",
    "<img src=\"../img/from_wiki/Series-RL.png\" alt=\"LR-circuit\" width=\"400\"/>\n",
    "\n",
    "*<sub>from [wikipedia](https://en.wikipedia.org/wiki/File:Series-RL.png) under [CC Attribution-ShareAlike 3.0 Unported](https://creativecommons.org/licenses/by-sa/3.0/deed.en)</sub>*\n",
    "\n"
   ]
  },
  {
   "cell_type": "markdown",
   "metadata": {
    "slideshow": {
     "slide_type": "slide"
    }
   },
   "source": [
    "## LR-circuit: Switching DC supply on\n",
    "* applying Kirchhoff's loop rule gives  \n",
    "  $$V_0 = L\\frac{dI}{dt} + IR$$  \n",
    "* rearrange and take integral ($0..I$ and $0..t$, i.e. current slowly builds up due to self-inductance):\n",
    "$$ \\int_0^I \\frac{dI}{V_0 - R I} = \\int_0^t \\frac{dt}{L}$$\n",
    "* solving the differential equation yields  \n",
    "  $$I(t)=\\frac{V_0}{R}\\Bigl(1-e^{-tR/L}\\Bigr)$$  \n",
    "\n"
   ]
  },
  {
   "cell_type": "markdown",
   "metadata": {
    "slideshow": {
     "slide_type": "slide"
    }
   },
   "source": [
    "\n",
    "## LR-circuit: Switching DC supply on (cont')\n",
    "* find V_L:\n",
    "$$V_L = L \\frac{dI}{dt} = \\frac{d}{dt}\\Bigl( \\frac{V_0}{R}\\Bigl(1-e^{-tR/L}\\Bigr) \\Bigr)$$\n",
    "$$V_L = L \\Bigl( \\frac{V_0}{R} \\cdot \\frac{-R}{L} \\cdot e^{-tR/L} \\Bigr)$$ \n",
    "$$V_L = - V_0 e^{-tR/L}$$\n",
    "\n",
    "* **summary**: self-inductance causes:\n",
    "    * voltage over $L$ to be first opposed to $V_0$ (Lenz's rule) and decaying over times\n",
    "    * current building up over time\n"
   ]
  },
  {
   "cell_type": "markdown",
   "metadata": {
    "slideshow": {
     "slide_type": "slide"
    }
   },
   "source": [
    "\n",
    "## LR-circuit: Switching DC supply off\n",
    "* when the DC supply is switched off ($V_0=0$) the inductor resists (again) change in current\n",
    "* Kirchhoff's loop rule becomes  \n",
    "  $$L\\frac{dI}{dt}+IR=0$$\n",
    "* solution for decaying current is:\n",
    "  $$I(t)=I_0e^{-tR/L}$$  \n",
    "* voltage over inductor is:\n",
    "\n",
    "$$V_L = L \\frac{dI}{dt} = \\frac{d}{dt}\\Bigl( I_0 e^{-tR/L} \\Bigr) = \\frac{-L R}{L} I_0 e^{-tR/L}$$\n",
    "$$V_L = - V_0 e^{-tR/L}$$\n",
    "\n",
    "\n"
   ]
  },
  {
   "cell_type": "markdown",
   "metadata": {
    "slideshow": {
     "slide_type": "slide"
    }
   },
   "source": [
    "## LC-circuit: Fun with AC circuit\n",
    "`ew04`\n",
    "\n",
    "**What happens if we put $L$ and $C$ in series in a AC circuit?**\n",
    "\n",
    "<img src=\"../img/from_wiki/LC_parallel_simple.svg.png\" alt=\"LC-circuit\" width=\"400\"/>\n",
    "\n",
    "*<sub>from [wikipedia](https://commons.wikimedia.org/wiki/File:LC_parallel_simple.svg) under [CC Attribution-ShareAlike 3.0 Unported](https://creativecommons.org/licenses/by-sa/3.0/deed.en)</sub>*\n"
   ]
  },
  {
   "cell_type": "markdown",
   "metadata": {
    "slideshow": {
     "slide_type": "slide"
    }
   },
   "source": [
    "## LC-circuit: The equations\n",
    "\n",
    "* applying Kirchhoff's rule leads to:  \n",
    "  $$-L\\frac{dI}{dt}+\\frac{Q}{C}=0$$  \n",
    "* using $I=-\\frac{dQ}{dt}$ (minus because capacitor discharges) \n",
    "  $$\\frac{d^2Q}{dt^2}+\\frac{1}{LC}Q=0$$\n",
    "* second order linear equation describing simple **harmonic oscillator** with general solution:  \n",
    "  $$Q(t)=Q_0\\cos\\Bigl(\\omega t+\\phi\\Bigr) \\quad \\textrm{with the angular frequency} \\, \\omega=\\sqrt{\\frac{1}{LC}}$$\n",
    "* current $I(t)$ is time derivative of charge:\n",
    "  $$ I(t) = -\\frac{dQ}{dt} = \\omega Q_0 \\sin(\\omega t + \\phi) = I_0 \\sin(\\omega t + \\phi)$$\n",
    "\n",
    "\n"
   ]
  },
  {
   "cell_type": "markdown",
   "metadata": {
    "slideshow": {
     "slide_type": "slide"
    }
   },
   "source": [
    "## LC-circuit: Electromagnetic oscillations\n",
    "\n",
    "* the energy oscillates between capacitor (electric field) and inductor (magnetic field):\n",
    "$$ U  = U_B + U_E = \\frac{Q_0^2}{2 C} \\sin^2(\\omega t + \\phi) + \\frac{Q_0^2}{2C} \\cos^2(\\omega t + \\phi) = \\frac{Q_0^2}{2C}$$\n",
    "* losses are neglected\n",
    "\n",
    "<img src=\"../img/from_wiki/Tuned_circuit_animation_3_300ms.gif\" alt=\"LC-oscilations\" width=\"350\"/>\n",
    "\n",
    "*<sub>from [wikipedia](https://en.wikipedia.org/wiki/File:Tuned_circuit_animation_3_300ms.gif) under [CC0 1.0 Universal](https://creativecommons.org/publicdomain/zero/1.0/deed.en)</sub>*\n"
   ]
  },
  {
   "cell_type": "markdown",
   "metadata": {
    "slideshow": {
     "slide_type": "slide"
    }
   },
   "source": [
    "## LRC-circuit\n",
    "\n",
    "* adding a resistor \n",
    "  * introduces damping into oscillations\n",
    "  * models losses\n",
    "\n",
    "\n",
    "<img src=\"../img/from_wiki/RLC_series_circuit_v1.svg.png\" alt=\"LRC-circuit\" width=\"200\"/>\n",
    "\n",
    "*<sub>from [wikipedia](https://en.wikipedia.org/wiki/File:RLC_series_circuit_v1.svg) under [CC Attribution-ShareAlike 3.0 Unported](https://creativecommons.org/licenses/by-sa/3.0/deed.en)</sub>*\n"
   ]
  },
  {
   "cell_type": "markdown",
   "metadata": {
    "slideshow": {
     "slide_type": "slide"
    }
   },
   "source": [
    "## LRC-circuit (cont')\n",
    "`sim - damping LRC-circuit`\n",
    "* apply Kirchhoff's loop rule and use $I = \\frac{dQ}{dt}$:\n",
    "  $$ - L \\frac{dI}{dt} - I R + \\frac{Q}{C} = 0 $$ \n",
    "  $$L\\frac{d^2Q}{dt^2}+R\\frac{dQ}{dt}+\\frac{Q}{C}=0$$\n",
    "  \n",
    "* second-order linear differential equation that describes **damped harmonic oscillator**:\n",
    "  * $R^2 < \\frac{4L}{C}$: Underdamped oscillation with exponential decay\n",
    "  * $R^2 > \\frac{4L}{C}$: Overdamped, i.e. the damping is too strong to allow any oscillations\n",
    "  * $R^2 = \\frac{4L}{C}$: Critically damped oscillation with the angular frequency $\\omega_d = \\sqrt{\\frac{1}{LC} - \\frac{R^2}{4L^2} }$\n",
    "\n"
   ]
  },
  {
   "cell_type": "markdown",
   "metadata": {
    "slideshow": {
     "slide_type": "slide"
    }
   },
   "source": [
    "## Resistance vs. reactance\n",
    "`ew01 - phase shift`\n",
    "* **LC-circuit**: energy conserved, only exchanged between $L$ and $C$ $\\rightarrow$ oscillation $\\rightarrow$ phase shift between $V$ and $I$\n",
    "* **LRC-circuit**: beyond oscillation, energy dissipated as heat in $R$\n"
   ]
  },
  {
   "cell_type": "markdown",
   "metadata": {
    "slideshow": {
     "slide_type": "fragment"
    }
   },
   "source": [
    "\n",
    "* **new concept**:\n",
    "    * **resistance** $R$ is independent of frequency and dissipates energy as heat\n",
    "    * **reactance** (inductive $X_L$ and capacitive $X_C$) depends on frequency and temporarily stores energy\n",
    "    * the **phase difference** between voltage and current arises due to reactance\n"
   ]
  },
  {
   "cell_type": "markdown",
   "metadata": {
    "slideshow": {
     "slide_type": "slide"
    }
   },
   "source": [
    "## Resistor in AC circuit\n",
    "* follows Ohm's law: $V=IR$\n",
    "* if current is sinusoidal, i.e. $I = I_0 \\cos(\\omega t)$, the voltage is:\n",
    "  $$V = (I_0 \\cos(\\omega t)) R = (I_0 R) \\cos(\\omega t) = V_{0} \\cos(\\omega t)$$\n",
    "\n",
    "* $\\rightarrow$ voltage and current are **in phase**\n",
    "* the average power is given by  \n",
    "  $$\\bar{P}=I_{rms}^2R$$\n"
   ]
  },
  {
   "cell_type": "markdown",
   "metadata": {
    "slideshow": {
     "slide_type": "slide"
    }
   },
   "source": [
    "\n",
    "## Inductor in AC circuit\n",
    "* the voltage across an inductor is: $V=L\\frac{dI}{dt}$\n",
    "* for sinusoidal current $I(t)=I_0\\cos(\\omega t)$, the voltage is: \n",
    "  $$V(t)=\\omega LI_0\\cos\\Bigl(\\omega t+\\frac{\\pi}{2}\\Bigr) = X_L I_0\\cos\\Bigl(\\omega t+\\frac{\\pi}{2}\\Bigr)$$\n",
    "* the inductive reactance is $X_L=\\omega L = 2 \\pi f L$\n",
    "* the **voltage leads the current by $90^\\circ$**\n",
    "* since **$X_L$ increases with frequency**, inductors resist high-frequency currents more than low-frequency ones\n"
   ]
  },
  {
   "cell_type": "markdown",
   "metadata": {
    "slideshow": {
     "slide_type": "slide"
    }
   },
   "source": [
    "\n",
    "## Capacitor in AC circuit\n",
    "* the voltage across a capacitor is: $V=\\frac{Q}{C}$\n",
    "* for a sinusoidal current $I(t)=I_0\\cos(\\omega t)$, the voltage is:  \n",
    "  $$V(t)=\\frac{I_0}{\\omega C}\\cos\\Bigl(\\omega t-\\frac{\\pi}{2}\\Bigr)= X_C I_0\\cos\\Bigl(\\omega t-\\frac{\\pi}{2}\\Bigr)$$\n",
    "* the capacitive reactance is $X_C=\\frac{1}{\\omega C} = \\frac{1}{2 \\pi f C} $\n",
    "* the **voltage lags the current by $90^\\circ$**\n",
    "* since **$X_C$ decreases with frequency**, capacitors resist low-frequency currents more than high-frequency ones\n",
    "\n"
   ]
  },
  {
   "cell_type": "markdown",
   "metadata": {
    "slideshow": {
     "slide_type": "slide"
    }
   },
   "source": [
    "## Summary of AC circuit components\n",
    "* resistor: \n",
    "    * no phase shift\n",
    "    * dissipates energy as heat\n",
    "* inductor: \n",
    "    * voltage leads current\n",
    "    * reactance $X_L=\\omega L$\n",
    "* capacitor: \n",
    "    * voltage lags current\n",
    "    * reactance $X_C=\\frac{1}{\\omega C}$\n"
   ]
  },
  {
   "cell_type": "markdown",
   "metadata": {
    "slideshow": {
     "slide_type": "slide"
    }
   },
   "source": [
    "## Impedance\n",
    "* impedance determines the relationship between voltage and current in AC circuits\n",
    "* impedance combines resistance and reactance into a complex quantity:  \n",
    "  $$Z=R+j\\Bigl(X_L-X_C\\Bigr)$$\n",
    "* its magnitude is $Z=\\sqrt{R^2+\\Bigl(X_L-X_C\\Bigr)^2}$ and its phase angle is $\\tan\\phi=\\frac{X_L-X_C}{R}$\n",
    "\n",
    "* impedance in series: $ Z_{net} = \\sum_i  Z_i$\n",
    "* impedance in parallel: $ \\frac{1}{Z_{net}} = \\sum_i \\frac{1}{Z_i}$\n"
   ]
  },
  {
   "cell_type": "markdown",
   "metadata": {
    "slideshow": {
     "slide_type": "slide"
    }
   },
   "source": [
    "## Impedance matching\n",
    "`el35 - CASSY`\n"
   ]
  },
  {
   "cell_type": "markdown",
   "metadata": {
    "slideshow": {
     "slide_type": "fragment"
    }
   },
   "source": [
    "\n",
    "* maximum power transfer occurs when the source impedance matches the load impedance:  \n",
    "  $$Z_1=Z_2$$\n",
    "* for purely resistive circuits, maximum power is delivered when $R_{\\rm source}=R_{\\rm load}$\n",
    "* mismatched impedances lead to reduced power transfer efficiency and potential signal distortion\n"
   ]
  },
  {
   "cell_type": "markdown",
   "metadata": {
    "slideshow": {
     "slide_type": "slide"
    }
   },
   "source": [
    "## Revisiting AC LRC-circuit: Phasor diagrams\n",
    "`sim - Phasor diagram` \n",
    "* in a series LRC-circuit the sum of the voltage drops equals the source voltage: $V=V_R+V_L+V_C$\n",
    "* in the phasor diagram:\n",
    "  * $V_R$ is drawn along the positive x-axis (in phase with the current)\n",
    "  * $V_L$ is drawn $90^\\circ$ ahead of $V_R$\n",
    "  * $V_C$ is drawn $90^\\circ$ behind $V_R$\n",
    "* the resultant voltage is found by vector addition: \n",
    "$$V_0=I_0Z \\quad \\textrm{with} \\quad Z=\\sqrt{R^2+\\Bigl(X_L-X_C\\Bigr)^2}$$\n",
    "\n"
   ]
  },
  {
   "cell_type": "markdown",
   "metadata": {
    "slideshow": {
     "slide_type": "slide"
    }
   },
   "source": [
    "## Revisiting AC LRC-circuit: Resonance\n",
    "`sim - Resonance`\n",
    "* resonance occurs when the inductive and capacitive reactances cancel: $X_L=X_C$\n",
    "* the impedance is purely resistive: $Z=\\sqrt{R^2+\\Bigl(X_L-X_C\\Bigr)^2} = R$\n",
    "* $\\rightarrow$ the resonant (angular) frequency is  \n",
    "  $$\\omega_0=\\sqrt{\\frac{1}{LC}} \\, \\leftrightarrow \\, f_0=\\frac{1}{2\\pi\\sqrt{LC}}$$\n",
    "* $\\rightarrow$ voltage and current are in phase: $\\phi=0$\n",
    "* shape of resonance curve depends on the value of $R$\n",
    "\n"
   ]
  },
  {
   "cell_type": "markdown",
   "metadata": {
    "slideshow": {
     "slide_type": "slide"
    }
   },
   "source": [
    "## Filters\n",
    "`ew07 - high/low pass`\n",
    "\n",
    "* low-pass filters allow low-frequency signals to pass while attenuating high-frequency ones\n",
    "* high-pass filters allow high-frequency signals to pass while attenuating low-frequency ones\n",
    "* band-pass filters allow frequency band to pass while attenuating frequencies below and above the band\n",
    "* these filters are common in signal processing and audio electronics\n",
    "\n",
    "\n",
    "<img src=\"../img/from_wiki/1st_Order_Lowpass_Filter_RC.svg.png\" alt=\"RC_lowpass\" width=\"200\"/>\n",
    "<img src=\"../img/from_wiki/CR_high_pass_filter.svg.png\" alt=\"RC_highpass\" width=\"200\"/>\n",
    "<img src=\"../img/from_wiki/Band_pass_filter.svg.png\" alt=\"LRC_bandpass\" width=\"200\"/>\n",
    "\n",
    "\n",
    "*<sub>\n",
    "[left] from [wikipedia](https://en.wikipedia.org/wiki/File:1st_Order_Lowpass_Filter_RC.svg), public domain;\n",
    "[middle] from [wikipedia](https://en.wikipedia.org/wiki/File:CR_high_pass_filter.svg) under [CC Attribution-ShareAlike 4.0 International](https://creativecommons.org/licenses/by-sa/4.0/deed.en);\n",
    "[right] from [wikipedia](https://commons.wikimedia.org/wiki/File:Band_pass_filter.svg), public domain\n",
    "</sub>*\n",
    "\n",
    "\n",
    "\n"
   ]
  },
  {
   "cell_type": "markdown",
   "metadata": {
    "slideshow": {
     "slide_type": "slide"
    }
   },
   "source": [
    "## Demo induction, electromagnets, filters, and resonance\n",
    "\n",
    "\n",
    "<img src=\"../img/from_wiki/singlecoil.jpg\" alt=\"single_coil\" width=\"250\"/>\n",
    "<img src=\"../img/from_wiki/Single_coil_string_anim.gif\" alt=\"animation single coil\" width=\"250\"/>\n",
    "\n",
    "*<sub>\n",
    "[left] from [wikipedia](https://en.wikipedia.org/wiki/File:Strat_s%C3%A9rie_L.jpg) under [CC Attribution-ShareAlike 4.0 International](https://creativecommons.org/licenses/by-sa/4.0/deed.en)\n",
    "[right] from [wikipedia](https://commons.wikimedia.org/wiki/File:Single_coil_string_anim.gif) under [CC Attribution-ShareAlike 3.0 Unported](https://creativecommons.org/licenses/by-sa/3.0/deed.en)\n",
    "</sub>*\n",
    "\n",
    "[YouTube - bandpass filter in action](https://youtu.be/qFfnlYbFEiE?si=4BTKUSFEhJxvdXeL)\n"
   ]
  }
 ],
 "metadata": {
  "kernelspec": {
   "display_name": ".venv",
   "language": "python",
   "name": "python3"
  },
  "language_info": {
   "codemirror_mode": {
    "name": "ipython",
    "version": 3
   },
   "file_extension": ".py",
   "mimetype": "text/x-python",
   "name": "python",
   "nbconvert_exporter": "python",
   "pygments_lexer": "ipython3",
   "version": "3.12.9"
  }
 },
 "nbformat": 4,
 "nbformat_minor": 2
}
