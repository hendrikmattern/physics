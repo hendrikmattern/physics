{
 "cells": [
  {
   "cell_type": "markdown",
   "metadata": {},
   "source": [
    "<img src=\"../img/Signet_FNW_1.svg\" alt=\"OVGU_FNW_Logo\" width=\"300\" align=\"right\">\n",
    "\n",
    "# 2.1. Electric charge &amp; electric field\n",
    "\n",
    "**What comes to your mind when you hear electricity?**\n",
    "\n",
    "\t… modern technology, i.e. EVs, computers, smartphones, …\n",
    "\t… heart, neuron, …\n",
    "\t… even forces holding atoms and molecules together involve electric forces\n",
    "\t… in esscense, forces such as friction or normal force can be understood as electric forces acting at the atomic level\n",
    "\tWhile many of these forces can be explained by electric forces, gravitational forces remains a separate entity. \n"
   ]
  },
  {
   "cell_type": "markdown",
   "metadata": {
    "slideshow": {
     "slide_type": "slide"
    }
   },
   "source": [
    "## Motivation to study electric fields\n",
    "\n",
    "o\tHow long do people study electricity?\n",
    "\tLate 1700, electricity studied in detail but effects known since ancient times\n",
    "\t“elektron\" is Greek for “amber” \n",
    "\tRub amber with cloth, amber attracts small pieces of dust/leaves\n",
    "\tTODO OVGU EXPERIMENT (not a \"contact force\" but acting without direct contact)\n",
    "\t Static electricity\n",
    "\tEXPERIMENT with hair\n",
    "\t… what happened?\n",
    "\t object became electric charged\n",
    "\t(…coffee nerds grinder…)\n"
   ]
  },
  {
   "cell_type": "markdown",
   "metadata": {
    "slideshow": {
     "slide_type": "slide"
    }
   },
   "source": [
    "# o\tMAYBE ADD ELECTROSCOPE HERE as device to the next steps  “magic wand”"
   ]
  },
  {
   "cell_type": "markdown",
   "metadata": {
    "slideshow": {
     "slide_type": "slide"
    }
   },
   "source": [
    "o\tBut what is charge and are there different types? Can we create/destroy charge? \n",
    "\tTwo types, \n",
    "\tCharges of same type repel, charges of opposite type attracts each other\n",
    "\tHow to prove that experimentially?\n",
    "\t… EXPERIMENT with \n",
    "\t… FIGURE / explaination free electrons \n",
    "\tEinpflegen script\n",
    "\tCan we prove law of conservation of electric charges? No, but all experiments confirm and no violation has been found\n"
   ]
  },
  {
   "cell_type": "markdown",
   "metadata": {
    "slideshow": {
     "slide_type": "slide"
    }
   },
   "source": [
    "o\tCharge origin, insulators, &amps; conductors\n",
    "\tEXPERIMENT Insulator & conductor (see Fig 21-5 p633)\n",
    "•\tHow does this work? \n",
    "\tEinpflegen script \n",
    "\tFIGURE 21-3 & 21-4 p633\n",
    "\tEinpflegen script\n"
   ]
  },
  {
   "cell_type": "markdown",
   "metadata": {},
   "source": [
    "o\tInducing charge"
   ]
  },
  {
   "cell_type": "markdown",
   "metadata": {},
   "source": [
    "## Coulomb’s law\n"
   ]
  },
  {
   "cell_type": "markdown",
   "metadata": {},
   "source": [
    "o\tElectric field\n",
    "* see notes on todo figures for field lines"
   ]
  }
 ],
 "metadata": {
  "kernelspec": {
   "display_name": ".venv",
   "language": "python",
   "name": "python3"
  },
  "language_info": {
   "codemirror_mode": {
    "name": "ipython",
    "version": 3
   },
   "file_extension": ".py",
   "mimetype": "text/x-python",
   "name": "python",
   "nbconvert_exporter": "python",
   "pygments_lexer": "ipython3",
   "version": "3.12.8"
  }
 },
 "nbformat": 4,
 "nbformat_minor": 2
}
