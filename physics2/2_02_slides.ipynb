{
 "cells": [
  {
   "cell_type": "markdown",
   "metadata": {
    "slideshow": {
     "slide_type": "slide"
    }
   },
   "source": [
    "<img src=\"../img/Signet_FNW_1.png\" alt=\"OVGU_FNW_Logo\" width=\"300\" align=\"right\">\n",
    "\n",
    "# 2.2. Electric Flux &amp; Electric Potential\n",
    "\n",
    "**Why do birds sitting on high voltage power lines not get electrocuted?**\n",
    "\n",
    "`es03` "
   ]
  },
  {
   "cell_type": "markdown",
   "metadata": {
    "slideshow": {
     "slide_type": "fragment"
    }
   },
   "source": [
    "* need to understand: \n",
    "    * concept of electric potential and voltage\n",
    "    * relation to electric potential energy\n",
    "    * deeper understanding of electric fields, i.e. electric flux &amp; Gauss's law\n",
    "\n",
    "* start by revisiting electric field experimentally\n",
    "`es05` "
   ]
  },
  {
   "cell_type": "markdown",
   "metadata": {
    "slideshow": {
     "slide_type": "slide"
    }
   },
   "source": [
    "## Electric flux for uniform electric field \n",
    "`script simulation: rectangle in field`\n",
    "* For a uniform electric field, the electric flux is defined as  \n",
    "  $$\\Phi_E = \\vec{\\bf{E}} \\vec{\\bf{A}}$$  \n",
    "  where $\\vec{\\bf{A}}$ is the vector perpendicular to the surface with magnitude $A$\n",
    "* Using $\\cos\\theta$ as the angle between $\\vec{\\bf{E}}$ and $\\vec{\\bf{A}}$, the equation can be rewritten as  \n",
    "  $$\\Phi_E = EA\\cos\\theta = E_\\perp A = EA_\\perp$$\n",
    "* The number of field lines $N$ passing through an area perpendicular to the field is proportional to the electric flux  \n",
    "  $$N \\propto E_\\perp A = \\Phi_E$$\n"
   ]
  },
  {
   "cell_type": "markdown",
   "metadata": {
    "slideshow": {
     "slide_type": "slide"
    }
   },
   "source": [
    "## Electric flux for non-uniform electric field \n",
    "* arbitrary surface can be decomposed into infinitesimal areas $d\\vec{\\bf{A}}$ \n",
    "* for each $d\\vec{\\bf{A}}$, associated field is uniform  \n",
    "* integral over closed surface gives the **total flux though closed surface**:  \n",
    "$$\\Phi_E = \\oint \\vec{\\bf{E}}\\, d\\vec{\\bf{A}}$$\n",
    "\n",
    "* **by conventions**\n",
    "  * $d\\vec{\\bf{A}}$ points outwards from the surface of the enclosed volume\n",
    "  * flux leaving the surface is positive\n",
    "  * flux entering the surface is negative\n",
    "* **consequences on net flux**:\n",
    "  * if $\\Phi_E$ is positive, there is a net flux out of the volume  \n",
    "  * if $\\Phi_E$ is negative, there is a net flux into the volume  \n",
    "  * if $\\Phi_E = 0$, there is no net flux\n",
    "\n",
    "`script simulation circle in field`\n",
    "\n"
   ]
  },
  {
   "cell_type": "markdown",
   "metadata": {
    "slideshow": {
     "slide_type": "slide"
    }
   },
   "source": [
    "## Gauss's law\n",
    "* named after Karl Friedrich Gauss (1777-1855)\n",
    "* **Gauss's law**: **Electric flux through a closed surface is equal to the net enclosed charge divided by the permittivity of free space**:  \n",
    "$$\\Phi_E = \\oint \\vec{\\bf{E}}\\, d\\vec{\\bf{A}} = \\frac{Q_{enc}}{\\epsilon_0}$$\n",
    "* flux through surface is **independent** of:\n",
    "  * distribution of the enclosed charge within the volume\n",
    "  * charges outside the surface that may affect the position but not the number of field lines\n",
    "* **principle of superposition applicable**:\n",
    "  $$\\oint \\vec{\\bf{E}}\\, d\\vec{\\bf{A}} = \\oint \\left(\\sum_i \\vec{\\bf{E}}_i\\right) d\\vec{\\bf{A}} = \\sum_i \\frac{Q_i}{\\epsilon_0} = \\frac{Q_{enc}}{\\epsilon_0}$$\n"
   ]
  },
  {
   "cell_type": "markdown",
   "metadata": {
    "slideshow": {
     "slide_type": "slide"
    }
   },
   "source": [
    "## Examples for Gauss's law\n",
    "\n",
    "$$\\Phi_E = \\oint \\vec{\\bf{E}}\\, d\\vec{\\bf{A}} = \\frac{Q_{enc}}{\\epsilon_0} > 0 $$\n",
    "\n",
    "<img src=\"../img/from_wiki/Electric-flux-surface-example.svg.png\" alt=\"Electric-flux-surface-example\" width=\"500\"/>\n",
    "\n",
    "*<sub>from [wikipedia](https://en.wikipedia.org/wiki/File:Electric-flux-surface-example.svg) under [CC 4.0 International license](https://creativecommons.org/licenses/by-sa/4.0/deed.en), unedited</sub>*\n",
    "\n",
    "---\n",
    "\n",
    "$$\\Phi_E = \\oint \\vec{\\bf{E}}\\, d\\vec{\\bf{A}} = \\frac{Q_{enc}}{\\epsilon_0} = 0 $$\n",
    "\n",
    "<img src=\"../img/from_wiki/Electric-flux-no-charge-inside.svg.png\" alt=\"Electric-flux-no-charge-inside\" width=\"500\"/>\n",
    "\n",
    "*<sub>from [wikipedia](https://en.wikipedia.org/wiki/File:Electric-flux-no-charge-inside.svg) under [CC 3.0 Unported license](https://creativecommons.org/licenses/by-sa/3.0/deed.en), unedited</sub>*"
   ]
  },
  {
   "cell_type": "markdown",
   "metadata": {
    "slideshow": {
     "slide_type": "slide"
    }
   },
   "source": [
    "\n",
    "## Gauss's law: Relation to Coulomb's law \n",
    "`thought experiment`\n",
    "* consider a spherical surface (radius $r$) with a single enclosed charge $Q_{enc}$ at the center \n",
    "* the $\\vec{\\bf{E}}$ field is oriented radially with the same magnitude everywhere on the surface  \n",
    "* field lines penetrate the spherical surface perpendicular to $d\\vec{\\bf{A}}$\n",
    "* surface area of the sphere is $\\oint dA = 4\\pi r^2$\n",
    "* This leads to Coulomb's law in electric field form:  \n",
    "$$ \\frac{Q_{enc}}{\\epsilon_0} = \\oint \\vec{\\bf{E}} d\\vec{\\bf{A}} = E \\oint dA = 4 \\pi r^2 E $$\n",
    "$$E = \\frac{1}{4\\pi\\epsilon_0}\\frac{Q}{r^2} \\quad \\textrm{with} \\quad Q_{enc} = Q$$\n"
   ]
  },
  {
   "cell_type": "markdown",
   "metadata": {
    "slideshow": {
     "slide_type": "slide"
    },
    "vscode": {
     "languageId": "plaintext"
    }
   },
   "source": [
    "## Complementary nature of Coulomb's and Gauss's law\n",
    "\n",
    "|                             | Coulomb's Law             | Gauss's Law                    |\n",
    "|-----------------------------|---------------------------|--------------------------------|\n",
    "| **Equation**                | $ E= \\frac{1}{4 \\pi \\epsilon_0} \\frac{Q}{r^2} \\leftrightarrow F= \\frac{1}{4 \\pi \\epsilon_0} \\frac{Q_1 Q_2}{r^2} $ | $\\oint \\vec{\\bf{E}}\\, d\\vec{\\bf{A}} = \\frac{Q_{enc}}{\\epsilon_0}$ |\n",
    "| **Focus**                   | Field/force &amp; (point) charges         | Flux through surface &amp; enclosed net charge |\n",
    "| **Applicability**           | Point charges, any distribution (complex) | Mostly used for symmetrical distributions, although applicable to any case |\n",
    "| **Relevant Charge Sources** | All charges present contribute            | Only enclosed charges contribute to flux calculation |"
   ]
  },
  {
   "cell_type": "markdown",
   "metadata": {
    "slideshow": {
     "slide_type": "slide"
    }
   },
   "source": [
    "## Electric potential energy\n",
    "* concept of **conservation of energy** in electricity is analogous to mechanics  \n",
    "* **electric potential energy is defined for conservative forces**, e.g. the electrostatic force $\\vec{\\bf{F}}= \\vec{\\bf{E}}d$ (conservative force $\\rightarrow$ path independence)\n",
    "* **in uniform electric field**, the **work** to move a test charge $q$ over a distance $d$ is:  \n",
    "$$W = Fd = qEd$$  \n",
    "* change in **potential energy** $\\Delta U$ from point $A$ to $B$ is:\n",
    "$$\\Delta U = U_B = -W$$\n",
    "* note the similarity to mechanics, i.e. $m g h$, but as we have two types of charge:\n",
    "  * $\\rightarrow$ **the closer a charge is to a charge of the same polarity, the higher the electrostatic force, thus, the higher the electric potential energy**\n"
   ]
  },
  {
   "cell_type": "markdown",
   "metadata": {
    "slideshow": {
     "slide_type": "slide"
    }
   },
   "source": [
    "## Voltage: The difference in electric potential\n",
    "* **electric potential** $V$ is defined as the electric potential energy per unit charge  \n",
    "$$V = \\frac{U}{q}$$\n",
    "* **voltage is the difference in potential** between points $A$ and $B$:  \n",
    "$$V_{BA} = V_B - V_A \\quad \\textrm{in [J/C] = [V]} $$  \n",
    "* acknowledging Alessandro Volta, the unit is called **volt** [V]\n",
    "* **reference point** (typically ground or infinity) is chosen where $V = 0$\n"
   ]
  },
  {
   "cell_type": "markdown",
   "metadata": {
    "slideshow": {
     "slide_type": "slide"
    }
   },
   "source": [
    "## Putting it all together\n",
    "\n",
    "* **electric potential** is defined at a **single point** in space\n",
    "* only potential **differences**, i.e. voltage, are **measurable**\n",
    "* **reference point** with zero potential is **defined arbitrarily**\n",
    "* combining the definitions gives  \n",
    "$$V_{BA} = V_B - V_A = \\frac{U_B}{q} - \\frac{U_A}{q} = \\frac{\\Delta U_{BA}}{q} = -\\frac{W_{BA}}{q}$$  \n",
    "* **work** performed on a charge is given by  \n",
    "$$W_{BA} = F d= -qV_{BA}$$\n",
    "* $\\rightarrow$ **voltage is a measure of the work a charge can perform**\n",
    "\n",
    "\n"
   ]
  },
  {
   "cell_type": "markdown",
   "metadata": {
    "slideshow": {
     "slide_type": "slide"
    }
   },
   "source": [
    "## The electron volt\n",
    "* electron volt (eV) is the energy gained by an electron when moving through a potential difference of 1 V  \n",
    "$$1\\,\\textrm{eV} \\approx 1.60\\times 10^{-19}\\,\\text{J}$$\n",
    "* handy when dealing with small energies, i.e. charged particles \n",
    "\n"
   ]
  },
  {
   "cell_type": "markdown",
   "metadata": {
    "slideshow": {
     "slide_type": "slide"
    }
   },
   "source": [
    "## Relating electric potential & electric field\n",
    "* analogously to mechanics, change in potential energy $\\Delta U_{BA}$ from $A$ to be $B$ along the path $\\vec{\\bf{l}}$ is defined as:\n",
    "$$ \\Delta U_{BA} = - \\int_A^B \\vec{\\bf{F}} d\\vec{\\bf{l}}$$\n",
    "* we know $V = \\frac{U}{q}$ and $\\vec{\\bf{E}} = \\frac{\\vec{\\bf{F}}}{q} \\leftrightarrow \\vec{\\bf{F}} = \\vec{\\bf{E}} q$, therefore:\n",
    "$$ V_{BA} = -\\frac{1}{q} q \\int_A^B \\vec{\\bf{E}} d\\vec{\\bf{l}} $$\n",
    "$$ V_{BA} = - \\int_A^B \\vec{\\bf{E}} d\\vec{\\bf{l}}$$\n"
   ]
  },
  {
   "cell_type": "markdown",
   "metadata": {
    "slideshow": {
     "slide_type": "slide"
    }
   },
   "source": [
    "## Relating electric potential & electric field (cont'd)\n",
    "$$ V_{BA} = - \\int_A^B \\vec{\\bf{E}} d\\vec{\\bf{l}}$$\n",
    "* in **uniform electric field**, the integral simplifies to  \n",
    "$$V_{BA} = -Ed \\quad \\textrm{with distance} \\, d$$ \n",
    "* for an infinitesimal change, the relation is  \n",
    "$$dV = -\\vec{\\bf{E}}\\, d\\vec{\\bf{l}}$$\n",
    "* therefore, electric field is the gradient of the electric potential:\n",
    "$$\\vec{\\bf{E}} = -\\textrm{grad}V = -\\nabla V$$\n"
   ]
  },
  {
   "cell_type": "markdown",
   "metadata": {
    "slideshow": {
     "slide_type": "slide"
    }
   },
   "source": [
    "## Equipotential lines & surfaces\n",
    "`script simulation: equipotential` \n",
    "* equipotential lines (2D) and surfaces (3D) represent regions where the **electric potential is constant**\n",
    "* **moving perpendicular** to the electric field ($\\vec{\\bf{E}}_\\perp d\\vec{\\bf{l}}$) does not change the potential\n",
    "\n"
   ]
  },
  {
   "cell_type": "markdown",
   "metadata": {
    "slideshow": {
     "slide_type": "slide"
    }
   },
   "source": [
    "## Unconventional ways to make light\n",
    "\n",
    "`es31`\n",
    "\n"
   ]
  }
 ],
 "metadata": {
  "kernelspec": {
   "display_name": ".venv",
   "language": "python",
   "name": "python3"
  },
  "language_info": {
   "codemirror_mode": {
    "name": "ipython",
    "version": 3
   },
   "file_extension": ".py",
   "mimetype": "text/x-python",
   "name": "python",
   "nbconvert_exporter": "python",
   "pygments_lexer": "ipython3",
   "version": "3.12.9"
  }
 },
 "nbformat": 4,
 "nbformat_minor": 2
}
