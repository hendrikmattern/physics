{
 "cells": [
  {
   "cell_type": "markdown",
   "metadata": {
    "slideshow": {
     "slide_type": "slide"
    }
   },
   "source": [
    "<img src=\"../img/Signet_FNW_1.svg\" alt=\"OVGU_FNW_Logo\" width=\"300\" align=\"right\">\n",
    "\n",
    "# 2.2. Electric Flux &amp; Electric Potential\n",
    "\n",
    "**Why do birds sitting on high voltage power lines not get electrocuted?**\n",
    "\n",
    "`es03` "
   ]
  },
  {
   "cell_type": "markdown",
   "metadata": {
    "slideshow": {
     "slide_type": "fragment"
    }
   },
   "source": [
    "* need to understand: \n",
    "    * concept of electric potential and voltage\n",
    "    * relation to electric potential energy\n",
    "    * deeper understanding of electric fields, i.e. electric flux &amp; Gauss's law\n",
    "\n",
    "* start by revisiting electric field experimentally\n",
    "`es05` "
   ]
  },
  {
   "cell_type": "markdown",
   "metadata": {
    "slideshow": {
     "slide_type": "slide"
    }
   },
   "source": [
    "## Electric flux for uniform electric field \n",
    "`script simulation: rectangle in field`\n",
    "* For a uniform electric field, the electric flux is defined as  \n",
    "  $$\\Phi_E = \\vec{\\bf{E}} \\vec{\\bf{A}}$$  \n",
    "  where $\\vec{\\bf{A}}$ is the vector perpendicular to the surface with magnitude $A$\n",
    "* Using $\\cos\\theta$ as the angle between $\\vec{\\bf{E}}$ and $\\vec{\\bf{A}}$, the equation can be rewritten as  \n",
    "  $$\\Phi_E = EA\\cos\\theta = E_\\perp A = EA_\\perp$$\n",
    "* The number of field lines $N$ passing through an area perpendicular to the field is proportional to the electric flux  \n",
    "  $$N \\propto E_\\perp A = \\Phi_E$$\n"
   ]
  },
  {
   "cell_type": "markdown",
   "metadata": {
    "slideshow": {
     "slide_type": "slide"
    }
   },
   "source": [
    "## Electric flux for non-uniform electric field \n",
    "* arbitrary surface can be decomposed into infinitesimal areas $d\\vec{\\bf{A}}$ \n",
    "* for each $d\\vec{\\bf{A}}$, associated field is uniform  \n",
    "* integral over closed surface gives the **total flux though closed surface**:  \n",
    "$$\\Phi_E = \\oint \\vec{\\bf{E}}\\, d\\vec{\\bf{A}}$$\n",
    "\n",
    "* **by conventions**\n",
    "  * $d\\vec{\\bf{A}}$ points outwards from the surface of the enclosed volume\n",
    "  * flux leaving the surface is positive\n",
    "  * flux entering the surface is negative\n",
    "* **consequences on net flux**:\n",
    "  * if $\\Phi_E$ is positive, there is a net flux out of the volume  \n",
    "  * if $\\Phi_E$ is negative, there is a net flux into the volume  \n",
    "  * if $\\Phi_E = 0$, there is no net flux\n",
    "\n",
    "`script simulation circle in field`\n",
    "\n"
   ]
  },
  {
   "cell_type": "markdown",
   "metadata": {
    "slideshow": {
     "slide_type": "slide"
    }
   },
   "source": [
    "## Gauss's law\n",
    "* named after Karl Friedrich Gauss (1777-1855)\n",
    "* **Gauss's law**: **Electric flux through a closed surface is equal to the net enclosed charge divided by the permittivity of free space**:  \n",
    "$$\\Phi_E = \\oint \\vec{\\bf{E}}\\, d\\vec{\\bf{A}} = \\frac{Q_{enc}}{\\epsilon_0}$$\n",
    "* flux through surface is **independent** of:\n",
    "  * distribution of the enclosed charge within the volume\n",
    "  * charges outside the surface that may affect the position but not the number of field lines\n",
    "* **principle of superposition applicable**:\n",
    "  $$\\oint \\vec{\\bf{E}}\\, d\\vec{\\bf{A}} = \\oint \\left(\\sum_i \\vec{\\bf{E}}_i\\right) d\\vec{\\bf{A}} = \\sum_i \\frac{Q_i}{\\epsilon_0} = \\frac{Q_{enc}}{\\epsilon_0}$$\n"
   ]
  },
  {
   "cell_type": "markdown",
   "metadata": {
    "slideshow": {
     "slide_type": "slide"
    }
   },
   "source": [
    "## Examples for Gauss's law\n",
    "\n",
    "$$\\Phi_E = \\oint \\vec{\\bf{E}}\\, d\\vec{\\bf{A}} = \\frac{Q_{enc}}{\\epsilon_0} > 0 $$\n",
    "\n",
    "<img src=\"../img/from_wiki/Electric-flux-surface-example.svg.png\" alt=\"Electric-flux-surface-example\" width=\"500\"/>\n",
    "\n",
    "*<sub>from [wikipedia](https://en.wikipedia.org/wiki/File:Electric-flux-surface-example.svg) under [CC 4.0 International license](https://creativecommons.org/licenses/by-sa/4.0/deed.en), unedited</sub>*\n",
    "\n",
    "---\n",
    "\n",
    "$$\\Phi_E = \\oint \\vec{\\bf{E}}\\, d\\vec{\\bf{A}} = \\frac{Q_{enc}}{\\epsilon_0} = 0 $$\n",
    "\n",
    "<img src=\"../img/from_wiki/Electric-flux-no-charge-inside.svg.png\" alt=\"Electric-flux-no-charge-inside\" width=\"500\"/>\n",
    "\n",
    "*<sub>from [wikipedia](https://en.wikipedia.org/wiki/File:Electric-flux-no-charge-inside.svg) under [CC 3.0 Unported license](https://creativecommons.org/licenses/by-sa/3.0/deed.en), unedited</sub>*"
   ]
  },
  {
   "cell_type": "markdown",
   "metadata": {
    "slideshow": {
     "slide_type": "slide"
    }
   },
   "source": [
    "\n",
    "## Gauss's law: Relation to Coulomb's law \n",
    "`thought experiment`\n",
    "* consider a spherical surface (radius $r$) with a single enclosed charge $Q_{enc}$ at the center \n",
    "* the $\\vec{\\bf{E}}$ field is oriented radially with the same magnitude everywhere on the surface  \n",
    "* field lines penetrate the spherical surface perpendicular to $d\\vec{\\bf{A}}$\n",
    "* surface area of the sphere is $\\oint dA = 4\\pi r^2$\n",
    "* This leads to Coulomb's law in electric field form:  \n",
    "$$ \\frac{Q_{enc}}{\\epsilon_0} = \\oint \\vec{\\bf{E}} d\\vec{\\bf{A}} = E \\oint dA = 4 \\pi r^2 E $$\n",
    "$$E = \\frac{1}{4\\pi\\epsilon_0}\\frac{Q}{r^2} \\quad \\textrm{with} \\quad Q_{enc} = Q$$\n"
   ]
  },
  {
   "cell_type": "markdown",
   "metadata": {
    "slideshow": {
     "slide_type": "slide"
    },
    "vscode": {
     "languageId": "plaintext"
    }
   },
   "source": [
    "## Complementary nature of Coulomb's and Gauss's law\n",
    "\n",
    "|                    | Coulomb's Law                                       | Gauss's Law                                           |\n",
    "|-----------------------------|-----------------------------------------------------|---------------------------------------------------------|\n",
    "| **Equation**                   | $ E= \\frac{1}{4 \\pi \\epsilon_0} \\frac{Q}{r^2} \\leftrightarrow F= \\frac{1}{4 \\pi \\epsilon_0} \\frac{Q_1 Q_2}{r^2} $            | $\\oint \\vec{\\bf{E}}\\, d\\vec{\\bf{A}} = \\frac{Q_{enc}}{\\epsilon_0}$  |\n",
    "| **Focus**                   | Field/force &amp; (point) charges                 | Flux through surface &amp; enclosed net charge            |\n",
    "| **Applicability**           | Point charges, any distribution (complex)           | Mostly used for symmetrical distributions, although applicable to any case                |\n",
    "| **Relevant Charge Sources** | All charges present contribute                      | Only enclosed charges contribute to flux calculation"
   ]
  },
  {
   "cell_type": "markdown",
   "metadata": {
    "slideshow": {
     "slide_type": "slide"
    }
   },
   "source": [
    "## Electric potential energy\n",
    "* The concept of conservation of energy in electricity is analogous to mechanics  \n",
    "* Electric potential energy is defined for conservative forces (e.g. the electrostatic force)\n",
    "* In a homogeneous electric field, the work to move a test charge $q$ over a distance $d$ is  \n",
    "  $$W = qEd$$  \n",
    "  and the change in potential energy is  \n",
    "  $$\\Delta U = -W$$\n",
    "* Electric potential $V$ is defined as the electric potential energy per unit charge  \n",
    "  $$V = \\frac{U}{q}$$\n"
   ]
  },
  {
   "cell_type": "markdown",
   "metadata": {
    "slideshow": {
     "slide_type": "slide"
    }
   },
   "source": [
    "\n",
    "## Voltage: The difference in electric potential\n",
    "* The potential at point $A$ is given by  \n",
    "  $$V_A = \\frac{U_A}{q}$$\n",
    "* The potential difference (voltage) between points $A$ and $B$ is  \n",
    "  $$V_{BA} = V_B - V_A$$  \n",
    "  measured in joules per coulomb (volt)\n",
    "* A reference point (typically ground or infinity) is chosen where $V = 0$\n",
    "\n",
    "### To summarize\n",
    "* Electric potential is defined at a single point in space\n",
    "* Only potential differences (voltage) are measurable\n",
    "* A reference point with zero potential is defined arbitrarily\n",
    "* The work performed on a charge is given by  \n",
    "  $$W_{BA} = -qV_{BA}$$\n",
    "\n",
    "### Putting it all together\n",
    "* Combining the definitions gives  \n",
    "  $$V_{BA} = V_B - V_A = \\frac{U_B - U_A}{q} = \\frac{\\Delta U_{BA}}{q} = -\\frac{W_{BA}}{q}$$  \n",
    "* Voltage is a measure of the work a charge can perform\n",
    "\n"
   ]
  },
  {
   "cell_type": "markdown",
   "metadata": {
    "slideshow": {
     "slide_type": "slide"
    }
   },
   "source": [
    "\n",
    "\n",
    "## Relating electric potential & electric field\n",
    "* The relation between electric potential and the electric field is given by integration  \n",
    "  $$V_{BA} = -\\int_A^B \\vec{\\bf{E}}\\, d\\vec{\\bf{l}}$$\n",
    "* In a uniform electric field, the integral simplifies to  \n",
    "  $$V_{BA} = -Ed$$  \n",
    "  where $d$ is the distance along the field lines\n",
    "\n",
    "### Relation via derivative\n",
    "* For an infinitesimal change, the relation is  \n",
    "  $$dV = -\\vec{\\bf{E}}\\, d\\vec{\\bf{l}}$$\n",
    "* The components of the electric field are given by the gradient of the potential  \n",
    "  * $$E_x = -\\frac{\\partial V}{\\partial x}$$\n",
    "  * $$E_y = -\\frac{\\partial V}{\\partial y}$$\n",
    "  * $$E_z = -\\frac{\\partial V}{\\partial z}$$\n",
    "* In compact form,  \n",
    "  $$\\vec{\\bf{E}} = -\\nabla V$$\n",
    "\n",
    "### For a point charge\n",
    "* Starting with Coulomb's law for the electric field  \n",
    "  $$E = \\frac{1}{4\\pi\\epsilon_0}\\frac{Q}{r^2}$$\n",
    "* The electric potential is obtained by integrating  \n",
    "  $$V = \\frac{1}{4\\pi\\epsilon_0}\\frac{Q}{r}$$  \n",
    "* The potential is defined to be zero at $r = \\infty$\n",
    "\n"
   ]
  },
  {
   "cell_type": "markdown",
   "metadata": {
    "slideshow": {
     "slide_type": "slide"
    }
   },
   "source": [
    "\n",
    "\n",
    "## Electrostatic potential energy\n",
    "* The change in electrostatic potential energy for a test charge $q$ moving from $A$ to $B$ is  \n",
    "  $$\\Delta U_{AB} = U_B - U_A = q(V_B - V_A)$$\n",
    "* For a single isolated charge, the potential energy is zero\n",
    "* For two point charges $Q_1$ and $Q_2$ separated by a distance $r_{12}$, the potential energy is  \n",
    "  $$U = \\frac{1}{4\\pi\\epsilon_0}\\frac{Q_1 Q_2}{r_{12}}$$\n",
    "* This concept can be extended to systems with multiple charges\n",
    "\n",
    "---\n",
    "\n",
    "## The electron volt\n",
    "* An electron volt (eV) is the energy gained by an electron when moving through a potential difference of 1 V  \n",
    "* It is given by  \n",
    "  $$1\\,\\text{eV} \\approx 1.60\\times 10^{-19}\\,\\text{J}$$\n",
    "\n"
   ]
  },
  {
   "cell_type": "markdown",
   "metadata": {
    "slideshow": {
     "slide_type": "slide"
    }
   },
   "source": [
    "\n",
    "\n",
    "## Equipotential lines & surfaces\n",
    "* Equipotential lines (2D) and surfaces (3D) represent regions where the electric potential is constant\n",
    "* Moving perpendicular to the electric field ($\\vec{\\bf{E}}_\\perp d\\vec{\\bf{l}}$) does not change the potential\n",
    "\n"
   ]
  },
  {
   "cell_type": "markdown",
   "metadata": {
    "slideshow": {
     "slide_type": "slide"
    }
   },
   "source": [
    "## Unconventional ways to make light\n",
    "\n",
    "`es31`\n",
    "\n"
   ]
  }
 ],
 "metadata": {
  "kernelspec": {
   "display_name": ".venv",
   "language": "python",
   "name": "python3"
  },
  "language_info": {
   "codemirror_mode": {
    "name": "ipython",
    "version": 3
   },
   "file_extension": ".py",
   "mimetype": "text/x-python",
   "name": "python",
   "nbconvert_exporter": "python",
   "pygments_lexer": "ipython3",
   "version": "3.12.9"
  }
 },
 "nbformat": 4,
 "nbformat_minor": 2
}
