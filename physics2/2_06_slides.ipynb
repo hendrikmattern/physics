{
 "cells": [
  {
   "cell_type": "markdown",
   "metadata": {
    "slideshow": {
     "slide_type": "slide"
    }
   },
   "source": [
    "<img src=\"../img/Signet_FNW_1.svg\" alt=\"OVGU_FNW_Logo\" width=\"300\" align=\"right\">\n",
    "\n",
    "# 2.6. Electromagnets, induction &amp; inductance\n",
    "\n",
    "**How does a microphone work?**\n",
    "\n"
   ]
  },
  {
   "cell_type": "markdown",
   "metadata": {
    "slideshow": {
     "slide_type": "fragment"
    }
   },
   "source": [
    "\n",
    "\n",
    "<img src=\"../img/from_wiki/Tauchspulenmikrofon-en.svg.png\" alt=\"dynamic mic\" width=\"300\"/>\n",
    "<img src=\"../img/from_wiki/Condenser_microphone.svg.png\" alt=\"condenser mic\" width=\"300\"/>\n",
    "\n",
    "*<sub>[left] from [wikipedia](https://en.wikipedia.org/wiki/File:Tauchspulenmikrofon-en.svg) under [CC Attribution-ShareAlike 3.0 Unported](https://creativecommons.org/licenses/by-sa/3.0/deed.en); [right] from [wikipedia](https://en.wikipedia.org/wiki/File:Condenser_microphone.svg) under [CC Attribution-ShareAlike 3.0 Unported](https://creativecommons.org/licenses/by-sa/3.0/deed.en)</sub>*\n",
    "\n"
   ]
  },
  {
   "cell_type": "markdown",
   "metadata": {
    "slideshow": {
     "slide_type": "slide"
    }
   },
   "source": [
    "## Interaction of coil &amp; magnet\n",
    "\n",
    "* previous lecture we used **constant** magnetic field to understand: \n",
    "    1) electric current produces magnetic field\n",
    "    2) magnetic field exerts a force on electric currents/moving electric particles\n",
    "\n",
    "**What happens when we change the magnetic field over time?**\n",
    "\n",
    "`em18 - magnet drop`"
   ]
  },
  {
   "cell_type": "markdown",
   "metadata": {
    "slideshow": {
     "slide_type": "fragment"
    }
   },
   "source": [
    "\n",
    "* Joseph Henry (1797-1878) &amp; Michael Faraday (1791-1867) described independently that **changing magnetic field induces an electric field**\n",
    "* **concepts to understand**:\n",
    "    * alternating voltage/current\n",
    "    * electromagnetic induction\n",
    "    * inductance &amp; electromagnets \n",
    "    "
   ]
  },
  {
   "cell_type": "markdown",
   "metadata": {
    "slideshow": {
     "slide_type": "slide"
    }
   },
   "source": [
    "## What influences the induced voltage ?  (1/2)\n",
    "`em12 - flux`\n",
    "\n",
    "**Impact of geometry and orientation**"
   ]
  },
  {
   "cell_type": "markdown",
   "metadata": {
    "slideshow": {
     "slide_type": "slide"
    }
   },
   "source": [
    "## The flux strikes back: Magnetic flux \n",
    "`simulation mag. flux`\n",
    "\n",
    "* magnetic flux $\\Phi_B$ defined as:\n",
    "$$\\Phi_B = \\int \\vec{\\bf{B}}\\, d\\vec{\\bf{A}}$$\n",
    "* here $\\vec{\\bf{A}}$ is the vector normal to the area $A$\n",
    "* in contrast to the electric flux $\\Phi_E$, \"regular\" integral instead of closed surface integral\n",
    "* for a **uniform field** simplifies to:\n",
    "$$\\Phi_B = B_\\perp A = B A \\cos\\theta = \\vec{\\bf{B}} \\cdot \\vec{\\bf{A}}$$\n",
    "\n",
    "* measured in *weber* [Wb] = [T m²]"
   ]
  },
  {
   "cell_type": "markdown",
   "metadata": {
    "slideshow": {
     "slide_type": "slide"
    }
   },
   "source": [
    "## What influences the induced voltage ?  (2/2)\n",
    "`em12 - flux`\n",
    "\n",
    "**Impact of change over time and number of loops**"
   ]
  },
  {
   "cell_type": "markdown",
   "metadata": {
    "slideshow": {
     "slide_type": "fragment"
    }
   },
   "source": [
    "* **only changing magnetic fields induce a voltage**\n",
    "* rate of change scales with induced voltage, i.e. $\\frac{d \\Phi_B}{dt}$\n",
    "* for same $\\frac{d \\Phi_B}{dt}$, coil with more loops shows higher induced voltage"
   ]
  },
  {
   "cell_type": "markdown",
   "metadata": {
    "slideshow": {
     "slide_type": "slide"
    }
   },
   "source": [
    "## Faraday's law of induction\n",
    "\n",
    "* $V_{ind} = - N \\frac{d\\Phi_B}{dt}$\n",
    "* with:\n",
    "    * N - number of loops in coil\n",
    "    * $\\frac{d\\Phi_B}{dt}$ - change in magnetic flux\n",
    "\n",
    "**Why is there a minus?**"
   ]
  },
  {
   "cell_type": "markdown",
   "metadata": {
    "slideshow": {
     "slide_type": "slide"
    },
    "vscode": {
     "languageId": "plaintext"
    }
   },
   "source": [
    "## Lenz's law\n",
    "`em14 - Rings`\n",
    "\n"
   ]
  },
  {
   "cell_type": "markdown",
   "metadata": {
    "slideshow": {
     "slide_type": "fragment"
    }
   },
   "source": [
    "**A change in the magnetic flux through a conducting loop induces a voltage, so that the resulting current generates a magnetic field that opposes the change in magnetic flux**.\n",
    "\n",
    "<img src=\"../img/from_wiki/Lenz_law_demonstration_edit.png\" alt=\"LenzLaw\" width=\"600\"/>\n",
    "\n",
    "*<sub>from [wikipedia](https://en.wikipedia.org/wiki/File:Lenz_law_demonstration.png) under [CC0 1.0 Universal](https://creativecommons.org/publicdomain/zero/1.0/deed.en); image was edited</sub>*"
   ]
  },
  {
   "cell_type": "markdown",
   "metadata": {
    "slideshow": {
     "slide_type": "slide"
    }
   },
   "source": [
    "## E-field from electrostatics vs. electromagnetism \n",
    "* remember electrostatics: **static charges generate electric field**: \n",
    "    * $V_{AB} = \\int_a^b \\vec{\\bf{E}} d\\vec{\\bf{l}}$\n",
    "    * thus, for closed path, $V = \\oint \\vec{\\bf{E}} d\\vec{\\bf{l}} = 0$ $\\rightarrow$ work is zero\n",
    "    * **conservative** $\\rightarrow$ path independence &amp; can define potential energy\n",
    "\n",
    "* **changing magnetic flux induce voltage that generate an electric field**:\n",
    "    * voltage induced by changing magnetic flux is: $V_{ind} = -\\frac{d\\Phi_B}{dt}$\n",
    "    * work per unit charge due to induced voltage: $V_{ind} = \\oint \\vec{\\bf{E}}\\cdot d\\vec{\\bf{l}} $  \n",
    "    * **general form of Faraday's law** $\\oint \\vec{\\bf{E}} \\cdot d\\vec{\\bf{l}} = -\\frac{d\\Phi_B}{dt}$ \n",
    "    * work for closed path not necessarily zero $\\rightarrow$ **non-conservative**\n",
    "    * changing magnetic field induces **electric field with closed field lines**\n"
   ]
  },
  {
   "cell_type": "markdown",
   "metadata": {
    "slideshow": {
     "slide_type": "slide"
    }
   },
   "source": [
    "## Eddy currents\n",
    "`em25 - Waltenhofen's pendulum`\n"
   ]
  },
  {
   "cell_type": "markdown",
   "metadata": {
    "slideshow": {
     "slide_type": "fragment"
    }
   },
   "source": [
    "\n",
    "* conductor (pendulum) moves through magnetic field generated by an electromagnet\n",
    "* $\\rightarrow$ changing magnetic flux in conductor $\\rightarrow$ voltage induced \n",
    "* part leaving the electromagnetic field: \n",
    "    * decrease in magnetic flux (number of field lines passing through)\n",
    "    * generates a field that repels this motion (Lenz's law), i.e. field generated that **attracts** towards the electromagnet \n",
    "* part entering the electromagnetic field: \n",
    "    * increase in magnetic flux (number of field lines passing through)\n",
    "    * generates a field that repels this motion (Lenz's law), i.e. field generated that **repels** towards the electromagnet "
   ]
  },
  {
   "cell_type": "markdown",
   "metadata": {
    "slideshow": {
     "slide_type": "slide"
    }
   },
   "source": [
    "## Eddy currents (cont')\n",
    "`em25 - Waltenhofen's pendulum`\n",
    "\n",
    "<img src=\"../img/from_wiki/Eddy_currents_due_to_magnet.svg.png\" alt=\"Eddy\" width=\"400\"/>\n",
    "\n",
    "*<sub>from [wikipedia](https://en.wikipedia.org/wiki/File:Eddy_currents_due_to_magnet.svg) under [CC0 1.0 Universal](https://creativecommons.org/publicdomain/zero/1.0/deed.en)</sub>*\n",
    "\n",
    "* **direction of induced current via RHR-1'** \n",
    "\n"
   ]
  },
  {
   "cell_type": "markdown",
   "metadata": {
    "slideshow": {
     "slide_type": "slide"
    }
   },
   "source": [
    "## Electromagnets - solenoids\n",
    "`em10 + simulation B-field solenoid`\n",
    "* tightly wound helical coils of wire\n",
    "* found in many devices: generators, loudspeakers, MRI scanners, and many more\n"
   ]
  },
  {
   "cell_type": "markdown",
   "metadata": {
    "slideshow": {
     "slide_type": "fragment"
    }
   },
   "source": [
    "* produce an almost uniform magnetic field inside the coil and weak field outside\n",
    "* with loop density $n$, the field is: $B = \\mu_0 \\frac{N}{l}I= \\mu_0 n I$\n",
    "\n",
    "\n",
    "<img src=\"../img/from_wiki/VFPt_cylindrical_coil_real.svg.png\" alt=\"solenoid\" width=\"300\"/>\n",
    "\n",
    "*<sub>from [wikipedia](https://de.wikibooks.org/wiki/Datei:VFPt_cylindrical_coil_real.svg) under [CC Attribution-ShareAlike 3.0 Unported](https://creativecommons.org/licenses/by-sa/3.0/deed.en)</sub>*"
   ]
  },
  {
   "cell_type": "markdown",
   "metadata": {
    "slideshow": {
     "slide_type": "slide"
    }
   },
   "source": [
    "## AC electric generator\n",
    "`em38`\n",
    "\n",
    "* convert mechanical energy into electrical energy via a **rotating armature** in a **static magnetic field**\n",
    "* assuming a uniform magnetic field, **induced voltage in rotating coil** is:\n",
    "$$V_{ind} = - \\frac{d\\Phi_B}{dt} = - \\frac{d}{dt} \\left( \\int \\vec{\\bf{B}} d\\vec{\\bf{A}} \\right) = - \\frac{d}{dt}(B A \\cos \\theta)$$\n",
    "* **only angle $\\theta$ is time dependent**\n",
    "* assuming initial angle $\\theta_0 = 0$ and constant rotation velocity $\\omega = \\frac{d\\theta}{dt}$:\n",
    "$$V_{ind} = - B A \\frac{d \\cos (\\omega t)}{dt} = B A \\omega \\sin (\\omega t)$$\n",
    "* for $N$ loops and maximally induced voltage $V_{ind, 0} = N B A \\omega$ :\n",
    "$$V_{ind} = N B A \\omega \\sin (\\omega t) = V_{ind, 0} \\sin (\\omega t)$$\n",
    "\n",
    "* principle can be **reversed** to work as **electric motors**\n"
   ]
  },
  {
   "cell_type": "markdown",
   "metadata": {
    "slideshow": {
     "slide_type": "slide"
    }
   },
   "source": [
    "## Primer on alternating current (AC)\n",
    "\n",
    "* AC == time varying voltage &amp; current\n",
    "* for sinusoidal behavior, with $\\omega=2\\pi f$, voltage alternates between $+V_0$ and $-V_0$ described as:\n",
    "$$V(t)= V_0 \\sin(2\\pi f t)= V_0 \\sin(\\omega t)$$\n",
    "\n",
    "* current is given by:\n",
    "$$I(t)=\\frac{V(t)}{R}= I_0 \\sin(\\omega t)$$\n"
   ]
  },
  {
   "cell_type": "markdown",
   "metadata": {
    "slideshow": {
     "slide_type": "slide"
    }
   },
   "source": [
    "## Using Root-Mean-Squared (RMS) values\n",
    "* often RMS values are used in AC:\n",
    "$$V_{\\rm RMS} = \\sqrt{V(t)^2} = \\sqrt{V_0^2 \\sin^2 (\\omega t)}$$\n",
    "* with $\\sin^2(\\omega t) = \\frac{1}{2}$\n",
    "$$V_{\\rm RMS}= \\frac{V_0}{\\sqrt{2}}$$\n",
    "$$I_{\\rm RMS}= \\frac{I_0}{\\sqrt{2}}$$\n",
    "\n",
    "* for example, a 220V outlet has a peak voltage $V_0\\approx 311$ V\n"
   ]
  },
  {
   "cell_type": "markdown",
   "metadata": {
    "slideshow": {
     "slide_type": "slide"
    }
   },
   "source": [
    "## Power in AC circuits\n",
    "* power is $P(t) = I(t) V(t)$\n",
    "* for sinusoidal current/voltage, average power over a period is **non-zero**: \n",
    "$$\\bar{P} = I_0 \\sin (\\omega t) V_0 \\sin (\\omega t)= I_0 V_0 \\sin^2(\\omega t)$$\n",
    "* for one period $\\sin^2 (\\omega t) = \\frac{1}{2}$, $I_{RMS} = \\frac{I_0}{\\sqrt{2}}$ and $ V_{RMS} = \\frac{V_0}{\\sqrt{2}}$\n",
    "$$\\bar{P}=\\sqrt{2} I_{RMS} \\sqrt{2} V_{RMS} \\frac{1}{2} = I_{RMS} V_{RMS}$$\n"
   ]
  },
  {
   "cell_type": "markdown",
   "metadata": {
    "slideshow": {
     "slide_type": "slide"
    }
   },
   "source": [
    "## Transformers\n",
    "`em46`\n",
    "\n",
    "* transformer consists of a *primary* and *secondary* coil\n",
    "* two coils **do not** form a closed circuit, but only their proximity is essential for the transformer to work\n",
    "\n",
    "**What influences the voltage in the secondary coil?**"
   ]
  },
  {
   "cell_type": "markdown",
   "metadata": {
    "slideshow": {
     "slide_type": "slide"
    }
   },
   "source": [
    "## Transformers - What influences the voltage in the secondary coil?\n",
    "\n",
    "* iron core (geometry, layered, etc.)\n",
    "* ratio of loops:\n",
    "    * without energy loss, the induced voltages in both coils are:\n",
    "    $$V_2= N_2\\frac{d\\Phi_B}{dt} \\quad \\& \\quad V_1= N_1\\frac{d\\Phi_B}{dt}$$ \n",
    "    * taking the voltage ratio &amp; using conservation of power, $P_1 = P_2$, we get:\n",
    "    $$\\frac{V_2}{V_1}= \\frac{I_1}{I_2} = \\frac{N_2}{N_1}$$\n",
    "\n",
    "* depending on the ratio of the loop numbers:\n",
    "    * step-up transformer: For $N_2 > N_1$ the voltage $V_2$ will be larger than $V_1$\n",
    "    * step-down transformer: For $N_2 < N_1$ the voltage $V_2$ will be smaller than $V_1$\n"
   ]
  },
  {
   "cell_type": "markdown",
   "metadata": {
    "slideshow": {
     "slide_type": "slide"
    }
   },
   "source": [
    "## Mutual inductance\n",
    "\n",
    "* relates the induced voltage in one coil to the rate of change of current in a neighboring coil\n",
    "* defined as proportionality constant:\n",
    "$$\n",
    "M_{21}= \\frac{N_2\\Phi_{21}}{I_1}\n",
    "$$\n",
    "\n",
    "* the induced voltage in one coil can directly be related to change in current in the other coil:\n",
    "$$ \n",
    "V_2 = -N_2 \\frac{d \\Phi_{21}}{dt}  = - M_{21} \\frac{d I_1}{dt} \\quad \\& \\quad V_1  = - M_{12} \\frac{d I_2}{dt} \n",
    "$$\n",
    "\n",
    "* mutual inductance only depends on geometric variables, i.e. the spacing between the coils and their individual shape, size, and number of loops:\n",
    "$$ M = M_{21} = M_{12} $$\n",
    "\n",
    "* **inductance** is expressed in **units of henry** [H] = [V s / A] = [$\\Omega$ s]"
   ]
  },
  {
   "cell_type": "markdown",
   "metadata": {
    "slideshow": {
     "slide_type": "slide"
    }
   },
   "source": [
    "## Self-inductance & inductors\n",
    "[YouTube - James Bond](https://youtu.be/h_gCLPO-eTk?si=UoFij11hjj_OTwuL&t=63)\n",
    "\n",
    "`em13`\n"
   ]
  },
  {
   "cell_type": "markdown",
   "metadata": {
    "slideshow": {
     "slide_type": "fragment"
    }
   },
   "source": [
    "* even for a **single coil**, we find the phenomenon of inductance, a.k.a  **self-inductance** \n",
    "* **changing current** passes through the coil **induces voltage in  coil itself** with **opposed direction**\n",
    "* defined as proportionality constant (depends on coil geometry):\n",
    "$$ L = \\frac{N \\Phi_B}{I} $$\n",
    "$$ V_{ind} = - N \\frac{d \\Phi_B}{dt} = -L \\frac{d I}{dt} $$\n",
    "\n",
    "* often referred simply to as inductance and measured in henry [H].\n",
    "* **inductors are fundamental circuit elements alongside resistors and capacitors**\n",
    "\n"
   ]
  },
  {
   "cell_type": "markdown",
   "metadata": {
    "slideshow": {
     "slide_type": "slide"
    }
   },
   "source": [
    "## Energy stored in the magnetic field\n",
    "`em17 - Thomson`\n",
    "* power supplied to an inductor is:\n",
    "$$\n",
    "P= I\\,V_{\\rm ind}= I\\,L\\frac{dI}{dt}\n",
    "$$\n",
    "* the work done to build up the current is:\n",
    "$$dW = P dt = I L \\frac{dI}{dt} dt = I L dI $$\n",
    "$$\n",
    "W= \\int_0^I I\\,L\\,dI= \\frac{1}{2}LI^2\n",
    "$$\n",
    "* energy stored in the magnetic field is:\n",
    "$$\n",
    "U= \\frac{1}{2}LI^2\n",
    "$$\n",
    "* analogous to the energy stored in a capacitor:\n",
    "$$\n",
    "U= \\frac{1}{2}CV^2\n",
    "$$"
   ]
  }
 ],
 "metadata": {
  "kernelspec": {
   "display_name": ".venv",
   "language": "python",
   "name": "python3"
  },
  "language_info": {
   "codemirror_mode": {
    "name": "ipython",
    "version": 3
   },
   "file_extension": ".py",
   "mimetype": "text/x-python",
   "name": "python",
   "nbconvert_exporter": "python",
   "pygments_lexer": "ipython3",
   "version": "3.12.9"
  }
 },
 "nbformat": 4,
 "nbformat_minor": 2
}
