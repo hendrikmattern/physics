{
 "cells": [
  {
   "cell_type": "markdown",
   "metadata": {
    "slideshow": {
     "slide_type": "slide"
    }
   },
   "source": [
    "<img src=\"../img/Signet_FNW_1.svg\" alt=\"OVGU_FNW_Logo\" width=\"300\" align=\"right\">\n",
    "\n",
    "# 2.3. Capacitance, resistance & current\n",
    "\n",
    "**How can we store electric energy?**\n"
   ]
  },
  {
   "cell_type": "markdown",
   "metadata": {
    "slideshow": {
     "slide_type": "fragment"
    }
   },
   "source": [
    "* using circuit elements such as:\n",
    "    * capacitors (separated charges)\n",
    "    * electric batteries (electrochemical voltage source)\n",
    "* transition from **static electricity to flow of charges**\n",
    "* associated physical concepts: dielectrics, electric power, current, resistance, &amp; Ohm's law\n",
    "* **disclaimer**: simplify notation for voltage to $V = V_{BA} = V_B - V_A$\n"
   ]
  },
  {
   "cell_type": "markdown",
   "metadata": {
    "slideshow": {
     "slide_type": "slide"
    }
   },
   "source": [
    "## Capacitors - Basic concept\n",
    "\n",
    "* two plates with opposite charge produce an electric field\n",
    "\n",
    "<img src=\"../img/from_wiki/capacitor_E_phi.svg.png\" alt=\"E-field capacitor\" width=\"500\"/>\n",
    "\n",
    "*<sub>from [wikipedia](https://de.wikibooks.org/wiki/Datei:VFPt_capacitor_E_phi.svg) under [CC Attribution-ShareAlike 4.0 International](https://creativecommons.org/licenses/by-sa/4.0/deed.en), unedited</sub>*\n",
    "\n",
    "\n"
   ]
  },
  {
   "cell_type": "markdown",
   "metadata": {
    "slideshow": {
     "slide_type": "slide"
    }
   },
   "source": [
    "## Capacitors - Relation of $V$ and $d$\n",
    "`es27`\n",
    "* simple configuration: \n",
    "    * two parallel plates of area $A$ separated by distance $d$\n",
    "    * voltage source connected\n",
    "    * $\\rightarrow$ plates accumulate charge $Q$ with equal magnitude but opposite sign\n",
    "\n",
    "**What happens if we change the distance?** (if $Q=\\textrm{const}$)\n"
   ]
  },
  {
   "cell_type": "markdown",
   "metadata": {
    "slideshow": {
     "slide_type": "fragment"
    }
   },
   "source": [
    "* **voltage increases with distance** (until breakdown voltage reached)\n",
    "$$V = V_B - V_A = - \\int_A^B \\vec{\\bf{E}} d \\vec{\\bf{l}} = +E \\int_A^B dl = E d = \\frac{Q}{\\epsilon_0 A} d$$\n",
    "\n",
    "**Notes**: \n",
    "* electric field for two parallel planes: $E = \\frac{Q}{\\epsilon_0 A}$\n",
    "* angle between $\\vec{\\bf{E}}$ and $d\\vec{\\bf{l}}$ is 180° $\\rightarrow E l \\cos(180°) = - E l$.\n"
   ]
  },
  {
   "cell_type": "markdown",
   "metadata": {
    "slideshow": {
     "slide_type": "slide"
    }
   },
   "source": [
    "## Capacitance $C$\n",
    "* **fundamental relation**: $Q = C V$\n",
    "* **capacitance**: \n",
    "  * proportionality constant $C=\\frac{Q}{V}$ \n",
    "  * unit: **farad** [F] = [C/V], typically capacitors in picofarad to microfarad range\n",
    "  * capacitance determined by **geometry**: size, shape, relative position of plates\n",
    "* determining capacitance **analytically** for uniform $\\vec{\\bf{E}}$:\n",
    "$$V = E d = \\frac{Q d}{\\epsilon_0 A}$$\n",
    "$$\\frac{V}{Q} =  \\frac{d}{\\epsilon_0 A}$$\n",
    "$$C =\\frac{Q}{V}=\\frac{\\epsilon_0 A}{d}$$\n"
   ]
  },
  {
   "cell_type": "markdown",
   "metadata": {
    "slideshow": {
     "slide_type": "slide"
    }
   },
   "source": [
    "## Storing electric energy\n",
    "* **conservation of energy**:  the work $W$ required to charge the capacitor is equal to the electric energy stored in the capacitor $U$\n",
    "* work required to move small amount of charge in presence of potential difference: $dW = -V dq$\n",
    "* integrating over the entire charge $Q$ and with $V = \\frac{q}{C}$, we get:\n",
    "$$ W = -\\int_0^Q V dq = -\\frac{1}{C} \\int_0^Q q dq = -\\frac{1}{2} \\frac{Q^2}{C}$$\n",
    "* $\\rightarrow$ energy $U$ \"stored\" is:\n",
    "$$ U = \\frac{1}{2} \\frac{Q^2}{C} = \\frac{1}{2} C V^2 = \\frac{1}{2} Q V$$\n",
    "\n",
    "\n",
    "`script simulation: C, Q, E, U`"
   ]
  },
  {
   "cell_type": "markdown",
   "metadata": {
    "slideshow": {
     "slide_type": "slide"
    }
   },
   "source": [
    "## Dielectrics\n",
    "`es21` \n",
    "* dielectrics are **insulating material**\n",
    "* dielectric increases capacitance by a factor $K$: $C = K\\,C_0$\n",
    "* material permittivity is defined as $\\epsilon = K\\,\\epsilon_0$\n",
    "* for a parallel-plate capacitor with a dielectric: $C = \\frac{\\epsilon A}{d}$\n",
    "* inserting a dielectric increases the breakdown voltage and allows smaller gaps between plates\n"
   ]
  },
  {
   "cell_type": "markdown",
   "metadata": {
    "slideshow": {
     "slide_type": "slide"
    }
   },
   "source": [
    "## History of electric battery: Galvani vs. Volta\n",
    "\n",
    "* Luigi Galvani (1737-1798) connected a cupper and iron wire to a frog leg and saw muscle contraction \n",
    "* $\\rightarrow$ interpreted as *life-force*\n",
    "* Alessandro Volta (1745-1827) disagreed and realized the potential (pun intended) of dissimilar metal\n",
    "* $\\rightarrow$ combined cells of zinc &amp; silver soaked in salt solution to form a *battery* of cells\n",
    "\n",
    "<img src=\"../img/from_wiki/Galvani-frogs-legs-electricity.jpg\" alt=\"E-field capacitor\" width=\"400\"/>\n",
    "\n",
    "*<sub>from [wikipedia](https://en.wikipedia.org/wiki/File:Galvani-frogs-legs-electricity.jpg), public domain</sub>*\n",
    "\n"
   ]
  },
  {
   "cell_type": "markdown",
   "metadata": {
    "slideshow": {
     "slide_type": "slide"
    }
   },
   "source": [
    "## Concept of electric battery\n",
    "`el23 + el25`\n",
    "* battery consists of:\n",
    "    * **electrodes** - metal rods connected to terminals:\n",
    "        * **cathode** - negative electrode e.g. Pb (lead)\n",
    "        * **anode** - positive electrode e.g. Pb02 (lead dioxide)\n",
    "    * **electrolyte** e.g. sulfuric acid, apple, or frog leg\n",
    "* oversimplified reaction: Pb + acid $\\rightarrow$ net effect of accumulation of electrons in cathode\n",
    "* if connected, battery provides a voltage that drives current in a circuit\n",
    "* **no charges are generated, merely separated, obeying the laws of conservation**\n"
   ]
  },
  {
   "cell_type": "markdown",
   "metadata": {
    "slideshow": {
     "slide_type": "slide"
    }
   },
   "source": [
    "## Start moving: electric current, resistance & ohm's law\n",
    "`es15`\n",
    "\n",
    "**Time to leave electrostatics, i.e. resting charges, and consider moving charges**\n"
   ]
  },
  {
   "cell_type": "markdown",
   "metadata": {
    "slideshow": {
     "slide_type": "slide"
    }
   },
   "source": [
    "## Electric current\n",
    "* average current defined as $\\bar{I} = \\frac{\\Delta Q}{\\Delta t}$\n",
    "* instantaneous current defined as $I = \\frac{dQ}{dt}$\n",
    "* **unit** *ampere* [A]=[C/s] in recognition of André Ampère (1775-1836)\n",
    "* **conservation of charge**: current is constant throughout a continuous conductor\n",
    "* **flow direction**: \n",
    "    * conventional current flows from positive to negative (Franklin), while electrons move from negative to positive (physics)\n",
    "    * directionality (usually) non-critical/yield equal results (exception e.g. Hall effect)\n",
    "\n",
    "<img src=\"../img/from_wiki/ElectricCurrent.gif\" alt=\"ElectricCurrent.gif\" width=\"500\"/>\n",
    "\n",
    "*<sub>from [wikipedia](https://de.wikibooks.org/wiki/Datei:ElectricCurrent.gif) under [CC Attribution-ShareAlike 4.0 International](https://creativecommons.org/licenses/by-sa/4.0/deed.en), unedited</sub>*\n",
    "\n"
   ]
  },
  {
   "cell_type": "markdown",
   "metadata": {
    "slideshow": {
     "slide_type": "slide"
    }
   },
   "source": [
    "## Ohm's law & resistors\n",
    "* **Ohm's law** relates voltage, current, and resistance: $V = I\\,R \\, \\leftrightarrow \\, I = \\frac{V}{R}$\n",
    "* **resistance:**\n",
    "    * proportionality constant which quantifies the **hindrance of electron flow** \n",
    "    * unit of resistance: **Ohm** ($\\Omega = \\frac{V}{A}$) in recognition of Georg Simon Ohm (1787-1854)\n",
    "* Ohmic resistors have a constant $R$, while non-ohmic resistors change with conditions such as temperature\n",
    "\n"
   ]
  },
  {
   "cell_type": "markdown",
   "metadata": {
    "slideshow": {
     "slide_type": "slide"
    }
   },
   "source": [
    "## Resistivity & conductivity\n",
    "`el32 + el04`\n",
    "* **resistance** in a uniform wire **depends on**:\n",
    "  * cross-sectional area $A$\n",
    "  * wire length $l$, \n",
    "  * material used, i.e.  resistivity $\\rho$ in [$\\Omega$ m]:\n",
    "$$ R = \\rho \\frac{l}{A} $$\n",
    "\n",
    "* alternative material property: conductivity: $\\sigma = \\frac{1}{\\rho}$\n"
   ]
  },
  {
   "cell_type": "markdown",
   "metadata": {
    "slideshow": {
     "slide_type": "slide"
    }
   },
   "source": [
    "## Temperature dependency of resistivity \n",
    "`el03`\n",
    "* **temperature dependence of resistivity** can be approximated as \n",
    "$$\\rho(T) = \\rho_0\\left(1 + \\alpha\\,(T - T_0)\\right)$$\n",
    "  * $\\alpha$ being the material-specific **temperature coefficient** of resistivity\n",
    "  * **negative temperature coefficients (NTC)**, i.e. lower resistance when heated, such as semiconductor which have more free electrons available at higher temperatures\n",
    "  * **positive temperature coefficients (PTC)**, i.e. higher resistance when heated, such as many metals as the higher temperature increases the likelihood of atom-electron collision\n"
   ]
  },
  {
   "cell_type": "markdown",
   "metadata": {
    "slideshow": {
     "slide_type": "slide"
    }
   },
   "source": [
    "## Electric power\n",
    "* **electric circuits transmit electric energy** $\\rightarrow$ amount of electric power $P$ delivered is therefore of interest (at the very least to you energy provider)\n",
    "* **electric power is the energy per unit time**: $P = \\frac{dU}{dt}$\n",
    "* unit: **Watt** [W]=[J/s]\n",
    "* using $V = \\frac{U}{q} \\rightarrow dU = V dq$ as well as $I = \\frac{dq}{dt} $\n",
    "$$ P = \\frac{dU}{dt} = \\frac{dq}{dt} V $$\n",
    "$$ P = V I $$\n",
    "* applying Ohm's law $V = RI$, we can extend this to:\n",
    "$$ P = V I = I^2 R = \\frac{V^2}{R} $$\n",
    "\n",
    "\n"
   ]
  },
  {
   "cell_type": "markdown",
   "metadata": {
    "slideshow": {
     "slide_type": "slide"
    }
   },
   "source": [
    "## Current density\n",
    "`el07`\n",
    "* switch from macro- to microscopic perspective\n",
    "* **current density** $j$: current per unit cross-sectional area: $j = \\frac{I}{A} \\leftrightarrow I = j A$\n",
    "* for non-uniform current: $I = \\int \\vec{\\bf{j}} \\cdot d\\vec{\\bf{A}}$\n",
    "* $I$ is a macroscopic quantity, defined for e.g. the entire cross-section of a wire, while $\\vec{\\bf{j}}$ is a microscopic quantity, defined for each point.\n",
    "\n"
   ]
  },
  {
   "cell_type": "markdown",
   "metadata": {
    "slideshow": {
     "slide_type": "slide"
    }
   },
   "source": [
    "## Drift speed\n",
    "* macroscopic perspective: electricity moves with the speed of light\n",
    "* microscopic perspective: \n",
    "  * electrons collide with lattice\n",
    "  * electrons move with an **average drift speed** $v_d \\approx 0.05$ mm/s\n",
    "* relate drift speed to (macroscopic) current via number of free electron per unit volume $n = \\frac{N}{A l}$:\n",
    "\n",
    "$$I = \\frac{\\Delta Q}{\\Delta t}  = \\frac{-e N }{\\Delta t} = \\frac{-e n A l}{\\Delta t} = \\frac{-e n A v_d \\Delta t}{\\Delta t}  = -e n A v_d $$\n",
    "$$ j = \\frac{I}{A} = -e n v_d $$\n",
    "\n",
    "* minus sign indicates that electrons drift in opposite direction to macroscopic current\n",
    "\n"
   ]
  },
  {
   "cell_type": "markdown",
   "metadata": {
    "slideshow": {
     "slide_type": "slide"
    }
   },
   "source": [
    "## Microscopic view on Ohm's law\n",
    "* relate current density and electric field in idealized conditions:\n",
    "    * resistances is related to the conductors geometry and resistivity: $R = \\rho \\frac{l}{A}$\n",
    "    * in a uniform field: $V = \\int E dl = E l$\n",
    "    * current $I$ is: $I = j A$\n",
    "    * Ohm's law states: $V= RI$\n",
    "$$ V = IR $$\n",
    "$$ El = j A \\rho \\frac{l}{A}$$\n",
    "$$ El = j \\rho l $$ \n",
    "$$ E = j \\rho $$\n",
    "* **generalization to microscopic view of Ohm's law**\n",
    "    * electric field as proxy for $V$ \n",
    "    * current density as proxy for $I$ \n",
    "    * resistivity as proxy for $R$\n",
    "$$\\vec{\\bf{E}} = \\rho \\vec{\\bf{j}} \\quad \\leftrightarrow \\quad  \\vec{\\bf{j}} = \\frac{1}{\\rho} \\vec{\\bf{E}}$$\n"
   ]
  }
 ],
 "metadata": {
  "kernelspec": {
   "display_name": ".venv",
   "language": "python",
   "name": "python3"
  },
  "language_info": {
   "codemirror_mode": {
    "name": "ipython",
    "version": 3
   },
   "file_extension": ".py",
   "mimetype": "text/x-python",
   "name": "python",
   "nbconvert_exporter": "python",
   "pygments_lexer": "ipython3",
   "version": "3.12.9"
  }
 },
 "nbformat": 4,
 "nbformat_minor": 2
}
