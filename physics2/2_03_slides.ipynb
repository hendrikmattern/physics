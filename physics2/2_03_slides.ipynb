{
 "cells": [
  {
   "cell_type": "markdown",
   "metadata": {
    "slideshow": {
     "slide_type": "slide"
    }
   },
   "source": [
    "<img src=\"../img/Signet_FNW_1.svg\" alt=\"OVGU_FNW_Logo\" width=\"300\" align=\"right\">\n",
    "\n",
    "# 2.3. Capacitance, resistance & current\n",
    "\n",
    "**How can we store electric energy?**\n"
   ]
  },
  {
   "cell_type": "markdown",
   "metadata": {
    "slideshow": {
     "slide_type": "fragment"
    }
   },
   "source": [
    "* using circuit elements such as:\n",
    "    * capacitors (separated charges)\n",
    "    * electric batteries (electrochemical voltage source)\n",
    "* transition from **static electricity to flow of charges**\n",
    "* associated physical concepts: dielectrics, electric power, current, resistance, & ohm's law\n",
    "* **disclaimer**: simplify notation for voltage to $V = V_{BA} = V_B - V_A$\n"
   ]
  },
  {
   "cell_type": "markdown",
   "metadata": {
    "slideshow": {
     "slide_type": "slide"
    }
   },
   "source": [
    "## Capacitors & dielectrics\n",
    "\n",
    "### Basic principle\n",
    "* two plates with opposite charge produce an electric field and voltage\n",
    "* capacitor stores electric charge and energy\n",
    "\n",
    "### Equation and geometry\n",
    "* fundamental relation: $Q = C V$\n",
    "* simple configuration: two parallel plates of area $A$ separated by distance $d$\n",
    "* connecting a battery charges the plates with equal magnitude but opposite sign\n",
    "\n",
    "### Determining capacitance analytically\n",
    "* start from $Q = C V$ and derive $C = \\frac{Q}{V}$\n",
    "* for parallel plates, the electric field is $$E = \\frac{Q}{\\epsilon_0 A}$$\n",
    "* the voltage is $$V = E d = \\frac{Q d}{\\epsilon_0 A}$$ leading to \n",
    "  $$C = \\frac{\\epsilon_0 A}{d}$$\n",
    "* other configurations:\n",
    "  * single isolated conductor: $$C = 4 \\pi \\epsilon_0 r$$\n",
    "  * coaxial cylindrical capacitor: $$C = \\frac{2 \\pi \\epsilon_0 l}{\\ln(r_O/r_I)}$$\n",
    "  * spherical capacitor: $$C = \\frac{4 \\pi \\epsilon_0 r_I r_O}{r_O - r_I}$$\n",
    "\n",
    "### Storing electric energy\n",
    "* work to charge a capacitor: $dW = V\\,dq$\n",
    "* integrating yields \n",
    "  $$W = \\frac{1}{2}\\frac{Q^2}{C} = \\frac{1}{2} C V^2 = \\frac{1}{2} Q V$$\n",
    "\n",
    "### Dielectrics\n",
    "* inserting an insulating material increases the breakdown voltage and allows smaller gaps\n",
    "* dielectric increases capacitance by a factor $K$: $$C = K\\,C_0$$\n",
    "* material permittivity is defined as $$\\epsilon = K\\,\\epsilon_0$$\n",
    "* for a parallel-plate capacitor with a dielectric: $$C = \\frac{\\epsilon A}{d}$$\n",
    "\n",
    "---\n",
    "\n",
    "## Start moving: electric current, resistance & ohm's law\n",
    "\n",
    "### Electric battery\n",
    "* battery provides a voltage that drives current in a circuit\n",
    "* historical insight: galvani discovered animal electricity and volta developed the first battery\n",
    "* simple battery: a zinc electrode and a carbon electrode in sulfuric acid create a voltage by separating charges\n",
    "* terminals: negative electrode (cathode) and positive electrode (anode)\n",
    "\n",
    "### Electric current\n",
    "* average current defined as $$\\bar{I} = \\frac{\\Delta Q}{\\Delta t}$$\n",
    "* instantaneous current defined as $$I = \\frac{dQ}{dt}$$\n",
    "* conservation of charge: current is constant throughout a continuous conductor\n",
    "* conventional current flows from positive to negative, while electrons move from negative to positive\n",
    "\n",
    "### Ohm's law & resistors\n",
    "* ohm's law relates voltage, current, and resistance: $$V = I\\,R \\quad \\leftrightarrow \\quad I = \\frac{V}{R}$$\n",
    "* resistance quantifies the hindrance of electron flow\n",
    "* ohmic resistors have a constant $R$, while non-ohmic resistors change with conditions such as temperature\n",
    "* unit of resistance: ohm ($\\Omega = \\frac{V}{A}$)\n",
    "\n",
    "### Resistivity & conductivity\n",
    "* resistance in a uniform wire: $$R = \\rho\\,\\frac{l}{A}$$\n",
    "* resistivity $\\rho$ is a material property and conductivity is $$\\sigma = \\frac{1}{\\rho}$$\n",
    "* temperature dependence of resistivity can be approximated as \n",
    "  $$\\rho(T) = \\rho_0\\left(1 + \\alpha\\,(T - T_0)\\right)$$\n",
    "\n",
    "### Electric power\n",
    "* electric power is the energy per unit time: $$P = \\frac{dU}{dt}$$\n",
    "* for a circuit, power can be expressed as $$P = V\\,I$$\n",
    "* using ohm's law, alternative forms are $$P = I^2\\,R$$ or $$P = \\frac{V^2}{R}$$\n",
    "* unit of power: watt ($1\\,\\text{W} = 1\\,\\text{J/s}$)\n",
    "\n",
    "### Current density & drift speed\n",
    "* current density is the current per unit cross-sectional area: $$\\vec{\\bf{j}} = \\frac{I}{A}$$\n",
    "* for non-uniform current, $$I = \\int \\vec{\\bf{j}} \\cdot d\\vec{\\bf{A}}$$\n",
    "* microscopic perspective: electrons move with an average drift speed $v_d$\n",
    "* relating drift speed to current:\n",
    "  * $I = -e\\,n\\,A\\,v_d$ where $n$ is the free electron density\n",
    "  * current density becomes $$\\vec{\\bf{j}} = -e\\,n\\,v_d$$\n",
    "* microscopic ohm's law relates electric field and current density: $$\\vec{\\bf{E}} = \\rho\\,\\vec{\\bf{j}}$$\n"
   ]
  }
 ],
 "metadata": {
  "kernelspec": {
   "display_name": ".venv",
   "language": "python",
   "name": "python3"
  },
  "language_info": {
   "codemirror_mode": {
    "name": "ipython",
    "version": 3
   },
   "file_extension": ".py",
   "mimetype": "text/x-python",
   "name": "python",
   "nbconvert_exporter": "python",
   "pygments_lexer": "ipython3",
   "version": "3.12.9"
  }
 },
 "nbformat": 4,
 "nbformat_minor": 2
}
