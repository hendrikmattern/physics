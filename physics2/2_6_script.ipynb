{
 "cells": [
  {
   "cell_type": "markdown",
   "metadata": {},
   "source": [
    "<img src=\"../img/Signet_FNW_1.svg\" alt=\"OVGU_FNW_Logo\" width=\"300\" align=\"right\">\n",
    "\n",
    "# 2.6. Electromagnets, induction &amp; inductance\n",
    "\n",
    "\n",
    "last chapter we introduced amperes law and ended with hysteresis ...\n",
    "\n",
    "follow up with solenoids and toroids, which are often used as electromagnets.\n",
    "\n",
    "... induction and inductance as well as shortly their application"
   ]
  },
  {
   "cell_type": "markdown",
   "metadata": {},
   "source": [
    "## 2.6.1.\n",
    "\n",
    "\n",
    "### Magnetic field of a solenoid and a toroid\n",
    "\n",
    "\n",
    "....\n",
    "\n",
    "\n",
    "<!--- todo: images-->\n",
    "\n"
   ]
  },
  {
   "cell_type": "markdown",
   "metadata": {},
   "source": []
  }
 ],
 "metadata": {
  "kernelspec": {
   "display_name": ".venv",
   "language": "python",
   "name": "python3"
  },
  "language_info": {
   "codemirror_mode": {
    "name": "ipython",
    "version": 3
   },
   "file_extension": ".py",
   "mimetype": "text/x-python",
   "name": "python",
   "nbconvert_exporter": "python",
   "pygments_lexer": "ipython3",
   "version": "3.12.8"
  }
 },
 "nbformat": 4,
 "nbformat_minor": 2
}
