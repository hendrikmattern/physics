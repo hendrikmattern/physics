{
 "cells": [
  {
   "cell_type": "markdown",
   "metadata": {},
   "source": [
    "<img src=\"../img/Signet_FNW_1.svg\" alt=\"OVGU_FNW_Logo\" width=\"300\" align=\"right\">\n",
    "\n",
    "# 2.9. Geometrical optics: Refection &amp; refraction\n",
    "\n",
    "Nowadays we know that light has particle and wave properties, a concept known as *wave-particle duality*. \n",
    "However, when light interacts with objects much larger than its tiny wavelength, its wave nature becomes less significant. \n",
    "In such scenarios, we can effectively approximate light as traveling in straight lines called rays. \n",
    "Geometric optics is this simplified model that allows us to understand *reflection &amp; refraction* as well as (in the next chapter) lenses and optical instruments."
   ]
  },
  {
   "cell_type": "markdown",
   "metadata": {},
   "source": []
  }
 ],
 "metadata": {
  "kernelspec": {
   "display_name": ".venv",
   "language": "python",
   "name": "python3"
  },
  "language_info": {
   "codemirror_mode": {
    "name": "ipython",
    "version": 3
   },
   "file_extension": ".py",
   "mimetype": "text/x-python",
   "name": "python",
   "nbconvert_exporter": "python",
   "pygments_lexer": "ipython3",
   "version": "3.12.8"
  }
 },
 "nbformat": 4,
 "nbformat_minor": 2
}
