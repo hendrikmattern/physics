{
 "cells": [
  {
   "cell_type": "markdown",
   "metadata": {
    "slideshow": {
     "slide_type": "slide"
    }
   },
   "source": [
    "<img src=\"../img/Signet_FNW_1.svg\" alt=\"OVGU_FNW_Logo\" width=\"300\" align=\"right\">\n",
    "\n",
    "# 2.8. TITLE\n",
    "\n",
    "**Why does holding a car key to the head increase the range to open the car?**\n",
    "\n"
   ]
  },
  {
   "cell_type": "markdown",
   "metadata": {
    "slideshow": {
     "slide_type": "fragment"
    }
   },
   "source": [
    "* ANSWER FRAGMENT\n",
    "\n",
    "-> answer requires addition to the script \\lambda_n = \\lambda / n\n"
   ]
  },
  {
   "cell_type": "markdown",
   "metadata": {
    "slideshow": {
     "slide_type": "slide"
    }
   },
   "source": [
    "## Ovgu_fnw_logo\n",
    "* university logo for ovgu fnw\n",
    "\n",
    "## Maxwell’s equations & electromagnetic waves\n",
    "* maxwell unified electricity and magnetism with four fundamental equations\n",
    "* electromagnetic waves were predicted and later confirmed experimentally\n",
    "* these concepts form the basis for modern communication and special relativity\n",
    "\n",
    "### revisiting ampère's law: changing electric fields produce magnetic fields\n",
    "* electric currents generate magnetic fields and, via faraday's law, magnetic fields generate electric fields\n",
    "* a changing electric field produces a magnetic field; this is captured by the concept of displacement current\n",
    "* original ampère's law in integral form is given by  \n",
    "  $$\\oint \\vec{\\bf{B}} \\cdot d\\vec{\\bf{l}} = \\mu_0 I_{\\text{enc}}$$\n",
    "* displacement current is defined as  \n",
    "  $$I_D = \\epsilon_0 \\frac{d\\Phi_E}{dt}$$\n",
    "* with the correction, ampère's law becomes  \n",
    "  $$\\oint \\vec{\\bf{B}} \\cdot d\\vec{\\bf{l}} = \\mu_0 I_{\\text{enc}} + \\mu_0 \\epsilon_0 \\frac{d\\Phi_E}{dt}$$\n",
    "* the magnetic field outside a capacitor is  \n",
    "  $$B = \\frac{\\mu_0 I}{2\\pi r}$$\n",
    "\n",
    "### gauss's law for magnetism\n",
    "* the electric flux through a closed surface is  \n",
    "  $$\\Phi_E = \\oint \\vec{\\bf{E}} \\cdot d\\vec{\\bf{A}} = \\frac{Q_{\\text{enc}}}{\\epsilon_0}$$\n",
    "* since no magnetic monopoles exist, the magnetic flux is  \n",
    "  $$\\oint \\vec{\\bf{B}} \\cdot d\\vec{\\bf{A}} = 0$$\n",
    "\n",
    "### maxwell’s equations\n",
    "* the four equations in integral form are:\n",
    "  * gauss's law for electricity:  \n",
    "    $$\\oint \\vec{\\bf{E}} \\cdot d\\vec{\\bf{A}} = \\frac{Q}{\\epsilon_0}$$\n",
    "  * gauss's law for magnetism:  \n",
    "    $$\\oint \\vec{\\bf{B}} \\cdot d\\vec{\\bf{A}} = 0$$\n",
    "  * faraday's law of induction:  \n",
    "    $$\\oint \\vec{\\bf{E}} \\cdot d\\vec{\\bf{l}} = -\\frac{d\\Phi_B}{dt}$$\n",
    "  * ampère's law with maxwell correction:  \n",
    "    $$\\oint \\vec{\\bf{B}} \\cdot d\\vec{\\bf{l}} = \\mu_0 I + \\mu_0 \\epsilon_0 \\frac{d\\Phi_E}{dt}$$\n",
    "* in differential form the equations are:\n",
    "  * $$\\nabla \\cdot \\vec{\\bf{E}} = \\frac{\\rho}{\\epsilon_0}$$\n",
    "  * $$\\nabla \\cdot \\vec{\\bf{B}} = 0$$\n",
    "  * $$\\nabla \\times \\vec{\\bf{E}} = -\\frac{\\partial \\vec{\\bf{B}}}{\\partial t}$$\n",
    "  * $$\\nabla \\times \\vec{\\bf{B}} = \\mu_0 \\vec{\\bf{j}} + \\mu_0 \\epsilon_0 \\frac{\\partial \\vec{\\bf{E}}}{\\partial t}$$\n",
    "* these equations not only unify electricity and magnetism but also predict electromagnetic waves\n",
    "\n",
    "### electromagnetic waves\n",
    "* in empty space (no charges or currents) the integral equations simplify to  \n",
    "  $$\\oint \\vec{\\bf{E}} \\cdot d\\vec{\\bf{A}} = 0 \\quad,\\quad \\oint \\vec{\\bf{B}} \\cdot d\\vec{\\bf{A}} = 0$$\n",
    "* a changing electric field produces a changing magnetic field and vice versa, enabling wave propagation\n",
    "* sinusoidal solutions for plane waves are:\n",
    "  * $$E = E_0 \\sin(kx - \\omega t)$$ with the electric field oscillating in the \\(y\\) direction\n",
    "  * $$B = B_0 \\sin(kx - \\omega t)$$ with the magnetic field oscillating in the \\(z\\) direction\n",
    "* the wave parameters are defined by:\n",
    "  * wave number: $$k = \\frac{2\\pi}{\\lambda}$$\n",
    "  * angular frequency: $$\\omega = 2\\pi f$$\n",
    "  * wave velocity:  \n",
    "    $$\\nu = \\frac{\\omega}{k} = \\frac{1}{\\sqrt{\\epsilon_0 \\mu_0}} = c$$\n",
    "* the poynting vector, representing energy flux, is given by  \n",
    "  $$\\vec{\\bf{S}} = \\frac{1}{\\mu_0} \\vec{\\bf{E}} \\times \\vec{\\bf{B}}$$\n",
    "* the energy density of the electromagnetic field is  \n",
    "  $$u = \\frac{1}{2} \\epsilon_0 E^2 + \\frac{1}{2} \\frac{B^2}{\\mu_0}$$\n",
    "* radiation pressure is determined by the poynting vector:\n",
    "  * for fully absorbed radiation:  \n",
    "    $$P = \\frac{S}{c}$$\n",
    "  * for fully reflected radiation:  \n",
    "    $$P = \\frac{2S}{c}$$\n",
    "\n",
    "### electromagnetic spectrum & and light\n",
    "* all electromagnetic waves propagate at  \n",
    "  $$c = \\frac{1}{\\sqrt{\\epsilon_0 \\mu_0}} = 3 \\times 10^8\\, \\text{m/s}$$\n",
    "* visible light spans frequencies from \\(4.0 \\times 10^{14}\\) to \\(7.5 \\times 10^{14}\\,\\text{Hz}\\) and wavelengths between 400 nm and 750 nm\n",
    "* the relation between frequency and wavelength is  \n",
    "  $$c = \\lambda f$$\n",
    "* beyond visible light, the spectrum includes infrared, ultraviolet, radio waves, microwaves, x-rays, and gamma rays\n",
    "\n",
    "### summary\n",
    "* maxwell’s equations unify electricity and magnetism and predict electromagnetic waves\n",
    "* the introduction of the displacement current resolves inconsistencies in ampère's law\n",
    "* electromagnetic waves are pure field oscillations that carry energy and momentum, as described by the poynting vector\n",
    "* these principles are fundamental to modern communication technologies and underpin special relativity\n"
   ]
  }
 ],
 "metadata": {
  "kernelspec": {
   "display_name": ".venv",
   "language": "python",
   "name": "python3"
  },
  "language_info": {
   "codemirror_mode": {
    "name": "ipython",
    "version": 3
   },
   "file_extension": ".py",
   "mimetype": "text/x-python",
   "name": "python",
   "nbconvert_exporter": "python",
   "pygments_lexer": "ipython3",
   "version": "3.12.9"
  }
 },
 "nbformat": 4,
 "nbformat_minor": 2
}
