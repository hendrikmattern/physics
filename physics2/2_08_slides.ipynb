{
 "cells": [
  {
   "cell_type": "markdown",
   "metadata": {
    "slideshow": {
     "slide_type": "slide"
    }
   },
   "source": [
    "<img src=\"../img/Signet_FNW_1.svg\" alt=\"OVGU_FNW_Logo\" width=\"300\" align=\"right\">\n",
    "\n",
    "# 2.8. Maxwell’s equations &amp; electromagnetic waves\n",
    "\n",
    "**Why does holding a car key to the head increase the range to open the car?**\n",
    "\n",
    "[YouTube - Top Gear](https://www.youtube.com/watch?v=gVQNzqvU9sg)\n",
    "\n",
    "\n",
    "<img src=\"../img/from_wiki/Remote_central_locking.jpg\" alt=\"CarKeyCentralLocking\" width=\"150\"/>\n",
    "\n",
    "*<sub>from [wikipedia](https://en.wikipedia.org/wiki/File:Remote_central_locking.jpg) under [CC0 1.0 Universal](https://creativecommons.org/publicdomain/zero/1.0/deed.en)</sub>*\n"
   ]
  },
  {
   "cell_type": "markdown",
   "metadata": {
    "slideshow": {
     "slide_type": "fragment"
    }
   },
   "source": [
    "* key fob **transmits** electromagnetic (EM) waves\n",
    "* $\\rightarrow$ we need to **understand EM waves**"
   ]
  },
  {
   "cell_type": "markdown",
   "metadata": {
    "slideshow": {
     "slide_type": "slide"
    }
   },
   "source": [
    "## Maxwell &amp; electromagnetism\n",
    "\n",
    "* Initially, **understanding of electricity and magnetism** (Oersted, Ampère, and Faraday) was **fragmented**, with phenomena being studied in isolation \n",
    "* **James Clerk Maxwell** (1831–1879):\n",
    "  * **unified electricity and magnetism** through four fundamental equations $\\rightarrow$ Maxwell’s equations \n",
    "  * used **concept of fields** (introduced by Faraday) \n",
    "  * predicted the existence of **electromagnetic waves**, which were later experimentally confirmed by *Heinrich Hertz* (1857-1894)\n"
   ]
  },
  {
   "cell_type": "markdown",
   "metadata": {
    "slideshow": {
     "slide_type": "slide"
    }
   },
   "source": [
    "## Maxwell's correction of Ampère's law: Recap what we know\n",
    "\n",
    "We already know that: \n",
    "1. time-constant electric currents generate time-constant magnetic fields (first observed by &Oslash;rsted & Ampère's law) \n",
    "    $$\\oint \\vec{\\bf{B}} \\cdot d\\vec{\\bf{l}} = \\mu_0 I_{\\text{enc}}$$\n",
    "2. changing magnetic fields generate electric fields (Faraday's law)\n",
    "    $$\\oint \\vec{\\bf{E}} \\cdot d\\vec{\\bf{l}} = -\\frac{d\\Phi_B}{dt}$$ \n",
    "\n",
    "$\\rightarrow$ Maxwell's contribution/idea: **changing electric field produces a magnetic field**, leading to the concept of **displacement current**\n"
   ]
  },
  {
   "cell_type": "markdown",
   "metadata": {
    "slideshow": {
     "slide_type": "slide"
    }
   },
   "source": [
    "\n",
    "## Maxwell's correction of Ampère's law: The need for displacement current\n",
    "\n",
    "* Ampère's law: $\\oint \\vec{\\bf{B}} \\cdot d\\vec{\\bf{l}} = \\mu_0 I_{\\text{enc}}$\n",
    "  * $\\rightarrow$ **magnetic field $\\vec{\\bf{B}}$ around a closed loop is proportional to enclosed current $I_{\\text{enc}}$**\n",
    "* Maxwell realized there are **scenarios where Ampère's law fails**:\n",
    "  * imaging charing capacitor:\n",
    "    * during charging, current in wire generates magnetic field\n",
    "    * no charges pass gap between plates\n"
   ]
  },
  {
   "cell_type": "markdown",
   "metadata": {
    "slideshow": {
     "slide_type": "slide"
    }
   },
   "source": [
    "## Maxwell's correction of Ampère's law: The need for displacement current (cont')\n",
    "* **important** $\\oint$ is a line integral over the closed path, but $I_{\\text{enc}}$ considers the current through the surface bound by the closed path\n",
    "* for surface $S_1$: **everything works**, enclosed current generates magnetic field $\\oint \\vec{\\bf{B}} \\cdot d\\vec{\\bf{l}} = \\mu_0 I_{\\text{enc}} \\rightarrow B =\\frac{\\mu_0 I_{\\text{enc}}}{2 \\pi r} $\n",
    "* for surface $S_2$: **fails because no current through $S_2$**: $\\oint \\vec{\\bf{B}} \\cdot d\\vec{\\bf{l}} \\neq 0$ but $\\mu_0 I_{\\text{enc}} = 0$\n",
    "\n",
    "<img src=\"../img/from_wiki/Displacement_current_in_capacitor.svg.png\" alt=\"RC_lowpass\" width=\"400\"/>\n",
    "\n",
    "*<sub>from [wikipedia](https://en.wikipedia.org/wiki/File:Displacement_current_in_capacitor.svg), public domain</sub>*\n"
   ]
  },
  {
   "cell_type": "markdown",
   "metadata": {
    "slideshow": {
     "slide_type": "slide"
    }
   },
   "source": [
    "## Maxwell's correction of Ampère's law: Introducing the displacement current\n",
    "\n",
    "* Maxwell resolved issue by introducing **displacement current** $I_D$ with $Q = C V = \\epsilon_0 \\frac{A}{d} \\, E d = \\epsilon_0 A E$:\n",
    "$$ I_D = \\frac{dQ}{dt} = \\epsilon_0 \\frac{A d E}{dt} =\\epsilon_0 \\frac{d \\Phi_e}{dt}$$\n",
    "* displacement current is **not a real flow of charge**, but it represents the effect of a time-varying electric field to generate the observed magnetic field\n",
    "\n",
    "* **Ampère's law with displacement current:**  \n",
    "  $$\\oint \\vec{\\bf{B}} \\cdot d\\vec{\\bf{l}} = \\mu_0 I_{\\text{enc}} + \\mu_0 \\epsilon_0 \\frac{d\\Phi_E}{dt}$$\n",
    "\n"
   ]
  },
  {
   "cell_type": "markdown",
   "metadata": {
    "slideshow": {
     "slide_type": "slide"
    }
   },
   "source": [
    "## Physics &amp; symmetry (obsession): Gauss's law for magnetism\n",
    "`sim - Gausss' laws`\n",
    "* **we already know**, the electric flux through a closed surface is  \n",
    "  $$\\Phi_E = \\oint \\vec{\\bf{E}} \\cdot d\\vec{\\bf{A}} = \\frac{Q_{\\text{enc}}}{\\epsilon_0}$$\n",
    "* **since no magnetic monopoles exist**, the magnetic flux through a close surface is  \n",
    "  $$\\Phi_B = \\oint \\vec{\\bf{B}} \\cdot d\\vec{\\bf{A}} = 0$$\n"
   ]
  },
  {
   "cell_type": "markdown",
   "metadata": {
    "slideshow": {
     "slide_type": "slide"
    }
   },
   "source": [
    "## Putting everything together: Maxwell’s equations \n",
    "\n",
    "* **4 equations to unify electricity and magnetism into electromagnetism**  \n",
    "  * Gauss's law for electricity: $$\\oint \\vec{\\bf{E}} \\cdot d\\vec{\\bf{A}} = \\frac{Q_{enc}}{\\epsilon_0}$$\n",
    "  * Gauss's law for magnetism: $$\\oint \\vec{\\bf{B}} \\cdot d\\vec{\\bf{A}} = 0$$\n",
    "  * Faraday's law of induction: $$\\oint \\vec{\\bf{E}} \\cdot d\\vec{\\bf{l}} = -\\frac{d\\Phi_B}{dt}$$\n",
    "  * Ampère's law with Maxwell correction: $$\\oint \\vec{\\bf{B}} \\cdot d\\vec{\\bf{l}} = \\mu_0 I + \\mu_0 \\epsilon_0 \\frac{d\\Phi_E}{dt}$$\n",
    "\n",
    "  "
   ]
  },
  {
   "cell_type": "markdown",
   "metadata": {
    "slideshow": {
     "slide_type": "slide"
    }
   },
   "source": [
    "## Maxwell’s Equations: (1) Gauss's law for electricity\n",
    "$$ \\oint \\vec{\\bf{E}} d\\vec{\\bf{A}}  = \\frac{Q_{enc}}{\\epsilon_0} $$\n",
    "\n",
    "This states that **electric charges produce electric fields**, and the **total electric flux** of $ \\bf{E} $ **through a closed surface** is **proportional to the charge enclosed**.\n",
    "\n",
    "<small>`Note: We take the integral over a closed surface.`</small>\n"
   ]
  },
  {
   "cell_type": "markdown",
   "metadata": {
    "slideshow": {
     "slide_type": "slide"
    }
   },
   "source": [
    "\n",
    "## Maxwell’s Equations: (2) Gauss’s law for magnetism\n",
    "$$ \\oint \\vec{\\bf{B}} d\\vec{\\bf{A}}  = 0$$\n",
    "This implies that magnetic field lines have no beginning or end, meaning **no magnetic monopoles exist**.\n",
    "\n",
    "<small>`Note: We take the integral over a closed surface.`</small>\n"
   ]
  },
  {
   "cell_type": "markdown",
   "metadata": {
    "slideshow": {
     "slide_type": "slide"
    }
   },
   "source": [
    "\n",
    "## Maxwell’s Equations: (3) Faraday’s law of induction:\n",
    "$$ \\oint \\vec{\\bf{E}} d \\vec{\\bf{l}} = - \\frac{d\\Phi_B}{dt} $$\n",
    "This describes how a **changing magnetic field induces an electric field**, which is the principle behind electrical generators.\n",
    "\n",
    "<small>`Note: We take the integral around a closed path.`</small>\n"
   ]
  },
  {
   "cell_type": "markdown",
   "metadata": {
    "slideshow": {
     "slide_type": "slide"
    }
   },
   "source": [
    "\n",
    "## Maxwell’s Equations: (4) Ampère's law with Maxwell correction:\n",
    "$$\\oint \\vec{\\bf{B}} \\cdot d\\vec{\\bf{l}} = \\mu_0 I_{\\text{enc}} + \\mu_0 \\epsilon_0 \\frac{d\\Phi_E}{dt} $$\n",
    "This states that an **electric current and/or a changing electric field generates a magnetic field**.\n",
    "\n",
    "<small>`Note: We take the integral around a closed path.`</small>\n"
   ]
  },
  {
   "cell_type": "markdown",
   "metadata": {
    "slideshow": {
     "slide_type": "slide"
    }
   },
   "source": [
    "## Significance of Maxwell's equations\n",
    "\n",
    "1. **Unification of electricity and magnetism:**  Electricity and magnetism are intrinsically linked\n",
    "\n",
    "2. **Prediction of electromagnetic waves and light:**  Predicted existence of electromagnetic waves that propagate at a speed calculated from $\\epsilon_0$ and $\\mu_0$ (speed of light). Light itself is an electromagnetic wave, i.e. unifying optics with electromagnetism.\n",
    "\n",
    "3.  **Foundation of Classical Electromagnetism:** Maxwell's equations form the complete and consistent foundation of classical electromagnetism and describe all classical electromagnetic phenomena. \n",
    "\n",
    "4.  **Basis for Special Relativity:**  While formulated within classical physics, Maxwell's equations played crucial role in development of Special Relativity, i.e. the fact that speed of light is constant for all observers.\n"
   ]
  },
  {
   "cell_type": "markdown",
   "metadata": {
    "slideshow": {
     "slide_type": "slide"
    }
   },
   "source": [
    "## Electromagnetic waves: \n",
    "`ew11 + ew23 - transmit / receive EM waves` \n",
    "* let's start with an experiment and observe"
   ]
  },
  {
   "cell_type": "markdown",
   "metadata": {
    "slideshow": {
     "slide_type": "fragment"
    }
   },
   "source": [
    "* **antenna length and orientation** seems to play a role, **why?**"
   ]
  },
  {
   "cell_type": "markdown",
   "metadata": {
    "slideshow": {
     "slide_type": "slide"
    }
   },
   "source": [
    "## Electromagnetic waves: Propagation without matter\n",
    "* Maxwell equations for empty space\n",
    "* no charges $\\rightarrow$ **closed E-field lines** &amp; **only displacement current**\n",
    "\n",
    "$$\\oint \\vec{\\bf{E}} \\cdot d\\vec{\\bf{A}} = 0$$\n",
    "$$\\oint \\vec{\\bf{B}} \\cdot d\\vec{\\bf{A}} = 0$$\n",
    "$$\\oint \\vec{\\bf{E}} \\cdot d\\vec{\\bf{l}} = -\\frac{d\\Phi_B}{dt}$$\n",
    "$$ \\oint \\vec{\\bf{B}} \\cdot d\\vec{\\bf{l}} = \\mu_0 \\epsilon_0 \\frac{d\\Phi_E}{dt}$$\n",
    "\n",
    "**changing electric field produces a changing magnetic field and vice versa $\\rightarrow$ wave propagation**"
   ]
  },
  {
   "cell_type": "markdown",
   "metadata": {
    "slideshow": {
     "slide_type": "slide"
    }
   },
   "source": [
    "## Electromagnetic waves: Transmission by dipole antenna \n",
    "* in essence LC-circuit with AC supply\n",
    "\n",
    "<img src=\"../img/from_wiki/Dipolentstehung.gif\" alt=\"dipole_from_LC\" width=\"200\"/>\n",
    "<img src=\"../img/from_wiki/Dipole_antenna_standing_waves_animation_6_-_5fps.gif\" alt=\"AntennaTransmit\" width=\"500\"/>\n",
    "\n",
    "*<sub>[left] from [wikipedia](https://de.wikipedia.org/wiki/Datei:Dipolentstehung.gif) by user Averse under [CC Attribution-ShareAlike 3.0 Unported](https://creativecommons.org/licenses/by-sa/3.0/deed.en)\n",
    "[right] from [wikipedia](https://en.wikipedia.org/wiki/File:Dipole_antenna_standing_waves_animation_6_-_5fps.gif) under [CC0 1.0 Universal](https://creativecommons.org/publicdomain/zero/1.0/deed.en)</sub>*"
   ]
  },
  {
   "cell_type": "markdown",
   "metadata": {
    "slideshow": {
     "slide_type": "slide"
    }
   },
   "source": [
    "## Electromagnetic waves: Transmission by dipole antenna (cont')\n",
    "\n",
    "* while complex to describe in the near-field, EM-waves can be are reasonably flat in the far field\n",
    "* $\\rightarrow$ EM-waves are **plane waves** in the radiation/far field \n",
    "\n",
    "<img src=\"../img/from_wiki/Felder_um_Dipol.svg.png\" alt=\"DipoleEBfield\" width=\"250\"/>\n",
    "<img src=\"../img/from_wiki/Dipole_xmting_antenna_animation_4_408x318x150ms.gif\" alt=\"DipoleEBfield_gif\" width=\"250\"/>\n",
    "\n",
    "*<sub>[left] from [wikipedia](https://de.wikibooks.org/wiki/Datei:Felder_um_Dipol.svg) under [CC0 1.0 Universal](https://creativecommons.org/publicdomain/zero/1.0/deed.en)\n",
    "[right] from [wikipedia](https://de.wikibooks.org/wiki/Datei:Dipole_xmting_antenna_animation_4_408x318x150ms.gif) under [CC0 1.0 Universal](https://creativecommons.org/publicdomain/zero/1.0/deed.en)</sub>*\n"
   ]
  },
  {
   "cell_type": "markdown",
   "metadata": {
    "slideshow": {
     "slide_type": "slide"
    }
   },
   "source": [
    "## Electromagnetic waves: Transversal waves\n",
    "* by definition $\\vec{\\bf{E}}$ perpendicular to $\\vec{\\bf{B}}$ $\\rightarrow$ **wave travels perpendicular to E- and B-field** ($\\vec{\\bf{E}} \\times \\vec{\\bf{B}}$)\n",
    "* $\\rightarrow$ EM waves are **transversal waves**\n",
    "* further, B and E are **in phase**\n",
    "\n",
    "<img src=\"../img/from_wiki/Electromagneticwave3D.gif\" alt=\"EMwave\" width=\"300\"/>\n",
    "\n",
    "*<sub>from [wikipedia](https://en.wikipedia.org/wiki/File:Electromagneticwave3D.gif)[CC Attribution-ShareAlike 3.0 Unported](https://creativecommons.org/licenses/by-sa/3.0/deed.en)</sub>*\n"
   ]
  },
  {
   "cell_type": "markdown",
   "metadata": {
    "slideshow": {
     "slide_type": "slide"
    }
   },
   "source": [
    "## Electromagnetic waves: Traveling, sinusoidal waves\n",
    "\n",
    "* EM waves with wavelength $\\lambda$ generated by sinusoidal oscillations at antenna \n",
    "* in general, traveling wave with velocity $\\nu = f \\lambda = \\frac{\\omega}{k}$, angular frequency  $\\omega = 2 \\pi f$, and wave number $k = \\frac{2\\pi}{\\lambda}$:\n",
    "$$D(x,t) = A \\sin\\Bigl( \\frac{2\\pi}{\\lambda}(x -\\nu t \\Bigr)) = A \\sin ( k x - \\omega t)$$\n",
    "* sinusoidal description of plane EM waves:\n",
    "  * $E = E_0 \\sin(kx - \\omega t)$ with the E-field oscillating in $y$ direction\n",
    "  * $B = B_0 \\sin(kx - \\omega t)$ with the B-field oscillating in $z$ direction\n",
    "\n",
    "`Note: waves moving to the right, i.e. $(kx - \\omega t)$, waves moving to the left, i.e. $(kx + \\omega t)$`\n"
   ]
  },
  {
   "cell_type": "markdown",
   "metadata": {
    "slideshow": {
     "slide_type": "slide"
    },
    "vscode": {
     "languageId": "plaintext"
    }
   },
   "source": [
    "## Electromagnetic waves: Receiving &amp; wavelength\n",
    "`recap ew11 + ew23`\n",
    "* EM wave needs to **induce voltage** in antenna to be \"received\"\n",
    "* alternating E-field of EM-waves causes electric oscillations in antenna\n",
    "* dipole antenna **resonant** if is length is approx. half EM wavelength \n",
    "* at resonance, induced currents **add constructively** (remember standing waves) \n",
    "\n",
    "<img src=\"../img/from_wiki/Dipole_receiving_antenna_animation_6_800x394x150ms.gif\" alt=\"DipoleEBfield_receive\" width=\"300\"/>\n",
    "<img src=\"../img/from_wiki/Standing_waves_on_a_string.gif\" alt=\"StandingWave\" width=\"200\"/>\n",
    "\n",
    "*<sub>[left] from [wikipedia](https://en.wikipedia.org/wiki/File:Standing_waves_on_a_string.gif)[CC Attribution-ShareAlike 3.0 Unported](https://creativecommons.org/licenses/by-sa/3.0/deed.en)</sub>*\n",
    "[right] from [wikipedia](https://de.wikipedia.org/wiki/Datei:Dipole_receiving_antenna_animation_6_800x394x150ms.gif) under [CC0 1.0 Universal](https://creativecommons.org/publicdomain/zero/1.0/deed.en)</sub>*\n",
    "\n"
   ]
  },
  {
   "cell_type": "markdown",
   "metadata": {
    "slideshow": {
     "slide_type": "slide"
    }
   },
   "source": [
    "## Electromagnetic waves: Receiving &amp; polarization\n",
    "`recap ew11 + ew23` \n",
    "* orientation of E-field to antenna needs to match to induce voltage\n",
    "* most common polarizations: linear and circular\n",
    "\n",
    "<img src=\"../img/from_wiki/Wave_Polarisation.gif\" alt=\"wave_polarization\" width=\"150\"/>\n",
    "\n",
    "*<sub>from [wikipedia](https://en.wikipedia.org/wiki/File:Wave_Polarisation.gif) under [CC Attribution-ShareAlike 4.0 International](https://creativecommons.org/licenses/by-sa/4.0/deed.en)</sub>*\n",
    "\n"
   ]
  },
  {
   "cell_type": "markdown",
   "metadata": {
    "slideshow": {
     "slide_type": "slide"
    }
   },
   "source": [
    "## Electromagnetic waves: Velocity &amp; speed of light\n",
    "`ow28`\n",
    "\n",
    "* wave velocity defined as:  \n",
    "  $$\\nu = \\frac{\\omega}{k} = f \\lambda$$\n",
    "\n",
    "* **is the speed of light constant?**\n"
   ]
  },
  {
   "cell_type": "markdown",
   "metadata": {
    "slideshow": {
     "slide_type": "slide"
    }
   },
   "source": [
    "## Electromagnetic waves: Velocity &amp; speed of light (cont')\n",
    "* for EM wave in vacuum &amp; since E and B in phase:\n",
    "$$\\nu = \\frac{E}{B} = \\frac{1}{\\sqrt{\\epsilon_0 \\mu_0}} = c$$\n",
    "* thus, **speed of EM waves in vacuum is the speed of light** and $c= \\lambda f = \\text{const}$\n"
   ]
  },
  {
   "cell_type": "markdown",
   "metadata": {
    "slideshow": {
     "slide_type": "fragment"
    }
   },
   "source": [
    "* for EM wave in matter, things are different:\n",
    "    * $\\nu \\leq c$:\n",
    "    * frequency remains constant\n",
    "    * wavelength changes $\\lambda_n = \\frac{v}{f} = \\frac{c}{nf} = \\frac{\\lambda}{n}$\n",
    "\n",
    "`ew22 - H20 and decimeter waves`"
   ]
  },
  {
   "cell_type": "markdown",
   "metadata": {
    "slideshow": {
     "slide_type": "slide"
    }
   },
   "source": [
    "## Revisiting \"Why does holding a car key to the head increase the range to open the car?\"\n",
    "\n",
    "`ew22 - H20 and decimeter waves`\n",
    "\n",
    "<img src=\"../img/from_wiki/Remote_central_locking.jpg\" alt=\"CarKeyCentralLocking\" width=\"150\"/>\n",
    "\n",
    "*<sub>from [wikipedia](https://en.wikipedia.org/wiki/File:Remote_central_locking.jpg) under [CC0 1.0 Universal](https://creativecommons.org/publicdomain/zero/1.0/deed.en)</sub>*\n",
    "\n",
    "\n",
    "* key fob transmits EM-waves at 300 MHz - 433 MHz\n",
    "* in air: wave length $\\approx 1$ m (\\@ 300 MHz)  \n",
    "* in water/brain: wave length $\\approx 10-12$ cm (\\@ 300 MHz)   \n",
    "* head acts as resonator (constructive interference) to amplify signal/boost range\n"
   ]
  },
  {
   "cell_type": "markdown",
   "metadata": {
    "slideshow": {
     "slide_type": "slide"
    }
   },
   "source": [
    "## Electromagnetic spectrum &amp; light\n",
    "* all electromagnetic waves propagate at $c = \\lambda f = \\frac{1}{\\sqrt{\\epsilon_0 \\mu_0}} = 300 \\times 10^6\\, \\text{m/s}$\n",
    "* visible light spans frequencies from $(4.0 - 7.5) \\times 10^{14}\\,\\text{Hz}$ (tera-hertz) and wavelengths between 400 nm and 750 nm\n",
    "\n",
    "\n",
    "<img src=\"../img/from_wiki/EM_Spectrum_Properties_edit.svg.png\" alt=\"EMSpectrum\" width=\"800\"/>\n",
    "\n",
    "*<sub>from [wikipedia](https://en.wikipedia.org/wiki/File:EM_Spectrum_Properties_edit.svg)[CC Attribution-ShareAlike 3.0 Unported](https://creativecommons.org/licenses/by-sa/3.0/deed.en)</sub>*"
   ]
  },
  {
   "cell_type": "markdown",
   "metadata": {},
   "source": []
  }
 ],
 "metadata": {
  "kernelspec": {
   "display_name": ".venv",
   "language": "python",
   "name": "python3"
  },
  "language_info": {
   "codemirror_mode": {
    "name": "ipython",
    "version": 3
   },
   "file_extension": ".py",
   "mimetype": "text/x-python",
   "name": "python",
   "nbconvert_exporter": "python",
   "pygments_lexer": "ipython3",
   "version": "3.12.9"
  }
 },
 "nbformat": 4,
 "nbformat_minor": 2
}
