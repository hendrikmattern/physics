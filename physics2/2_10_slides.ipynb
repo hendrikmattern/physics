{
 "cells": [
  {
   "cell_type": "markdown",
   "metadata": {
    "slideshow": {
     "slide_type": "slide"
    }
   },
   "source": [
    "<img src=\"../img/Signet_FNW_1.svg\" alt=\"OVGU_FNW_Logo\" width=\"300\" align=\"right\">\n",
    "\n",
    "# 2.10. Geometrical optics: Optical instruments\n",
    "\n",
    "`os15`\n",
    "\n",
    "**Explain this magic!**\n",
    "\n"
   ]
  },
  {
   "cell_type": "markdown",
   "metadata": {
    "slideshow": {
     "slide_type": "fragment"
    }
   },
   "source": [
    "Agenda:\n",
    "* use reflection and refraction to study lenses and optical instruments\n",
    "* introduces key concepts such as image formation, aberrations, and optical limitations"
   ]
  },
  {
   "cell_type": "markdown",
   "metadata": {
    "slideshow": {
     "slide_type": "slide"
    }
   },
   "source": [
    "## Lens shapes \n",
    "\n",
    "* lenses have two surfaces which can be planar, convex or concave\n",
    "* convex lenses are converging \n",
    "* concave lenses are diverging\n",
    "\n",
    "<img src=\"../img/from_wiki/Lenses_en.svg.png\" alt=\"LensShapes\" width=\"450\"/>\n",
    "\n",
    "*<sub>from [wikipedia](https://en.wikipedia.org/wiki/File:Lenses_en.svg)[CC Attribution-ShareAlike 3.0 Unported](https://creativecommons.org/licenses/by-sa/3.0/deed.en)</sub>*\n",
    "\n"
   ]
  },
  {
   "cell_type": "markdown",
   "metadata": {
    "slideshow": {
     "slide_type": "slide"
    }
   },
   "source": [
    "## Ray tracing at a (thick) lens\n",
    "`sim - ray tracing thick lens`\n",
    "\n",
    "* when a **ray** enters air-to-lens and then lens-to-air, it is **refracted according to Snell's law**\n",
    "\n",
    "  \n"
   ]
  },
  {
   "cell_type": "markdown",
   "metadata": {
    "slideshow": {
     "slide_type": "slide"
    }
   },
   "source": [
    "## Ray tracing at a (thick) lens (cont')\n",
    "`os15`\n",
    "\n",
    "<img src=\"../img/from_wiki/Cardinal-points-2.svg.png\" alt=\"CardinalPoints\" width=\"200\"/>\n",
    "<img src=\"../img/from_wiki/Single_Thick_Lens_Imaging,_2024-10-07.png\" alt=\"ThickLens\" width=\"400\"/>\n",
    "\n",
    "\n",
    "*<sub>[left] from [wikipedia by DrBob](https://en.wikipedia.org/wiki/File:Cardinal-points-2.svg) [CC Attribution-ShareAlike 3.0 Unported](https://creativecommons.org/licenses/by-sa/3.0/deed.en)\n",
    "[right] from [wikipedia](https://en.wikipedia.org/wiki/File:Single_Thick_Lens_Imaging,_2024-10-07.png) under [CC Attribution-ShareAlike 4.0 International](https://creativecommons.org/licenses/by-sa/4.0/deed.en)</sub>*\n",
    "\n"
   ]
  },
  {
   "cell_type": "markdown",
   "metadata": {
    "slideshow": {
     "slide_type": "slide"
    }
   },
   "source": [
    "## Thin Lens Model: Key assumptions\n",
    "\n",
    "* **negligible lens thickness &amp; single principal plane**: \n",
    "    * both refractions are occurring at a single plane at the center of the lens\n",
    "\n",
    "* **paraxial ray approximation**  \n",
    "    * only rays close to and nearly parallel with the optical axis are considered  \n",
    "    * small-angle approximations applies: $\\sin(\\theta) \\approx \\theta$, $\\tan(\\theta) \\approx \\theta$, $\\cos(\\theta) \\approx 1$\n"
   ]
  },
  {
   "cell_type": "markdown",
   "metadata": {
    "slideshow": {
     "slide_type": "slide"
    }
   },
   "source": [
    "## Thin Lens Model: Advantages\n",
    "\n",
    "* simplifies ray tracing and widely used in geometric optics\n",
    "* focal length is the same on both sides in the thin lens approximation \n",
    "\n",
    "\n",
    "<img src=\"../img/from_wiki/Single_Lens_Imaging,_2024-05-30.png\" alt=\"ThinLens\" width=\"400\"/>\n",
    "\n",
    "*<sub>from [wikipedia](https://en.wikipedia.org/wiki/File:Single_Lens_Imaging,_2024-05-30.png) under [CC Attribution-ShareAlike 4.0 International](https://creativecommons.org/licenses/by-sa/4.0/deed.en)</sub>*\n"
   ]
  },
  {
   "cell_type": "markdown",
   "metadata": {
    "slideshow": {
     "slide_type": "slide"
    }
   },
   "source": [
    "## Lensmaker's equation \n",
    "\n",
    "$$\\frac{1}{f} = (n-1)\\left(\\frac{1}{R_1}+\\frac{1}{R_2}\\right)$$\n",
    "* $n$ is the index of refraction \n",
    "* $R_1$ and $R_2$ are the radii of curvature (positive for convex and negative for concave)\n",
    "* **only valid for thin lenses**\n",
    "\n",
    "\n",
    "<img src=\"../img/from_wiki/A_Diagram_for_a_Spherical_Lens_Equation_with_Paraxial_Rays,_2024-08-27.png\" alt=\"LensMakerEquation\" width=\"400\"/>\n",
    "\n",
    "*<sub>from [wikipedia](https://en.wikipedia.org/wiki/File:A_Diagram_for_a_Spherical_Lens_Equation_with_Paraxial_Rays,_2024-08-27.png) under [CC Attribution-ShareAlike 4.0 International](https://creativecommons.org/licenses/by-sa/4.0/deed.en)</sub>*\n",
    "\n"
   ]
  },
  {
   "cell_type": "markdown",
   "metadata": {
    "slideshow": {
     "slide_type": "slide"
    },
    "vscode": {
     "languageId": "plaintext"
    }
   },
   "source": [
    "## Thin Lens Model: Converging / convex lens\n",
    "`os01`\n",
    "* parallel rays converge at **focal point**, i.e image point for an object a infinite distance  \n",
    "* **focal plane**: perpendicular to axis, through focal point\n",
    "\n",
    "\n",
    "<img src=\"../img/from_wiki/Lens1.svg.png\" alt=\"ThinConverging\" width=\"400\"/>\n",
    "\n",
    "*<sub>from [wikipedia by DrBob](https://en.wikipedia.org/wiki/File:Lens1.svg) [CC Attribution-ShareAlike 3.0 Unported](https://creativecommons.org/licenses/by-sa/3.0/deed.en)</sub>*\n",
    "\n"
   ]
  },
  {
   "cell_type": "markdown",
   "metadata": {
    "slideshow": {
     "slide_type": "slide"
    }
   },
   "source": [
    "## Thin Lens Model: diverging / concave lens\n",
    "`os01`\n",
    "\n",
    "* parallel rays appear to diverge from a **virtual** focal point\n",
    "\n",
    "<img src=\"../img/from_wiki/Lens1b.svg.png\" alt=\"ThinDiverging\" width=\"400\"/>\n",
    "\n",
    "*<sub>from [wikipedia by DrBob](https://en.wikipedia.org/wiki/File:Lens1b.svg) [CC Attribution-ShareAlike 3.0 Unported](https://creativecommons.org/licenses/by-sa/3.0/deed.en)</sub>*\n"
   ]
  },
  {
   "cell_type": "markdown",
   "metadata": {
    "slideshow": {
     "slide_type": "slide"
    }
   },
   "source": [
    "## Image formation at thin lenses via ray tracing\n",
    "\n",
    "`sim - image formation thin lens` \n",
    "\n",
    "* to locate image, trace these three **principal rays**:\n",
    "  * **parallel ray**: travels parallel to the principal axis; becomes focal point ray after refraction\n",
    "  * **focal point ray**: passes through the focal point; becomes parallel ray after refraction\n",
    "  * **central (optical center) ray**: goes through the lens center; remains central ray\n"
   ]
  },
  {
   "cell_type": "markdown",
   "metadata": {
    "slideshow": {
     "slide_type": "slide"
    }
   },
   "source": [
    "## Image formation at converging / convex lens\n",
    "`os08`\n",
    "* parallel ray refracts through the focal point on the opposite side\n",
    "* real for $d_0>f$ and virtual image for $d_o<f$\n",
    "  \n",
    "  \n",
    "<img src=\"../img/from_wiki/Lens3.svg.png\" alt=\"ImageConvergingReal\" width=\"350\"/>\n",
    "<img src=\"../img/from_wiki/Lens3b.svg.png\" alt=\"ImageConvergingVirt\" width=\"225\"/>\n",
    "\n",
    "*<sub>[left] from [wikipedia by DrBob](https://en.wikipedia.org/wiki/File:Lens3.svg) [CC Attribution-ShareAlike 3.0 Unported](https://creativecommons.org/licenses/by-sa/3.0/deed.en)\n",
    "[right] from [wikipedia by DrBob](https://en.wikipedia.org/wiki/File:Lens3b.svg) [CC Attribution-ShareAlike 3.0 Unported](https://creativecommons.org/licenses/by-sa/3.0/deed.en)</sub>*\n",
    "\n",
    "\n",
    "\n",
    "\n"
   ]
  },
  {
   "cell_type": "markdown",
   "metadata": {
    "slideshow": {
     "slide_type": "slide"
    }
   },
   "source": [
    "## Image formation at diverging / concave lens\n",
    "`os08`\n",
    "* refracted rays appear to diverge from the focal point on the same side as the object\n",
    "* virtual image\n",
    "\n",
    "<img src=\"../img/from_wiki/Lens4.svg.png\" alt=\"ImageDiverging\" width=\"400\"/>\n",
    "\n",
    "*<sub>from [wikipedia by DrBob](https://en.wikipedia.org/wiki/File:Lens4.svg) [CC Attribution-ShareAlike 3.0 Unported](https://creativecommons.org/licenses/by-sa/3.0/deed.en)</sub>*\n",
    "\n"
   ]
  },
  {
   "cell_type": "markdown",
   "metadata": {
    "slideshow": {
     "slide_type": "slide"
    }
   },
   "source": [
    "## Image formation summary\n",
    "\n",
    "|                       | **Real Image**                         | **Virtual Image**                          |\n",
    "|-----------------------|----------------------------------------|--------------------------------------------|\n",
    "| **Image enlarged**    | Convex lens: $f < d_o < 2f$        | Convex lens: $d_o < f$                 |\n",
    "| **Image diminished**  | Convex lens: $d_o > 2f$            | Concave lens: always                       |\n",
    "\n",
    "\n",
    "<img src=\"../img/from_wiki/Thin_lens_images.svg.png\" alt=\"ImageABC\" width=\"400\"/>\n",
    "\n",
    "*<sub>from [wikipedia](https://en.wikipedia.org/wiki/File:Thin_lens_images.svg)[CC Attribution-ShareAlike 3.0 Unported](https://creativecommons.org/licenses/by-sa/3.0/deed.en)</sub>*\n"
   ]
  },
  {
   "cell_type": "markdown",
   "metadata": {
    "slideshow": {
     "slide_type": "slide"
    }
   },
   "source": [
    "## Thin Lens Equation: Definitions\n",
    "\n",
    "we define:\n",
    "- object distance: $d_o$ (from lens to object)\n",
    "- image distance: $d_i$ (from lens to image)\n",
    "- object height: $h_o$\n",
    "- image height: $h_i$\n",
    "\n",
    "$\\rightarrow$ these are all measured along the **principal axis**\n",
    "\n"
   ]
  },
  {
   "cell_type": "markdown",
   "metadata": {
    "slideshow": {
     "slide_type": "slide"
    }
   },
   "source": [
    "## Deriving the Thin Lens Equation (Part 1)\n",
    "\n",
    "* consider a ray through the **optical center** (undeviated, straight line).\n",
    "* using similar triangles:\n",
    "$$\\frac{h_i}{h_o} = \\frac{d_i}{d_o}$$\n",
    "\n",
    "\n",
    "\n",
    "<img src=\"../img/from_wiki/Lens3.svg.png\" alt=\"ImageConvergingReal\" width=\"350\"/>\n",
    "\n",
    "*<sub>[left] from [wikipedia by DrBob](https://en.wikipedia.org/wiki/File:Lens3.svg) [CC Attribution-ShareAlike 3.0 Unported](https://creativecommons.org/licenses/by-sa/3.0/deed.en)</sub>*\n",
    "\n"
   ]
  },
  {
   "cell_type": "markdown",
   "metadata": {
    "slideshow": {
     "slide_type": "slide"
    }
   },
   "source": [
    "\n",
    "## Deriving the Thin Lens Equation (Part 2: Convex Lens)\n",
    "\n",
    "* now analyze the geometry of rays through the **focal point**.\n",
    "* for a convex/converging lens, similar triangles give:\n",
    "$$\n",
    "\\frac{h_i}{h_o} = \\frac{d_i - f}{f}\n",
    "$$\n",
    "\n",
    "* using both equations:\n",
    "$$\n",
    "\\frac{d_i - f}{f} = \\frac{d_i}{d_o}\n",
    "$$\n",
    "\n",
    "* solving for $f$:\n",
    "$$\n",
    "\\frac{1}{d_o} + \\frac{1}{d_i} = \\frac{1}{f}\n",
    "$$\n",
    "\n",
    "* **thin lens equation** for **convex lenses** (also used for mirrors)\n",
    "\n",
    "\n",
    "<img src=\"../img/from_wiki/Lens3.svg.png\" alt=\"ImageConvergingReal\" width=\"350\"/>\n",
    "\n",
    "*<sub>[left] from [wikipedia by DrBob](https://en.wikipedia.org/wiki/File:Lens3.svg) [CC Attribution-ShareAlike 3.0 Unported](https://creativecommons.org/licenses/by-sa/3.0/deed.en)</sub>*\n",
    "\n"
   ]
  },
  {
   "cell_type": "markdown",
   "metadata": {
    "slideshow": {
     "slide_type": "slide"
    }
   },
   "source": [
    "## Deriving the Thin Lens Equation (Part 3: Concave Lens)\n",
    "* for a concave (diverging) lens, similar triangles give:\n",
    "$$\n",
    "\\frac{h_i}{h_o} = \\frac{f - d_i}{f}\n",
    "$$\n",
    "\n",
    "* solving for $f$:\n",
    "\n",
    "$$\n",
    "\\frac{1}{d_o} - \\frac{1}{d_i} = \\frac{1}{f}\n",
    "$$\n",
    "\n",
    "* this version of the thin lens equation applies **only** to diverging lenses\n",
    "\n",
    "\n",
    "<img src=\"../img/from_wiki/Lens4.svg.png\" alt=\"ImageDiverging\" width=\"400\"/>\n",
    "\n",
    "*<sub>from [wikipedia by DrBob](https://en.wikipedia.org/wiki/File:Lens4.svg) [CC Attribution-ShareAlike 3.0 Unported](https://creativecommons.org/licenses/by-sa/3.0/deed.en)</sub>*\n",
    "\n",
    "\n"
   ]
  },
  {
   "cell_type": "markdown",
   "metadata": {
    "slideshow": {
     "slide_type": "slide"
    }
   },
   "source": [
    "## Sign conventions for thin lenses\n",
    "\n",
    "- $h_o > 0$ (always)\n",
    "- $h_i > 0$ if image is **upright**, $h_i < 0$ if **inverted**\n",
    "- $d_o > 0$ for **real objects** (light comes from that side)\n",
    "- $d_i > 0$ for **real images** (on opposite side of lens)\n",
    "- $d_i < 0$ for **virtual images** (same side as object)\n",
    "- $f > 0$ for **converging** lenses  \n",
    "- $f < 0$ for **diverging** lenses\n",
    "\n"
   ]
  },
  {
   "cell_type": "markdown",
   "metadata": {
    "slideshow": {
     "slide_type": "slide"
    }
   },
   "source": [
    "## Lateral magnification\n",
    "\n",
    "Defined as:\n",
    "$$\n",
    "m = \\frac{h_i}{h_o} = -\\frac{d_i}{d_o}\n",
    "$$\n",
    "\n",
    "- $|m| > 1$: image is **enlarged**\n",
    "- $|m| < 1$: image is **diminished**\n",
    "- $m > 0$: **upright**\n",
    "- $m < 0$: **inverted**\n",
    "\n",
    "FYI: same formula as for mirrors"
   ]
  },
  {
   "cell_type": "markdown",
   "metadata": {
    "slideshow": {
     "slide_type": "slide"
    }
   },
   "source": [
    "## Combining lenses\n",
    "\n",
    "To analyze a system of two lenses:\n",
    "\n",
    "* Step 1: First lens\n",
    "  * use thin lens equation → find $d_{i1}$\n",
    "  * compute magnification:  \n",
    "    $m_1 = -\\frac{d_{i1}}{d_{o1}}$\n",
    "\n",
    "* Step 2: Second lens\n",
    "  * use image from lens 1 as object  \n",
    "  * $d_{o2} = \\text{separation} - d_{i1}$\n",
    "  * use thin lens equation → find $d_{i2}$\n",
    "  * $m_2 = -\\frac{d_{i2}}{d_{o2}}$"
   ]
  },
  {
   "cell_type": "markdown",
   "metadata": {
    "slideshow": {
     "slide_type": "slide"
    }
   },
   "source": [
    "## Total effect of two lenses\n",
    "\n",
    "- Effective magnification:\n",
    "  $$\n",
    "  m_{\\text{eff}} = m_1 \\times m_2\n",
    "  $$\n",
    "\n",
    "- **Important:** Watch out for **sign conventions**\n",
    "  - Negative $d_i$: virtual image\n",
    "  - Positive $d_i$: real image\n",
    "  - Same applies for object distances and focal lengths\n",
    "\n",
    "$\\rightarrow$ Consider a ray diagram to double-check your reasoning!\n",
    "\n"
   ]
  },
  {
   "cell_type": "markdown",
   "metadata": {
    "slideshow": {
     "slide_type": "slide"
    }
   },
   "source": [
    "## The Human eye\n",
    "`os19 - the eye`\n",
    "\n",
    "* eye works like a **biological camera**, with fixed image distance and dynamic focusing\n",
    "* eye accommodates by adjusting the **lens curvature**\n",
    "* key components:\n",
    "    - **Cornea** ($n \\approx 1.376$): primary refraction\n",
    "    - **Aqueous humor** ($n \\approx 1.336$): fluid behind cornea\n",
    "    - **Lens** ($n \\approx 1.385$–$1.405$): changes shape to focus\n",
    "    - **Vitreous humor** ($n \\approx 1.337$): gel-like interior\n",
    "    - **Iris and pupil**: control light entry\n",
    "    - **Retina and fovea**: light detection; fovea = sharp vision\n",
    "\n",
    "<img src=\"../img/from_wiki/Three_Main_Layers_of_the_Eye.png\" alt=\"AnatomyEye\" width=\"375\"/>\n",
    "<img src=\"../img/from_wiki/Eye_and_ray_path3.svg.png\" alt=\"EyeFocus\" width=\"400\"/>\n",
    "\n",
    "*<sub>[left] from [wikipedia](https://en.wikipedia.org/wiki/File:Three_Main_Layers_of_the_Eye.png) under [CC Attribution-ShareAlike 3.0 Unported](https://creativecommons.org/licenses/by-sa/3.0/deed.en)\n",
    "[right] from [wikipedia](https://en.wikipedia.org/wiki/File:Eye_and_ray_path3.svg) under [CC0 1.0 Universal](https://creativecommons.org/publicdomain/zero/1.0/deed.en)</sub>*\n",
    "\n"
   ]
  },
  {
   "cell_type": "markdown",
   "metadata": {
    "slideshow": {
     "slide_type": "slide"
    }
   },
   "source": [
    "## Vision errors &amp; correction\n",
    "`os01 - Haftoptik with Auge`\n",
    "\n",
    "* **nearsightedness (Myopia)**\n",
    "  * image forms **in front of the retina**\n",
    "  * corrected with **diverging (−)** lenses\n",
    "\n",
    "* **farsightedness (Hyperopia)**\n",
    "  * image forms **behind the retina**\n",
    "  * corrected with **converging (+)** lenses\n",
    "\n",
    "\n",
    "<img src=\"../img/from_wiki/Optical_power_of_a_lens.svg.png\" alt=\"OpticalPower\" width=\"400\"/>\n",
    "\n",
    "*<sub>from [wikipedia](https://en.wikipedia.org/wiki/File:Optical_power_of_a_lens.svg) under [CC Attribution-ShareAlike 4.0 International](https://creativecommons.org/licenses/by-sa/4.0/deed.en)</sub>*"
   ]
  },
  {
   "cell_type": "markdown",
   "metadata": {
    "slideshow": {
     "slide_type": "slide"
    }
   },
   "source": [
    "## Introduction to aberration\n",
    "\n",
    "`os10 - Linsenfehler`\n",
    "\n",
    "* **abberration** = image imperfections caused by deviations from ideal lens behavior\n",
    "* arises when the **small-angle (paraxial) approximation** breaks down\n",
    "* real lenses:\n",
    "  - have **non-negligible thickness**\n",
    "  - exhibit **material and surface imperfections**\n",
    "* results in **blurring**, **distortion**, or **color fringing**\n",
    "\n"
   ]
  },
  {
   "cell_type": "markdown",
   "metadata": {
    "slideshow": {
     "slide_type": "slide"
    }
   },
   "source": [
    "## Types of Aberrations\n",
    "\n",
    "* **monochromatic aberrations** (single wavelength):\n",
    "    * caused by geometry, not color\n",
    "    * include:\n",
    "    - **Spherical aberration**: rays far from axis focus incorrectly\n",
    "    - **Coma**: off-axis points appear comet-shaped\n",
    "    - **Astigmatism**: radial and tangential rays focus differently\n",
    "    - **Field curvature**: image forms on a curved surface\n",
    "    - **Distortion**: magnification varies with position (barrel/pincushion)\n",
    "* **chromatic aberration**:\n",
    "    * caused by **dispersion**: refractive index varies with wavelength\n",
    "    * different colors focus at different points $\\rightarrow$ results in **color fringing**, especially at edges"
   ]
  },
  {
   "cell_type": "markdown",
   "metadata": {
    "slideshow": {
     "slide_type": "slide"
    }
   },
   "source": [
    "\n",
    "## Spherical aberration\n",
    "* rays farther from the optical axis focus **closer** to the lens than paraxial rays  \n",
    "* leads to image blur or a **circle of least confusion** instead of a sharp point  \n",
    "* common in **spherical lenses and mirrors**  \n",
    "* reduced by:\n",
    "  - using **aspherical surfaces**\n",
    "  - limiting aperture size (e.g. with a stop)\n",
    "  - combining lenses in a **compound system**\n",
    "\n",
    "<img src=\"../img/from_wiki/Spherical_aberration_2.svg.png\" alt=\"SphericalAberration\" width=\"250\"/>\n",
    "\n",
    "*<sub>from [wikipedia by Mglg](https://en.wikipedia.org/wiki/File:Spherical_aberration_2.svg), public domain</sub>*\n"
   ]
  },
  {
   "cell_type": "markdown",
   "metadata": {
    "slideshow": {
     "slide_type": "slide"
    }
   },
   "source": [
    "\n",
    "## Coma\n",
    "* off-axis points appear as **asymmetrical, comet-shaped blurs**  \n",
    "* caused by **off-axis rays** being refracted differently depending on their height in the lens  \n",
    "* image blur increases with distance from the optical axis  \n",
    "* reduced by:\n",
    "  - using **aspherical lenses**\n",
    "  - optimizing lens shape in **compound systems**\n",
    "\n",
    "\n",
    "<img src=\"../img/from_wiki/Lens_coma.svg.png\" alt=\"LensComa\" width=\"300\"/>\n",
    "\n",
    "*<sub>from [wikipedia](https://en.wikipedia.org/wiki/File:Lens_coma.svg) under [CC Attribution-ShareAlike 3.0 Unported](https://creativecommons.org/licenses/by-sa/3.0/deed.en)</sub>*\n"
   ]
  },
  {
   "cell_type": "markdown",
   "metadata": {
    "slideshow": {
     "slide_type": "slide"
    }
   },
   "source": [
    "\n",
    "## Astigmatism\n",
    "\n",
    "* occurs when a lens or mirror has **different focal lengths in two perpendicular planes**  \n",
    "* a point object appears as two short, perpendicular line segments (radial and tangential foci)  \n",
    "* corrected using cylindrical lenses or specially designed compound lenses\n",
    "\n",
    "\n",
    "<img src=\"../img/from_wiki/Astigmatism.svg.png\" alt=\"Astigmatism\" width=\"350\"/>\n",
    "<img src=\"../img/from_wiki/PSM_V01_D191_Astigmatism.jpg\" alt=\"PSM_V01_D191_Astigmatism.jpg\" width=\"200\"/>\n",
    "\n",
    "*<sub>[left] from [wikipedia by Sebastian Kosch](https://en.wikipedia.org/wiki/File:Astigmatism.svg) under [CC Attribution-ShareAlike 3.0 Unported](https://creativecommons.org/licenses/by-sa/3.0/deed.en)\n",
    "[right] from [wikipedia](https://commons.wikimedia.org/wiki/File:PSM_V01_D191_Astigmatism.jpg), public domain</sub>*\n"
   ]
  },
  {
   "cell_type": "markdown",
   "metadata": {
    "slideshow": {
     "slide_type": "slide"
    }
   },
   "source": [
    "## Curvature of field\n",
    "\n",
    "* **cause**: geometry of lenses; even if the lens focuses rays properly, the image forms on a curved surface\n",
    "* the image of a flat object forms on a **curved surface** instead of a flat image plane  \n",
    "* leads to a **sharp center** with blurred edges, or vice versa  \n",
    "* corrected using **field-flattening lenses** or optimized multi-element designs\n",
    "\n",
    "\n",
    "<img src=\"../img/from_wiki/Field_curvature.svg.png\" alt=\"Field_curvature.svg.png\" width=\"300\"/>\n",
    "\n",
    "*<sub>from [wikipedia](https://commons.wikimedia.org/wiki/File:Field_curvature.svg) under [CC Attribution-ShareAlike 3.0 Unported](https://creativecommons.org/licenses/by-sa/3.0/deed.en)</sub>*"
   ]
  },
  {
   "cell_type": "markdown",
   "metadata": {
    "slideshow": {
     "slide_type": "slide"
    }
   },
   "source": [
    "\n",
    "## Distortion\n",
    "* **cause**: different magnification at different parts of the image field, often due to lens design\n",
    "* **shape of the image to differ from the shape of the object**  \n",
    "* barrel distortion: straight lines bow outward  \n",
    "* pincushion distortion: straight lines bow inward  \n",
    "* reduced using symmetric compound lenses or software correction\n",
    "\n",
    "\n",
    "<img src=\"../img/from_wiki/Globe_effect.gif\" alt=\"Globe_effect.gif\" width=\"200\"/>\n",
    "\n",
    "*<sub>from [wikipedia](https://commons.wikimedia.org/wiki/File:Globe_effect.gif) under [CC Attribution-ShareAlike 3.0 Unported](https://creativecommons.org/licenses/by-sa/3.0/deed.en)</sub>*\n",
    "\n",
    "\n",
    "\n"
   ]
  },
  {
   "cell_type": "markdown",
   "metadata": {
    "slideshow": {
     "slide_type": "slide"
    }
   },
   "source": [
    "\n",
    "## Chromatic aberration\n",
    "\n",
    "* caused by **dispersion** — refractive index depends on wavelength  \n",
    "* different colors focus at different points along the optical axis  \n",
    "* leads to **color fringing**, especially at high-contrast edges  \n",
    "* reduced using **achromatic doublets**, low-dispersion glass, or digital correction\n",
    "\n",
    "\n",
    "<img src=\"../img/from_wiki/Chromatic_aberration_lens_diagram.svg.png\" alt=\"Chromatic_aberration_lens_diagram.svg.png\" width=\"300\"/>\n",
    "<img src=\"../img/from_wiki/Chromatic_aberration_(comparison).jpg\" alt=\"Chromatic_aberration_(comparison)\" width=\"300\"/>\n",
    "\n",
    "*<sub>[left] from [wikipedia by DrBob](https://en.wikipedia.org/wiki/File:Chromatic_aberration_lens_diagram.svg) under [CC Attribution-ShareAlike 3.0 Unported](https://creativecommons.org/licenses/by-sa/3.0/deed.en)\n",
    "[right] from [wikipedia](https://en.wikipedia.org/wiki/File:Chromatic_aberration_(comparison).jpg) under [CC Attribution-ShareAlike 3.0 Unported](https://creativecommons.org/licenses/by-sa/3.0/deed.en)</sub>*\n",
    "\n"
   ]
  },
  {
   "cell_type": "markdown",
   "metadata": {
    "slideshow": {
     "slide_type": "slide"
    }
   },
   "source": [
    "\n",
    "## Aberrations in mirrors\n",
    "* spherical aberration in mirrors occurs for the same geometric reasons as in lenses\n",
    "* **parabolic mirrors can correct spherical aberration** for objects at infinity\n",
    "* mirrors do **not exhibit chromatic aberration** because reflection is independent of wavelength\n",
    "\n",
    "\n",
    "\n",
    "<img src=\"../img/from_wiki/Abbildungsfehler_am_Hohlspiegel_(Katakaustik).svg.png\" alt=\"Abbildungsfehler_am_Hohlspiegel_(Katakaustik).svg.png\" width=\"300\"/>\n",
    "\n",
    "*<sub>from [wikipedia](https://en.wikipedia.org/wiki/File:Abbildungsfehler_am_Hohlspiegel_(Katakaustik).svg) under [CC Attribution-ShareAlike 3.0 Unported](https://creativecommons.org/licenses/by-sa/3.0/deed.en)</sub>*\n",
    "\n"
   ]
  },
  {
   "cell_type": "markdown",
   "metadata": {
    "slideshow": {
     "slide_type": "slide"
    }
   },
   "source": [
    "\n",
    "## Summary of aberrations\n",
    "\n",
    "\n",
    "| Aberration          | Cause                                                              | Effect                                                                  | Correction Methods                                                              |\n",
    "| :------------------ | :----------------------------------------------------------------- | :---------------------------------------------------------------------- | :------------------------------------------------------------------------------ |\n",
    "| Spherical Aberration | Spherical shape of lens/mirror causing varying focal points.      | Blurred image, circle of least confusion.                               | Aspherical lenses, aperture stops, compound lenses.                             |\n",
    "| Coma                | Off-axis rays focusing at different points.                       | Comet-shaped blur for off-axis points.                                | Aspherical lenses, compound lenses, satisfying Abbe sine condition.         |\n",
    "| Astigmatism         | Different focal lengths in perpendicular planes for off-axis points. | Point objects imaged as lines.                                         | Combination of lenses, cylindrical lenses.                                    |\n",
    "| Curvature of Field  | Focal points lie on a curved surface.                             | Image of a flat object is curved, edges may be blurred.                | Field-flattening lenses, specific lens designs.                               |\n",
    "| Distortion          | Non-uniform magnification across the field of view.                | Straight lines appear curved (barrel or pincushion).                     | Symmetric compound lenses, software correction.                                |\n",
    "| Chromatic Aberration | Dispersion (variation of refractive index with wavelength).       | Colored fringes in the image.                                         | Achromatic doublets, apochromatic lenses.                                     |"
   ]
  }
 ],
 "metadata": {
  "kernelspec": {
   "display_name": ".venv",
   "language": "python",
   "name": "python3"
  },
  "language_info": {
   "codemirror_mode": {
    "name": "ipython",
    "version": 3
   },
   "file_extension": ".py",
   "mimetype": "text/x-python",
   "name": "python",
   "nbconvert_exporter": "python",
   "pygments_lexer": "ipython3",
   "version": "3.12.9"
  }
 },
 "nbformat": 4,
 "nbformat_minor": 2
}
