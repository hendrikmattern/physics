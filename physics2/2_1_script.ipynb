{
 "cells": [
  {
   "cell_type": "markdown",
   "metadata": {},
   "source": [
    "<img src=\"../img/Signet_FNW_1.svg\" alt=\"OVGU_FNW_Logo\" width=\"300\" align=\"right\">\n",
    "\n",
    "# 2.1. Electric charge &amp; electric field\n"
   ]
  },
  {
   "cell_type": "markdown",
   "metadata": {},
   "source": [
    "## 2.1.1. Static electricity &amp; conservation of electric charge\n",
    "* object can become charged due to e.g. friction and possess *net electric charge*\n",
    "* *two types* of electric charge:\n",
    "    * *positive* &amp; *negative* \n",
    "    * rubbed amber (or plastic) is by convention as negative charge, hence, rubbed glass rod is associated with positive charge\n",
    "    * arbitrary choice by Benjamin Franklin\n",
    "* *charges of same type repel, charges of opposite type attracts each other*\n",
    "### Law of conservation of electric charge:\n",
    "* **no net electric charge can be created or destroyed**\n",
    "* charges can only be **separated** (see section \"Inducing charge\")\n",
    "* i.e. when rubbing a glass rod with a cloth, the cloth acquires the equal amount of negative charges as the glass rod acquires positive charges, ergo *algebraically*, net change in both is zero\n"
   ]
  },
  {
   "cell_type": "markdown",
   "metadata": {},
   "source": [
    "## 2.1.2. Charge origin, insulators, &amp; conductors\n",
    "* use simplified model of an atom\n",
    "    * tiny but massive nucleus with *positively charged protons* and neutrons \n",
    "    * nucleus surrounded by *negatively charged  electrons*\n",
    "    * same number of protons and electrons with same magnitude but opposite direction of electric charge\n",
    "    * therefore, *atom has no net charge*\n",
    "    * if atom loses or gains electrons, it possess a charge and is called an *ion* \n",
    "* explanation charging by friction: \n",
    "    * electrons can move quite freely \n",
    "    * rubbing causes them to \"transfer\" from one object to another\n",
    "* *polar* molecules:\n",
    "    * while overall molecule is neutral, its charge can be *distributed non-uniformly*\n",
    "    * example: *water molecule* with opposite charges on different ends, i.e. positively at $H$ and $O$\n",
    "    * water molecules in air are responsible for  electrostatically charged objects to return to neutral state \n",
    "    * free electron \"leak off\" or \"hope off\" via the water molecules in the air\n",
    "    * therefore, static electricity more noticeable on dry days\n",
    "* *conductors* of electricity (e.g. metals) have very loosely bound electrons which can move freely and react to charged objects\n",
    "* *semiconductors* (e.g. silicon &amp; germanium) have fewer and *insulators/nonconductors* (e.g. wood &amp; plastic) have almost no free electrons\n"
   ]
  },
  {
   "cell_type": "markdown",
   "metadata": {},
   "source": [
    "## 2.1.3. Inducing charge\n",
    "### Charging by conduction\n",
    "* if two conductors are in physical contact, electrons can exchange from one to the other depending on initial charge of objects\n",
    "* if a positive conductor \"touches\" a neutral one, electrons from the neutral object \"flow\" to the positively charged one and, therefore, the neutral object becomes positively charges as well\n",
    "* results: both conductors have *same sign of the charge* after being charged by conduction\n",
    "\n",
    "### Charging by induction\n",
    "* without direct contact a charged conductor can alter the charge distribution in another conductor in its proximity\n",
    "* if a positive conductor is close to a neutral one, but does not \"touch\" it, the electrons in the neutral conductor will be attracted towards the positive conductor\n",
    "* results: charges in the initially neutral conductor will be separated while the net charge remains zero\n",
    "* notes on isolators/nonconductor:\n",
    "    * while electrons in isolators cannot move freely within the object, they can move within heir own atoms/molecule\n",
    "    * charged object can alter alignment of the atoms/molecules in the isolator\n",
    "    * hence, the isolator as a whole can still experience charge separation by induction although it remains net neutral\n",
    "\n",
    "### Ground\n",
    "* object connect to *ground*, i.e. earth\n",
    "* earth acts as reservoir of charge as it is large and can conduct\n",
    "* hence, earth accepts or provides electrons from/to connected object\n",
    "\n",
    "### Electroscope\n",
    "* device to detect charges\n",
    "* two conducting, thin leafs attached to a rod\n",
    "* if charged, leafs will repeal each other\n",
    "* can be used to illustrate charging by conduction and induction \n",
    "* inherently cannot differentiate between positive or negative charge as only the amount of charge is indicated by the leafs"
   ]
  },
  {
   "cell_type": "markdown",
   "metadata": {},
   "source": [
    "## 2.1.4. Coulomb's law\n",
    "\n",
    "* in the 1780s, Charles Coulomb investigated what factors affect the force of repulsion and attraction between charged objects\n",
    "* using different ratios of charges and a suspended rod, so-called torsion balance, he could investigate the *electrostatic  force* between charged objects\n",
    "* honoring his contribution, charge $Q$ is measured in the SI unit **coulomb** [C]\n",
    "* *magnitude* of the *electrostatic  force*:\n",
    "    * the force is proportional to the product of the magnitude of the charges, i.e. $Q_1$ &amp; $Q_2$\n",
    "    * the force is inversely proportional to the square root of the distance $r$ between the charges\n",
    "    * there is a proportionality constant $k$\n",
    "* this yields that the *magnitude* of the *electrostatic  force* that either charge exerts on the other is:\n",
    "$$ F = k \\frac{Q_1 Q_2}{r^2} $$\n",
    "\n",
    "* *direction* of the electrostatic  force:\n",
    "    * force is acting along the line connecting both charges\n",
    "    * two charges with same sign, i.e. repelling each other, the force on either charge is directed away from the other\n",
    "    * two charges with opposite sign, i.e. attract each other, the force on either charge is directed towards the other\n",
    "\n",
    "* the proportionality constant $ k\\approx 9.0 \\times 10^9 \\textnormal{N m}^2 / \\textnormal{C}^2 $ is related to the fundamental constant \n",
    "*permittivity of free space* $\\epsilon_0$ by the following relation:\n",
    "$$\\epsilon_0 = \\frac{1}{4 \\pi k} = 8.854 \\times 10^{-12}\\frac{\\textnormal{C}^2}{\\textnormal{N m}^2}$$\n",
    "\n",
    "\n",
    "### Notes on Coulomb's law:\n",
    "* assumes point charges at rest, i.e. electrostatic force\n",
    "* describes the force $Q_1$ exerts on $Q_2$\n",
    "* reminder Newton's third law: **the force charge $A$ exerts on the charge $B$ is equal but opposite to that exerted by charge $B$ on charge $A$**     \n",
    "* strong similarity to gravitational forces, although gravitation always an attractive force\n",
    "    \n",
    "\n",
    "\n",
    "\n",
    "### Vectorization of Coulomb's law:\n",
    "* electrostatic force can be vectorized, i.e. it possess a magnitude and direction\n",
    "* in vector form we add two subscript, e.g. $\\vec{\\bf{F}}_{12}$, to indicate the force acts on charge $1$ and charge $2$ exerts the force\n",
    "* therefore, $\\vec{\\bf{F}}_{12}$ will be the vector force on charge $Q_1$, due to $Q_2$:\n",
    "$$ \\vec{\\bf{F}}_{12} = \\frac{1}{4 \\pi \\epsilon_0} \\frac{Q_1 Q_2}{r^2_{21}} \\hat{\\bf{r}}_{21} $$\n",
    "* with $\\hat{\\bf{r}}_{21}$ as the unit vector pointing from the \"source\" charge towards the charge \"acted upon\", i.e. from $Q_2$ to $Q_1$\n",
    "* $Q_1$ and $Q_2$ and be positive or negative\n",
    "* if both charges have the same sign, i.e. $Q_1 Q_2 > 0$, then the force $\\vec{\\bf{F}}_{12}$ is repulsive and points away from $Q_2$\n",
    "* if both charges have opposite sign, i.e. $Q_1 Q_2 < 0$, then the force $\\vec{\\bf{F}}_{12}$ is attractive and points towards $Q_2$\n",
    "\n",
    "### Superposition of Coulomb's law:\n",
    "* *principle of superposition* can be applied if more than two charges exert forces on each other\n",
    "* net force will be vector sum of the individual forces due to all charge interactions\n",
    "* for example, for five charges, the net force on charge $A$ is $\\vec{\\bf{F}}_{A, net} = \\vec{\\bf{F}}_B + \\vec{\\bf{F}}_C + \\vec{\\bf{F}}_D + \\vec{\\bf{F}}_E $\n",
    "\n",
    "\n",
    "\n",
    "\n",
    "### Elementary charge $e$    \n",
    "* $e$ is the smallest charge observed in nature, i.e. charge of an electron or proton\n",
    "* $e = 1.602 \\times 10^{-19}\\textnormal{C} \\approx 1.6 \\times 10^{-19}\\textnormal{C}$\n",
    "* proton has charge of $e$, electron of $-e$\n",
    "* while *quantized*, i.e. no fraction of an electron exist and we only observe multiples of $e$, $2e$, $3e$ ... , $1 \\mu\\textnormal{C} \\approx 10^{13}$ electrons, ergo, appeals continuous on macroscopic level\n",
    "\n"
   ]
  },
  {
   "cell_type": "code",
   "execution_count": null,
   "metadata": {},
   "outputs": [],
   "source": [
    "#todo interactive plot"
   ]
  },
  {
   "cell_type": "markdown",
   "metadata": {},
   "source": [
    "## 2.1.5. Electric field\n"
   ]
  }
 ],
 "metadata": {
  "kernelspec": {
   "display_name": ".venv",
   "language": "python",
   "name": "python3"
  },
  "language_info": {
   "codemirror_mode": {
    "name": "ipython",
    "version": 3
   },
   "file_extension": ".py",
   "mimetype": "text/x-python",
   "name": "python",
   "nbconvert_exporter": "python",
   "pygments_lexer": "ipython3",
   "version": "3.12.8"
  }
 },
 "nbformat": 4,
 "nbformat_minor": 2
}
