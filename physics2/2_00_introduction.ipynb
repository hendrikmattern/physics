{
 "cells": [
  {
   "cell_type": "markdown",
   "metadata": {
    "slideshow": {
     "slide_type": "slide"
    }
   },
   "source": [
    "<img src=\"../img/Signet_FNW_1.svg\" alt=\"OVGU_FNW_Logo\" width=\"300\" align=\"right\">\n",
    "\n",
    "# Physics II - Introduction \n",
    "* Electrostatics \n",
    "* Electric circuits \n",
    "* Electromagnetic fields \n",
    "* Geometric and wave optics \n",
    "* Early quantum theory and models of the atom\n",
    "\n",
    "<small>see [Syllabus](..\\Syllabus.ipynb)</small>\n",
    "\n"
   ]
  },
  {
   "cell_type": "markdown",
   "metadata": {
    "slideshow": {
     "slide_type": "slide"
    }
   },
   "source": [
    "## Jun.-Prof. Dr.-Ing. Hendrik Mattern\n",
    "* background in engineering \n",
    "    * Bachelor in Electrical Engineering and Information Technology\n",
    "    * Master in Medical Systems Engineering\n",
    "* PhD and research on high field magnetic resonance imaging\n",
    "* mail: hendrik.mattern@ovgu.de\n",
    "* office: H92/005 (on medical campus)\n",
    "* homepage: [https://hendrikmattern.github.io/](https://hendrikmattern.github.io/)\n",
    "\n"
   ]
  },
  {
   "cell_type": "markdown",
   "metadata": {
    "slideshow": {
     "slide_type": "slide"
    },
    "vscode": {
     "languageId": "plaintext"
    }
   },
   "source": [
    "## Course Structure:\n",
    "\n",
    "* **weekly lecture:**\n",
    "    * presentation of the theoretical foundations of physics\n",
    "    * demonstration of experiments\n",
    "* **bi-weekly lecture tutorial:**\n",
    "    * led by the instructor/teaching staff\n",
    "    * focus on conceptual exercises\n",
    "    * additional demonstrations/experiments \n",
    "* **bi-weekly class tutorial:**\n",
    "    * active student participation (*voting system*)\n",
    "    * students present solutions to assigned physics problems\n",
    "    * tutor provides guidance and problem-solving support\n",
    "    * **only the Friday class tutorial takes place; the two Thursday class tutorials are canceled**"
   ]
  },
  {
   "cell_type": "markdown",
   "metadata": {
    "slideshow": {
     "slide_type": "slide"
    }
   },
   "source": [
    "## Class tutorial voting system\n",
    "* class exercise tasks will be posted on eLearning platform approx. one week before the exercise takes place\n",
    "* tasks should be solved before the exercise takes place\n",
    "* prior to the exercise, you indicate, which tasks you solved (in eLearning)\n",
    "* through selection/\"voting\", you agree that you are able to explain and present the task and your proposed solution\n",
    "* the solution does not have to be completely correct, however, it must be clear that you conscientiously dealt with the task and seriously attempted to solve it (otherwise all your selections/\"votes\"  for that exercise will be revoked)\n",
    "* exercise instructor will pick the presenting student randomly from all students who selected the particular task"
   ]
  },
  {
   "cell_type": "markdown",
   "metadata": {
    "slideshow": {
     "slide_type": "slide"
    }
   },
   "source": [
    "## Exam:\n",
    "* written exam (90 min) on the contents of Physics II\n",
    "* requirement for eligibility:\n",
    "    * vote for at least **40%** of all class tutorial task"
   ]
  },
  {
   "cell_type": "markdown",
   "metadata": {
    "slideshow": {
     "slide_type": "slide"
    }
   },
   "source": [
    "## Course  resources:\n",
    "* script and slides openly available as Jupyter notebooks    \n",
    "    * [https://github.com/hendrikmattern/physics](https://github.com/hendrikmattern/physics)\n",
    "    * [https://colab.research.google.com/github/hendrikmattern/physics](https://colab.research.google.com/github/hendrikmattern/physics)\n",
    "    * **FYI:** lecture/slides complement script and vice versa\n",
    "* book:\n",
    "    * `GIANCOLI, Douglas C. Physics for scientists and engineers with modern physics. Pearson Education, 2023.`\n",
    "* [eLearning course](https://elearning.ovgu.de/) (enrollment required)\n",
    "* [LSF](https://lsf.ovgu.de/) (enrollment required)\n",
    "* [How to solve physics problems](..\\HowToSolvePhysicsProblems.ipynb)\n",
    "\n"
   ]
  }
 ],
 "metadata": {
  "language_info": {
   "name": "python"
  }
 },
 "nbformat": 4,
 "nbformat_minor": 2
}
