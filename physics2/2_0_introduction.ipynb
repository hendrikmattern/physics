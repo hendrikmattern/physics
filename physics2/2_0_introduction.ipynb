{
 "cells": [
  {
   "cell_type": "markdown",
   "metadata": {},
   "source": [
    "# 2.0. Introduction\n",
    "* course format:\n",
    "    * ... todo\n",
    "* exam:\n",
    "    * ..."
   ]
  }
 ],
 "metadata": {
  "language_info": {
   "name": "python"
  }
 },
 "nbformat": 4,
 "nbformat_minor": 2
}
