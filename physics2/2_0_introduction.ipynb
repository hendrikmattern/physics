{
 "cells": [
  {
   "cell_type": "markdown",
   "metadata": {
    "slideshow": {
     "slide_type": "slide"
    }
   },
   "source": [
    "<img src=\"../img/Signet_FNW_1.svg\" alt=\"OVGU_FNW_Logo\" width=\"300\" align=\"right\">\n",
    "\n",
    "# Physics II - Introduction \n",
    "* Electrostatics \n",
    "* Electric circuits \n",
    "* Electromagnetic fields \n",
    "* Geometric and wave optics \n",
    "* Early quantum theory and models of the atom\n",
    "\n",
    "<sub><sup>see [Syllabus](..\\Syllabus.ipynb)</sup></sub>\n",
    "\n"
   ]
  },
  {
   "cell_type": "markdown",
   "metadata": {},
   "source": [
    "* finished with waves last semester\n",
    "* going to cont. on that and in essence deal with waves in this semester\n",
    "* more specifically, electromagnetic waves and light, which itself is a electromagnetic wave\n",
    "* we are going to cover electromagnetic field and optics this semester, and, if time permits, outlook into more advanced physics\n"
   ]
  },
  {
   "cell_type": "markdown",
   "metadata": {
    "slideshow": {
     "slide_type": "slide"
    }
   },
   "source": [
    "## Jun.-Prof. Dr.-Ing. Hendrik Mattern\n",
    "* background in engineering \n",
    "    * Bachelor in Electrical Engineering and Information Technology\n",
    "    * Master in Medical Systems Engineering\n",
    "* PhD and research on high field magnetic resonance imaging\n",
    "* mail: hendrik.mattern@ovgu.de\n",
    "* office: H92/005 (on medical campus)\n",
    "* homepage: [https://hendrikmattern.github.io/](https://hendrikmattern.github.io/)\n",
    "\n"
   ]
  },
  {
   "cell_type": "markdown",
   "metadata": {
    "slideshow": {
     "slide_type": "slide"
    },
    "vscode": {
     "languageId": "plaintext"
    }
   },
   "source": [
    "## Course Structure:\n",
    "\n",
    "* **weekly lecture:**\n",
    "    * presentation of the theoretical foundations of physics\n",
    "    * demonstration of experiments\n",
    "* **bi-weekly lecture tutorial:**\n",
    "    * led by the instructor/teaching staff\n",
    "    * focus on conceptual exercises\n",
    "    * additional demonstrations/experiments \n",
    "* **bi-weekly class tutorial:**\n",
    "    * active student participation\n",
    "    * students present solutions to assigned physics problems\n",
    "    * tutor provides guidance and problem-solving support"
   ]
  },
  {
   "cell_type": "markdown",
   "metadata": {
    "slideshow": {
     "slide_type": "slide"
    }
   },
   "source": [
    "## Course  resources:\n",
    "* script and slides openly available as Jupyter notebooks\n",
    "    * [https://github.com/hendrikmattern/physics](https://github.com/hendrikmattern/physics)\n",
    "    * *lecture/slides complement script and vice versa*\n",
    "* eLearning course (enroll required)\n",
    "* LSF (enrollment required)\n"
   ]
  },
  {
   "cell_type": "markdown",
   "metadata": {
    "slideshow": {
     "slide_type": "slide"
    }
   },
   "source": [
    "## Exam:\n",
    "* written exam (90 min)\n",
    "* requirement for eligibility:\n",
    "    * "
   ]
  }
 ],
 "metadata": {
  "language_info": {
   "name": "python"
  }
 },
 "nbformat": 4,
 "nbformat_minor": 2
}
