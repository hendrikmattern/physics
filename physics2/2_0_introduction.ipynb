{
 "cells": [
  {
   "cell_type": "markdown",
   "metadata": {
    "slideshow": {
     "slide_type": "slide"
    }
   },
   "source": [
    "<img src=\"../img/Signet_FNW_1.svg\" alt=\"OVGU_FNW_Logo\" width=\"300\" align=\"right\">\n",
    "\n",
    "# 2.0. Introduction Physics II\n"
   ]
  },
  {
   "cell_type": "markdown",
   "metadata": {
    "slideshow": {
     "slide_type": "subslide"
    }
   },
   "source": [
    "## Jun.-Prof. Dr.-Ing. Hendrik Mattern\n",
    "* background in engineering \n",
    "    * Bachelor in Electrical Engineering and Information Technology\n",
    "    * Master in Medical Systems Engineering\n",
    "* PhD and research on high field magnetic resonance imaging\n",
    "* mail: hendrik.mattern@ovgu.de\n",
    "* office: H92/005 (on medical campus)\n",
    "* homepage: [https://hendrikmattern.github.io/](https://hendrikmattern.github.io/)\n",
    "\n"
   ]
  },
  {
   "cell_type": "markdown",
   "metadata": {
    "slideshow": {
     "slide_type": "subslide"
    },
    "vscode": {
     "languageId": "plaintext"
    }
   },
   "source": [
    "## Course format:\n",
    "* structure:\n",
    "    * every week one lecture\n",
    "    * every two weeks a lecture tutorial \n",
    "    * every two weeks a class tutorial \n",
    "* resources:\n",
    "    * script and slides openly available as Jupyter notebooks\n",
    "    * lecture/slides complement the script and vice versa\n",
    "    * [https://github.com/hendrikmattern/physics](https://github.com/hendrikmattern/physics)\n",
    "    * %TODO book\n",
    "* exam:\n",
    "    * requirement for eligibility:\n",
    "        * %TODO\n",
    "    * ??? min of written exam at the end of the semester"
   ]
  },
  {
   "cell_type": "markdown",
   "metadata": {
    "slideshow": {
     "slide_type": "slide"
    }
   },
   "source": [
    "## Motivation Physics II\n",
    "%TODO\n",
    "* finished with waves last semester\n",
    "* going to cont. on that and in essence deal with waves in this semester\n",
    "* more specifically, electromagnetic waves and light, which itself is a electromagnetic wave\n",
    "* we are going to cover electromagnetic field and optics this semester, and, if time permits, outlook into more advanced physics\n"
   ]
  }
 ],
 "metadata": {
  "language_info": {
   "name": "python"
  }
 },
 "nbformat": 4,
 "nbformat_minor": 2
}
