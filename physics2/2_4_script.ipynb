{
 "cells": [
  {
   "cell_type": "markdown",
   "metadata": {},
   "source": [
    "<img src=\"../img/Signet_FNW_1.svg\" alt=\"OVGU_FNW_Logo\" width=\"300\" align=\"right\">\n",
    "\n",
    "# 2.4. DC circuits &amp; Kirchhoff' laws\n",
    "\n"
   ]
  },
  {
   "cell_type": "markdown",
   "metadata": {},
   "source": [
    "\n",
    "### Circuits 101  \n",
    "\n",
    "* electric circuit of consists elements/devices (batteries, capacitors, resistors, lightbulb etc.) which are connected via wires\n",
    "* the circuit can be:\n",
    "    * open, i.e. switched off or missing connection, and, therefore no current is flowing\n",
    "    * complete/closed, i.e. switched on and current is flowing\n",
    "    * short/short-circuited, having a faulty connection or device causing to much current flow (hazard)\n",
    "* voltage source, i.e. battery, provides circuit with the voltage $V$ and causes a current $I$ to flow\n",
    "* commonly, the circuit has a *ground*, i.e. connection to the Earth or a common conductor such as frame of a car\n",
    "* the difference in potential at the two connections of an electric element is called a *voltage drop*\n",
    "* each element/path in the circuit can be associated with a dedicated current and voltage\n",
    "* elements can be in series or in parallel\n",
    "* groups of elements can be summarized as equivalents to simplify a circuit\n",
    "\n",
    "### Resistors in series &amp; parallel \n",
    "\n",
    "### Capacitors in series &amp; parallel \n",
    "\n",
    "Capacitors in *parallel* have the same voltage drop, i.e. the plates connected to the negative terminal of the battery have the same potential and the same is true for the plates connected to the positive terminal.\n",
    "Therefore, for each capacitor the respective charge $Q_i$ is $ Q_i = V C_i $ \n",
    "The total charge $Q$ is the sum of all individual charges $Q_i$ . We can represent the individual capacitors as an *effective* or *equivalent* capacitance $ C_{eq} $:\n",
    "$$ Q = V C_{eq} = V \\sum C_i $$\n",
    "$$ C_{eq} = \\sum C_i $$\n",
    "\n",
    "Therefore, capacitors in parallel can be summed to determine their net effect/equivalent capacitance $C_{eq}$.\n",
    "Effectively, putting capacitors in parallel acts as \"building a bigger capacitor\" (similar to increasing the area of a capacitor).\n",
    "\n",
    "Capacitors in *series* behave differently. \n",
    "While each capacitor will have a different voltage/potential difference $V = \\sum V_i$ the charge associated with each capacitor will be the same.\n",
    "If we imaging two capacitors in series connected to a battery, the most outer plates will be connected directly to the battery and, therefore, obtain a charge of $+Q$/$-Q$. The inner plates will \"react\" by \"acquiring\" the same magnitude of charge but with opposite sign.\n",
    "The equivalent capacitance $C_{eq}$ can be estimated as:\n",
    "$$ \\frac{Q}{C_{eq}} = V = \\sum V_i = Q \\sum \\frac{1}{C_i}$$\n",
    "\n",
    "Therefore, capacitors in parallel can be determined as:\n",
    "$$ \\frac{1}{C_{eq}} = \\sum \\frac{1}{C_i}$$\n",
    "\n",
    "As a consequence, $C_{eq}$ will always be smaller as the smallest $C_i$.\n"
   ]
  },
  {
   "cell_type": "markdown",
   "metadata": {},
   "source": [
    "<!--- todo: add subsection on superconductivity; human nerve-->"
   ]
  },
  {
   "cell_type": "markdown",
   "metadata": {},
   "source": []
  }
 ],
 "metadata": {
  "kernelspec": {
   "display_name": ".venv",
   "language": "python",
   "name": "python3"
  },
  "language_info": {
   "codemirror_mode": {
    "name": "ipython",
    "version": 3
   },
   "file_extension": ".py",
   "mimetype": "text/x-python",
   "name": "python",
   "nbconvert_exporter": "python",
   "pygments_lexer": "ipython3",
   "version": "3.12.8"
  }
 },
 "nbformat": 4,
 "nbformat_minor": 2
}
