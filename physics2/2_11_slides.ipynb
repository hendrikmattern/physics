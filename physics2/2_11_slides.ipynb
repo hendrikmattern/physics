{
 "cells": [
  {
   "cell_type": "markdown",
   "metadata": {
    "slideshow": {
     "slide_type": "slide"
    }
   },
   "source": [
    "<img src=\"../img/Signet_FNW_1.svg\" alt=\"OVGU_FNW_Logo\" width=\"300\" align=\"right\">\n",
    "\n",
    "# 2.11. Wave optics: Interference &amp; polarization\n",
    "\n",
    "**What happens when we shin light through a hole?**\n",
    "\n",
    "`ow05 - adjustable`\n"
   ]
  },
  {
   "cell_type": "markdown",
   "metadata": {
    "slideshow": {
     "slide_type": "fragment"
    }
   },
   "source": [
    "* wave-particle duality of light\n",
    "* ray model breaks down if **object size and wavelength are on same order of magnitude**\n",
    "* **agenda for today**:\n",
    "    * **new model** to understand wave nature of light\n",
    "    * revisit **polarization** &amp; **interference** with application to light\n"
   ]
  },
  {
   "cell_type": "markdown",
   "metadata": {
    "slideshow": {
     "slide_type": "slide"
    }
   },
   "source": [
    "## Similarities of water waves &amp; EM-waves\n",
    "`sim - ray vs wave`\n",
    "\n",
    "`ms17 - wave machine` \n",
    "\n",
    "\n",
    "<img src=\"../img/from_wiki/Wave_diffraction_at_the_Blue_Lagoon_Abereiddy.jpg\" alt=\"Wave_diffraction_at_the_Blue_Lagoon%2C_Abereiddy.jpg\" width=\"300\"/>\n",
    "\n",
    "*<sub>from [wikipedia](https://en.wikipedia.org/wiki/File:Wave_diffraction_at_the_Blue_Lagoon,_Abereiddy.jpg), [Attribution-Share Alike 4.0 International](//creativecommons.org/licenses/by-sa/4.0/deed.en)</sub>*\n",
    "\n"
   ]
  },
  {
   "cell_type": "markdown",
   "metadata": {
    "slideshow": {
     "slide_type": "slide"
    }
   },
   "source": [
    "## Huygens' principle: Framework \n",
    "\n",
    "* **Christian Huygens** (1629-1695) proposed a principle to analyze wave propagation\n",
    "* imagine **every point** of a wavefront as a **source of secondary spherical wavelets**\n",
    "\n",
    "\n",
    "<img src=\"../img/from_wiki/Spherical_wave2.gif\" alt=\"Spherical_wave2.gif\" width=\"300\"/>\n",
    "\n",
    "*<sub>from [wikipedia](https://de.wikipedia.org/wiki/Datei:Spherical_wave2.gif), public domain</sub>*\n"
   ]
  },
  {
   "cell_type": "markdown",
   "metadata": {
    "slideshow": {
     "slide_type": "slide"
    }
   },
   "source": [
    "\n",
    "## Huygens' principle: Framework (cont')\n",
    "\n",
    "* **Christian Huygens** (1629-1695) proposed a principle to analyze wave propagation\n",
    "* imagine **every point** of a wavefront as a **source of secondary spherical wavelets**\n",
    "* these **wavelets propagate outwards** in all directions at the speed of the wave\n",
    "* the **new wavefront** at a later time is the **tangent surface to all of these secondary wavelets**\n",
    "\n",
    "\n",
    "<img src=\"../img/from_wiki/Wellenfront-1.svg\" alt=\"Wellenfront-1.svg\" width=\"200\"/>\n",
    "<img src=\"../img/from_wiki/Wellenfront-2.svg\" alt=\"Wellenfront-2.svg\" width=\"200\"/>\n",
    "\n",
    "\n",
    "*<sub>[left] from [wikipedia](https://de.wikipedia.org/wiki/Datei:Wellenfront-1.svg), by Expes, public domain\n",
    "[right] from [wikipedia](https://de.wikipedia.org/wiki/Datei:Wellenfront-2.svg), by Expes, public domain</sub>*\n",
    "\n"
   ]
  },
  {
   "cell_type": "markdown",
   "metadata": {
    "slideshow": {
     "slide_type": "slide"
    }
   },
   "source": [
    "\n",
    "## Understanding wavefronts, wavelets, &amp; propagation\n",
    "\n",
    "* **wavefront**: a surface connecting points of a wave that are in phase\n",
    "    * example: ripples on a pond\n",
    "    * for light: connects points with oscillating electric and magnetic fields in the same way\n",
    "* think of a wavefront as a line (in 2D) or a surface (in 3D) of many tiny sources\n",
    "* each tiny source emits a **wavelet**, spreading out like tiny ripples\n",
    "\n",
    "* **superposition of wavelets generates the new wavefront**\n",
    "    * individual wavelets interfere with each other\n",
    "    * their combined effect determines the shape and position of the wavefront at the next instant (tangent to all wavelets)\n",
    "\n",
    "\n",
    "<img src=\"../img/from_wiki/Refraction_on_an_aperture_-_Huygens-Fresnel_principle.svg\" alt=\"Refraction_on_an_aperture_-_Huygens-Fresnel_principle.svg\" width=\"300\"/>\n",
    "<img src=\"../img/from_wiki/Diffraction_through_Slit.svg\" alt=\"Diffraction_through_Slit.svg\" width=\"150\"/>\n",
    "<img src=\"../img/from_wiki/Diffraction_through_Pinhole.svg\" alt=\"Diffraction_through_Pinhole.svg\" width=\"150\"/>\n",
    "\n",
    "*<sub>[left] from [wikipedia](https://de.wikipedia.org/wiki/Datei:Refraction_on_an_aperture_-_Huygens-Fresnel_principle.svg), by norro [Attribution-Share Alike 3.0 Unported](//creativecommons.org/licenses/by-sa/3.0/deed.en)\n",
    "[middle] from [wikipedia](https://de.wikibooks.org/wiki/Datei:Diffraction_through_Slit.svg), gemeinfrei\n",
    "[right] from [wikipedia](https://de.wikibooks.org/wiki/Datei:Diffraction_through_Pinhole.svg), gemeinfrei</sub>*\n"
   ]
  },
  {
   "cell_type": "markdown",
   "metadata": {
    "slideshow": {
     "slide_type": "slide"
    }
   },
   "source": [
    "## Refraction &amp; wave speed\n",
    "\n",
    "* light travels from medium 1 to medium 2\n",
    "* mediums are isotropic (same wave speed $v$ in all directions) but have different refractive indices $n_1$ and $n_2$\n",
    "* distance traveled by a wave in time $t$: $r = vt$\n",
    "* speed of light in a vacuum: $c$\n",
    "* speed of light in a medium with refractive index $n$: $v = \\frac{c}{n}$\n",
    "* therefore, in our two mediums: $v_1 = \\frac{c}{n_1}$ and $v_2 = \\frac{c}{n_2}$\n",
    "* if $n_1 \\neq n_2$, distance traveled in the same time $t$ will be different: $r_1 = v_1 t \\neq r_2 = v_2 t$\n",
    "\n",
    "\n",
    "<img src=\"../img/from_wiki/Refraction_animation.gif\" alt=\"Refraction_animation.gif\" width=\"300\"/>\n",
    "<img src=\"../img/from_wiki/Snells_law_wavefronts.gif\" alt=\"Snells_law_wavefronts.gif\" width=\"150\"/>\n",
    "\n",
    "*<sub>[left] from [wikipedia](https://en.wikipedia.org/wiki/File:Refraction_animation.gif), [CC0 1.0 Universal](https://creativecommons.org/publicdomain/zero/1.0/deed.en);\n",
    "[right] from [wikipedia](https://en.wikipedia.org/wiki/File:Snells_law_wavefronts.gif), public domain</sub>*\n"
   ]
  },
  {
   "cell_type": "markdown",
   "metadata": {
    "slideshow": {
     "slide_type": "slide"
    }
   },
   "source": [
    "\n",
    "## Deriving Snell's law with waves\n",
    "\n",
    "* consider a wavefront approaching the interface at angle $\\theta_1$ ($\\theta_1 \\neq 0$)\n",
    "* at point A, wavefront hits medium 2 first \n",
    "* at point B, another part of wavefront hits after time $t$\n",
    "* during time $t$, the part at A travels $v_2 t$, while the part at B travels $v_1 t$\n",
    "* $AB$ is the length of the wavefront segment about to cross the interface\n",
    "\n",
    "\n",
    "<img src=\"../img/from_wiki/Refraction_-_Huygens-Fresnel_principle.svg\" alt=\"Refraction_-_Huygens-Fresnel_principle.svg\" width=\"300\"/>\n",
    "\n",
    "*<sub>from [wikipedia](https://de.wikipedia.org/wiki/Datei:Refraction_-_Huygens-Fresnel_principle.svg), by norro [Attribution-Share Alike 3.0 Unported](//creativecommons.org/licenses/by-sa/3.0/deed.en)</sub>*\n"
   ]
  },
  {
   "cell_type": "markdown",
   "metadata": {
    "slideshow": {
     "slide_type": "slide"
    }
   },
   "source": [
    "## Deriving Snell's law with waves (cont')\n",
    "* from the geometry: $\\sin \\theta_1 = \\frac{v_1 t}{AB} \\quad \\& \\quad \\sin \\theta_2 = \\frac{v_2 t}{AB}$\n",
    "* dividing the first by the second: $ \\frac{\\sin \\theta_1}{\\sin \\theta_2} = \\frac{v_1 t / AB}{v_2 t / AB} = \\frac{v_1}{v_2} $\n",
    "* substituting $v_1 = \\frac{c}{n_1}$ and $v_2 = \\frac{c}{n_2}$: $ \\frac{\\sin \\theta_1}{\\sin \\theta_2} = \\frac{c/n_1}{c/n_2} = \\frac{n_2}{n_1} $\n",
    "* rearranging gives Snell's Law: $ n_1 \\sin \\theta_1 = n_2 \\sin \\theta_2 $\n",
    "\n",
    "<img src=\"../img/from_wiki/TwoSlitInterference.svg\" alt=\"TwoSlitInterference.svg\" width=\"150\"/>\n",
    "\n",
    "*<sub>from [wikipedia](https://en.wikipedia.org/wiki/File:TwoSlitInterference.svg), [Attribution-Share Alike 3.0 Unported](//creativecommons.org/licenses/by-sa/3.0/deed.en) by Dirk Hünniger</sub>*\n"
   ]
  },
  {
   "cell_type": "markdown",
   "metadata": {
    "slideshow": {
     "slide_type": "slide"
    }
   },
   "source": [
    "\n",
    "## Frequency &amp; wavelength changes\n",
    "\n",
    "* **frequency of the wave does not change** during refraction (determined by the source)\n",
    "* **wavelength $\\lambda$ does change** because speed $v$ changes ($v = \\lambda f \\leftrightarrow \\lambda = \\frac{v}{f}$)\n",
    "* ratio of wavelengths in the two mediums:\n",
    "    $ \\frac{\\lambda_1}{\\lambda_2} = \\frac{v_1 / f}{v_2 / f} = \\frac{v_1}{v_2} $\n",
    "* since $\\frac{v_1}{v_2} = \\frac{n_2}{n_1}$, we have:\n",
    "    $ \\frac{\\lambda_1}{\\lambda_2} = \\frac{n_2}{n_1} $\n",
    "* **wavelength is shorter in a medium with a higher refractive index**\n",
    "\n",
    "\n",
    "<img src=\"../img/from_wiki/Refraction.svg\" alt=\"Refraction.svg\" width=\"300\"/>\n",
    "\n",
    "*<sub>from [wikipedia](https://en.wikipedia.org/wiki/File:Refraction.svg), [Attribution-Share Alike 3.0 Unported](//creativecommons.org/licenses/by-sa/3.0/deed.en)</sub>*\n",
    "\n"
   ]
  },
  {
   "cell_type": "markdown",
   "metadata": {
    "slideshow": {
     "slide_type": "slide"
    }
   },
   "source": [
    "\n",
    "## Polarization: Transverse nature of light\n",
    "\n",
    "* electromagnetic (EM) waves are transversal waves and can be polarized\n",
    "* **unpolarized light**: electric field oscillates randomly in all directions perpendicular to propagation\n",
    "* **linearly polarized** (plane-polarized waves): oscillate in a single plane\n",
    "    * imagine a rope swung horizontally through a vertical slit: only horizontal oscillations pass\n",
    "\n",
    "\n",
    "<img src=\"../img/from_wiki/Polarizacio.jpg\" alt=\"Polarizacio.jpg\" width=\"200\"/>\n",
    "\n",
    "*<sub>from [wikipedia](https://commons.wikimedia.org/wiki/File:Polarizacio.jpg), [Attribution-Share Alike 3.0 Unported](//creativecommons.org/licenses/by-sa/3.0/deed.en)</sub>*\n",
    "\n"
   ]
  },
  {
   "cell_type": "markdown",
   "metadata": {
    "slideshow": {
     "slide_type": "slide"
    }
   },
   "source": [
    "\n",
    "## Polarization: Transverse nature of light (cont')\n",
    "\n",
    "* electromagnetic (EM) waves are transversal waves and can be polarized\n",
    "* **unpolarized light**: electric field oscillates randomly in all directions perpendicular to propagation\n",
    "* **linearly polarized** (plane-polarized waves): oscillate in a single plane\n",
    "* **circular polarized**: oscillation vector rotates\n",
    "\n",
    "<img src=\"../img/from_wiki/Rising_circular.gif\" alt=\"Rising_circular.gif\" width=\"200\"/>\n",
    "<img src=\"../img/from_wiki/Wave_Polarisation.gif\" alt=\"wave_polarization\" width=\"100\"/>\n",
    "\n",
    "*<sub>[left] from [wikipedia](https://en.wikipedia.org/wiki/File:Rising_circular.gif), [Attribution-Share Alike 2.0 Generic](//creativecommons.org/licenses/by-sa/2.0/deed.en);\n",
    "[right] from [wikipedia](https://en.wikipedia.org/wiki/File:Wave_Polarisation.gif) under [CC Attribution-ShareAlike 4.0 International](https://creativecommons.org/licenses/by-sa/4.0/deed.en)</sub>*\n",
    "\n"
   ]
  },
  {
   "cell_type": "markdown",
   "metadata": {
    "slideshow": {
     "slide_type": "slide"
    }
   },
   "source": [
    "\n",
    "## Polarization by absorption (polaroids)\n",
    "`os27 - cross-polarization ` \n",
    "\n",
    "* polaroid sheets contain **long molecules aligned parallel to each other** (act like parallel slits)\n",
    "* component of **electric field parallel to molecules causes electron movement** and energy transfer (absorbed)\n",
    "* light oscillating **perpendicular to molecules is transmitted**\n",
    "* **transmission axis** (polarization axis): direction of the transmitted electric field (perpendicular to molecules)\n",
    "* a polaroid acts as a **polarizer**, creating linear/plane-polarized light from unpolarized light\n",
    "\n",
    "\n",
    "<img src=\"../img/from_wiki/Cross_linear_polarization.gif\" alt=\"Cross_linear_polarization.gif\" width=\"300\"/>\n",
    "<img src=\"../img/from_wiki/Animation_polariseur.gif\" alt=\"Animation_polariseur.gif\" width=\"200\"/>\n",
    "\n",
    "*<sub>[left] from [wikipedia](https://en.wikipedia.org/wiki/File:Cross_linear_polarization.gif), [Attribution-Share Alike 4.0 International](//creativecommons.org/licenses/by-sa/4.0/deed.en);\n",
    "[right] from [wikipedia](https://de.wikipedia.org/wiki/Datei:Animation_polariseur.gif), gemeinfrei</sub>*\n"
   ]
  },
  {
   "cell_type": "markdown",
   "metadata": {
    "slideshow": {
     "slide_type": "slide"
    }
   },
   "source": [
    "\n",
    "## Polarization by absorption: Malus's law\n",
    "\n",
    "* intensity of polarized light transmitted through a polaroid:\n",
    "    $$ I = I_0 \\cos^2 \\theta $$\n",
    "    * $I_0$: incident intensity\n",
    "    * $\\theta$: angle between incident polarization and transmission axis\n",
    "* for unpolarized light, the transmitted intensity is halved:\n",
    "    $$ I = \\frac{1}{2} I_0 $$\n"
   ]
  },
  {
   "cell_type": "markdown",
   "metadata": {
    "slideshow": {
     "slide_type": "slide"
    }
   },
   "source": [
    "\n",
    "## Polarization by reflection\n",
    "`ow02 - Nörrenberg`\n",
    "* unpolarized light can be **polarized upon reflection** from a non-metallic surface at non-perpendicular angles\n",
    "* reflected light is preferentially **polarized parallel to the reflecting surface**\n",
    "* **polaroid sunglasses** reduce glare from horizontal surfaces \n",
    "\n",
    "\n",
    "<img src=\"../img/from_wiki/Polarisationsapparat_nach_Noerrenberg.png\" alt=\"Polarisationsapparat_nach_N%C3%B6rrenberg.png\" width=\"85\"/>\n",
    "<img src=\"../img/from_wiki/Reflection_Polarizer2.jpg\" alt=\"Reflection_Polarizer2.jpg\" width=\"400\"/>\n",
    "\n",
    "*<sub>[left] from [wikipedia](https://de.m.wikipedia.org/wiki/Datei:Polarisationsapparat_nach_Noerrenberg.png), public domain);\n",
    "[right] from [wikipedia](https://en.wikipedia.org/wiki/File:Reflection_Polarizer2.jpg), public domain</sub>*\n",
    "\n"
   ]
  },
  {
   "cell_type": "markdown",
   "metadata": {
    "slideshow": {
     "slide_type": "slide"
    }
   },
   "source": [
    "\n",
    "## Polarization by reflection: Brewster's angle\n",
    "\n",
    "* degree of polarization in reflected beam varies with the angle of incidence\n",
    "* 100% polarization at the **polarizing angle** or **Brewster's angle** ($\\theta_B$)\n",
    "* Brewster's Law:\n",
    "    $$ \\tan \\theta_B = \\frac{n_2}{n_1} $$\n",
    "* at Brewster's angle, reflected and refracted rays are perpendicular ($\\theta_B + \\theta_2 = 90^\\circ$)\n",
    "\n",
    "\n",
    "<img src=\"../img/from_wiki/Brewster_angle.svg\" alt=\"Brewster_angle.svg\" width=\"300\"/>\n",
    "\n",
    "*<sub>from [wikipedia](https://commons.wikimedia.org/wiki/File:Brewster_angle.svg), [Attribution-Share Alike 3.0 Unported](//creativecommons.org/licenses/by-sa/3.0/deed.en)</sub>*\n",
    "\n"
   ]
  },
  {
   "cell_type": "markdown",
   "metadata": {
    "slideshow": {
     "slide_type": "slide"
    }
   },
   "source": [
    "\n",
    "## Birefringence &amp; stress patterns\n",
    "`os27 - polarization and mechanical stress` \n",
    "\n",
    "* **birefringence**: optical property where material has different refractive indices for different polarization directions\n",
    "* occurs in **anisotropic crystals** or **isotropic materials under stress**\n",
    "* incoming light splits into two beams\n",
    "* the two rays experience different phase velocities $\\Rightarrow$ **phase shift**\n",
    "* plastic under mechanical stress becomes birefringent \n",
    "\n",
    "\n",
    "<img src=\"../img/from_wiki/Plastic_Protractor_Polarized_05375.jpg\" alt=\"Plastic_Protractor_Polarized_05375.jpg\" width=\"300\"/>\n",
    "<img src=\"../img/from_wiki/Positively_birefringent_material.svg\" alt=\"Positively_birefringent_material.svg\" width=\"300\"/>\n",
    "\n",
    "\n",
    "*<sub>[left] from [wikipedia](https://commons.wikimedia.org/wiki/File:Plastic_Protractor_Polarized_05375.jpg), [GNU Free Documentation License](https://en.wikipedia.org/wiki/en:GNU_Free_Documentation_License)\n",
    "[right] from [wikipedia](https://commons.wikimedia.org/wiki/File:Positively_birefringent_material.svg), public domain</sub>*\n",
    "\n"
   ]
  },
  {
   "cell_type": "markdown",
   "metadata": {
    "slideshow": {
     "slide_type": "slide"
    }
   },
   "source": [
    "## Rayleigh scattering in the atmosphere or why is the sky blue? \n",
    "`ow34 - milky sunset` \n",
    "* **light scattered by atmospheric molecules** e.g. nitrogen, oxygen\n",
    "* sunlight causes molecules' electrons to oscillate, re-emitting light in all directions\n",
    "* amount of scattering is **inversely proportional to** the fourth power of **wavelength** ($1/\\lambda^4$)\n",
    "* **shorter wavelengths** (blue, violet) **scatter much more** effectively than longer wavelengths (red, orange)\n",
    "* **blue light** is preferentially **scattered in all directions**, making the sky appear blue\n",
    "* **at sunset**, sunlight travels through a **much longer path** in the atmosphere\n",
    "* light reaching our eyes directly from the setting sun (or reflected off clouds) is depleted in blue and appears reddish\n",
    "\n",
    "<img src=\"../img/from_wiki/Majestic_Twilight.jpg\" alt=\"Majestic_Twilight.jpg\" width=\"175\"/>\n",
    "<img src=\"../img/from_wiki/Rayleigh_sunlight_scattering.svg\" alt=\"Rayleigh_sunlight_scattering.svg\" width=\"300\"/>\n",
    "\n",
    "*<sub>[left] from [wikipedia](https://en.wikipedia.org/wiki/File:Majestic_Twilight.jpg), [Attribution-Share Alike 4.0 International](//creativecommons.org/licenses/by-sa/4.0/deed.en);\n",
    "[right] from [wikipedia](https://en.wikipedia.org/wiki/File:Rayleigh_sunlight_scattering.svg), [Attribution-Share Alike 3.0 Unported](//creativecommons.org/licenses/by-sa/3.0/deed.en)</sub>*\n"
   ]
  },
  {
   "cell_type": "markdown",
   "metadata": {
    "slideshow": {
     "slide_type": "slide"
    }
   },
   "source": [
    "\n",
    "## Interference &amp; light\n",
    "\n",
    "* **wave nature for light can result in interference patterns**\n",
    "* let's start easy by using **monochromatic light**: single wavelength or narrow range of wavelengths (e.g., lasers, specific filters)\n",
    "\n",
    "\n",
    "<img src=\"../img/from_wiki/Interfering_surface_waves_on_a_lake.jpg\" alt=\"Interfering_surface_waves_on_a_lake.jpg\" width=\"300\"/>\n",
    "<img src=\"../img/from_wiki/Two_sources_interference.gif\" alt=\"Two_sources_interference.gif\" width=\"150\"/>\n",
    "\n",
    "*<sub>[left] from [wikipedia](https://en.wikipedia.org/wiki/File:Interfering_surface_waves_on_a_lake.jpg), [Attribution-Share Alike 4.0 International](//creativecommons.org/licenses/by-sa/4.0/deed.en);\n",
    "[right] from [wikipedia](https://en.wikipedia.org/wiki/File:Two_sources_interference.gif), public domain</sub>*\n",
    "\n"
   ]
  },
  {
   "cell_type": "markdown",
   "metadata": {
    "slideshow": {
     "slide_type": "slide"
    }
   },
   "source": [
    "## Newton's rings with monochromatic light\n",
    "`ow04 - Newton's rings in mono`\n",
    "\n",
    "* plano-convex lens on a flat glass surface $\\Rightarrow$ thin, wedge-shaped air gap\n",
    "* **Newton's rings**: interferences of monochromatic light creates concentric bright and dark circular rings \n",
    "* **interference pattern** due to light reflected from two surfaces:\n",
    "    * bottom surface of the lens (glass-air interface)\n",
    "    * top surface of the flat glass plate (air-glass interface)\n",
    "    * $\\Rightarrow$ **path difference**\n",
    "\n",
    "<img src=\"../img/from_wiki/Optical_flat_interference.svg\" alt=\"Optical_flat_interference.svg\" width=\"200\"/>\n",
    "<img src=\"../img/from_wiki/Newtons_rings_650nm_red_laser_light.jpeg\" alt=\"Newton%27s_rings_%28650nm_red_laser_light%29.jpeg\" width=\"200\"/>\n",
    "\n",
    "*<sub>from [wikipedia](https://en.wikipedia.org/wiki/File:Optical_flat_interference.svg), [CC0 1.0 Universal](https://creativecommons.org/publicdomain/zero/1.0/deed.en)</sub>*\n",
    "*<sub>from [wikipedia](https://en.wikipedia.org/wiki/File:Newton%27s_rings_(650nm_red_laser_light).jpeg), [Attribution-Share Alike 3.0 Unported](//creativecommons.org/licenses/by-sa/3.0/deed.en)</sub>*\n"
   ]
  },
  {
   "cell_type": "markdown",
   "metadata": {
    "slideshow": {
     "slide_type": "slide"
    }
   },
   "source": [
    "## The math for Newton's rings\n",
    "\n",
    "* second wave travels an extra distance of approximately twice the air gap thickness ($2t$)\n",
    "* additionally $180^\\circ$ phase shift at air-glass interface (occurs only from low to high refractive index interface)\n",
    "* $\\Rightarrow$ $\\frac{\\lambda}{2}$ phase shift\n",
    "\n",
    "* **total path difference is**: $\\Delta = 2 t + \\frac{\\lambda}{2}$\n",
    "\n",
    "\n",
    "<img src=\"../img/from_wiki/Optical_flat_interference.svg\" alt=\"Optical_flat_interference.svg\" width=\"300\"/>\n",
    "\n",
    "*<sub>from [wikipedia](https://en.wikipedia.org/wiki/File:Optical_flat_interference.svg), [CC0 1.0 Universal](https://creativecommons.org/publicdomain/zero/1.0/deed.en)</sub>*\n"
   ]
  },
  {
   "cell_type": "markdown",
   "metadata": {
    "slideshow": {
     "slide_type": "slide"
    }
   },
   "source": [
    "## Conditions for bright and dark rings\n",
    "\n",
    "* path difference ($2t$) combined with $\\lambda/2$ phase shift determines interference:\n",
    "* **dark rings (destructive interference)**: total path difference is half-integer multiple of wavelength\n",
    "    $$ 2t + \\frac{\\lambda}{2} = m \\lambda \\implies 2t = (m - \\frac{1}{2}) \\lambda, \\quad m = 0, 1, 2, ... $$\n",
    "    * $m=0$ corresponds to the dark center\n",
    "* **bright rings (constructive interference)**: total path difference is integer multiple of wavelength\n",
    "    $$ 2t + \\frac{\\lambda}{2} = (m + \\frac{1}{2}) \\lambda \\implies 2t = m \\lambda, \\quad m = 0, 1, 2, ... $$\n",
    "    * $m=1$ is the first bright ring\n",
    "\n",
    "\n",
    "<img src=\"../img/from_wiki/Optical_flat_interference.svg\" alt=\"Optical_flat_interference.svg\" width=\"300\"/>\n",
    "\n",
    "*<sub>from [wikipedia](https://en.wikipedia.org/wiki/File:Optical_flat_interference.svg), [CC0 1.0 Universal](https://creativecommons.org/publicdomain/zero/1.0/deed.en)</sub>*\n",
    "\n"
   ]
  },
  {
   "cell_type": "markdown",
   "metadata": {
    "slideshow": {
     "slide_type": "slide"
    }
   },
   "source": [
    "## Newton's rings with white light\n",
    "\n",
    "`ow04 - Newton's rings in color`\n",
    "* using white light (spectrum of wavelengths) results in colored concentric rings\n",
    "* constructive interference occurs for different wavelengths at different air gap thicknesses\n",
    "* rings closest to the center are vibrant (rainbow sequence)\n",
    "* further from the center, rings overlap more, color contrast decreases, eventually becoming nearly white or blurry\n",
    "\n",
    "\n",
    "<img src=\"../img/from_wiki/Newton_rings.jpg\" alt=\"Newton_rings.jpg\" width=\"300\"/>\n",
    "\n",
    "*<sub>from [wikipedia](https://en.wikipedia.org/wiki/File:Newton_rings.jpg), public domain</sub>*\n",
    "\n"
   ]
  },
  {
   "cell_type": "markdown",
   "metadata": {
    "slideshow": {
     "slide_type": "slide"
    }
   },
   "source": [
    "\n",
    "## Interference in thin films\n",
    "`ow04 - soap bubble`\n",
    "* interference also occurs in other thin films, e.g. soap bubbles or oil films on water\n",
    "* colors are due to interference of light reflected from the two interfaces\n",
    "* for near-normal incidence, path difference is approximately $2nd$ ($n$: refractive index of film, $d$: thickness)\n",
    "* phase shifts depend on refractive indices at each interface\n",
    "* if reflection at both interfaces is lower to higher (or vice versa), phase shifts cancel\n",
    "\n",
    "\n",
    "<img src=\"../img/from_wiki/Soap_bubble_sky.jpg\" alt=\"Soap_bubble_sky.jpg\" width=\"150\"/>\n",
    "<img src=\"../img/from_wiki/Thin_film_interference_-_soap_bubble.gif\" alt=\"Thin_film_interference_-_soap_bubble.gif\" width=\"200\"/>\n",
    "<img src=\"../img/from_wiki/Thin_film_interference_-_oil_film.gif\" alt=\"Thin_film_interference_-_oil_film.gif\" width=\"200\"/>\n",
    "\n",
    "*<sub>[left] from [wikipedia](https://en.wikipedia.org/wiki/File:Soap_bubble_sky.jpg), [Attribution-Share Alike 3.0 Unported](//creativecommons.org/licenses/by-sa/3.0/deed.en);\n",
    "[middle] from [wikipedia](https://en.wikipedia.org/wiki/File:Thin_film_interference_-_soap_bubble.gif), public domain by Chanli44;\n",
    "[right] from [wikipedia](https://en.wikipedia.org/wiki/File:Thin_film_interference_-_oil_film.gif), public domain by Chanli44</sub>*\n",
    "\n",
    "\n",
    "\n"
   ]
  },
  {
   "cell_type": "markdown",
   "metadata": {
    "slideshow": {
     "slide_type": "slide"
    }
   },
   "source": [
    "\n",
    "## Interference: Young's double-slit experiment\n",
    "`ow05 - double slit` \n",
    "\n",
    "* Thomas Young (1773-1829) provided strong evidence for the wave nature of light\n",
    "* illuminated a screen with two closely spaced, narrow slits $S_1$ and $S_2$ (separation $d$)\n",
    "* if $d$ is on the order of the wavelength, interference occurs\n",
    "* **diffraction** also occurs (next chapter), conceptually similar to interference at this level\n",
    "\n",
    "\n",
    "<img src=\"../img/from_wiki/Double_slit_experiment_schematic.svg\" alt=\"Double_slit_experiment_%28schematic%29.svg\" width=\"300\"/>\n",
    "\n",
    "*<sub>from [wikipedia](https://de.wikibooks.org/wiki/Datei:Double_slit_experiment_(schematic).svg), [Attribution-Share Alike 3.0 Unported](//creativecommons.org/licenses/by-sa/3.0/deed.de)</sub>*\n"
   ]
  },
  {
   "cell_type": "markdown",
   "metadata": {
    "slideshow": {
     "slide_type": "slide"
    }
   },
   "source": [
    "\n",
    "## Double-Slit with monochromatic light\n",
    "`sim - double slit`\n",
    "\n",
    "* two slits act as **coherent sources** (same wavelength, constant phase relationship)\n",
    "* waves diffract and overlap behind the screen\n",
    "\n",
    "<img src=\"../img/from_wiki/Two-Slit_Experiment_Light.svg\" alt=\"Two-Slit_Experiment_Light.svg\" width=\"300\"/>\n",
    "<img src=\"../img/from_wiki/Interfere.gif\" alt=\"Interfere.gif\" width=\"300\"/>\n",
    "\n",
    "*<sub>[left] from [wikipedia](https://de.wikibooks.org/wiki/Datei:Two-Slit_Experiment_Light.svg), gemeinfrei;\n",
    "[right] from [wikipedia](https://de.wikibooks.org/wiki/Datei:Interfere.gif), [Attribution-Share Alike 4.0 International](//creativecommons.org/licenses/by-sa/4.0/deed.de)</sub>*\n"
   ]
  },
  {
   "cell_type": "markdown",
   "metadata": {
    "slideshow": {
     "slide_type": "slide"
    }
   },
   "source": [
    "\n",
    "## Interference at the double-slit\n",
    "\n",
    "* **path difference** ($\\Delta$) between waves from $S_1$ and $S_2$ is approximately $\\Delta = g \\sin \\alpha$ ($g$ distance slits)\n",
    "* **constructive interference** occurs when path difference is an integer multiple of the wavelength $\\lambda$:\n",
    "    $$ g \\sin \\alpha = m \\lambda, \\quad m = 0, 1, 2, ... $$\n",
    "    * $m$ is the order of the bright fringe\n",
    "    * **central bright fringe** ($m=0$) at $\\alpha = 0$ (zero path difference, waves in phase)\n",
    "    * first-order bright fringes ($m=1$) at angles where path difference is one wavelength\n",
    "    * distance between bright fringes is approximately constant for small angles ($\\sin \\alpha \\approx \\alpha$)\n",
    "* **destructive interference** occurs when the path difference is a half-integer multiple of the wavelength $\\lambda$:\n",
    "    $$g \\sin \\alpha = (m + \\frac{1}{2})\\lambda, \\quad m = 0, 1, 2, ...$$\n",
    "\n",
    "\n",
    "<img src=\"../img/from_wiki/Double_slit_experiment_schematic.svg\" alt=\"Double_slit_experiment_%28schematic%29.svg\" width=\"300\"/>\n",
    "\n",
    "*<sub>from [wikipedia](https://de.wikibooks.org/wiki/Datei:Double_slit_experiment_(schematic).svg), [Attribution-Share Alike 3.0 Unported](//creativecommons.org/licenses/by-sa/3.0/deed.de)</sub>*\n",
    "\n"
   ]
  },
  {
   "cell_type": "markdown",
   "metadata": {
    "slideshow": {
     "slide_type": "slide"
    }
   },
   "source": [
    "## Take-home messages:\n",
    "* transverse nature of light results in polarization\n",
    "* superposition of light waves leads to interference patterns\n"
   ]
  }
 ],
 "metadata": {
  "kernelspec": {
   "display_name": ".venv",
   "language": "python",
   "name": "python3"
  },
  "language_info": {
   "codemirror_mode": {
    "name": "ipython",
    "version": 3
   },
   "file_extension": ".py",
   "mimetype": "text/x-python",
   "name": "python",
   "nbconvert_exporter": "python",
   "pygments_lexer": "ipython3",
   "version": "3.12.9"
  }
 },
 "nbformat": 4,
 "nbformat_minor": 2
}
