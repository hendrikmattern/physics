{
 "cells": [
  {
   "cell_type": "markdown",
   "metadata": {
    "slideshow": {
     "slide_type": "slide"
    }
   },
   "source": [
    "<img src=\"../img/Signet_FNW_1.svg\" alt=\"OVGU_FNW_Logo\" width=\"300\" align=\"right\">\n",
    "\n",
    "# 2.12. Wave optics: Diffraction\n",
    "\n",
    "**Why do the interference patterns diminish in intensity with higher order?**\n",
    "\n",
    "`os26`\n"
   ]
  },
  {
   "cell_type": "markdown",
   "metadata": {
    "slideshow": {
     "slide_type": "fragment"
    }
   },
   "source": [
    "$\\Rightarrow$ **Diffraction**\n"
   ]
  },
  {
   "cell_type": "markdown",
   "metadata": {
    "slideshow": {
     "slide_type": "slide"
    }
   },
   "source": [
    "## Intermezzo: Michelson interferometer\n",
    "`os26`\n",
    "\n",
    "* splits a light beam into two paths using a beam splitter\n",
    "* each path reflects off a mirror and recombines at the detector\n",
    "* interference depends on **optical path difference (OPD)** between arms\n",
    "* if one mirror moves by distance $\\Delta x$, the OPD changes by $2 \\Delta x$\n",
    "* used in metrology, gravitational wave detection (LIGO), and coherence experiments\n",
    "\n",
    "\n",
    "<img src=\"../img/from_wiki/Michelson_interferometer_fringe_formation.svg\" alt=\"Michelson_interferometer_fringe_formation.svg\" width=\"300\"/>\n",
    "\n",
    "*<sub>from [wikipedia](https://en.wikipedia.org/wiki/File:Michelson_interferometer_fringe_formation.svg), [Attribution-Share Alike 3.0 Unported](//creativecommons.org/licenses/by-sa/3.0/deed.en)</sub>*\n",
    "\n"
   ]
  },
  {
   "cell_type": "markdown",
   "metadata": {
    "slideshow": {
     "slide_type": "slide"
    }
   },
   "source": [
    "## Introduction to diffraction\n",
    "\n",
    "* **diffraction**: bending of waves as they pass through an aperture or around an obstacle\n",
    "* direct consequence of light's wave nature\n",
    "* noticeable when aperture/obstacle size is comparable to wavelength\n",
    "\n",
    "\n",
    "<img src=\"../img/from_wiki/Wavelength_slitwidth.gif\" alt=\"Wavelength%3Dslitwidth.gif\" width=\"300\"/>\n",
    "\n",
    "*<sub>from [wikipedia](https://de.wikibooks.org/wiki/Datei:Wavelength%3Dslitwidth.gif), [Attribution-Share Alike 3.0 Unported](//creativecommons.org/licenses/by-sa/3.0/deed.de)</sub>*\n",
    "\n"
   ]
  },
  {
   "cell_type": "markdown",
   "metadata": {
    "slideshow": {
     "slide_type": "slide"
    }
   },
   "source": [
    "## Revisiting the double-slit experiment: What we know\n",
    "`os05 - double slit w\\ red and green`\n",
    "\n",
    "* previously, double-slit: interference of two discrete waves\n",
    "* waves **bend** (diffract) at interfaces comparable to wavelength\n",
    "* interference pattern: bright (constructive) and dark (destructive) fringes\n",
    "\n"
   ]
  },
  {
   "cell_type": "markdown",
   "metadata": {
    "slideshow": {
     "slide_type": "slide"
    }
   },
   "source": [
    "## Revisiting the double-slit experiment: The catch\n",
    "\n",
    "* simple interference predicts equally bright fringes\n",
    "* **reality**: intensity of fringes is modulated\n",
    "    * central ones brightest\n",
    "    * intensity decreases away from center\n",
    "* each slit acts as a source of waves (Huygens' principle) that interfere in a more complex way\n",
    "* this phenomenon, responsible for intensity variations, is **diffraction**\n",
    "\n",
    "\n",
    "<img src=\"../img/from_wiki/Lichtintensitaet_hinter_Doppelspalt.png\" alt=\"Lichtintensit%C3%A4t_hinter_Doppelspalt.png\" width=\"300\"/>\n",
    "\n",
    "*<sub>from [wikipedia](https://de.wikibooks.org/wiki/Datei:Lichtintensit%C3%A4t_hinter_Doppelspalt.png), [Attribution-Share Alike 3.0 Unported](//creativecommons.org/licenses/by-sa/3.0/deed.de)</sub>*\n"
   ]
  },
  {
   "cell_type": "markdown",
   "metadata": {
    "slideshow": {
     "slide_type": "slide"
    }
   },
   "source": [
    "## Interference vs. diffraction\n",
    "\n",
    "* **fundamentally the same phenomenon**: superposition of coherent waves\n",
    "* **distinction often lies in conceptualization/source arrangement**:\n",
    "    * **interference**: superposition from a few discrete sources (e.g., two rays)\n",
    "    * **diffraction**: superposition from a continuous distribution of sources or many closely spaced sources\n"
   ]
  },
  {
   "cell_type": "markdown",
   "metadata": {
    "slideshow": {
     "slide_type": "slide"
    }
   },
   "source": [
    "## Diffraction at a single-slit\n",
    "\n",
    "`os05 - single slit`\n",
    "\n",
    "* monochromatic light from coherent source ($\\lambda$, phase)\n",
    "* single narrow slit of width $D$ ($D \\approx \\lambda$)\n",
    "* results in a diffraction pattern on a distant screen:\n",
    "    * central bright maximum\n",
    "    * flanked by minima and weaker secondary maxima\n",
    "\n",
    "\n",
    "<img src=\"../img/from_wiki/Single_Slit_Diffraction.svg\" alt=\"Single_Slit_Diffraction.svg\" width=\"300\"/>\n",
    "\n",
    "*<sub>from [wikipedia](https://en.wikipedia.org/wiki/File:Single_Slit_Diffraction.svg), [Attribution-Share Alike 3.0 Unported](//creativecommons.org/licenses/by-sa/3.0/deed.en)</sub>*\n",
    "\n"
   ]
  },
  {
   "cell_type": "markdown",
   "metadata": {
    "slideshow": {
     "slide_type": "slide"
    }
   },
   "source": [
    "\n",
    "## Single-slit pattern formation\n",
    "`sim - single slit`\n",
    "\n",
    "* path difference is $\\Delta = D \\sin \\theta$, thus relation to wavelength $\\lambda$:\n",
    "$$D \\sin \\theta = m \\lambda$$\n",
    "* $m$ is the order *(note: m is a rational number, not integer)*\n",
    "* **minima**: $D \\sin\\theta = m\\lambda, \\quad m = \\pm 1, \\pm 2, ...$\n",
    "* **central maxima** at $m=0$\n",
    "* **higher-order maxima**: $D \\sin\\theta \\approx (m + \\frac{1}{2})\\lambda, \\quad m \\approx \\pm \\frac{3}{2}, \\pm \\frac{5}{2}, ... $\n",
    "\n",
    "\n",
    "<img src=\"../img/from_wiki/Single_Slit_Diffraction.svg\" alt=\"Single_Slit_Diffraction.svg\" width=\"300\"/>\n",
    "\n",
    "*<sub>from [wikipedia](https://en.wikipedia.org/wiki/File:Single_Slit_Diffraction.svg), [Attribution-Share Alike 3.0 Unported](//creativecommons.org/licenses/by-sa/3.0/deed.en)</sub>*\n"
   ]
  },
  {
   "cell_type": "markdown",
   "metadata": {
    "slideshow": {
     "slide_type": "slide"
    }
   },
   "source": [
    "\n",
    "## Intensity in single-slit diffraction pattern\n",
    "`sim - single slit`\n",
    "\n",
    "* split slit into $N$ thin strips, each thickness $\\Delta y$\n",
    "* each strip emits coherent wavelets (Huygens' principle), i.e. can be considered an independent, coherent light \"source\"\n",
    "* consider parallel rays emitted by these \"sources\" at angle $\\theta$ \n",
    "* path difference: $\\Delta = \\Delta y \\sin \\theta$\n",
    "* phase difference: $\\Delta \\beta = \\frac{2 \\pi}{\\lambda} \\Delta = \\frac{2 \\pi}{\\lambda} \\Delta y \\sin \\theta$\n",
    "* phase difference gives:\n",
    "    * minima for: $\\Delta \\beta = \\pm 2\\pi, \\pm 4 \\pi, ...$\n",
    "    * maxima for: $\\Delta \\beta = \\pm 3\\pi, \\pm 5 \\pi, ...$\n",
    "\n",
    "\n",
    "<img src=\"../img/from_wiki/Sin_drawing_process.gif\" alt=\"Sin_drawing_process.gif\" width=\"400\"/>\n",
    "\n",
    "*<sub>from [wikipedia](https://de.wikibooks.org/wiki/Datei:Sin_drawing_process.gif), [Attribution-Share Alike 3.0 Unported](//creativecommons.org/licenses/by-sa/3.0/deed.de)</sub>*\n"
   ]
  },
  {
   "cell_type": "markdown",
   "metadata": {
    "slideshow": {
     "slide_type": "slide"
    }
   },
   "source": [
    "## Phasor technique to understand diffraction\n",
    "\n",
    "* each strip/\"source\" has its own **electric field** with amplitude $\\Delta E_0$\n",
    "* **phase differs between strips** $\\Rightarrow$ electric field is a **vector** (magnitude &amp; phase)\n",
    "* intensity on screen: **vector sum of all strips**\n",
    "* **total phase difference** $\\beta$ across all slits (phase per strip $\\Delta \\beta = \\frac{2 \\pi}{\\lambda} \\Delta y \\sin \\theta \\,$ &amp; width $D = N \\Delta y$):\n",
    "$$\n",
    "\\beta = N \\Delta \\beta = \\frac{2 \\pi}{\\lambda} N \\Delta y \\sin \\theta = \\frac{2 \\pi}{\\lambda} D \\sin \\theta\n",
    "$$\n",
    "\n",
    "\n",
    "<img src=\"../img/from_wiki/3SlitInterferenceExpl.svg\" alt=\"3SlitInterferenceExpl.svg\" width=\"250\"/>\n",
    "\n",
    "*<sub>from [wikipedia](https://de.wikibooks.org/wiki/Datei:3SlitInterferenceExpl.svg), [Attribution-Share Alike 4.0 International](//creativecommons.org/licenses/by-sa/4.0/deed.de)</sub>*\n",
    "\n",
    "*Note: $\\delta$ in plot is our $\\Delta \\beta$, i.e. the angle of each individual phasor*"
   ]
  },
  {
   "cell_type": "markdown",
   "metadata": {
    "slideshow": {
     "slide_type": "slide"
    }
   },
   "source": [
    "## Phasor summation\n",
    "\n",
    "* if $\\beta = 2\\pi$, all vectors cancel (first minimum)\n",
    "* minima for $\\beta = \\pm 2\\pi, \\pm 4\\pi, ...$\n",
    "* higher-order maxima for $\\beta = \\pm 3\\pi, \\pm 5\\pi, ...$\n",
    "    * portion of vectors cancel, reducing intensity\n",
    "* from first minimum, $\\beta = 2\\pi = \\frac{2 \\pi}{\\lambda} D \\sin \\theta \\Rightarrow \\lambda =  D \\sin \\theta  \\Rightarrow \\sin \\theta = \\frac{\\lambda}{D}$\n",
    "\n",
    "<img src=\"../img/from_wiki/10SlitInterference.gif\" alt=\"10SlitInterference.gif\" width=\"275\"/>\n",
    "\n",
    "*<sub>from [wikipedia](https://de.wikibooks.org/wiki/Datei:10SlitInterference.gif), [Attribution-Share Alike 4.0 International](//creativecommons.org/licenses/by-sa/4.0/deed.de)</sub>*\n",
    "\n",
    "*Note: $\\delta$ in plot is our $\\Delta \\beta$, i.e. the angle of each individual phasor*"
   ]
  },
  {
   "cell_type": "markdown",
   "metadata": {
    "slideshow": {
     "slide_type": "slide"
    }
   },
   "source": [
    "## Concept to deriving the intensity formula\n",
    "\n",
    "\n",
    "* **phasors form an arc**\n",
    "    * **arc length** $s$ is $E_0$ (our input)\n",
    "    * **chord** $c$ of the arc, i.e. arrow connecting start and end of arc, is $E_\\theta$ (our output)\n",
    "* **for central maximum** ($\\theta=0$): phasors in phase, resultant $E_{\\theta} = E_0 = N \\Delta E_0$\n",
    "* in general: \n",
    "    * **arc length:** $s = \\theta R \\Leftrightarrow E_0 = \\beta r$\n",
    "    * **chord length:** $c = 2 R \\sin(\\frac{\\theta}{2})= \\Leftrightarrow E_\\theta = 2 r \\sin(\\frac{\\beta}{2})$\n",
    "\n",
    "\n",
    "<img src=\"../img/from_wiki/Circularsegment.svg\" alt=\"Circularsegment.svg\" width=\"250\"/>\n",
    "<img src=\"../img/SingleSlitDiffractionPhasor.png\" alt=\"SingleSlitDiffractionPhasor.png\" width=\"250\"/>\n",
    "\n",
    "*<sub>[left ]from [wikipedia](https://en.wikipedia.org/wiki/File:Circularsegment.svg), public domain</sub>*\n",
    "\n"
   ]
  },
  {
   "cell_type": "markdown",
   "metadata": {
    "slideshow": {
     "slide_type": "slide"
    }
   },
   "source": [
    "\n",
    "## Single-slit intensity formula\n",
    "\n",
    "* rewrite equations:\n",
    "    * $E_0 = \\beta r  \\Rightarrow \\frac{E_0}{2} = r \\frac{\\beta}{2}$\n",
    "\n",
    "    * $E_\\theta = 2 r \\sin(\\frac{\\beta}{2}) \\Rightarrow \\frac{E_\\theta}{2} = r \\sin(\\frac{\\beta}{2})$\n",
    "\n",
    "* divide them: $\\frac{E_{\\theta}}{E_0} = \\frac{\\sin(\\beta/2)}{\\beta/2}$\n",
    "\n",
    "* intensity is proportional to square of electric field amplitude ($I \\propto E^2$):\n",
    "$$\n",
    "\\frac{I_{\\theta}}{I_0} = \\left( \\frac{E_{\\theta}}{E_0} \\right)^2 = \\left( \\frac{\\sin(\\beta/2)}{\\beta/2} \\right)^2\n",
    "$$\n",
    "\n",
    "* substituting $\\beta=\\frac{2 \\pi}{\\lambda} D \\sin \\theta $:\n",
    "$$\n",
    "I_{\\theta} = I_0 \\left( \\frac{\\sin\\left(\\frac{\\pi D \\sin \\theta}{\\lambda}\\right)}{\\frac{\\pi D \\sin \\theta}{\\lambda}} \\right)^2\n",
    "$$\n",
    "\n"
   ]
  },
  {
   "cell_type": "markdown",
   "metadata": {
    "slideshow": {
     "slide_type": "slide"
    }
   },
   "source": [
    "\n",
    "## Interpretation single-slit intensity\n",
    "* $I_{\\theta} = I_0 \\left( \\frac{\\sin\\left(\\frac{\\pi D \\sin \\theta}{\\lambda}\\right)}{\\frac{\\pi D \\sin \\theta}{\\lambda}} \\right)^2$\n",
    "\n",
    "* use sinc function $\\textrm{sinc}(x) = \\frac{\\sin x}{x}$:\n",
    "* $I_{\\theta} = I_0 \\cdot \\textrm{sinc}^2\\left( \\frac{\\pi D \\sin \\theta}{\\lambda} \\right)$\n",
    "* $\\textrm{sinc}^2(x) = (\\frac{\\sin(x)}{x})^2$ is sinc squared function: \n",
    "  * a central maximum at $x$ = 0 \n",
    "  * amplitude decreases for larger values of $x$\n",
    "  * zeros occurring at multiples of $\\pi$. \n",
    "* $\\Rightarrow$ **mathematically explains the central bright maximum and the decreasing intensity of the secondary maxima**\n",
    "\n",
    "\n",
    "<img src=\"../img/from_wiki/Si_cos.svg\" alt=\"Si_cos.svg\" width=\"400\"/>\n",
    "\n",
    "*<sub>from [wikipedia](https://en.wikipedia.org/wiki/File:Si_cos.svg), [Attribution-Share Alike 3.0 Unported](//creativecommons.org/licenses/by-sa/3.0/deed.en)</sub>*\n",
    "\n"
   ]
  },
  {
   "cell_type": "markdown",
   "metadata": {
    "slideshow": {
     "slide_type": "slide"
    }
   },
   "source": [
    "## Revisiting diffraction at a double-slit\n",
    "\n",
    "* **previously**: interference analysis determines maxima/minima positions\n",
    "* **reality**: finite number of peaks, brightest at center, lower intensity surrounding\n",
    "* this is due to **diffraction** from each slit\n",
    "\n",
    "\n",
    "<img src=\"../img/from_wiki/Lichtintensitaet_hinter_Doppelspalt.png\" alt=\"Lichtintensit%C3%A4t_hinter_Doppelspalt.png\" width=\"300\"/>\n",
    "\n",
    "*<sub>from [wikipedia](https://de.wikibooks.org/wiki/Datei:Lichtintensit%C3%A4t_hinter_Doppelspalt.png), [Attribution-Share Alike 3.0 Unported](//creativecommons.org/licenses/by-sa/3.0/deed.de)</sub>*\n"
   ]
  },
  {
   "cell_type": "markdown",
   "metadata": {
    "slideshow": {
     "slide_type": "slide"
    }
   },
   "source": [
    "## Double-slit as two single slits to combine diffraction &amp; interference\n",
    "\n",
    "* double-slit: each slit has width $D$, separation $d$\n",
    "* each slit contributes an electric field modulated by its own diffraction, i.e. **reuse single-slit results**:\n",
    "$$E_{\\rm single} = E_{0, \\rm single} \\frac{\\sin(\\beta/2)}{\\beta/2}$$\n",
    "* with $\\frac{\\beta}{2} = \\frac{\\pi D \\sin \\theta}{\\lambda}$\n",
    "\n",
    "<img src=\"../img/from_wiki/Double_slit_simulated_2.jpg\" alt=\"Double_slit_simulated_2.jpg\" width=\"300\"/>\n",
    "\n",
    "*<sub>from [wikipedia](https://de.wikibooks.org/wiki/Datei:Double_slit_simulated_2.jpg), gemeinfrei</sub>*\n"
   ]
  },
  {
   "cell_type": "markdown",
   "metadata": {
    "slideshow": {
     "slide_type": "slide"
    }
   },
   "source": [
    "## Phase difference between slits\n",
    "\n",
    "* path difference between light from two slits: $\\Delta = d \\sin \\theta$\n",
    "* phase difference $\\delta$:\n",
    "\n",
    "$$\n",
    "\\delta = \\frac{2 \\pi}{\\lambda} \\Delta = \\frac{2 \\pi}{\\lambda} d \\sin \\theta\n",
    "$$\n",
    "\n",
    "* electric fields from the two slits:\n",
    "\n",
    "$$\n",
    "E_1 = E_{single} e^{i \\delta/2}, \\quad E_2 = E_{single} e^{-i \\delta/2}\n",
    "$$\n",
    "\n",
    "\n",
    "<img src=\"../img/from_wiki/Double_slit_experiment_schematic.svg\" alt=\"Double_slit_experiment_%28schematic%29.svg\" width=\"300\"/>\n",
    "\n",
    "*<sub>from [wikipedia](https://de.wikibooks.org/wiki/Datei:Double_slit_experiment_(schematic).svg), [Attribution-Share Alike 3.0 Unported](//creativecommons.org/licenses/by-sa/3.0/deed.de)</sub>*\n"
   ]
  },
  {
   "cell_type": "markdown",
   "metadata": {
    "slideshow": {
     "slide_type": "slide"
    }
   },
   "source": [
    "\n",
    "## Total electric field for double slit\n",
    "\n",
    "* superposition:\n",
    "$$E_{total} = E_1 + E_2 = E_{single} (e^{i \\delta/2} + e^{-i \\delta/2})$$\n",
    "* using $e^{ix} + e^{-ix} = 2 \\cos x$:\n",
    "$$E_{total} = 2 E_{single} \\cos\\left(\\frac{\\delta}{2}\\right)$$\n",
    "* substituting $E_{single}$:\n",
    "$$E_{total} = 2 E_{0, single} \\frac{\\sin(\\beta/2)}{\\beta/2} \\cos\\left(\\frac{\\delta}{2}\\right)$$\n",
    "\n",
    "<img src=\"../img/from_wiki/2SlitInterference.gif\" alt=\"2SlitInterference.gif\" width=\"300\"/>\n",
    "\n",
    "*<sub>from [wikipedia](https://de.wikibooks.org/wiki/Datei:2SlitInterference.gif), [Attribution-Share Alike 4.0 International](//creativecommons.org/licenses/by-sa/4.0/deed.de)</sub>*\n"
   ]
  },
  {
   "cell_type": "markdown",
   "metadata": {
    "slideshow": {
     "slide_type": "slide"
    }
   },
   "source": [
    "## Double-slit intensity formula &amp; interpretation\n",
    "\n",
    "`sim - intensity`\n",
    "\n",
    "\n",
    "* intensity $I_{\\theta} \\propto E_{total}^2$\n",
    "* let $I_0$ be the intensity of the central maximum:\n",
    "\n",
    "$$\n",
    "I_{\\theta} = I_0 \\left( \\frac{\\sin(\\beta/2)}{\\beta/2} \\right)^2 \\cos^2\\left(\\frac{\\delta}{2}\\right)\n",
    "$$\n",
    "\n",
    "\n",
    "* **diffraction factor (envelope)**: $\\left( \\frac{\\sin(\\beta/2)}{\\beta/2} \\right)^2$ from each slit ($D$)\n",
    "* **interference factor**: $\\cos^2\\left(\\frac{\\delta}{2}\\right)$ from path difference between slits ($d$)\n",
    "* diffraction envelope modulates finer interference fringes\n",
    "* zeros of diffraction pattern cause disappearance of interference fringes\n",
    "\n",
    "\n",
    "<img src=\"../img/from_wiki/Single_slit_and_double_slit4.jpg\" alt=\"Single_slit_and_double_slit4.jpg\" width=\"400\"/>\n",
    "\n",
    "*<sub>from [wikipedia](https://de.wikibooks.org/wiki/Datei:Single_slit_and_double_slit4.jpg), [Attribution-Share Alike 3.0 Unported](//creativecommons.org/licenses/by-sa/3.0/deed.de)</sub>*\n"
   ]
  },
  {
   "cell_type": "markdown",
   "metadata": {
    "slideshow": {
     "slide_type": "slide"
    }
   },
   "source": [
    "\n",
    "## Diffraction at circular apertures &amp; resolution limit\n",
    "`ow05 - Lochblende`\n",
    "\n",
    "* lenses (circular apertures of diameter $D$) cannot image a point perfectly due to **diffraction &amp; aberration**\n",
    "* light from a point source forms an **Airy disk**\n",
    "* angular half-width $\\theta$ of Airy disk:\n",
    "$$\n",
    "\\theta \\approx 1.22 \\frac{\\lambda}{D}\n",
    "$$\n",
    "\n",
    "\n",
    "<img src=\"../img/from_wiki/Beugungsscheibchen.k.720.jpg\" alt=\"Beugungsscheibchen.k.720.jpg\" width=\"250\"/>\n",
    "\n",
    "*<sub>from [wikipedia](https://en.wikipedia.org/wiki/File:Beugungsscheibchen.k.720.jpg), [CC0 1.0 Universal](https://creativecommons.org/publicdomain/zero/1.0/deed.en)</sub>*\n",
    "\n"
   ]
  },
  {
   "cell_type": "markdown",
   "metadata": {
    "slideshow": {
     "slide_type": "slide"
    }
   },
   "source": [
    "\n",
    "## Rayleigh criterion\n",
    "\n",
    "* resolution limit: ability to distinguish two closely spaced objects\n",
    "* **Rayleigh criterion**: just resolvable when one center overlaps other’s first minimum\n",
    "* minimum angular separation:\n",
    "\n",
    "$$\n",
    "\\theta_{min} = 1.22 \\frac{\\lambda}{D}\n",
    "$$\n",
    "\n",
    "* smaller $\\theta_{min}$ $\\rightarrow$ better resolution\n",
    "* applies to telescopes and mirrors ($D$ = objective diameter)\n",
    "\n",
    "\n",
    "<img src=\"../img/from_wiki/Airy_disk_spacing_near_Rayleigh_criterion.png\" alt=\"Airy_disk_spacing_near_Rayleigh_criterion.png\" width=\"300\"/>\n",
    "\n",
    "*<sub>from [wikipedia](https://en.wikipedia.org/wiki/File:Airy_disk_spacing_near_Rayleigh_criterion.png), public domain</sub>*\n",
    "\n"
   ]
  },
  {
   "cell_type": "markdown",
   "metadata": {
    "slideshow": {
     "slide_type": "slide"
    }
   },
   "source": [
    "## Diffraction grating with monochromatic light\n",
    "`ow05 - Gitter`\n",
    "\n",
    "* **diffraction grating**: many equally spaced slits (spacing $g$)\n",
    "* thousands of lines per cm/mm\n",
    "* maxima occur at angles: $\\sin\\theta = \\frac{m\\lambda}{g}, \\quad m = 0, \\pm 1, \\pm 2, ...$\n",
    "\n",
    "<img src=\"../img/from_wiki/Diffraction_gration_experiment_schematic.svg\" alt=\"Diffraction_gration_experiment_%28schematic%29.svg\" width=\"300\"/>\n",
    "\n",
    "*<sub>from [wikipedia](https://de.wikibooks.org/wiki/Datei:Diffraction_gration_experiment_(schematic).svg), [Attribution-Share Alike 3.0 Unported](//creativecommons.org/licenses/by-sa/3.0/deed.de)</sub>*\n",
    "\n"
   ]
  },
  {
   "cell_type": "markdown",
   "metadata": {
    "slideshow": {
     "slide_type": "slide"
    }
   },
   "source": [
    "\n",
    "## Diffraction grating &amp; spectroscopy\n",
    "\n",
    "* **transmission grating**: light passes through\n",
    "* **reflection grating**: lines ruled on mirror $\\rightarrow$ light reflected\n",
    "* **maxima sharper than for double-slit** as even slight angle change cause destructive interference across many slits\n",
    "* used for precise wavelength measurements and **basis for spectroscopy**\n",
    "\n",
    "\n",
    "<img src=\"../img/from_wiki/Comparison_refraction_diffraction_spectra.svg\" alt=\"Comparison_refraction_diffraction_spectra.svg\" width=\"300\"/>\n",
    "\n",
    "*<sub>from [wikipedia](https://en.wikipedia.org/wiki/File:Comparison_refraction_diffraction_spectra.svg), [Attribution-Share Alike 3.0 Unported](//creativecommons.org/licenses/by-sa/3.0/deed.en)</sub>*\n"
   ]
  },
  {
   "cell_type": "markdown",
   "metadata": {
    "slideshow": {
     "slide_type": "slide"
    }
   },
   "source": [
    "\n",
    "## White light with diffraction grating\n",
    "`ow13 + ow10 - spect grating`\n",
    "\n",
    "\n",
    "* white light instead of monochromatic\n",
    "* **central white peak** ($m = 0$): all wavelengths overlap constructively\n",
    "* for $m \\neq 0$: different $\\lambda$ diffract at different angles:\n",
    "\n",
    "$$\n",
    "\\sin\\theta = \\frac{m\\lambda}{d}\n",
    "$$\n",
    "\n",
    "* **result**: spectrum of colors per order\n",
    "\n",
    "\n",
    "<img src=\"../img/from_wiki/InterferenceGrating_flat.gif\" alt=\"InterferenceGrating_flat.gif\" width=\"450\"/>\n",
    "\n",
    "*<sub>from [wikipedia](https://de.wikibooks.org/wiki/Datei:InterferenceGrating_flat.gif), [Attribution-Share Alike 4.0 International](//creativecommons.org/licenses/by-sa/4.0/deed.de)</sub>*\n",
    "\n"
   ]
  },
  {
   "cell_type": "markdown",
   "metadata": {
    "slideshow": {
     "slide_type": "slide"
    }
   },
   "source": [
    "\n",
    "## Spectrometer / spectroscope\n",
    "\n",
    "`ow15 + ow30 - spect lamps`\n",
    "\n",
    "* **continuous spectrum**: emitted by hot solids, liquids, or dense gases; shows an unbroken range of colors (wavelengths)\n",
    "* **emission lines**: produced by excited atoms in a low-density gas; specific wavelengths corresponding to electron transitions\n",
    "* **absorption lines**: occur when light passes through a cooler gas; atoms absorb specific wavelengths, creating dark lines in the spectrum\n",
    "* **dependency on temperature**: higher temperatures excite more electrons, increasing the intensity and number of emission lines; cooler gases lead to stronger absorption features\n",
    "\n",
    "\n",
    "<img src=\"../img/from_wiki/Spectral_lines_en.PNG\" alt=\"Spectral_lines_en.PNG\" width=\"250\"/>\n",
    "\n",
    "*<sub>from [wikipedia](https://de.wikibooks.org/wiki/Datei:Spectral_lines_en.PNG), gemeinfrei</sub>*\n",
    "\n"
   ]
  }
 ],
 "metadata": {
  "kernelspec": {
   "display_name": ".venv",
   "language": "python",
   "name": "python3"
  },
  "language_info": {
   "codemirror_mode": {
    "name": "ipython",
    "version": 3
   },
   "file_extension": ".py",
   "mimetype": "text/x-python",
   "name": "python",
   "nbconvert_exporter": "python",
   "pygments_lexer": "ipython3",
   "version": "3.12.9"
  }
 },
 "nbformat": 4,
 "nbformat_minor": 2
}
