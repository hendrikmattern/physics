{
 "cells": [
  {
   "cell_type": "markdown",
   "metadata": {},
   "source": [
    "<img src=\"img/Signet_FNW_1.svg\" alt=\"OVGU_FNW_Logo\" width=\"300\" align=\"right\">\n",
    "\n",
    "# How to solve physics problems\n"
   ]
  },
  {
   "cell_type": "markdown",
   "metadata": {},
   "source": [
    "Physics is not about memorizing equations but it is a way of **reasoning about the physical world**. Equations express relationships between measurable quantities, but solving problems means understanding which relationships apply and why. A clear, consistent approach helps in every topic, from motion to energy to circuits.  \n",
    "\n",
    "The following steps outline a general problem-solving strategy. Kinematics examples are used for illustration, but the logic applies broadly to all of physics.\n",
    "\n",
    "1. **Read and understand the problem.**  \n",
    "   Identify what is being asked before reaching for equations. \n",
    "\n",
    "2. **Define the system and coordinate frame.**  \n",
    "   Specify the object or region you will analyze and the period of interest. Establish a **coordinate system** with clear **axes or basis directions** (e.g. $\\hat\\imath$, $\\hat\\jmath$, $\\hat{k}$ in 3D), choose an **origin** for quantities such as position, potential, or height, and decide which direction is **positive** along each axis. Set a convenient **zero point in time**, often $t=0$ at the start of the motion or interaction.  \n",
    "   These conventions do not alter the physics but ensure consistency, clarity, and correct signs throughout the analysis.\n",
    "\n",
    "3. **Draw a diagram.**  \n",
    "   Sketch the situation with the object, coordinate axes, and any relevant vectors (velocity, acceleration, forces). \n",
    "\n",
    "4. **Introduce the knowns and unknowns.**  \n",
    "   Introduce variables for the knowns and unknowns, e.g. velocity as $v$. Translate verbal descriptions into physics quantities: “starting from rest” means $v_0=0$, “dropped” means $v_0=0$ and $a=g$ downward, “comes to rest” means $v=0$, “constant speed” means $a=0$. Summarize the known variables under **Given** and the unknowns under **Find**.\n",
    "\n",
    "5. **Identify the applicable principles.**  \n",
    "   Decide which laws or models govern the problem, e.g. Newton’s laws, conservation of energy, or constant-acceleration motion. Check if assumptions such as “constant $a$” or “no friction” are reasonable.   \n",
    "\n",
    "6. **Select and write the relevant equations.**  \n",
    "   Use definitions and general relations symbolically before substituting numbers. For instance, in kinematics with constant acceleration:\n",
    "   $v(t)=v_0+at, \\, \\& \\, x(t)=x_0+v_0t+\\tfrac12at^2$\n",
    "\n",
    "7. **Solve algebraically before substituting numbers.**  \n",
    "   Rearrange the equations for the desired unknown. Solving symbolically keeps the reasoning transparent and avoids numerical confusion.\n",
    "   **Insert the numerical values only after reaching the final equation to obtain all points in the exam.** \n",
    "\n",
    "8. **Perform the calculation carefully.**  \n",
    "   Whenever inserting numerical values into equations add the quantities unit. **Without specifying the unit, you might loose points in the exam**. Keep consistent units and round appropriately.\n",
    "\n",
    "9. **Check your answer.**  \n",
    "   Does the sign make sense? Are the magnitudes realistic? Test limiting cases such as $a \\to 0$ or $t \\to 0$. Check the equation by  checking that all input units simplify to the proper unit of the physical entity our interested in.\n",
    "\n",
    "10. **Interpret the result physically.**  \n",
    "    Restate the outcome in words and relate it back to the real situation. A correct number is only meaningful if you understand what it tells you.\n"
   ]
  },
  {
   "cell_type": "code",
   "execution_count": null,
   "metadata": {
    "vscode": {
     "languageId": "latex"
    }
   },
   "outputs": [],
   "source": []
  }
 ],
 "metadata": {
  "language_info": {
   "name": "python"
  }
 },
 "nbformat": 4,
 "nbformat_minor": 2
}
